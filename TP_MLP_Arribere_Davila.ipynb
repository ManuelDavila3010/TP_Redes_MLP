{
  "cells": [
    {
      "cell_type": "markdown",
      "source": [
        "# Descripción del trabajo\n",
        "\n",
        "En este trabajo se hicieron muchas pruebas distintas, modificando los diferentes hiperparámetros con el objetivo mejorar los modelos anteriores. Lo primero que se hizo fue un data augmentation, rotando las imágenes 180 grados. A continuación se probaron distintas arquitecturas, variando la cantidad de capas y neuronas en las capas densas. Luego se fue intentando encontrar la mejor combinación de hiperparámetros posibles, teniendo en cosideración los siguientes:\n",
        "\n",
        "* Batch size\n",
        "* Max norm\n",
        "* Batch normalization\n",
        "* Dropout\n",
        "* Learning rate (inicialización y patience para su reducción en la meseta)\n",
        "* Early stopping (patience)\n",
        "\n",
        "No todas las pruebas están presentes en este informe, ya que muchas de ellas no eran más que variantes casi idénticas a una de las que sí están presentes, pero con peores resultados. Tampoco se utilizaron todas las estrategias de regularización al mismo tiempo, sino que se fueron variando para determinar cuales eran más efectivas. En casi todos los casos, se configuró una cantidad de épocas grande, de forma que el entrenamiento termine con el early stopping y no porque las épocas no fueran suficientes. Tal como se menciona más adelante en el informe, los mejores resultados se obtivieron con la denominada prueba 6, que consistió en lo siguiente:\n",
        "\n",
        "* 4 capas densas ocultas de 1000 neuronas cada una\n",
        "* Batch normalization en todas sus capas ocultas\n",
        "* Función de activación: relu\n",
        "* Learning rate inicial de 10e-3 y reducción a la mitad con paciencia de 8, con un mínimo de 10e-5\n",
        "* Early stopping con paciencia de 12\n",
        "* Batch size de 16\n",
        "\n",
        "La máxima precisión de validación fue de 0.3022, y ese fue el modelo que se subió a la plataforma de Kaggle, logrando una precisión de testeo de 0.3024"
      ],
      "metadata": {
        "id": "yIBWNpTbHkE5"
      },
      "id": "yIBWNpTbHkE5"
    },
    {
      "cell_type": "markdown",
      "source": [
        "# Librerías y Drive"
      ],
      "metadata": {
        "id": "4zZs0jHoHU6C"
      },
      "id": "4zZs0jHoHU6C"
    },
    {
      "cell_type": "code",
      "source": [
        "from google.colab import drive\n",
        "drive.mount('/content/drive')"
      ],
      "metadata": {
        "colab": {
          "base_uri": "https://localhost:8080/"
        },
        "id": "6EjjPKALGk2C",
        "outputId": "0db60dd8-cfc5-4a1e-ad3e-49516778fb07"
      },
      "id": "6EjjPKALGk2C",
      "execution_count": null,
      "outputs": [
        {
          "output_type": "stream",
          "name": "stdout",
          "text": [
            "Mounted at /content/drive\n"
          ]
        }
      ]
    },
    {
      "cell_type": "code",
      "source": [
        "import numpy as np\n",
        "import pandas as pd\n",
        "import matplotlib.pyplot as plt\n",
        "from sklearn.model_selection import train_test_split\n",
        "from tensorflow.keras.models import Sequential, Model\n",
        "from tensorflow.keras.layers import Dense, Dropout, BatchNormalization, Flatten, Conv2D, MaxPool2D, GlobalAveragePooling2D, Activation\n",
        "from tensorflow.keras.optimizers import SGD, Adam, RMSprop\n",
        "from tensorflow.keras.regularizers import l1, l2\n",
        "from tensorflow.keras.constraints import MaxNorm, max_norm\n",
        "from tensorflow.keras.callbacks import ReduceLROnPlateau, EarlyStopping, ModelCheckpoint, TensorBoard"
      ],
      "metadata": {
        "id": "ZH1J0QLDK6Ig"
      },
      "id": "ZH1J0QLDK6Ig",
      "execution_count": null,
      "outputs": []
    },
    {
      "cell_type": "markdown",
      "source": [
        "#Importar Base de Datos"
      ],
      "metadata": {
        "id": "oF9cmulvFghJ"
      },
      "id": "oF9cmulvFghJ"
    },
    {
      "cell_type": "code",
      "source": [
        "import os\n",
        "os.environ['KAGGLE_CONFIG_DIR'] = \"/content/drive/MyDrive/Redes_neuronales\"\n",
        "\n",
        "# Verificar que el archivo kaggle.json está en la ruta correcta\n",
        "!ls /content/drive/MyDrive/Redes_neuronales"
      ],
      "metadata": {
        "id": "EFpyFGVr85fT",
        "colab": {
          "base_uri": "https://localhost:8080/"
        },
        "outputId": "34762c85-ead8-4e3b-bd80-c5b0d6cf83e9"
      },
      "execution_count": null,
      "outputs": [
        {
          "output_type": "stream",
          "name": "stdout",
          "text": [
            " kaggle.json   TP-MLP.ipynb  'TP Redes Neuronales.gdoc'\n"
          ]
        }
      ],
      "id": "EFpyFGVr85fT"
    },
    {
      "cell_type": "code",
      "source": [
        "!kaggle competitions download -c dl-itba-cifar-100-2024-q-1"
      ],
      "metadata": {
        "colab": {
          "base_uri": "https://localhost:8080/"
        },
        "id": "hTz_NrjO-mn4",
        "outputId": "7f6a8196-d197-492d-f33c-3647458f81a4"
      },
      "execution_count": null,
      "outputs": [
        {
          "output_type": "stream",
          "name": "stdout",
          "text": [
            "Downloading dl-itba-cifar-100-2024-q-1.zip to /content\n",
            " 93% 150M/161M [00:01<00:00, 88.9MB/s]\n",
            "100% 161M/161M [00:02<00:00, 84.2MB/s]\n"
          ]
        }
      ],
      "id": "hTz_NrjO-mn4"
    },
    {
      "cell_type": "code",
      "source": [
        "# Crear la carpeta de destino si no existe\n",
        "dataset_dir = \"/content/drive/MyDrive/Redes_neuronales\"\n",
        "os.makedirs(dataset_dir, exist_ok=True)\n",
        "\n",
        "# Mover el archivo descargado a la carpeta de destino\n",
        "!mv /content/dl-itba-cifar-100-2024-q-1.zip {dataset_dir}\n",
        "\n",
        "# Cambiar el directorio a la carpeta de destino\n",
        "%cd {dataset_dir}"
      ],
      "metadata": {
        "colab": {
          "base_uri": "https://localhost:8080/"
        },
        "id": "K0xfdJ9e-aGK",
        "outputId": "04c2d036-9d77-439a-ee71-0812d5c5f3a7"
      },
      "execution_count": null,
      "outputs": [
        {
          "output_type": "stream",
          "name": "stdout",
          "text": [
            "/content/drive/.shortcut-targets-by-id/1EPc8z0jZeJpV_WAyZo4DrycNEomiMzQK/Redes_neuronales\n",
            "unzip:  cannot find or open /content/dl-itba-cifar-100-2024-q-1.zip, /content/dl-itba-cifar-100-2024-q-1.zip.zip or /content/dl-itba-cifar-100-2024-q-1.zip.ZIP.\n"
          ]
        }
      ],
      "id": "K0xfdJ9e-aGK"
    },
    {
      "cell_type": "code",
      "source": [
        "# Descomprimir el archivo\n",
        "!unzip /content/drive/MyDrive/Redes_neuronales/dl-itba-cifar-100-2024-q-1.zip"
      ],
      "metadata": {
        "colab": {
          "base_uri": "https://localhost:8080/"
        },
        "id": "409RkjWFHuNd",
        "outputId": "7a57424a-97ae-4d57-8c1e-f32b940a7464"
      },
      "id": "409RkjWFHuNd",
      "execution_count": null,
      "outputs": [
        {
          "output_type": "stream",
          "name": "stdout",
          "text": [
            "Archive:  /content/drive/MyDrive/Redes_neuronales/dl-itba-cifar-100-2024-q-1.zip\n",
            "  inflating: coarse_label_names.pck  \n",
            "  inflating: fine_label_names.pck    \n",
            "  inflating: x_test.npy              \n",
            "  inflating: x_train.npy             \n",
            "  inflating: y_train_coarse.npy      \n",
            "  inflating: y_train_fine.npy        \n"
          ]
        }
      ]
    },
    {
      "cell_type": "code",
      "execution_count": null,
      "id": "3d533d89",
      "metadata": {
        "_cell_guid": "b1076dfc-b9ad-4769-8c92-a6c4dae69d19",
        "_uuid": "8f2839f25d086af736a60e9eeb907d3b93b6e0e5",
        "execution": {
          "iopub.execute_input": "2024-10-15T15:26:50.700230Z",
          "iopub.status.busy": "2024-10-15T15:26:50.699767Z",
          "iopub.status.idle": "2024-10-15T15:26:51.650956Z",
          "shell.execute_reply": "2024-10-15T15:26:51.649511Z"
        },
        "papermill": {
          "duration": 0.966766,
          "end_time": "2024-10-15T15:26:51.653774",
          "exception": false,
          "start_time": "2024-10-15T15:26:50.687008",
          "status": "completed"
        },
        "tags": [],
        "id": "3d533d89"
      },
      "outputs": [],
      "source": [
        "# This Python 3 environment comes with many helpful analytics libraries installed\n",
        "# It is defined by the kaggle/python Docker image: https://github.com/kaggle/docker-python\n",
        "# For example, here's several helpful packages to load\n",
        "\n",
        "import numpy as np # linear algebra\n",
        "import pandas as pd # data processing, CSV file I/O (e.g. pd.read_csv)\n",
        "\n",
        "# Input data files are available in the read-only \"../input/\" directory\n",
        "# For example, running this (by clicking run or pressing Shift+Enter) will list all files under the input directory\n",
        "\n",
        "import os\n",
        "for dirname, _, filenames in os.walk('/kaggle/input'):\n",
        "    for filename in filenames:\n",
        "        print(os.path.join(dirname, filename))\n",
        "\n",
        "# You can write up to 20GB to the current directory (/kaggle/working/) that gets preserved as output when you create a version using \"Save & Run All\"\n",
        "# You can also write temporary files to /kaggle/temp/, but they won't be saved outside of the current session"
      ]
    },
    {
      "cell_type": "markdown",
      "source": [
        "#Empezar a trabajar"
      ],
      "metadata": {
        "id": "ukq4VkQhIGM_"
      },
      "id": "ukq4VkQhIGM_"
    },
    {
      "cell_type": "code",
      "execution_count": null,
      "id": "6df7d172",
      "metadata": {
        "execution": {
          "iopub.execute_input": "2024-10-15T15:26:51.676585Z",
          "iopub.status.busy": "2024-10-15T15:26:51.675939Z",
          "iopub.status.idle": "2024-10-15T15:26:54.066513Z",
          "shell.execute_reply": "2024-10-15T15:26:54.065414Z"
        },
        "papermill": {
          "duration": 2.40501,
          "end_time": "2024-10-15T15:26:54.069360",
          "exception": false,
          "start_time": "2024-10-15T15:26:51.664350",
          "status": "completed"
        },
        "tags": [],
        "id": "6df7d172"
      },
      "outputs": [],
      "source": [
        "x_train = np.load(\"/content/drive/MyDrive/Redes_neuronales/x_train.npy\")/255.\n",
        "x_test = np.load(\"/content/drive/MyDrive/Redes_neuronales/x_test.npy\")/255.\n",
        "y_train_coarse = np.load(\"/content/drive/MyDrive/Redes_neuronales/y_train_coarse.npy\")\n",
        "y_train_fine = np.load(\"/content/drive/MyDrive/Redes_neuronales/y_train_fine.npy\")"
      ]
    },
    {
      "cell_type": "code",
      "execution_count": null,
      "id": "156dad09",
      "metadata": {
        "execution": {
          "iopub.execute_input": "2024-10-15T15:26:55.633139Z",
          "iopub.status.busy": "2024-10-15T15:26:55.632502Z",
          "iopub.status.idle": "2024-10-15T15:26:55.644507Z",
          "shell.execute_reply": "2024-10-15T15:26:55.643272Z"
        },
        "papermill": {
          "duration": 0.026517,
          "end_time": "2024-10-15T15:26:55.647308",
          "exception": false,
          "start_time": "2024-10-15T15:26:55.620791",
          "status": "completed"
        },
        "tags": [],
        "id": "156dad09"
      },
      "outputs": [],
      "source": [
        "import pickle\n",
        "with open(\"/kaggle/input/dl-itba-cifar-100-2024-q-1/fine_label_names.pck\", \"rb\") as f:\n",
        "    labels_fine = pickle.load(f)\n",
        "with open(\"/kaggle/input/dl-itba-cifar-100-2024-q-1/coarse_label_names.pck\", \"rb\") as f:\n",
        "    labels_coarse = pickle.load(f)"
      ]
    },
    {
      "cell_type": "code",
      "execution_count": null,
      "id": "99675ad4",
      "metadata": {
        "execution": {
          "iopub.execute_input": "2024-10-15T15:26:55.670927Z",
          "iopub.status.busy": "2024-10-15T15:26:55.670445Z",
          "iopub.status.idle": "2024-10-15T15:26:56.212352Z",
          "shell.execute_reply": "2024-10-15T15:26:56.211131Z"
        },
        "papermill": {
          "duration": 0.55657,
          "end_time": "2024-10-15T15:26:56.215259",
          "exception": false,
          "start_time": "2024-10-15T15:26:55.658689",
          "status": "completed"
        },
        "tags": [],
        "id": "99675ad4"
      },
      "outputs": [],
      "source": [
        "x_train, x_val, y_train, y_val = train_test_split(x_train, y_train_fine, test_size=0.1, stratify=y_train_fine)"
      ]
    },
    {
      "cell_type": "code",
      "source": [
        "#Flip horizontal\n",
        "x_train_flip = np.flip(x_train, axis=2)  # axis=2 invierte horizontalmente las imágenes\n",
        "\n",
        "#Uno los x_train\n",
        "x_train_aum = np.concatenate([x_train, x_train_flip], axis=0)\n",
        "\n",
        "#Duplico las etiquetas para que todas las imagenes queden etiqeutadas\n",
        "#y_train_coarse_aum = np.concatenate([y_train_coarse, y_train_coarse], axis=0)\n",
        "y_train_fine_aum = np.concatenate([y_train, y_train], axis=0)\n",
        "\n",
        "print(f\"Shape of augmented x_train: {x_train_aum.shape}\")\n",
        "#print(f\"Shape of augmented y_train_coarse: {y_train_coarse_aum.shape}\")\n",
        "print(f\"Shape of augmented y_train_fine: {y_train_fine_aum.shape}\")"
      ],
      "metadata": {
        "id": "8c1UyLmX2_YK",
        "colab": {
          "base_uri": "https://localhost:8080/"
        },
        "outputId": "db64f8b0-1780-462c-8250-9e5ec4f402a1"
      },
      "id": "8c1UyLmX2_YK",
      "execution_count": null,
      "outputs": [
        {
          "output_type": "stream",
          "name": "stdout",
          "text": [
            "Shape of augmented x_train: (90000, 32, 32, 3)\n",
            "Shape of augmented y_train_fine: (90000,)\n"
          ]
        }
      ]
    },
    {
      "cell_type": "code",
      "execution_count": null,
      "id": "4fdaa8ed",
      "metadata": {
        "execution": {
          "iopub.execute_input": "2024-10-15T15:26:56.704231Z",
          "iopub.status.busy": "2024-10-15T15:26:56.703532Z",
          "iopub.status.idle": "2024-10-15T15:27:04.224530Z",
          "shell.execute_reply": "2024-10-15T15:27:04.223403Z"
        },
        "papermill": {
          "duration": 7.538509,
          "end_time": "2024-10-15T15:27:04.227502",
          "exception": false,
          "start_time": "2024-10-15T15:26:56.688993",
          "status": "completed"
        },
        "tags": [],
        "id": "4fdaa8ed"
      },
      "outputs": [],
      "source": [
        "# No correr esto\n",
        "x_train_dup = np.concatenate([x_train, x_train_bis],axis=0)\n",
        "y_train_dup = np.concatenate([y_train, y_train], axis=0)\n",
        "x_train_bis = x_train_dup.copy()\n",
        "x_train_bis_bis = x_train_dup.copy()\n",
        "x_train_bis[:,:,1:,:] =x_train_dup[:,:,:-1,:]\n",
        "x_train_bis_bis[:,:,:-1,:] =x_train_dup[:,:,1:,:]\n",
        "x_train_dup = np.concatenate([x_train_dup, x_train_bis, x_train_bis_bis],axis=0)\n",
        "y_train_dup = np.concatenate([y_train_dup, y_train_dup, y_train_dup], axis=0)"
      ]
    },
    {
      "cell_type": "code",
      "execution_count": null,
      "id": "8e0f7ba8",
      "metadata": {
        "execution": {
          "iopub.execute_input": "2024-10-15T15:27:04.252206Z",
          "iopub.status.busy": "2024-10-15T15:27:04.251790Z",
          "iopub.status.idle": "2024-10-15T15:27:04.259910Z",
          "shell.execute_reply": "2024-10-15T15:27:04.258734Z"
        },
        "papermill": {
          "duration": 0.023482,
          "end_time": "2024-10-15T15:27:04.262420",
          "exception": false,
          "start_time": "2024-10-15T15:27:04.238938",
          "status": "completed"
        },
        "tags": [],
        "id": "8e0f7ba8"
      },
      "outputs": [],
      "source": [
        "x_train_dup.shape, y_train_dup.shape"
      ]
    },
    {
      "cell_type": "markdown",
      "source": [
        "# Prueba 1"
      ],
      "metadata": {
        "id": "ZBBXfXah3s0d"
      },
      "id": "ZBBXfXah3s0d"
    },
    {
      "cell_type": "code",
      "execution_count": null,
      "id": "8e03d20d",
      "metadata": {
        "execution": {
          "iopub.execute_input": "2024-10-15T15:27:19.352663Z",
          "iopub.status.busy": "2024-10-15T15:27:19.351399Z",
          "iopub.status.idle": "2024-10-15T15:27:19.450991Z",
          "shell.execute_reply": "2024-10-15T15:27:19.449787Z"
        },
        "papermill": {
          "duration": 0.11572,
          "end_time": "2024-10-15T15:27:19.454247",
          "exception": false,
          "start_time": "2024-10-15T15:27:19.338527",
          "status": "completed"
        },
        "tags": [],
        "id": "8e03d20d"
      },
      "outputs": [],
      "source": [
        "model = Sequential()\n",
        "model.add(Flatten(input_shape=(32,32,3)))\n",
        "model.add(Dense(1000, activation=\"relu\", kernel_constraint = max_norm(5)))\n",
        "model.add(Dense(100, activation=\"softmax\"))\n",
        "model.compile(loss=\"sparse_categorical_crossentropy\", metrics = [\"accuracy\"], optimizer = Adam(learning_rate=0.001))"
      ]
    },
    {
      "cell_type": "code",
      "execution_count": null,
      "id": "51d42269",
      "metadata": {
        "execution": {
          "iopub.execute_input": "2024-10-15T15:27:19.480718Z",
          "iopub.status.busy": "2024-10-15T15:27:19.479590Z",
          "iopub.status.idle": "2024-10-15T15:27:19.502726Z",
          "shell.execute_reply": "2024-10-15T15:27:19.501631Z"
        },
        "papermill": {
          "duration": 0.038752,
          "end_time": "2024-10-15T15:27:19.505240",
          "exception": false,
          "start_time": "2024-10-15T15:27:19.466488",
          "status": "completed"
        },
        "tags": [],
        "id": "51d42269",
        "outputId": "25abc52d-c731-469e-92a4-31f676f20033",
        "colab": {
          "base_uri": "https://localhost:8080/",
          "height": 225
        }
      },
      "outputs": [
        {
          "output_type": "display_data",
          "data": {
            "text/plain": [
              "\u001b[1mModel: \"sequential_1\"\u001b[0m\n"
            ],
            "text/html": [
              "<pre style=\"white-space:pre;overflow-x:auto;line-height:normal;font-family:Menlo,'DejaVu Sans Mono',consolas,'Courier New',monospace\"><span style=\"font-weight: bold\">Model: \"sequential_1\"</span>\n",
              "</pre>\n"
            ]
          },
          "metadata": {}
        },
        {
          "output_type": "display_data",
          "data": {
            "text/plain": [
              "┏━━━━━━━━━━━━━━━━━━━━━━━━━━━━━━━━━━━━━━┳━━━━━━━━━━━━━━━━━━━━━━━━━━━━━┳━━━━━━━━━━━━━━━━━┓\n",
              "┃\u001b[1m \u001b[0m\u001b[1mLayer (type)                        \u001b[0m\u001b[1m \u001b[0m┃\u001b[1m \u001b[0m\u001b[1mOutput Shape               \u001b[0m\u001b[1m \u001b[0m┃\u001b[1m \u001b[0m\u001b[1m        Param #\u001b[0m\u001b[1m \u001b[0m┃\n",
              "┡━━━━━━━━━━━━━━━━━━━━━━━━━━━━━━━━━━━━━━╇━━━━━━━━━━━━━━━━━━━━━━━━━━━━━╇━━━━━━━━━━━━━━━━━┩\n",
              "│ flatten_1 (\u001b[38;5;33mFlatten\u001b[0m)                  │ (\u001b[38;5;45mNone\u001b[0m, \u001b[38;5;34m3072\u001b[0m)                │               \u001b[38;5;34m0\u001b[0m │\n",
              "├──────────────────────────────────────┼─────────────────────────────┼─────────────────┤\n",
              "│ dense_2 (\u001b[38;5;33mDense\u001b[0m)                      │ (\u001b[38;5;45mNone\u001b[0m, \u001b[38;5;34m1000\u001b[0m)                │       \u001b[38;5;34m3,073,000\u001b[0m │\n",
              "├──────────────────────────────────────┼─────────────────────────────┼─────────────────┤\n",
              "│ dense_3 (\u001b[38;5;33mDense\u001b[0m)                      │ (\u001b[38;5;45mNone\u001b[0m, \u001b[38;5;34m100\u001b[0m)                 │         \u001b[38;5;34m100,100\u001b[0m │\n",
              "└──────────────────────────────────────┴─────────────────────────────┴─────────────────┘\n"
            ],
            "text/html": [
              "<pre style=\"white-space:pre;overflow-x:auto;line-height:normal;font-family:Menlo,'DejaVu Sans Mono',consolas,'Courier New',monospace\">┏━━━━━━━━━━━━━━━━━━━━━━━━━━━━━━━━━━━━━━┳━━━━━━━━━━━━━━━━━━━━━━━━━━━━━┳━━━━━━━━━━━━━━━━━┓\n",
              "┃<span style=\"font-weight: bold\"> Layer (type)                         </span>┃<span style=\"font-weight: bold\"> Output Shape                </span>┃<span style=\"font-weight: bold\">         Param # </span>┃\n",
              "┡━━━━━━━━━━━━━━━━━━━━━━━━━━━━━━━━━━━━━━╇━━━━━━━━━━━━━━━━━━━━━━━━━━━━━╇━━━━━━━━━━━━━━━━━┩\n",
              "│ flatten_1 (<span style=\"color: #0087ff; text-decoration-color: #0087ff\">Flatten</span>)                  │ (<span style=\"color: #00d7ff; text-decoration-color: #00d7ff\">None</span>, <span style=\"color: #00af00; text-decoration-color: #00af00\">3072</span>)                │               <span style=\"color: #00af00; text-decoration-color: #00af00\">0</span> │\n",
              "├──────────────────────────────────────┼─────────────────────────────┼─────────────────┤\n",
              "│ dense_2 (<span style=\"color: #0087ff; text-decoration-color: #0087ff\">Dense</span>)                      │ (<span style=\"color: #00d7ff; text-decoration-color: #00d7ff\">None</span>, <span style=\"color: #00af00; text-decoration-color: #00af00\">1000</span>)                │       <span style=\"color: #00af00; text-decoration-color: #00af00\">3,073,000</span> │\n",
              "├──────────────────────────────────────┼─────────────────────────────┼─────────────────┤\n",
              "│ dense_3 (<span style=\"color: #0087ff; text-decoration-color: #0087ff\">Dense</span>)                      │ (<span style=\"color: #00d7ff; text-decoration-color: #00d7ff\">None</span>, <span style=\"color: #00af00; text-decoration-color: #00af00\">100</span>)                 │         <span style=\"color: #00af00; text-decoration-color: #00af00\">100,100</span> │\n",
              "└──────────────────────────────────────┴─────────────────────────────┴─────────────────┘\n",
              "</pre>\n"
            ]
          },
          "metadata": {}
        },
        {
          "output_type": "display_data",
          "data": {
            "text/plain": [
              "\u001b[1m Total params: \u001b[0m\u001b[38;5;34m3,173,100\u001b[0m (12.10 MB)\n"
            ],
            "text/html": [
              "<pre style=\"white-space:pre;overflow-x:auto;line-height:normal;font-family:Menlo,'DejaVu Sans Mono',consolas,'Courier New',monospace\"><span style=\"font-weight: bold\"> Total params: </span><span style=\"color: #00af00; text-decoration-color: #00af00\">3,173,100</span> (12.10 MB)\n",
              "</pre>\n"
            ]
          },
          "metadata": {}
        },
        {
          "output_type": "display_data",
          "data": {
            "text/plain": [
              "\u001b[1m Trainable params: \u001b[0m\u001b[38;5;34m3,173,100\u001b[0m (12.10 MB)\n"
            ],
            "text/html": [
              "<pre style=\"white-space:pre;overflow-x:auto;line-height:normal;font-family:Menlo,'DejaVu Sans Mono',consolas,'Courier New',monospace\"><span style=\"font-weight: bold\"> Trainable params: </span><span style=\"color: #00af00; text-decoration-color: #00af00\">3,173,100</span> (12.10 MB)\n",
              "</pre>\n"
            ]
          },
          "metadata": {}
        },
        {
          "output_type": "display_data",
          "data": {
            "text/plain": [
              "\u001b[1m Non-trainable params: \u001b[0m\u001b[38;5;34m0\u001b[0m (0.00 B)\n"
            ],
            "text/html": [
              "<pre style=\"white-space:pre;overflow-x:auto;line-height:normal;font-family:Menlo,'DejaVu Sans Mono',consolas,'Courier New',monospace\"><span style=\"font-weight: bold\"> Non-trainable params: </span><span style=\"color: #00af00; text-decoration-color: #00af00\">0</span> (0.00 B)\n",
              "</pre>\n"
            ]
          },
          "metadata": {}
        }
      ],
      "source": [
        "model.summary()"
      ]
    },
    {
      "cell_type": "code",
      "execution_count": null,
      "id": "eccea063",
      "metadata": {
        "execution": {
          "iopub.execute_input": "2024-10-15T15:27:19.532986Z",
          "iopub.status.busy": "2024-10-15T15:27:19.531654Z",
          "iopub.status.idle": "2024-10-15T15:27:19.537959Z",
          "shell.execute_reply": "2024-10-15T15:27:19.536706Z"
        },
        "papermill": {
          "duration": 0.022838,
          "end_time": "2024-10-15T15:27:19.540639",
          "exception": false,
          "start_time": "2024-10-15T15:27:19.517801",
          "status": "completed"
        },
        "tags": [],
        "id": "eccea063"
      },
      "outputs": [],
      "source": [
        "rlrop = ReduceLROnPlateau(\n",
        "    monitor = \"val_accuracy\",\n",
        "    factor = 0.5,\n",
        "    patience = 10,\n",
        "    verbose = 1,\n",
        "    min_lr = 1e-5\n",
        ")"
      ]
    },
    {
      "cell_type": "code",
      "execution_count": null,
      "id": "fc9bcc47",
      "metadata": {
        "execution": {
          "iopub.execute_input": "2024-10-15T15:27:19.567247Z",
          "iopub.status.busy": "2024-10-15T15:27:19.566763Z",
          "iopub.status.idle": "2024-10-15T15:27:19.572928Z",
          "shell.execute_reply": "2024-10-15T15:27:19.571667Z"
        },
        "papermill": {
          "duration": 0.022548,
          "end_time": "2024-10-15T15:27:19.575666",
          "exception": false,
          "start_time": "2024-10-15T15:27:19.553118",
          "status": "completed"
        },
        "tags": [],
        "id": "fc9bcc47"
      },
      "outputs": [],
      "source": [
        "mc = ModelCheckpoint(\n",
        "    \"best_weights.weights.h5\",\n",
        "    monitor = \"val_accuracy\",\n",
        "    verbose = 1,\n",
        "    save_best_only = True,\n",
        "    save_weights_only = True,\n",
        ")"
      ]
    },
    {
      "cell_type": "code",
      "execution_count": null,
      "id": "015c60eb",
      "metadata": {
        "execution": {
          "iopub.execute_input": "2024-10-15T15:27:19.602297Z",
          "iopub.status.busy": "2024-10-15T15:27:19.601835Z",
          "iopub.status.idle": "2024-10-15T15:27:19.607459Z",
          "shell.execute_reply": "2024-10-15T15:27:19.606278Z"
        },
        "papermill": {
          "duration": 0.022159,
          "end_time": "2024-10-15T15:27:19.610223",
          "exception": false,
          "start_time": "2024-10-15T15:27:19.588064",
          "status": "completed"
        },
        "tags": [],
        "id": "015c60eb"
      },
      "outputs": [],
      "source": [
        "es = EarlyStopping(\n",
        "    monitor = \"val_accuracy\",\n",
        "    patience = 10,\n",
        "    verbose = 1,\n",
        "    restore_best_weights = True,\n",
        ")"
      ]
    },
    {
      "cell_type": "code",
      "execution_count": null,
      "id": "f80ad91b",
      "metadata": {
        "execution": {
          "iopub.execute_input": "2024-10-15T15:27:19.637340Z",
          "iopub.status.busy": "2024-10-15T15:27:19.636361Z",
          "iopub.status.idle": "2024-10-15T15:27:19.642153Z",
          "shell.execute_reply": "2024-10-15T15:27:19.640911Z"
        },
        "papermill": {
          "duration": 0.02207,
          "end_time": "2024-10-15T15:27:19.644693",
          "exception": false,
          "start_time": "2024-10-15T15:27:19.622623",
          "status": "completed"
        },
        "tags": [],
        "id": "f80ad91b"
      },
      "outputs": [],
      "source": [
        "tb = TensorBoard(\n",
        "    log_dir=\"logs\",\n",
        ")"
      ]
    },
    {
      "cell_type": "code",
      "execution_count": null,
      "id": "46ad6d01",
      "metadata": {
        "execution": {
          "iopub.execute_input": "2024-10-15T15:27:19.672063Z",
          "iopub.status.busy": "2024-10-15T15:27:19.671040Z",
          "iopub.status.idle": "2024-10-15T15:27:22.449942Z",
          "shell.execute_reply": "2024-10-15T15:27:22.448654Z"
        },
        "papermill": {
          "duration": 2.795508,
          "end_time": "2024-10-15T15:27:22.452930",
          "exception": false,
          "start_time": "2024-10-15T15:27:19.657422",
          "status": "completed"
        },
        "tags": [],
        "id": "46ad6d01"
      },
      "outputs": [],
      "source": [
        "# No correr esto\n",
        "indexes = list(range(len(x_train_dup)))\n",
        "np.random.shuffle(indexes)\n",
        "x_train_dup = x_train_dup[indexes]\n",
        "y_train_dup = y_train_dup[indexes]\n"
      ]
    },
    {
      "cell_type": "code",
      "execution_count": null,
      "id": "f78bffae",
      "metadata": {
        "execution": {
          "iopub.execute_input": "2024-10-15T15:27:22.479465Z",
          "iopub.status.busy": "2024-10-15T15:27:22.479030Z",
          "iopub.status.idle": "2024-10-15T15:27:37.462163Z",
          "shell.execute_reply": "2024-10-15T15:27:37.460911Z"
        },
        "papermill": {
          "duration": 14.999669,
          "end_time": "2024-10-15T15:27:37.464980",
          "exception": false,
          "start_time": "2024-10-15T15:27:22.465311",
          "status": "completed"
        },
        "tags": [],
        "id": "f78bffae",
        "outputId": "cd691100-eca2-4534-bf28-f5b923d7f0f2",
        "colab": {
          "base_uri": "https://localhost:8080/"
        }
      },
      "outputs": [
        {
          "output_type": "stream",
          "name": "stdout",
          "text": [
            "Epoch 1/30\n",
            "\u001b[1m1407/1407\u001b[0m \u001b[32m━━━━━━━━━━━━━━━━━━━━\u001b[0m\u001b[37m\u001b[0m \u001b[1m0s\u001b[0m 69ms/step - accuracy: 0.0523 - loss: 4.3731\n",
            "Epoch 1: val_accuracy improved from -inf to 0.11640, saving model to best_weights.weights.h5\n",
            "\u001b[1m1407/1407\u001b[0m \u001b[32m━━━━━━━━━━━━━━━━━━━━\u001b[0m\u001b[37m\u001b[0m \u001b[1m102s\u001b[0m 71ms/step - accuracy: 0.0523 - loss: 4.3729 - val_accuracy: 0.1164 - val_loss: 3.8491 - learning_rate: 0.0010\n",
            "Epoch 2/30\n",
            "\u001b[1m1407/1407\u001b[0m \u001b[32m━━━━━━━━━━━━━━━━━━━━\u001b[0m\u001b[37m\u001b[0m \u001b[1m0s\u001b[0m 72ms/step - accuracy: 0.1286 - loss: 3.7686\n",
            "Epoch 2: val_accuracy improved from 0.11640 to 0.12760, saving model to best_weights.weights.h5\n",
            "\u001b[1m1407/1407\u001b[0m \u001b[32m━━━━━━━━━━━━━━━━━━━━\u001b[0m\u001b[37m\u001b[0m \u001b[1m145s\u001b[0m 73ms/step - accuracy: 0.1286 - loss: 3.7686 - val_accuracy: 0.1276 - val_loss: 3.7462 - learning_rate: 0.0010\n",
            "Epoch 3/30\n",
            "\u001b[1m1407/1407\u001b[0m \u001b[32m━━━━━━━━━━━━━━━━━━━━\u001b[0m\u001b[37m\u001b[0m \u001b[1m0s\u001b[0m 72ms/step - accuracy: 0.1495 - loss: 3.6502\n",
            "Epoch 3: val_accuracy improved from 0.12760 to 0.15700, saving model to best_weights.weights.h5\n",
            "\u001b[1m1407/1407\u001b[0m \u001b[32m━━━━━━━━━━━━━━━━━━━━\u001b[0m\u001b[37m\u001b[0m \u001b[1m143s\u001b[0m 74ms/step - accuracy: 0.1495 - loss: 3.6502 - val_accuracy: 0.1570 - val_loss: 3.6268 - learning_rate: 0.0010\n",
            "Epoch 4/30\n",
            "\u001b[1m1407/1407\u001b[0m \u001b[32m━━━━━━━━━━━━━━━━━━━━\u001b[0m\u001b[37m\u001b[0m \u001b[1m0s\u001b[0m 70ms/step - accuracy: 0.1576 - loss: 3.5763\n",
            "Epoch 4: val_accuracy did not improve from 0.15700\n",
            "\u001b[1m1407/1407\u001b[0m \u001b[32m━━━━━━━━━━━━━━━━━━━━\u001b[0m\u001b[37m\u001b[0m \u001b[1m100s\u001b[0m 71ms/step - accuracy: 0.1576 - loss: 3.5763 - val_accuracy: 0.1546 - val_loss: 3.6694 - learning_rate: 0.0010\n",
            "Epoch 5/30\n",
            "\u001b[1m1407/1407\u001b[0m \u001b[32m━━━━━━━━━━━━━━━━━━━━\u001b[0m\u001b[37m\u001b[0m \u001b[1m0s\u001b[0m 74ms/step - accuracy: 0.1696 - loss: 3.5365\n",
            "Epoch 5: val_accuracy improved from 0.15700 to 0.16300, saving model to best_weights.weights.h5\n",
            "\u001b[1m1407/1407\u001b[0m \u001b[32m━━━━━━━━━━━━━━━━━━━━\u001b[0m\u001b[37m\u001b[0m \u001b[1m148s\u001b[0m 75ms/step - accuracy: 0.1696 - loss: 3.5365 - val_accuracy: 0.1630 - val_loss: 3.5763 - learning_rate: 0.0010\n",
            "Epoch 6/30\n",
            "\u001b[1m1407/1407\u001b[0m \u001b[32m━━━━━━━━━━━━━━━━━━━━\u001b[0m\u001b[37m\u001b[0m \u001b[1m0s\u001b[0m 77ms/step - accuracy: 0.1763 - loss: 3.4944\n",
            "Epoch 6: val_accuracy did not improve from 0.16300\n",
            "\u001b[1m1407/1407\u001b[0m \u001b[32m━━━━━━━━━━━━━━━━━━━━\u001b[0m\u001b[37m\u001b[0m \u001b[1m147s\u001b[0m 79ms/step - accuracy: 0.1763 - loss: 3.4944 - val_accuracy: 0.1596 - val_loss: 3.5841 - learning_rate: 0.0010\n",
            "Epoch 7/30\n",
            "\u001b[1m1407/1407\u001b[0m \u001b[32m━━━━━━━━━━━━━━━━━━━━\u001b[0m\u001b[37m\u001b[0m \u001b[1m0s\u001b[0m 73ms/step - accuracy: 0.1792 - loss: 3.4680\n",
            "Epoch 7: val_accuracy improved from 0.16300 to 0.17280, saving model to best_weights.weights.h5\n",
            "\u001b[1m1407/1407\u001b[0m \u001b[32m━━━━━━━━━━━━━━━━━━━━\u001b[0m\u001b[37m\u001b[0m \u001b[1m136s\u001b[0m 75ms/step - accuracy: 0.1792 - loss: 3.4680 - val_accuracy: 0.1728 - val_loss: 3.5676 - learning_rate: 0.0010\n",
            "Epoch 8/30\n",
            "\u001b[1m1407/1407\u001b[0m \u001b[32m━━━━━━━━━━━━━━━━━━━━\u001b[0m\u001b[37m\u001b[0m \u001b[1m0s\u001b[0m 72ms/step - accuracy: 0.1842 - loss: 3.4372\n",
            "Epoch 8: val_accuracy did not improve from 0.17280\n",
            "\u001b[1m1407/1407\u001b[0m \u001b[32m━━━━━━━━━━━━━━━━━━━━\u001b[0m\u001b[37m\u001b[0m \u001b[1m140s\u001b[0m 74ms/step - accuracy: 0.1842 - loss: 3.4372 - val_accuracy: 0.1632 - val_loss: 3.5713 - learning_rate: 0.0010\n",
            "Epoch 9/30\n",
            "\u001b[1m1406/1407\u001b[0m \u001b[32m━━━━━━━━━━━━━━━━━━━\u001b[0m\u001b[37m━\u001b[0m \u001b[1m0s\u001b[0m 73ms/step - accuracy: 0.1879 - loss: 3.4124\n",
            "Epoch 9: val_accuracy improved from 0.17280 to 0.17480, saving model to best_weights.weights.h5\n",
            "\u001b[1m1407/1407\u001b[0m \u001b[32m━━━━━━━━━━━━━━━━━━━━\u001b[0m\u001b[37m\u001b[0m \u001b[1m144s\u001b[0m 75ms/step - accuracy: 0.1879 - loss: 3.4124 - val_accuracy: 0.1748 - val_loss: 3.5582 - learning_rate: 0.0010\n",
            "Epoch 10/30\n",
            "\u001b[1m1407/1407\u001b[0m \u001b[32m━━━━━━━━━━━━━━━━━━━━\u001b[0m\u001b[37m\u001b[0m \u001b[1m0s\u001b[0m 73ms/step - accuracy: 0.1909 - loss: 3.4006\n",
            "Epoch 10: val_accuracy did not improve from 0.17480\n",
            "\u001b[1m1407/1407\u001b[0m \u001b[32m━━━━━━━━━━━━━━━━━━━━\u001b[0m\u001b[37m\u001b[0m \u001b[1m142s\u001b[0m 75ms/step - accuracy: 0.1909 - loss: 3.4006 - val_accuracy: 0.1624 - val_loss: 3.5834 - learning_rate: 0.0010\n",
            "Epoch 11/30\n",
            "\u001b[1m1407/1407\u001b[0m \u001b[32m━━━━━━━━━━━━━━━━━━━━\u001b[0m\u001b[37m\u001b[0m \u001b[1m0s\u001b[0m 66ms/step - accuracy: 0.1944 - loss: 3.3911\n",
            "Epoch 11: val_accuracy did not improve from 0.17480\n",
            "\u001b[1m1407/1407\u001b[0m \u001b[32m━━━━━━━━━━━━━━━━━━━━\u001b[0m\u001b[37m\u001b[0m \u001b[1m96s\u001b[0m 68ms/step - accuracy: 0.1944 - loss: 3.3911 - val_accuracy: 0.1714 - val_loss: 3.5524 - learning_rate: 0.0010\n",
            "Epoch 12/30\n",
            "\u001b[1m1407/1407\u001b[0m \u001b[32m━━━━━━━━━━━━━━━━━━━━\u001b[0m\u001b[37m\u001b[0m \u001b[1m0s\u001b[0m 79ms/step - accuracy: 0.1976 - loss: 3.3612\n",
            "Epoch 12: val_accuracy improved from 0.17480 to 0.17760, saving model to best_weights.weights.h5\n",
            "\u001b[1m1407/1407\u001b[0m \u001b[32m━━━━━━━━━━━━━━━━━━━━\u001b[0m\u001b[37m\u001b[0m \u001b[1m160s\u001b[0m 81ms/step - accuracy: 0.1976 - loss: 3.3613 - val_accuracy: 0.1776 - val_loss: 3.5175 - learning_rate: 0.0010\n",
            "Epoch 13/30\n",
            "\u001b[1m1407/1407\u001b[0m \u001b[32m━━━━━━━━━━━━━━━━━━━━\u001b[0m\u001b[37m\u001b[0m \u001b[1m0s\u001b[0m 79ms/step - accuracy: 0.1986 - loss: 3.3571\n",
            "Epoch 13: val_accuracy did not improve from 0.17760\n",
            "\u001b[1m1407/1407\u001b[0m \u001b[32m━━━━━━━━━━━━━━━━━━━━\u001b[0m\u001b[37m\u001b[0m \u001b[1m142s\u001b[0m 81ms/step - accuracy: 0.1986 - loss: 3.3571 - val_accuracy: 0.1706 - val_loss: 3.5431 - learning_rate: 0.0010\n",
            "Epoch 14/30\n",
            "\u001b[1m1407/1407\u001b[0m \u001b[32m━━━━━━━━━━━━━━━━━━━━\u001b[0m\u001b[37m\u001b[0m \u001b[1m0s\u001b[0m 77ms/step - accuracy: 0.2013 - loss: 3.3417\n",
            "Epoch 14: val_accuracy did not improve from 0.17760\n",
            "\u001b[1m1407/1407\u001b[0m \u001b[32m━━━━━━━━━━━━━━━━━━━━\u001b[0m\u001b[37m\u001b[0m \u001b[1m138s\u001b[0m 78ms/step - accuracy: 0.2013 - loss: 3.3417 - val_accuracy: 0.1774 - val_loss: 3.5390 - learning_rate: 0.0010\n",
            "Epoch 15/30\n",
            "\u001b[1m1407/1407\u001b[0m \u001b[32m━━━━━━━━━━━━━━━━━━━━\u001b[0m\u001b[37m\u001b[0m \u001b[1m0s\u001b[0m 80ms/step - accuracy: 0.2053 - loss: 3.3282\n",
            "Epoch 15: val_accuracy did not improve from 0.17760\n",
            "\u001b[1m1407/1407\u001b[0m \u001b[32m━━━━━━━━━━━━━━━━━━━━\u001b[0m\u001b[37m\u001b[0m \u001b[1m145s\u001b[0m 81ms/step - accuracy: 0.2053 - loss: 3.3283 - val_accuracy: 0.1734 - val_loss: 3.5430 - learning_rate: 0.0010\n",
            "Epoch 16/30\n",
            "\u001b[1m1406/1407\u001b[0m \u001b[32m━━━━━━━━━━━━━━━━━━━\u001b[0m\u001b[37m━\u001b[0m \u001b[1m0s\u001b[0m 72ms/step - accuracy: 0.2029 - loss: 3.3202\n",
            "Epoch 16: val_accuracy improved from 0.17760 to 0.18380, saving model to best_weights.weights.h5\n",
            "\u001b[1m1407/1407\u001b[0m \u001b[32m━━━━━━━━━━━━━━━━━━━━\u001b[0m\u001b[37m\u001b[0m \u001b[1m131s\u001b[0m 73ms/step - accuracy: 0.2029 - loss: 3.3203 - val_accuracy: 0.1838 - val_loss: 3.4884 - learning_rate: 0.0010\n",
            "Epoch 17/30\n",
            "\u001b[1m1407/1407\u001b[0m \u001b[32m━━━━━━━━━━━━━━━━━━━━\u001b[0m\u001b[37m\u001b[0m \u001b[1m0s\u001b[0m 74ms/step - accuracy: 0.2032 - loss: 3.3169\n",
            "Epoch 17: val_accuracy improved from 0.18380 to 0.18540, saving model to best_weights.weights.h5\n",
            "\u001b[1m1407/1407\u001b[0m \u001b[32m━━━━━━━━━━━━━━━━━━━━\u001b[0m\u001b[37m\u001b[0m \u001b[1m146s\u001b[0m 76ms/step - accuracy: 0.2032 - loss: 3.3169 - val_accuracy: 0.1854 - val_loss: 3.5156 - learning_rate: 0.0010\n",
            "Epoch 18/30\n",
            "\u001b[1m1407/1407\u001b[0m \u001b[32m━━━━━━━━━━━━━━━━━━━━\u001b[0m\u001b[37m\u001b[0m \u001b[1m0s\u001b[0m 73ms/step - accuracy: 0.2089 - loss: 3.3098\n",
            "Epoch 18: val_accuracy improved from 0.18540 to 0.19880, saving model to best_weights.weights.h5\n",
            "\u001b[1m1407/1407\u001b[0m \u001b[32m━━━━━━━━━━━━━━━━━━━━\u001b[0m\u001b[37m\u001b[0m \u001b[1m141s\u001b[0m 75ms/step - accuracy: 0.2089 - loss: 3.3098 - val_accuracy: 0.1988 - val_loss: 3.4808 - learning_rate: 0.0010\n",
            "Epoch 19/30\n",
            "\u001b[1m1407/1407\u001b[0m \u001b[32m━━━━━━━━━━━━━━━━━━━━\u001b[0m\u001b[37m\u001b[0m \u001b[1m0s\u001b[0m 78ms/step - accuracy: 0.2052 - loss: 3.3119\n",
            "Epoch 19: val_accuracy did not improve from 0.19880\n",
            "\u001b[1m1407/1407\u001b[0m \u001b[32m━━━━━━━━━━━━━━━━━━━━\u001b[0m\u001b[37m\u001b[0m \u001b[1m149s\u001b[0m 80ms/step - accuracy: 0.2052 - loss: 3.3120 - val_accuracy: 0.1774 - val_loss: 3.5720 - learning_rate: 0.0010\n",
            "Epoch 20/30\n",
            "\u001b[1m1407/1407\u001b[0m \u001b[32m━━━━━━━━━━━━━━━━━━━━\u001b[0m\u001b[37m\u001b[0m \u001b[1m0s\u001b[0m 77ms/step - accuracy: 0.2075 - loss: 3.3113\n",
            "Epoch 20: val_accuracy did not improve from 0.19880\n",
            "\u001b[1m1407/1407\u001b[0m \u001b[32m━━━━━━━━━━━━━━━━━━━━\u001b[0m\u001b[37m\u001b[0m \u001b[1m139s\u001b[0m 78ms/step - accuracy: 0.2075 - loss: 3.3113 - val_accuracy: 0.1810 - val_loss: 3.5083 - learning_rate: 0.0010\n",
            "Epoch 21/30\n",
            "\u001b[1m1407/1407\u001b[0m \u001b[32m━━━━━━━━━━━━━━━━━━━━\u001b[0m\u001b[37m\u001b[0m \u001b[1m0s\u001b[0m 78ms/step - accuracy: 0.2133 - loss: 3.2893\n",
            "Epoch 21: val_accuracy did not improve from 0.19880\n",
            "\u001b[1m1407/1407\u001b[0m \u001b[32m━━━━━━━━━━━━━━━━━━━━\u001b[0m\u001b[37m\u001b[0m \u001b[1m112s\u001b[0m 79ms/step - accuracy: 0.2133 - loss: 3.2893 - val_accuracy: 0.1820 - val_loss: 3.5331 - learning_rate: 0.0010\n",
            "Epoch 22/30\n",
            "\u001b[1m1407/1407\u001b[0m \u001b[32m━━━━━━━━━━━━━━━━━━━━\u001b[0m\u001b[37m\u001b[0m \u001b[1m0s\u001b[0m 76ms/step - accuracy: 0.2080 - loss: 3.3077\n",
            "Epoch 22: val_accuracy did not improve from 0.19880\n",
            "\u001b[1m1407/1407\u001b[0m \u001b[32m━━━━━━━━━━━━━━━━━━━━\u001b[0m\u001b[37m\u001b[0m \u001b[1m138s\u001b[0m 77ms/step - accuracy: 0.2080 - loss: 3.3077 - val_accuracy: 0.1822 - val_loss: 3.5222 - learning_rate: 0.0010\n",
            "Epoch 23/30\n",
            "\u001b[1m1407/1407\u001b[0m \u001b[32m━━━━━━━━━━━━━━━━━━━━\u001b[0m\u001b[37m\u001b[0m \u001b[1m0s\u001b[0m 75ms/step - accuracy: 0.2098 - loss: 3.2881\n",
            "Epoch 23: val_accuracy did not improve from 0.19880\n",
            "\u001b[1m1407/1407\u001b[0m \u001b[32m━━━━━━━━━━━━━━━━━━━━\u001b[0m\u001b[37m\u001b[0m \u001b[1m142s\u001b[0m 77ms/step - accuracy: 0.2098 - loss: 3.2881 - val_accuracy: 0.1804 - val_loss: 3.5453 - learning_rate: 0.0010\n",
            "Epoch 24/30\n",
            "\u001b[1m1407/1407\u001b[0m \u001b[32m━━━━━━━━━━━━━━━━━━━━\u001b[0m\u001b[37m\u001b[0m \u001b[1m0s\u001b[0m 78ms/step - accuracy: 0.2097 - loss: 3.2886\n",
            "Epoch 24: val_accuracy did not improve from 0.19880\n",
            "\u001b[1m1407/1407\u001b[0m \u001b[32m━━━━━━━━━━━━━━━━━━━━\u001b[0m\u001b[37m\u001b[0m \u001b[1m111s\u001b[0m 79ms/step - accuracy: 0.2097 - loss: 3.2886 - val_accuracy: 0.1758 - val_loss: 3.5603 - learning_rate: 0.0010\n",
            "Epoch 25/30\n",
            "\u001b[1m1407/1407\u001b[0m \u001b[32m━━━━━━━━━━━━━━━━━━━━\u001b[0m\u001b[37m\u001b[0m \u001b[1m0s\u001b[0m 76ms/step - accuracy: 0.2101 - loss: 3.2782\n",
            "Epoch 25: val_accuracy did not improve from 0.19880\n",
            "\u001b[1m1407/1407\u001b[0m \u001b[32m━━━━━━━━━━━━━━━━━━━━\u001b[0m\u001b[37m\u001b[0m \u001b[1m109s\u001b[0m 77ms/step - accuracy: 0.2101 - loss: 3.2782 - val_accuracy: 0.1746 - val_loss: 3.5580 - learning_rate: 0.0010\n",
            "Epoch 26/30\n",
            "\u001b[1m1407/1407\u001b[0m \u001b[32m━━━━━━━━━━━━━━━━━━━━\u001b[0m\u001b[37m\u001b[0m \u001b[1m0s\u001b[0m 76ms/step - accuracy: 0.2131 - loss: 3.2617\n",
            "Epoch 26: val_accuracy did not improve from 0.19880\n",
            "\u001b[1m1407/1407\u001b[0m \u001b[32m━━━━━━━━━━━━━━━━━━━━\u001b[0m\u001b[37m\u001b[0m \u001b[1m109s\u001b[0m 78ms/step - accuracy: 0.2131 - loss: 3.2617 - val_accuracy: 0.1922 - val_loss: 3.4997 - learning_rate: 0.0010\n",
            "Epoch 27/30\n",
            "\u001b[1m1407/1407\u001b[0m \u001b[32m━━━━━━━━━━━━━━━━━━━━\u001b[0m\u001b[37m\u001b[0m \u001b[1m0s\u001b[0m 75ms/step - accuracy: 0.2138 - loss: 3.2662\n",
            "Epoch 27: val_accuracy did not improve from 0.19880\n",
            "\u001b[1m1407/1407\u001b[0m \u001b[32m━━━━━━━━━━━━━━━━━━━━\u001b[0m\u001b[37m\u001b[0m \u001b[1m141s\u001b[0m 77ms/step - accuracy: 0.2138 - loss: 3.2662 - val_accuracy: 0.1880 - val_loss: 3.5214 - learning_rate: 0.0010\n",
            "Epoch 28/30\n",
            "\u001b[1m1407/1407\u001b[0m \u001b[32m━━━━━━━━━━━━━━━━━━━━\u001b[0m\u001b[37m\u001b[0m \u001b[1m0s\u001b[0m 75ms/step - accuracy: 0.2123 - loss: 3.2698\n",
            "Epoch 28: ReduceLROnPlateau reducing learning rate to 0.0005000000237487257.\n",
            "\n",
            "Epoch 28: val_accuracy did not improve from 0.19880\n",
            "\u001b[1m1407/1407\u001b[0m \u001b[32m━━━━━━━━━━━━━━━━━━━━\u001b[0m\u001b[37m\u001b[0m \u001b[1m141s\u001b[0m 76ms/step - accuracy: 0.2123 - loss: 3.2698 - val_accuracy: 0.1782 - val_loss: 3.5407 - learning_rate: 0.0010\n",
            "Epoch 28: early stopping\n",
            "Restoring model weights from the end of the best epoch: 18.\n"
          ]
        }
      ],
      "source": [
        "history = model.fit(\n",
        "    x = x_train,\n",
        "    y= y_train,\n",
        "    batch_size=32,\n",
        "    epochs=30,\n",
        "    validation_data = (x_val, y_val),\n",
        "    callbacks= [\n",
        "        rlrop,\n",
        "        es,\n",
        "        mc\n",
        "    ]\n",
        ")"
      ]
    },
    {
      "cell_type": "code",
      "execution_count": null,
      "id": "ed785030",
      "metadata": {
        "execution": {
          "iopub.execute_input": "2024-10-15T15:27:38.790136Z",
          "iopub.status.busy": "2024-10-15T15:27:38.789612Z",
          "iopub.status.idle": "2024-10-15T15:27:39.075770Z",
          "shell.execute_reply": "2024-10-15T15:27:39.074457Z"
        },
        "papermill": {
          "duration": 0.325218,
          "end_time": "2024-10-15T15:27:39.078307",
          "exception": false,
          "start_time": "2024-10-15T15:27:38.753089",
          "status": "completed"
        },
        "tags": [],
        "id": "ed785030",
        "outputId": "8a3982c8-71a5-4517-f6a9-06bf0f43e6d1",
        "colab": {
          "base_uri": "https://localhost:8080/",
          "height": 447
        }
      },
      "outputs": [
        {
          "output_type": "execute_result",
          "data": {
            "text/plain": [
              "[<matplotlib.lines.Line2D at 0x7c0100443dc0>]"
            ]
          },
          "metadata": {},
          "execution_count": 20
        },
        {
          "output_type": "display_data",
          "data": {
            "text/plain": [
              "<Figure size 640x480 with 1 Axes>"
            ],
            "image/png": "[encoded data removed]"
          },
          "metadata": {}
        }
      ],
      "source": [
        "plt.plot(history.history[\"loss\"], color = 'blue')\n",
        "plt.plot(history.history[\"val_loss\"], color = 'orange')"
      ]
    },
    {
      "cell_type": "code",
      "execution_count": null,
      "id": "74230646",
      "metadata": {
        "execution": {
          "iopub.execute_input": "2024-10-15T15:27:39.152661Z",
          "iopub.status.busy": "2024-10-15T15:27:39.152203Z",
          "iopub.status.idle": "2024-10-15T15:27:39.444461Z",
          "shell.execute_reply": "2024-10-15T15:27:39.443198Z"
        },
        "papermill": {
          "duration": 0.332444,
          "end_time": "2024-10-15T15:27:39.447153",
          "exception": false,
          "start_time": "2024-10-15T15:27:39.114709",
          "status": "completed"
        },
        "tags": [],
        "id": "74230646",
        "outputId": "e54b22b2-4be3-45d9-ca92-6d9f1679c0d9",
        "colab": {
          "base_uri": "https://localhost:8080/",
          "height": 447
        }
      },
      "outputs": [
        {
          "output_type": "execute_result",
          "data": {
            "text/plain": [
              "[<matplotlib.lines.Line2D at 0x7c0101916380>]"
            ]
          },
          "metadata": {},
          "execution_count": 21
        },
        {
          "output_type": "display_data",
          "data": {
            "text/plain": [
              "<Figure size 640x480 with 1 Axes>"
            ],
            "image/png": "[encoded data removed]"
          },
          "metadata": {}
        }
      ],
      "source": [
        "plt.plot(history.history[\"accuracy\"], color = 'blue')\n",
        "plt.plot(history.history[\"val_accuracy\"], color = 'orange')"
      ]
    },
    {
      "cell_type": "code",
      "execution_count": null,
      "id": "93e2ddcd",
      "metadata": {
        "execution": {
          "iopub.execute_input": "2024-10-15T15:27:46.623758Z",
          "iopub.status.busy": "2024-10-15T15:27:46.623279Z",
          "iopub.status.idle": "2024-10-15T15:27:47.876795Z",
          "shell.execute_reply": "2024-10-15T15:27:47.875521Z"
        },
        "papermill": {
          "duration": 1.294099,
          "end_time": "2024-10-15T15:27:47.879612",
          "exception": false,
          "start_time": "2024-10-15T15:27:46.585513",
          "status": "completed"
        },
        "tags": [],
        "id": "93e2ddcd",
        "outputId": "14e59f95-219c-45e5-b702-5f7b6fff4c1f",
        "colab": {
          "base_uri": "https://localhost:8080/"
        }
      },
      "outputs": [
        {
          "output_type": "stream",
          "name": "stdout",
          "text": [
            "\u001b[1m313/313\u001b[0m \u001b[32m━━━━━━━━━━━━━━━━━━━━\u001b[0m\u001b[37m\u001b[0m \u001b[1m6s\u001b[0m 17ms/step\n"
          ]
        }
      ],
      "source": [
        "predictions = model.predict(x_test).argmax(axis=1)"
      ]
    },
    {
      "cell_type": "code",
      "execution_count": null,
      "id": "8e505254",
      "metadata": {
        "execution": {
          "iopub.execute_input": "2024-10-15T15:27:47.961716Z",
          "iopub.status.busy": "2024-10-15T15:27:47.961219Z",
          "iopub.status.idle": "2024-10-15T15:27:47.972212Z",
          "shell.execute_reply": "2024-10-15T15:27:47.970045Z"
        },
        "papermill": {
          "duration": 0.056355,
          "end_time": "2024-10-15T15:27:47.975872",
          "exception": false,
          "start_time": "2024-10-15T15:27:47.919517",
          "status": "completed"
        },
        "tags": [],
        "id": "8e505254"
      },
      "outputs": [],
      "source": [
        "df = pd.DataFrame(predictions, columns=[\"Label\"])"
      ]
    },
    {
      "cell_type": "code",
      "execution_count": null,
      "id": "c276d8d0",
      "metadata": {
        "execution": {
          "iopub.execute_input": "2024-10-15T15:27:48.066734Z",
          "iopub.status.busy": "2024-10-15T15:27:48.065882Z",
          "iopub.status.idle": "2024-10-15T15:27:48.088765Z",
          "shell.execute_reply": "2024-10-15T15:27:48.087607Z"
        },
        "papermill": {
          "duration": 0.066548,
          "end_time": "2024-10-15T15:27:48.091916",
          "exception": false,
          "start_time": "2024-10-15T15:27:48.025368",
          "status": "completed"
        },
        "tags": [],
        "id": "c276d8d0",
        "outputId": "a7c4a69a-d4df-4ee3-ef06-4cccddf6a31d",
        "colab": {
          "base_uri": "https://localhost:8080/",
          "height": 423
        }
      },
      "outputs": [
        {
          "output_type": "execute_result",
          "data": {
            "text/plain": [
              "      Label\n",
              "0        12\n",
              "1        80\n",
              "2        76\n",
              "3        40\n",
              "4        54\n",
              "...     ...\n",
              "9995     80\n",
              "9996     75\n",
              "9997     33\n",
              "9998     43\n",
              "9999     92\n",
              "\n",
              "[10000 rows x 1 columns]"
            ],
            "text/html": [
              "\n",
              "  <div id=\"df-85ab26ad-5f80-43b1-a160-9bc8907af23a\" class=\"colab-df-container\">\n",
              "    <div>\n",
              "<style scoped>\n",
              "    .dataframe tbody tr th:only-of-type {\n",
              "        vertical-align: middle;\n",
              "    }\n",
              "\n",
              "    .dataframe tbody tr th {\n",
              "        vertical-align: top;\n",
              "    }\n",
              "\n",
              "    .dataframe thead th {\n",
              "        text-align: right;\n",
              "    }\n",
              "</style>\n",
              "<table border=\"1\" class=\"dataframe\">\n",
              "  <thead>\n",
              "    <tr style=\"text-align: right;\">\n",
              "      <th></th>\n",
              "      <th>Label</th>\n",
              "    </tr>\n",
              "  </thead>\n",
              "  <tbody>\n",
              "    <tr>\n",
              "      <th>0</th>\n",
              "      <td>12</td>\n",
              "    </tr>\n",
              "    <tr>\n",
              "      <th>1</th>\n",
              "      <td>80</td>\n",
              "    </tr>\n",
              "    <tr>\n",
              "      <th>2</th>\n",
              "      <td>76</td>\n",
              "    </tr>\n",
              "    <tr>\n",
              "      <th>3</th>\n",
              "      <td>40</td>\n",
              "    </tr>\n",
              "    <tr>\n",
              "      <th>4</th>\n",
              "      <td>54</td>\n",
              "    </tr>\n",
              "    <tr>\n",
              "      <th>...</th>\n",
              "      <td>...</td>\n",
              "    </tr>\n",
              "    <tr>\n",
              "      <th>9995</th>\n",
              "      <td>80</td>\n",
              "    </tr>\n",
              "    <tr>\n",
              "      <th>9996</th>\n",
              "      <td>75</td>\n",
              "    </tr>\n",
              "    <tr>\n",
              "      <th>9997</th>\n",
              "      <td>33</td>\n",
              "    </tr>\n",
              "    <tr>\n",
              "      <th>9998</th>\n",
              "      <td>43</td>\n",
              "    </tr>\n",
              "    <tr>\n",
              "      <th>9999</th>\n",
              "      <td>92</td>\n",
              "    </tr>\n",
              "  </tbody>\n",
              "</table>\n",
              "<p>10000 rows × 1 columns</p>\n",
              "</div>\n",
              "    <div class=\"colab-df-buttons\">\n",
              "\n",
              "  <div class=\"colab-df-container\">\n",
              "    <button class=\"colab-df-convert\" onclick=\"convertToInteractive('df-85ab26ad-5f80-43b1-a160-9bc8907af23a')\"\n",
              "            title=\"Convert this dataframe to an interactive table.\"\n",
              "            style=\"display:none;\">\n",
              "\n",
              "  <svg xmlns=\"http://www.w3.org/2000/svg\" height=\"24px\" viewBox=\"0 -960 960 960\">\n",
              "    <path d=\"M120-120v-720h720v720H120Zm60-500h600v-160H180v160Zm220 220h160v-160H400v160Zm0 220h160v-160H400v160ZM180-400h160v-160H180v160Zm440 0h160v-160H620v160ZM180-180h160v-160H180v160Zm440 0h160v-160H620v160Z\"/>\n",
              "  </svg>\n",
              "    </button>\n",
              "\n",
              "  <style>\n",
              "    .colab-df-container {\n",
              "      display:flex;\n",
              "      gap: 12px;\n",
              "    }\n",
              "\n",
              "    .colab-df-convert {\n",
              "      background-color: #E8F0FE;\n",
              "      border: none;\n",
              "      border-radius: 50%;\n",
              "      cursor: pointer;\n",
              "      display: none;\n",
              "      fill: #1967D2;\n",
              "      height: 32px;\n",
              "      padding: 0 0 0 0;\n",
              "      width: 32px;\n",
              "    }\n",
              "\n",
              "    .colab-df-convert:hover {\n",
              "      background-color: #E2EBFA;\n",
              "      box-shadow: 0px 1px 2px rgba(60, 64, 67, 0.3), 0px 1px 3px 1px rgba(60, 64, 67, 0.15);\n",
              "      fill: #174EA6;\n",
              "    }\n",
              "\n",
              "    .colab-df-buttons div {\n",
              "      margin-bottom: 4px;\n",
              "    }\n",
              "\n",
              "    [theme=dark] .colab-df-convert {\n",
              "      background-color: #3B4455;\n",
              "      fill: #D2E3FC;\n",
              "    }\n",
              "\n",
              "    [theme=dark] .colab-df-convert:hover {\n",
              "      background-color: #434B5C;\n",
              "      box-shadow: 0px 1px 3px 1px rgba(0, 0, 0, 0.15);\n",
              "      filter: drop-shadow(0px 1px 2px rgba(0, 0, 0, 0.3));\n",
              "      fill: #FFFFFF;\n",
              "    }\n",
              "  </style>\n",
              "\n",
              "    <script>\n",
              "      const buttonEl =\n",
              "        document.querySelector('#df-85ab26ad-5f80-43b1-a160-9bc8907af23a button.colab-df-convert');\n",
              "      buttonEl.style.display =\n",
              "        google.colab.kernel.accessAllowed ? 'block' : 'none';\n",
              "\n",
              "      async function convertToInteractive(key) {\n",
              "        const element = document.querySelector('#df-85ab26ad-5f80-43b1-a160-9bc8907af23a');\n",
              "        const dataTable =\n",
              "          await google.colab.kernel.invokeFunction('convertToInteractive',\n",
              "                                                    [key], {});\n",
              "        if (!dataTable) return;\n",
              "\n",
              "        const docLinkHtml = 'Like what you see? Visit the ' +\n",
              "          '<a target=\"_blank\" href=https://colab.research.google.com/notebooks/data_table.ipynb>data table notebook</a>'\n",
              "          + ' to learn more about interactive tables.';\n",
              "        element.innerHTML = '';\n",
              "        dataTable['output_type'] = 'display_data';\n",
              "        await google.colab.output.renderOutput(dataTable, element);\n",
              "        const docLink = document.createElement('div');\n",
              "        docLink.innerHTML = docLinkHtml;\n",
              "        element.appendChild(docLink);\n",
              "      }\n",
              "    </script>\n",
              "  </div>\n",
              "\n",
              "\n",
              "<div id=\"df-704429f9-3ab7-4c47-a211-bce357e10082\">\n",
              "  <button class=\"colab-df-quickchart\" onclick=\"quickchart('df-704429f9-3ab7-4c47-a211-bce357e10082')\"\n",
              "            title=\"Suggest charts\"\n",
              "            style=\"display:none;\">\n",
              "\n",
              "<svg xmlns=\"http://www.w3.org/2000/svg\" height=\"24px\"viewBox=\"0 0 24 24\"\n",
              "     width=\"24px\">\n",
              "    <g>\n",
              "        <path d=\"M19 3H5c-1.1 0-2 .9-2 2v14c0 1.1.9 2 2 2h14c1.1 0 2-.9 2-2V5c0-1.1-.9-2-2-2zM9 17H7v-7h2v7zm4 0h-2V7h2v10zm4 0h-2v-4h2v4z\"/>\n",
              "    </g>\n",
              "</svg>\n",
              "  </button>\n",
              "\n",
              "<style>\n",
              "  .colab-df-quickchart {\n",
              "      --bg-color: #E8F0FE;\n",
              "      --fill-color: #1967D2;\n",
              "      --hover-bg-color: #E2EBFA;\n",
              "      --hover-fill-color: #174EA6;\n",
              "      --disabled-fill-color: #AAA;\n",
              "      --disabled-bg-color: #DDD;\n",
              "  }\n",
              "\n",
              "  [theme=dark] .colab-df-quickchart {\n",
              "      --bg-color: #3B4455;\n",
              "      --fill-color: #D2E3FC;\n",
              "      --hover-bg-color: #434B5C;\n",
              "      --hover-fill-color: #FFFFFF;\n",
              "      --disabled-bg-color: #3B4455;\n",
              "      --disabled-fill-color: #666;\n",
              "  }\n",
              "\n",
              "  .colab-df-quickchart {\n",
              "    background-color: var(--bg-color);\n",
              "    border: none;\n",
              "    border-radius: 50%;\n",
              "    cursor: pointer;\n",
              "    display: none;\n",
              "    fill: var(--fill-color);\n",
              "    height: 32px;\n",
              "    padding: 0;\n",
              "    width: 32px;\n",
              "  }\n",
              "\n",
              "  .colab-df-quickchart:hover {\n",
              "    background-color: var(--hover-bg-color);\n",
              "    box-shadow: 0 1px 2px rgba(60, 64, 67, 0.3), 0 1px 3px 1px rgba(60, 64, 67, 0.15);\n",
              "    fill: var(--button-hover-fill-color);\n",
              "  }\n",
              "\n",
              "  .colab-df-quickchart-complete:disabled,\n",
              "  .colab-df-quickchart-complete:disabled:hover {\n",
              "    background-color: var(--disabled-bg-color);\n",
              "    fill: var(--disabled-fill-color);\n",
              "    box-shadow: none;\n",
              "  }\n",
              "\n",
              "  .colab-df-spinner {\n",
              "    border: 2px solid var(--fill-color);\n",
              "    border-color: transparent;\n",
              "    border-bottom-color: var(--fill-color);\n",
              "    animation:\n",
              "      spin 1s steps(1) infinite;\n",
              "  }\n",
              "\n",
              "  @keyframes spin {\n",
              "    0% {\n",
              "      border-color: transparent;\n",
              "      border-bottom-color: var(--fill-color);\n",
              "      border-left-color: var(--fill-color);\n",
              "    }\n",
              "    20% {\n",
              "      border-color: transparent;\n",
              "      border-left-color: var(--fill-color);\n",
              "      border-top-color: var(--fill-color);\n",
              "    }\n",
              "    30% {\n",
              "      border-color: transparent;\n",
              "      border-left-color: var(--fill-color);\n",
              "      border-top-color: var(--fill-color);\n",
              "      border-right-color: var(--fill-color);\n",
              "    }\n",
              "    40% {\n",
              "      border-color: transparent;\n",
              "      border-right-color: var(--fill-color);\n",
              "      border-top-color: var(--fill-color);\n",
              "    }\n",
              "    60% {\n",
              "      border-color: transparent;\n",
              "      border-right-color: var(--fill-color);\n",
              "    }\n",
              "    80% {\n",
              "      border-color: transparent;\n",
              "      border-right-color: var(--fill-color);\n",
              "      border-bottom-color: var(--fill-color);\n",
              "    }\n",
              "    90% {\n",
              "      border-color: transparent;\n",
              "      border-bottom-color: var(--fill-color);\n",
              "    }\n",
              "  }\n",
              "</style>\n",
              "\n",
              "  <script>\n",
              "    async function quickchart(key) {\n",
              "      const quickchartButtonEl =\n",
              "        document.querySelector('#' + key + ' button');\n",
              "      quickchartButtonEl.disabled = true;  // To prevent multiple clicks.\n",
              "      quickchartButtonEl.classList.add('colab-df-spinner');\n",
              "      try {\n",
              "        const charts = await google.colab.kernel.invokeFunction(\n",
              "            'suggestCharts', [key], {});\n",
              "      } catch (error) {\n",
              "        console.error('Error during call to suggestCharts:', error);\n",
              "      }\n",
              "      quickchartButtonEl.classList.remove('colab-df-spinner');\n",
              "      quickchartButtonEl.classList.add('colab-df-quickchart-complete');\n",
              "    }\n",
              "    (() => {\n",
              "      let quickchartButtonEl =\n",
              "        document.querySelector('#df-704429f9-3ab7-4c47-a211-bce357e10082 button');\n",
              "      quickchartButtonEl.style.display =\n",
              "        google.colab.kernel.accessAllowed ? 'block' : 'none';\n",
              "    })();\n",
              "  </script>\n",
              "</div>\n",
              "\n",
              "  <div id=\"id_81cecd95-b071-4a98-9573-3f869c83b0f9\">\n",
              "    <style>\n",
              "      .colab-df-generate {\n",
              "        background-color: #E8F0FE;\n",
              "        border: none;\n",
              "        border-radius: 50%;\n",
              "        cursor: pointer;\n",
              "        display: none;\n",
              "        fill: #1967D2;\n",
              "        height: 32px;\n",
              "        padding: 0 0 0 0;\n",
              "        width: 32px;\n",
              "      }\n",
              "\n",
              "      .colab-df-generate:hover {\n",
              "        background-color: #E2EBFA;\n",
              "        box-shadow: 0px 1px 2px rgba(60, 64, 67, 0.3), 0px 1px 3px 1px rgba(60, 64, 67, 0.15);\n",
              "        fill: #174EA6;\n",
              "      }\n",
              "\n",
              "      [theme=dark] .colab-df-generate {\n",
              "        background-color: #3B4455;\n",
              "        fill: #D2E3FC;\n",
              "      }\n",
              "\n",
              "      [theme=dark] .colab-df-generate:hover {\n",
              "        background-color: #434B5C;\n",
              "        box-shadow: 0px 1px 3px 1px rgba(0, 0, 0, 0.15);\n",
              "        filter: drop-shadow(0px 1px 2px rgba(0, 0, 0, 0.3));\n",
              "        fill: #FFFFFF;\n",
              "      }\n",
              "    </style>\n",
              "    <button class=\"colab-df-generate\" onclick=\"generateWithVariable('df')\"\n",
              "            title=\"Generate code using this dataframe.\"\n",
              "            style=\"display:none;\">\n",
              "\n",
              "  <svg xmlns=\"http://www.w3.org/2000/svg\" height=\"24px\"viewBox=\"0 0 24 24\"\n",
              "       width=\"24px\">\n",
              "    <path d=\"M7,19H8.4L18.45,9,17,7.55,7,17.6ZM5,21V16.75L18.45,3.32a2,2,0,0,1,2.83,0l1.4,1.43a1.91,1.91,0,0,1,.58,1.4,1.91,1.91,0,0,1-.58,1.4L9.25,21ZM18.45,9,17,7.55Zm-12,3A5.31,5.31,0,0,0,4.9,8.1,5.31,5.31,0,0,0,1,6.5,5.31,5.31,0,0,0,4.9,4.9,5.31,5.31,0,0,0,6.5,1,5.31,5.31,0,0,0,8.1,4.9,5.31,5.31,0,0,0,12,6.5,5.46,5.46,0,0,0,6.5,12Z\"/>\n",
              "  </svg>\n",
              "    </button>\n",
              "    <script>\n",
              "      (() => {\n",
              "      const buttonEl =\n",
              "        document.querySelector('#id_81cecd95-b071-4a98-9573-3f869c83b0f9 button.colab-df-generate');\n",
              "      buttonEl.style.display =\n",
              "        google.colab.kernel.accessAllowed ? 'block' : 'none';\n",
              "\n",
              "      buttonEl.onclick = () => {\n",
              "        google.colab.notebook.generateWithVariable('df');\n",
              "      }\n",
              "      })();\n",
              "    </script>\n",
              "  </div>\n",
              "\n",
              "    </div>\n",
              "  </div>\n"
            ],
            "application/vnd.google.colaboratory.intrinsic+json": {
              "type": "dataframe",
              "variable_name": "df",
              "summary": "{\n  \"name\": \"df\",\n  \"rows\": 10000,\n  \"fields\": [\n    {\n      \"column\": \"Label\",\n      \"properties\": {\n        \"dtype\": \"number\",\n        \"std\": 28,\n        \"min\": 0,\n        \"max\": 99,\n        \"num_unique_values\": 99,\n        \"samples\": [\n          38,\n          97,\n          84\n        ],\n        \"semantic_type\": \"\",\n        \"description\": \"\"\n      }\n    }\n  ]\n}"
            }
          },
          "metadata": {},
          "execution_count": 24
        }
      ],
      "source": [
        "df"
      ]
    },
    {
      "cell_type": "code",
      "execution_count": null,
      "id": "57f16151",
      "metadata": {
        "execution": {
          "iopub.execute_input": "2024-10-15T15:27:48.177445Z",
          "iopub.status.busy": "2024-10-15T15:27:48.176984Z",
          "iopub.status.idle": "2024-10-15T15:27:48.183154Z",
          "shell.execute_reply": "2024-10-15T15:27:48.181805Z"
        },
        "papermill": {
          "duration": 0.049071,
          "end_time": "2024-10-15T15:27:48.185755",
          "exception": false,
          "start_time": "2024-10-15T15:27:48.136684",
          "status": "completed"
        },
        "tags": [],
        "id": "57f16151"
      },
      "outputs": [],
      "source": [
        "df.index.name = \"Id\""
      ]
    },
    {
      "cell_type": "code",
      "execution_count": null,
      "id": "857831e0",
      "metadata": {
        "execution": {
          "iopub.execute_input": "2024-10-15T15:27:48.265891Z",
          "iopub.status.busy": "2024-10-15T15:27:48.265176Z",
          "iopub.status.idle": "2024-10-15T15:27:48.293615Z",
          "shell.execute_reply": "2024-10-15T15:27:48.292443Z"
        },
        "papermill": {
          "duration": 0.07223,
          "end_time": "2024-10-15T15:27:48.296713",
          "exception": false,
          "start_time": "2024-10-15T15:27:48.224483",
          "status": "completed"
        },
        "tags": [],
        "id": "857831e0"
      },
      "outputs": [],
      "source": [
        "df.to_csv(\"submission.csv\")"
      ]
    },
    {
      "cell_type": "markdown",
      "source": [
        "# Prueba 2"
      ],
      "metadata": {
        "id": "xtJfv62ZeHGT"
      },
      "id": "xtJfv62ZeHGT"
    },
    {
      "cell_type": "code",
      "source": [
        "model = Sequential()\n",
        "model.add(Flatten(input_shape=(32,32,3)))\n",
        "model.add(Dense(1000))\n",
        "model.add(BatchNormalization())\n",
        "model.add(Activation(\"relu\"))\n",
        "model.add(Dense(1000))\n",
        "model.add(BatchNormalization())\n",
        "model.add(Activation(\"relu\"))\n",
        "model.add(Dense(100, activation=\"softmax\"))\n",
        "model.compile(loss=\"sparse_categorical_crossentropy\", metrics = [\"accuracy\"], optimizer = Adam(learning_rate=0.001))"
      ],
      "metadata": {
        "id": "Epfq24VUmpga"
      },
      "id": "Epfq24VUmpga",
      "execution_count": null,
      "outputs": []
    },
    {
      "cell_type": "code",
      "source": [
        "model.summary()"
      ],
      "metadata": {
        "colab": {
          "base_uri": "https://localhost:8080/",
          "height": 417
        },
        "id": "WvZAo6ddfTPl",
        "outputId": "920c3325-d0b6-4784-dc15-174738085c8b"
      },
      "id": "WvZAo6ddfTPl",
      "execution_count": null,
      "outputs": [
        {
          "output_type": "display_data",
          "data": {
            "text/plain": [
              "\u001b[1mModel: \"sequential_7\"\u001b[0m\n"
            ],
            "text/html": [
              "<pre style=\"white-space:pre;overflow-x:auto;line-height:normal;font-family:Menlo,'DejaVu Sans Mono',consolas,'Courier New',monospace\"><span style=\"font-weight: bold\">Model: \"sequential_7\"</span>\n",
              "</pre>\n"
            ]
          },
          "metadata": {}
        },
        {
          "output_type": "display_data",
          "data": {
            "text/plain": [
              "┏━━━━━━━━━━━━━━━━━━━━━━━━━━━━━━━━━━━━━━┳━━━━━━━━━━━━━━━━━━━━━━━━━━━━━┳━━━━━━━━━━━━━━━━━┓\n",
              "┃\u001b[1m \u001b[0m\u001b[1mLayer (type)                        \u001b[0m\u001b[1m \u001b[0m┃\u001b[1m \u001b[0m\u001b[1mOutput Shape               \u001b[0m\u001b[1m \u001b[0m┃\u001b[1m \u001b[0m\u001b[1m        Param #\u001b[0m\u001b[1m \u001b[0m┃\n",
              "┡━━━━━━━━━━━━━━━━━━━━━━━━━━━━━━━━━━━━━━╇━━━━━━━━━━━━━━━━━━━━━━━━━━━━━╇━━━━━━━━━━━━━━━━━┩\n",
              "│ flatten_7 (\u001b[38;5;33mFlatten\u001b[0m)                  │ (\u001b[38;5;45mNone\u001b[0m, \u001b[38;5;34m3072\u001b[0m)                │               \u001b[38;5;34m0\u001b[0m │\n",
              "├──────────────────────────────────────┼─────────────────────────────┼─────────────────┤\n",
              "│ dense_14 (\u001b[38;5;33mDense\u001b[0m)                     │ (\u001b[38;5;45mNone\u001b[0m, \u001b[38;5;34m1000\u001b[0m)                │       \u001b[38;5;34m3,073,000\u001b[0m │\n",
              "├──────────────────────────────────────┼─────────────────────────────┼─────────────────┤\n",
              "│ batch_normalization                  │ (\u001b[38;5;45mNone\u001b[0m, \u001b[38;5;34m1000\u001b[0m)                │           \u001b[38;5;34m4,000\u001b[0m │\n",
              "│ (\u001b[38;5;33mBatchNormalization\u001b[0m)                 │                             │                 │\n",
              "├──────────────────────────────────────┼─────────────────────────────┼─────────────────┤\n",
              "│ activation (\u001b[38;5;33mActivation\u001b[0m)              │ (\u001b[38;5;45mNone\u001b[0m, \u001b[38;5;34m1000\u001b[0m)                │               \u001b[38;5;34m0\u001b[0m │\n",
              "├──────────────────────────────────────┼─────────────────────────────┼─────────────────┤\n",
              "│ dense_15 (\u001b[38;5;33mDense\u001b[0m)                     │ (\u001b[38;5;45mNone\u001b[0m, \u001b[38;5;34m1000\u001b[0m)                │       \u001b[38;5;34m1,001,000\u001b[0m │\n",
              "├──────────────────────────────────────┼─────────────────────────────┼─────────────────┤\n",
              "│ batch_normalization_1                │ (\u001b[38;5;45mNone\u001b[0m, \u001b[38;5;34m1000\u001b[0m)                │           \u001b[38;5;34m4,000\u001b[0m │\n",
              "│ (\u001b[38;5;33mBatchNormalization\u001b[0m)                 │                             │                 │\n",
              "├──────────────────────────────────────┼─────────────────────────────┼─────────────────┤\n",
              "│ activation_1 (\u001b[38;5;33mActivation\u001b[0m)            │ (\u001b[38;5;45mNone\u001b[0m, \u001b[38;5;34m1000\u001b[0m)                │               \u001b[38;5;34m0\u001b[0m │\n",
              "├──────────────────────────────────────┼─────────────────────────────┼─────────────────┤\n",
              "│ dense_16 (\u001b[38;5;33mDense\u001b[0m)                     │ (\u001b[38;5;45mNone\u001b[0m, \u001b[38;5;34m100\u001b[0m)                 │         \u001b[38;5;34m100,100\u001b[0m │\n",
              "└──────────────────────────────────────┴─────────────────────────────┴─────────────────┘\n"
            ],
            "text/html": [
              "<pre style=\"white-space:pre;overflow-x:auto;line-height:normal;font-family:Menlo,'DejaVu Sans Mono',consolas,'Courier New',monospace\">┏━━━━━━━━━━━━━━━━━━━━━━━━━━━━━━━━━━━━━━┳━━━━━━━━━━━━━━━━━━━━━━━━━━━━━┳━━━━━━━━━━━━━━━━━┓\n",
              "┃<span style=\"font-weight: bold\"> Layer (type)                         </span>┃<span style=\"font-weight: bold\"> Output Shape                </span>┃<span style=\"font-weight: bold\">         Param # </span>┃\n",
              "┡━━━━━━━━━━━━━━━━━━━━━━━━━━━━━━━━━━━━━━╇━━━━━━━━━━━━━━━━━━━━━━━━━━━━━╇━━━━━━━━━━━━━━━━━┩\n",
              "│ flatten_7 (<span style=\"color: #0087ff; text-decoration-color: #0087ff\">Flatten</span>)                  │ (<span style=\"color: #00d7ff; text-decoration-color: #00d7ff\">None</span>, <span style=\"color: #00af00; text-decoration-color: #00af00\">3072</span>)                │               <span style=\"color: #00af00; text-decoration-color: #00af00\">0</span> │\n",
              "├──────────────────────────────────────┼─────────────────────────────┼─────────────────┤\n",
              "│ dense_14 (<span style=\"color: #0087ff; text-decoration-color: #0087ff\">Dense</span>)                     │ (<span style=\"color: #00d7ff; text-decoration-color: #00d7ff\">None</span>, <span style=\"color: #00af00; text-decoration-color: #00af00\">1000</span>)                │       <span style=\"color: #00af00; text-decoration-color: #00af00\">3,073,000</span> │\n",
              "├──────────────────────────────────────┼─────────────────────────────┼─────────────────┤\n",
              "│ batch_normalization                  │ (<span style=\"color: #00d7ff; text-decoration-color: #00d7ff\">None</span>, <span style=\"color: #00af00; text-decoration-color: #00af00\">1000</span>)                │           <span style=\"color: #00af00; text-decoration-color: #00af00\">4,000</span> │\n",
              "│ (<span style=\"color: #0087ff; text-decoration-color: #0087ff\">BatchNormalization</span>)                 │                             │                 │\n",
              "├──────────────────────────────────────┼─────────────────────────────┼─────────────────┤\n",
              "│ activation (<span style=\"color: #0087ff; text-decoration-color: #0087ff\">Activation</span>)              │ (<span style=\"color: #00d7ff; text-decoration-color: #00d7ff\">None</span>, <span style=\"color: #00af00; text-decoration-color: #00af00\">1000</span>)                │               <span style=\"color: #00af00; text-decoration-color: #00af00\">0</span> │\n",
              "├──────────────────────────────────────┼─────────────────────────────┼─────────────────┤\n",
              "│ dense_15 (<span style=\"color: #0087ff; text-decoration-color: #0087ff\">Dense</span>)                     │ (<span style=\"color: #00d7ff; text-decoration-color: #00d7ff\">None</span>, <span style=\"color: #00af00; text-decoration-color: #00af00\">1000</span>)                │       <span style=\"color: #00af00; text-decoration-color: #00af00\">1,001,000</span> │\n",
              "├──────────────────────────────────────┼─────────────────────────────┼─────────────────┤\n",
              "│ batch_normalization_1                │ (<span style=\"color: #00d7ff; text-decoration-color: #00d7ff\">None</span>, <span style=\"color: #00af00; text-decoration-color: #00af00\">1000</span>)                │           <span style=\"color: #00af00; text-decoration-color: #00af00\">4,000</span> │\n",
              "│ (<span style=\"color: #0087ff; text-decoration-color: #0087ff\">BatchNormalization</span>)                 │                             │                 │\n",
              "├──────────────────────────────────────┼─────────────────────────────┼─────────────────┤\n",
              "│ activation_1 (<span style=\"color: #0087ff; text-decoration-color: #0087ff\">Activation</span>)            │ (<span style=\"color: #00d7ff; text-decoration-color: #00d7ff\">None</span>, <span style=\"color: #00af00; text-decoration-color: #00af00\">1000</span>)                │               <span style=\"color: #00af00; text-decoration-color: #00af00\">0</span> │\n",
              "├──────────────────────────────────────┼─────────────────────────────┼─────────────────┤\n",
              "│ dense_16 (<span style=\"color: #0087ff; text-decoration-color: #0087ff\">Dense</span>)                     │ (<span style=\"color: #00d7ff; text-decoration-color: #00d7ff\">None</span>, <span style=\"color: #00af00; text-decoration-color: #00af00\">100</span>)                 │         <span style=\"color: #00af00; text-decoration-color: #00af00\">100,100</span> │\n",
              "└──────────────────────────────────────┴─────────────────────────────┴─────────────────┘\n",
              "</pre>\n"
            ]
          },
          "metadata": {}
        },
        {
          "output_type": "display_data",
          "data": {
            "text/plain": [
              "\u001b[1m Total params: \u001b[0m\u001b[38;5;34m4,182,100\u001b[0m (15.95 MB)\n"
            ],
            "text/html": [
              "<pre style=\"white-space:pre;overflow-x:auto;line-height:normal;font-family:Menlo,'DejaVu Sans Mono',consolas,'Courier New',monospace\"><span style=\"font-weight: bold\"> Total params: </span><span style=\"color: #00af00; text-decoration-color: #00af00\">4,182,100</span> (15.95 MB)\n",
              "</pre>\n"
            ]
          },
          "metadata": {}
        },
        {
          "output_type": "display_data",
          "data": {
            "text/plain": [
              "\u001b[1m Trainable params: \u001b[0m\u001b[38;5;34m4,178,100\u001b[0m (15.94 MB)\n"
            ],
            "text/html": [
              "<pre style=\"white-space:pre;overflow-x:auto;line-height:normal;font-family:Menlo,'DejaVu Sans Mono',consolas,'Courier New',monospace\"><span style=\"font-weight: bold\"> Trainable params: </span><span style=\"color: #00af00; text-decoration-color: #00af00\">4,178,100</span> (15.94 MB)\n",
              "</pre>\n"
            ]
          },
          "metadata": {}
        },
        {
          "output_type": "display_data",
          "data": {
            "text/plain": [
              "\u001b[1m Non-trainable params: \u001b[0m\u001b[38;5;34m4,000\u001b[0m (15.62 KB)\n"
            ],
            "text/html": [
              "<pre style=\"white-space:pre;overflow-x:auto;line-height:normal;font-family:Menlo,'DejaVu Sans Mono',consolas,'Courier New',monospace\"><span style=\"font-weight: bold\"> Non-trainable params: </span><span style=\"color: #00af00; text-decoration-color: #00af00\">4,000</span> (15.62 KB)\n",
              "</pre>\n"
            ]
          },
          "metadata": {}
        }
      ]
    },
    {
      "cell_type": "code",
      "source": [
        "rlrop = ReduceLROnPlateau(\n",
        "    monitor = \"val_accuracy\",\n",
        "    factor = 0.5,\n",
        "    patience = 10,\n",
        "    verbose = 1,\n",
        "    min_lr = 1e-5\n",
        ")"
      ],
      "metadata": {
        "id": "gQQyK4yBfYR7"
      },
      "id": "gQQyK4yBfYR7",
      "execution_count": null,
      "outputs": []
    },
    {
      "cell_type": "code",
      "source": [
        "mc = ModelCheckpoint(\n",
        "    \"best_weights.weights.h5\",\n",
        "    monitor = \"val_accuracy\",\n",
        "    verbose = 1,\n",
        "    save_best_only = True,\n",
        "    save_weights_only = True,\n",
        ")"
      ],
      "metadata": {
        "id": "_3iZBKtRfhy9"
      },
      "id": "_3iZBKtRfhy9",
      "execution_count": null,
      "outputs": []
    },
    {
      "cell_type": "code",
      "source": [
        "es = EarlyStopping(\n",
        "    monitor = \"val_accuracy\",\n",
        "    patience = 7,\n",
        "    verbose = 1,\n",
        "    restore_best_weights = True,\n",
        ")"
      ],
      "metadata": {
        "id": "mA7SuAIiflIb"
      },
      "id": "mA7SuAIiflIb",
      "execution_count": null,
      "outputs": []
    },
    {
      "cell_type": "code",
      "source": [
        "tb = TensorBoard(\n",
        "    log_dir=\"logs\",\n",
        ")"
      ],
      "metadata": {
        "id": "_uZM0G45foe8"
      },
      "id": "_uZM0G45foe8",
      "execution_count": null,
      "outputs": []
    },
    {
      "cell_type": "code",
      "source": [
        "history = model.fit(\n",
        "    x = x_train,\n",
        "    y= y_train,\n",
        "    batch_size=32,\n",
        "    epochs=30,\n",
        "    validation_data = (x_val, y_val),\n",
        "    callbacks= [\n",
        "        rlrop,\n",
        "        es,\n",
        "        mc\n",
        "    ]\n",
        ")"
      ],
      "metadata": {
        "colab": {
          "base_uri": "https://localhost:8080/"
        },
        "id": "S2UURGotfs87",
        "outputId": "22ef13ef-83dd-463c-9083-1c4bca1cf00f"
      },
      "id": "S2UURGotfs87",
      "execution_count": null,
      "outputs": [
        {
          "output_type": "stream",
          "name": "stdout",
          "text": [
            "Epoch 1/30\n",
            "\u001b[1m1407/1407\u001b[0m \u001b[32m━━━━━━━━━━━━━━━━━━━━\u001b[0m\u001b[37m\u001b[0m \u001b[1m0s\u001b[0m 78ms/step - accuracy: 0.1047 - loss: 4.0743\n",
            "Epoch 1: val_accuracy improved from -inf to 0.12120, saving model to best_weights.weights.h5\n",
            "\u001b[1m1407/1407\u001b[0m \u001b[32m━━━━━━━━━━━━━━━━━━━━\u001b[0m\u001b[37m\u001b[0m \u001b[1m115s\u001b[0m 80ms/step - accuracy: 0.1047 - loss: 4.0741 - val_accuracy: 0.1212 - val_loss: 3.8859 - learning_rate: 0.0010\n",
            "Epoch 2/30\n",
            "\u001b[1m1407/1407\u001b[0m \u001b[32m━━━━━━━━━━━━━━━━━━━━\u001b[0m\u001b[37m\u001b[0m \u001b[1m0s\u001b[0m 82ms/step - accuracy: 0.2005 - loss: 3.3472\n",
            "Epoch 2: val_accuracy improved from 0.12120 to 0.17580, saving model to best_weights.weights.h5\n",
            "\u001b[1m1407/1407\u001b[0m \u001b[32m━━━━━━━━━━━━━━━━━━━━\u001b[0m\u001b[37m\u001b[0m \u001b[1m148s\u001b[0m 84ms/step - accuracy: 0.2005 - loss: 3.3472 - val_accuracy: 0.1758 - val_loss: 3.5106 - learning_rate: 0.0010\n",
            "Epoch 3/30\n",
            "\u001b[1m1407/1407\u001b[0m \u001b[32m━━━━━━━━━━━━━━━━━━━━\u001b[0m\u001b[37m\u001b[0m \u001b[1m0s\u001b[0m 79ms/step - accuracy: 0.2522 - loss: 3.0519\n",
            "Epoch 3: val_accuracy improved from 0.17580 to 0.19000, saving model to best_weights.weights.h5\n",
            "\u001b[1m1407/1407\u001b[0m \u001b[32m━━━━━━━━━━━━━━━━━━━━\u001b[0m\u001b[37m\u001b[0m \u001b[1m137s\u001b[0m 81ms/step - accuracy: 0.2522 - loss: 3.0519 - val_accuracy: 0.1900 - val_loss: 3.4333 - learning_rate: 0.0010\n",
            "Epoch 4/30\n",
            "\u001b[1m1407/1407\u001b[0m \u001b[32m━━━━━━━━━━━━━━━━━━━━\u001b[0m\u001b[37m\u001b[0m \u001b[1m0s\u001b[0m 74ms/step - accuracy: 0.2985 - loss: 2.8184\n",
            "Epoch 4: val_accuracy did not improve from 0.19000\n",
            "\u001b[1m1407/1407\u001b[0m \u001b[32m━━━━━━━━━━━━━━━━━━━━\u001b[0m\u001b[37m\u001b[0m \u001b[1m105s\u001b[0m 75ms/step - accuracy: 0.2985 - loss: 2.8184 - val_accuracy: 0.1618 - val_loss: 3.6972 - learning_rate: 0.0010\n",
            "Epoch 5/30\n",
            "\u001b[1m1407/1407\u001b[0m \u001b[32m━━━━━━━━━━━━━━━━━━━━\u001b[0m\u001b[37m\u001b[0m \u001b[1m0s\u001b[0m 74ms/step - accuracy: 0.3328 - loss: 2.6227\n",
            "Epoch 5: val_accuracy improved from 0.19000 to 0.22000, saving model to best_weights.weights.h5\n",
            "\u001b[1m1407/1407\u001b[0m \u001b[32m━━━━━━━━━━━━━━━━━━━━\u001b[0m\u001b[37m\u001b[0m \u001b[1m107s\u001b[0m 76ms/step - accuracy: 0.3328 - loss: 2.6228 - val_accuracy: 0.2200 - val_loss: 3.3401 - learning_rate: 0.0010\n",
            "Epoch 6/30\n",
            "\u001b[1m1407/1407\u001b[0m \u001b[32m━━━━━━━━━━━━━━━━━━━━\u001b[0m\u001b[37m\u001b[0m \u001b[1m0s\u001b[0m 72ms/step - accuracy: 0.3767 - loss: 2.4132\n",
            "Epoch 6: val_accuracy did not improve from 0.22000\n",
            "\u001b[1m1407/1407\u001b[0m \u001b[32m━━━━━━━━━━━━━━━━━━━━\u001b[0m\u001b[37m\u001b[0m \u001b[1m141s\u001b[0m 76ms/step - accuracy: 0.3767 - loss: 2.4132 - val_accuracy: 0.1960 - val_loss: 3.5977 - learning_rate: 0.0010\n",
            "Epoch 7/30\n",
            "\u001b[1m1407/1407\u001b[0m \u001b[32m━━━━━━━━━━━━━━━━━━━━\u001b[0m\u001b[37m\u001b[0m \u001b[1m0s\u001b[0m 72ms/step - accuracy: 0.4235 - loss: 2.2044\n",
            "Epoch 7: val_accuracy did not improve from 0.22000\n",
            "\u001b[1m1407/1407\u001b[0m \u001b[32m━━━━━━━━━━━━━━━━━━━━\u001b[0m\u001b[37m\u001b[0m \u001b[1m139s\u001b[0m 74ms/step - accuracy: 0.4235 - loss: 2.2044 - val_accuracy: 0.2188 - val_loss: 3.4147 - learning_rate: 0.0010\n",
            "Epoch 8/30\n",
            "\u001b[1m1407/1407\u001b[0m \u001b[32m━━━━━━━━━━━━━━━━━━━━\u001b[0m\u001b[37m\u001b[0m \u001b[1m0s\u001b[0m 74ms/step - accuracy: 0.4738 - loss: 1.9970\n",
            "Epoch 8: val_accuracy improved from 0.22000 to 0.22360, saving model to best_weights.weights.h5\n",
            "\u001b[1m1407/1407\u001b[0m \u001b[32m━━━━━━━━━━━━━━━━━━━━\u001b[0m\u001b[37m\u001b[0m \u001b[1m145s\u001b[0m 76ms/step - accuracy: 0.4738 - loss: 1.9971 - val_accuracy: 0.2236 - val_loss: 3.4792 - learning_rate: 0.0010\n",
            "Epoch 9/30\n",
            "\u001b[1m1407/1407\u001b[0m \u001b[32m━━━━━━━━━━━━━━━━━━━━\u001b[0m\u001b[37m\u001b[0m \u001b[1m0s\u001b[0m 79ms/step - accuracy: 0.5248 - loss: 1.7848\n",
            "Epoch 9: val_accuracy did not improve from 0.22360\n",
            "\u001b[1m1407/1407\u001b[0m \u001b[32m━━━━━━━━━━━━━━━━━━━━\u001b[0m\u001b[37m\u001b[0m \u001b[1m148s\u001b[0m 80ms/step - accuracy: 0.5248 - loss: 1.7849 - val_accuracy: 0.2212 - val_loss: 3.6714 - learning_rate: 0.0010\n",
            "Epoch 10/30\n",
            "\u001b[1m1407/1407\u001b[0m \u001b[32m━━━━━━━━━━━━━━━━━━━━\u001b[0m\u001b[37m\u001b[0m \u001b[1m0s\u001b[0m 79ms/step - accuracy: 0.5683 - loss: 1.5863\n",
            "Epoch 10: val_accuracy did not improve from 0.22360\n",
            "\u001b[1m1407/1407\u001b[0m \u001b[32m━━━━━━━━━━━━━━━━━━━━\u001b[0m\u001b[37m\u001b[0m \u001b[1m143s\u001b[0m 81ms/step - accuracy: 0.5683 - loss: 1.5864 - val_accuracy: 0.2116 - val_loss: 3.8735 - learning_rate: 0.0010\n",
            "Epoch 11/30\n",
            "\u001b[1m1407/1407\u001b[0m \u001b[32m━━━━━━━━━━━━━━━━━━━━\u001b[0m\u001b[37m\u001b[0m \u001b[1m0s\u001b[0m 75ms/step - accuracy: 0.6151 - loss: 1.4025\n",
            "Epoch 11: val_accuracy did not improve from 0.22360\n",
            "\u001b[1m1407/1407\u001b[0m \u001b[32m━━━━━━━━━━━━━━━━━━━━\u001b[0m\u001b[37m\u001b[0m \u001b[1m139s\u001b[0m 79ms/step - accuracy: 0.6151 - loss: 1.4026 - val_accuracy: 0.2166 - val_loss: 3.9501 - learning_rate: 0.0010\n",
            "Epoch 12/30\n",
            "\u001b[1m1407/1407\u001b[0m \u001b[32m━━━━━━━━━━━━━━━━━━━━\u001b[0m\u001b[37m\u001b[0m \u001b[1m0s\u001b[0m 78ms/step - accuracy: 0.6582 - loss: 1.2364\n",
            "Epoch 12: val_accuracy did not improve from 0.22360\n",
            "\u001b[1m1407/1407\u001b[0m \u001b[32m━━━━━━━━━━━━━━━━━━━━\u001b[0m\u001b[37m\u001b[0m \u001b[1m143s\u001b[0m 80ms/step - accuracy: 0.6582 - loss: 1.2365 - val_accuracy: 0.2014 - val_loss: 4.4428 - learning_rate: 0.0010\n",
            "Epoch 13/30\n",
            "\u001b[1m1407/1407\u001b[0m \u001b[32m━━━━━━━━━━━━━━━━━━━━\u001b[0m\u001b[37m\u001b[0m \u001b[1m0s\u001b[0m 76ms/step - accuracy: 0.7017 - loss: 1.0687\n",
            "Epoch 13: val_accuracy did not improve from 0.22360\n",
            "\u001b[1m1407/1407\u001b[0m \u001b[32m━━━━━━━━━━━━━━━━━━━━\u001b[0m\u001b[37m\u001b[0m \u001b[1m139s\u001b[0m 78ms/step - accuracy: 0.7017 - loss: 1.0688 - val_accuracy: 0.2200 - val_loss: 4.3615 - learning_rate: 0.0010\n",
            "Epoch 14/30\n",
            "\u001b[1m1407/1407\u001b[0m \u001b[32m━━━━━━━━━━━━━━━━━━━━\u001b[0m\u001b[37m\u001b[0m \u001b[1m0s\u001b[0m 75ms/step - accuracy: 0.7382 - loss: 0.9421\n",
            "Epoch 14: val_accuracy did not improve from 0.22360\n",
            "\u001b[1m1407/1407\u001b[0m \u001b[32m━━━━━━━━━━━━━━━━━━━━\u001b[0m\u001b[37m\u001b[0m \u001b[1m139s\u001b[0m 76ms/step - accuracy: 0.7382 - loss: 0.9421 - val_accuracy: 0.1978 - val_loss: 4.8597 - learning_rate: 0.0010\n",
            "Epoch 15/30\n",
            "\u001b[1m1407/1407\u001b[0m \u001b[32m━━━━━━━━━━━━━━━━━━━━\u001b[0m\u001b[37m\u001b[0m \u001b[1m0s\u001b[0m 72ms/step - accuracy: 0.7604 - loss: 0.8382\n",
            "Epoch 15: val_accuracy did not improve from 0.22360\n",
            "\u001b[1m1407/1407\u001b[0m \u001b[32m━━━━━━━━━━━━━━━━━━━━\u001b[0m\u001b[37m\u001b[0m \u001b[1m103s\u001b[0m 73ms/step - accuracy: 0.7604 - loss: 0.8382 - val_accuracy: 0.2042 - val_loss: 5.0211 - learning_rate: 0.0010\n",
            "Epoch 15: early stopping\n",
            "Restoring model weights from the end of the best epoch: 8.\n"
          ]
        }
      ]
    },
    {
      "cell_type": "code",
      "source": [
        "plt.plot(history.history[\"loss\"], color = 'blue')\n",
        "plt.plot(history.history[\"val_loss\"], color = 'orange')"
      ],
      "metadata": {
        "colab": {
          "base_uri": "https://localhost:8080/",
          "height": 447
        },
        "id": "zIYoj7cTfyHT",
        "outputId": "4d833da8-3a6c-4f98-8f9f-ecc2a8dc6cf2"
      },
      "id": "zIYoj7cTfyHT",
      "execution_count": null,
      "outputs": [
        {
          "output_type": "execute_result",
          "data": {
            "text/plain": [
              "[<matplotlib.lines.Line2D at 0x7c00f2ae47c0>]"
            ]
          },
          "metadata": {},
          "execution_count": 58
        },
        {
          "output_type": "display_data",
          "data": {
            "text/plain": [
              "<Figure size 640x480 with 1 Axes>"
            ],
            "image/png": "[encoded data removed]"
          },
          "metadata": {}
        }
      ]
    },
    {
      "cell_type": "code",
      "source": [
        "plt.plot(history.history[\"accuracy\"], color = 'blue')\n",
        "plt.plot(history.history[\"val_accuracy\"], color = 'orange')"
      ],
      "metadata": {
        "colab": {
          "base_uri": "https://localhost:8080/",
          "height": 447
        },
        "id": "o1elqckbf13z",
        "outputId": "e39435c6-775d-4ada-b2a5-ecdee8861ab7"
      },
      "id": "o1elqckbf13z",
      "execution_count": null,
      "outputs": [
        {
          "output_type": "execute_result",
          "data": {
            "text/plain": [
              "[<matplotlib.lines.Line2D at 0x7c00f2ee3790>]"
            ]
          },
          "metadata": {},
          "execution_count": 59
        },
        {
          "output_type": "display_data",
          "data": {
            "text/plain": [
              "<Figure size 640x480 with 1 Axes>"
            ],
            "image/png": "[encoded data removed]"
          },
          "metadata": {}
        }
      ]
    },
    {
      "cell_type": "markdown",
      "source": [
        "# Prueba 3"
      ],
      "metadata": {
        "id": "rdeMAGIDlE7D"
      },
      "id": "rdeMAGIDlE7D"
    },
    {
      "cell_type": "code",
      "source": [
        "model = Sequential()\n",
        "model.add(Flatten(input_shape=(32,32,3)))\n",
        "model.add(Dense(1000), max_norm(10))\n",
        "model.add(BatchNormalization())\n",
        "model.add(Activation(\"relu\"))\n",
        "model.add(Dense(1000), max_norm(10))\n",
        "model.add(BatchNormalization())\n",
        "model.add(Activation(\"relu\"))\n",
        "model.add(Dense(100, activation=\"softmax\"))\n",
        "model.compile(loss=\"sparse_categorical_crossentropy\", metrics = [\"accuracy\"], optimizer = Adam(learning_rate=0.001))"
      ],
      "metadata": {
        "id": "8aHGB5ehlIZ9"
      },
      "execution_count": null,
      "outputs": [],
      "id": "8aHGB5ehlIZ9"
    },
    {
      "cell_type": "code",
      "source": [
        "model.summary()"
      ],
      "metadata": {
        "colab": {
          "base_uri": "https://localhost:8080/",
          "height": 417
        },
        "outputId": "83ecdc61-58a3-4758-9c78-9569d384f826",
        "id": "TII6b9ZElIZ-"
      },
      "execution_count": null,
      "outputs": [
        {
          "output_type": "display_data",
          "data": {
            "text/plain": [
              "\u001b[1mModel: \"sequential_1\"\u001b[0m\n"
            ],
            "text/html": [
              "<pre style=\"white-space:pre;overflow-x:auto;line-height:normal;font-family:Menlo,'DejaVu Sans Mono',consolas,'Courier New',monospace\"><span style=\"font-weight: bold\">Model: \"sequential_1\"</span>\n",
              "</pre>\n"
            ]
          },
          "metadata": {}
        },
        {
          "output_type": "display_data",
          "data": {
            "text/plain": [
              "┏━━━━━━━━━━━━━━━━━━━━━━━━━━━━━━━━━━━━━━┳━━━━━━━━━━━━━━━━━━━━━━━━━━━━━┳━━━━━━━━━━━━━━━━━┓\n",
              "┃\u001b[1m \u001b[0m\u001b[1mLayer (type)                        \u001b[0m\u001b[1m \u001b[0m┃\u001b[1m \u001b[0m\u001b[1mOutput Shape               \u001b[0m\u001b[1m \u001b[0m┃\u001b[1m \u001b[0m\u001b[1m        Param #\u001b[0m\u001b[1m \u001b[0m┃\n",
              "┡━━━━━━━━━━━━━━━━━━━━━━━━━━━━━━━━━━━━━━╇━━━━━━━━━━━━━━━━━━━━━━━━━━━━━╇━━━━━━━━━━━━━━━━━┩\n",
              "│ flatten_1 (\u001b[38;5;33mFlatten\u001b[0m)                  │ (\u001b[38;5;45mNone\u001b[0m, \u001b[38;5;34m3072\u001b[0m)                │               \u001b[38;5;34m0\u001b[0m │\n",
              "├──────────────────────────────────────┼─────────────────────────────┼─────────────────┤\n",
              "│ dense_3 (\u001b[38;5;33mDense\u001b[0m)                      │ (\u001b[38;5;45mNone\u001b[0m, \u001b[38;5;34m1000\u001b[0m)                │       \u001b[38;5;34m3,073,000\u001b[0m │\n",
              "├──────────────────────────────────────┼─────────────────────────────┼─────────────────┤\n",
              "│ batch_normalization_2                │ (\u001b[38;5;45mNone\u001b[0m, \u001b[38;5;34m1000\u001b[0m)                │           \u001b[38;5;34m4,000\u001b[0m │\n",
              "│ (\u001b[38;5;33mBatchNormalization\u001b[0m)                 │                             │                 │\n",
              "├──────────────────────────────────────┼─────────────────────────────┼─────────────────┤\n",
              "│ activation_2 (\u001b[38;5;33mActivation\u001b[0m)            │ (\u001b[38;5;45mNone\u001b[0m, \u001b[38;5;34m1000\u001b[0m)                │               \u001b[38;5;34m0\u001b[0m │\n",
              "├──────────────────────────────────────┼─────────────────────────────┼─────────────────┤\n",
              "│ dense_4 (\u001b[38;5;33mDense\u001b[0m)                      │ (\u001b[38;5;45mNone\u001b[0m, \u001b[38;5;34m1000\u001b[0m)                │       \u001b[38;5;34m1,001,000\u001b[0m │\n",
              "├──────────────────────────────────────┼─────────────────────────────┼─────────────────┤\n",
              "│ batch_normalization_3                │ (\u001b[38;5;45mNone\u001b[0m, \u001b[38;5;34m1000\u001b[0m)                │           \u001b[38;5;34m4,000\u001b[0m │\n",
              "│ (\u001b[38;5;33mBatchNormalization\u001b[0m)                 │                             │                 │\n",
              "├──────────────────────────────────────┼─────────────────────────────┼─────────────────┤\n",
              "│ activation_3 (\u001b[38;5;33mActivation\u001b[0m)            │ (\u001b[38;5;45mNone\u001b[0m, \u001b[38;5;34m1000\u001b[0m)                │               \u001b[38;5;34m0\u001b[0m │\n",
              "├──────────────────────────────────────┼─────────────────────────────┼─────────────────┤\n",
              "│ dense_5 (\u001b[38;5;33mDense\u001b[0m)                      │ (\u001b[38;5;45mNone\u001b[0m, \u001b[38;5;34m100\u001b[0m)                 │         \u001b[38;5;34m100,100\u001b[0m │\n",
              "└──────────────────────────────────────┴─────────────────────────────┴─────────────────┘\n"
            ],
            "text/html": [
              "<pre style=\"white-space:pre;overflow-x:auto;line-height:normal;font-family:Menlo,'DejaVu Sans Mono',consolas,'Courier New',monospace\">┏━━━━━━━━━━━━━━━━━━━━━━━━━━━━━━━━━━━━━━┳━━━━━━━━━━━━━━━━━━━━━━━━━━━━━┳━━━━━━━━━━━━━━━━━┓\n",
              "┃<span style=\"font-weight: bold\"> Layer (type)                         </span>┃<span style=\"font-weight: bold\"> Output Shape                </span>┃<span style=\"font-weight: bold\">         Param # </span>┃\n",
              "┡━━━━━━━━━━━━━━━━━━━━━━━━━━━━━━━━━━━━━━╇━━━━━━━━━━━━━━━━━━━━━━━━━━━━━╇━━━━━━━━━━━━━━━━━┩\n",
              "│ flatten_1 (<span style=\"color: #0087ff; text-decoration-color: #0087ff\">Flatten</span>)                  │ (<span style=\"color: #00d7ff; text-decoration-color: #00d7ff\">None</span>, <span style=\"color: #00af00; text-decoration-color: #00af00\">3072</span>)                │               <span style=\"color: #00af00; text-decoration-color: #00af00\">0</span> │\n",
              "├──────────────────────────────────────┼─────────────────────────────┼─────────────────┤\n",
              "│ dense_3 (<span style=\"color: #0087ff; text-decoration-color: #0087ff\">Dense</span>)                      │ (<span style=\"color: #00d7ff; text-decoration-color: #00d7ff\">None</span>, <span style=\"color: #00af00; text-decoration-color: #00af00\">1000</span>)                │       <span style=\"color: #00af00; text-decoration-color: #00af00\">3,073,000</span> │\n",
              "├──────────────────────────────────────┼─────────────────────────────┼─────────────────┤\n",
              "│ batch_normalization_2                │ (<span style=\"color: #00d7ff; text-decoration-color: #00d7ff\">None</span>, <span style=\"color: #00af00; text-decoration-color: #00af00\">1000</span>)                │           <span style=\"color: #00af00; text-decoration-color: #00af00\">4,000</span> │\n",
              "│ (<span style=\"color: #0087ff; text-decoration-color: #0087ff\">BatchNormalization</span>)                 │                             │                 │\n",
              "├──────────────────────────────────────┼─────────────────────────────┼─────────────────┤\n",
              "│ activation_2 (<span style=\"color: #0087ff; text-decoration-color: #0087ff\">Activation</span>)            │ (<span style=\"color: #00d7ff; text-decoration-color: #00d7ff\">None</span>, <span style=\"color: #00af00; text-decoration-color: #00af00\">1000</span>)                │               <span style=\"color: #00af00; text-decoration-color: #00af00\">0</span> │\n",
              "├──────────────────────────────────────┼─────────────────────────────┼─────────────────┤\n",
              "│ dense_4 (<span style=\"color: #0087ff; text-decoration-color: #0087ff\">Dense</span>)                      │ (<span style=\"color: #00d7ff; text-decoration-color: #00d7ff\">None</span>, <span style=\"color: #00af00; text-decoration-color: #00af00\">1000</span>)                │       <span style=\"color: #00af00; text-decoration-color: #00af00\">1,001,000</span> │\n",
              "├──────────────────────────────────────┼─────────────────────────────┼─────────────────┤\n",
              "│ batch_normalization_3                │ (<span style=\"color: #00d7ff; text-decoration-color: #00d7ff\">None</span>, <span style=\"color: #00af00; text-decoration-color: #00af00\">1000</span>)                │           <span style=\"color: #00af00; text-decoration-color: #00af00\">4,000</span> │\n",
              "│ (<span style=\"color: #0087ff; text-decoration-color: #0087ff\">BatchNormalization</span>)                 │                             │                 │\n",
              "├──────────────────────────────────────┼─────────────────────────────┼─────────────────┤\n",
              "│ activation_3 (<span style=\"color: #0087ff; text-decoration-color: #0087ff\">Activation</span>)            │ (<span style=\"color: #00d7ff; text-decoration-color: #00d7ff\">None</span>, <span style=\"color: #00af00; text-decoration-color: #00af00\">1000</span>)                │               <span style=\"color: #00af00; text-decoration-color: #00af00\">0</span> │\n",
              "├──────────────────────────────────────┼─────────────────────────────┼─────────────────┤\n",
              "│ dense_5 (<span style=\"color: #0087ff; text-decoration-color: #0087ff\">Dense</span>)                      │ (<span style=\"color: #00d7ff; text-decoration-color: #00d7ff\">None</span>, <span style=\"color: #00af00; text-decoration-color: #00af00\">100</span>)                 │         <span style=\"color: #00af00; text-decoration-color: #00af00\">100,100</span> │\n",
              "└──────────────────────────────────────┴─────────────────────────────┴─────────────────┘\n",
              "</pre>\n"
            ]
          },
          "metadata": {}
        },
        {
          "output_type": "display_data",
          "data": {
            "text/plain": [
              "\u001b[1m Total params: \u001b[0m\u001b[38;5;34m4,182,100\u001b[0m (15.95 MB)\n"
            ],
            "text/html": [
              "<pre style=\"white-space:pre;overflow-x:auto;line-height:normal;font-family:Menlo,'DejaVu Sans Mono',consolas,'Courier New',monospace\"><span style=\"font-weight: bold\"> Total params: </span><span style=\"color: #00af00; text-decoration-color: #00af00\">4,182,100</span> (15.95 MB)\n",
              "</pre>\n"
            ]
          },
          "metadata": {}
        },
        {
          "output_type": "display_data",
          "data": {
            "text/plain": [
              "\u001b[1m Trainable params: \u001b[0m\u001b[38;5;34m4,178,100\u001b[0m (15.94 MB)\n"
            ],
            "text/html": [
              "<pre style=\"white-space:pre;overflow-x:auto;line-height:normal;font-family:Menlo,'DejaVu Sans Mono',consolas,'Courier New',monospace\"><span style=\"font-weight: bold\"> Trainable params: </span><span style=\"color: #00af00; text-decoration-color: #00af00\">4,178,100</span> (15.94 MB)\n",
              "</pre>\n"
            ]
          },
          "metadata": {}
        },
        {
          "output_type": "display_data",
          "data": {
            "text/plain": [
              "\u001b[1m Non-trainable params: \u001b[0m\u001b[38;5;34m4,000\u001b[0m (15.62 KB)\n"
            ],
            "text/html": [
              "<pre style=\"white-space:pre;overflow-x:auto;line-height:normal;font-family:Menlo,'DejaVu Sans Mono',consolas,'Courier New',monospace\"><span style=\"font-weight: bold\"> Non-trainable params: </span><span style=\"color: #00af00; text-decoration-color: #00af00\">4,000</span> (15.62 KB)\n",
              "</pre>\n"
            ]
          },
          "metadata": {}
        }
      ],
      "id": "TII6b9ZElIZ-"
    },
    {
      "cell_type": "code",
      "source": [
        "rlrop = ReduceLROnPlateau(\n",
        "    monitor = \"val_accuracy\",\n",
        "    factor = 0.5,\n",
        "    patience = 10,\n",
        "    verbose = 1,\n",
        "    min_lr = 1e-5\n",
        ")"
      ],
      "metadata": {
        "id": "fUTAe0BalIZ-"
      },
      "execution_count": null,
      "outputs": [],
      "id": "fUTAe0BalIZ-"
    },
    {
      "cell_type": "code",
      "source": [
        "mc = ModelCheckpoint(\n",
        "    \"best_weights.weights.h5\",\n",
        "    monitor = \"val_accuracy\",\n",
        "    verbose = 1,\n",
        "    save_best_only = True,\n",
        "    save_weights_only = True,\n",
        ")"
      ],
      "metadata": {
        "id": "58sFqPxRlIZ-"
      },
      "execution_count": null,
      "outputs": [],
      "id": "58sFqPxRlIZ-"
    },
    {
      "cell_type": "code",
      "source": [
        "es = EarlyStopping(\n",
        "    monitor = \"val_accuracy\",\n",
        "    patience = 7,\n",
        "    verbose = 1,\n",
        "    restore_best_weights = True,\n",
        ")"
      ],
      "metadata": {
        "id": "nnwX1zlslIZ_"
      },
      "execution_count": null,
      "outputs": [],
      "id": "nnwX1zlslIZ_"
    },
    {
      "cell_type": "code",
      "source": [
        "tb = TensorBoard(\n",
        "    log_dir=\"logs\",\n",
        ")"
      ],
      "metadata": {
        "id": "iTVVxljMlIZ_"
      },
      "execution_count": null,
      "outputs": [],
      "id": "iTVVxljMlIZ_"
    },
    {
      "cell_type": "code",
      "source": [
        "history = model.fit(\n",
        "    x = x_train,\n",
        "    y= y_train,\n",
        "    batch_size=32,\n",
        "    epochs=30,\n",
        "    validation_data = (x_val, y_val),\n",
        "    callbacks= [\n",
        "        rlrop,\n",
        "        es,\n",
        "        mc\n",
        "    ]\n",
        ")"
      ],
      "metadata": {
        "colab": {
          "base_uri": "https://localhost:8080/"
        },
        "outputId": "b9c58e4c-ad3d-4075-b684-27a356fb716e",
        "id": "3yIk427SlIZ_"
      },
      "execution_count": null,
      "outputs": [
        {
          "output_type": "stream",
          "name": "stdout",
          "text": [
            "Epoch 1/30\n",
            "\u001b[1m1407/1407\u001b[0m \u001b[32m━━━━━━━━━━━━━━━━━━━━\u001b[0m\u001b[37m\u001b[0m \u001b[1m0s\u001b[0m 69ms/step - accuracy: 0.1025 - loss: 4.1035\n",
            "Epoch 1: val_accuracy improved from -inf to 0.11760, saving model to best_weights.weights.h5\n",
            "\u001b[1m1407/1407\u001b[0m \u001b[32m━━━━━━━━━━━━━━━━━━━━\u001b[0m\u001b[37m\u001b[0m \u001b[1m105s\u001b[0m 71ms/step - accuracy: 0.1025 - loss: 4.1033 - val_accuracy: 0.1176 - val_loss: 3.9634 - learning_rate: 0.0010\n",
            "Epoch 2/30\n",
            "\u001b[1m1407/1407\u001b[0m \u001b[32m━━━━━━━━━━━━━━━━━━━━\u001b[0m\u001b[37m\u001b[0m \u001b[1m0s\u001b[0m 66ms/step - accuracy: 0.2020 - loss: 3.3488\n",
            "Epoch 2: val_accuracy improved from 0.11760 to 0.19160, saving model to best_weights.weights.h5\n",
            "\u001b[1m1407/1407\u001b[0m \u001b[32m━━━━━━━━━━━━━━━━━━━━\u001b[0m\u001b[37m\u001b[0m \u001b[1m138s\u001b[0m 68ms/step - accuracy: 0.2020 - loss: 3.3488 - val_accuracy: 0.1916 - val_loss: 3.4600 - learning_rate: 0.0010\n",
            "Epoch 3/30\n",
            "\u001b[1m1406/1407\u001b[0m \u001b[32m━━━━━━━━━━━━━━━━━━━\u001b[0m\u001b[37m━\u001b[0m \u001b[1m0s\u001b[0m 70ms/step - accuracy: 0.2534 - loss: 3.0538\n",
            "Epoch 3: val_accuracy did not improve from 0.19160\n",
            "\u001b[1m1407/1407\u001b[0m \u001b[32m━━━━━━━━━━━━━━━━━━━━\u001b[0m\u001b[37m\u001b[0m \u001b[1m146s\u001b[0m 71ms/step - accuracy: 0.2534 - loss: 3.0539 - val_accuracy: 0.1758 - val_loss: 3.4676 - learning_rate: 0.0010\n",
            "Epoch 4/30\n",
            "\u001b[1m1407/1407\u001b[0m \u001b[32m━━━━━━━━━━━━━━━━━━━━\u001b[0m\u001b[37m\u001b[0m \u001b[1m0s\u001b[0m 67ms/step - accuracy: 0.2929 - loss: 2.8480\n",
            "Epoch 4: val_accuracy improved from 0.19160 to 0.19380, saving model to best_weights.weights.h5\n",
            "\u001b[1m1407/1407\u001b[0m \u001b[32m━━━━━━━━━━━━━━━━━━━━\u001b[0m\u001b[37m\u001b[0m \u001b[1m140s\u001b[0m 69ms/step - accuracy: 0.2929 - loss: 2.8480 - val_accuracy: 0.1938 - val_loss: 3.3778 - learning_rate: 0.0010\n",
            "Epoch 5/30\n",
            "\u001b[1m1407/1407\u001b[0m \u001b[32m━━━━━━━━━━━━━━━━━━━━\u001b[0m\u001b[37m\u001b[0m \u001b[1m0s\u001b[0m 69ms/step - accuracy: 0.3316 - loss: 2.6399\n",
            "Epoch 5: val_accuracy improved from 0.19380 to 0.22460, saving model to best_weights.weights.h5\n",
            "\u001b[1m1407/1407\u001b[0m \u001b[32m━━━━━━━━━━━━━━━━━━━━\u001b[0m\u001b[37m\u001b[0m \u001b[1m144s\u001b[0m 70ms/step - accuracy: 0.3316 - loss: 2.6399 - val_accuracy: 0.2246 - val_loss: 3.2698 - learning_rate: 0.0010\n",
            "Epoch 6/30\n",
            "\u001b[1m1407/1407\u001b[0m \u001b[32m━━━━━━━━━━━━━━━━━━━━\u001b[0m\u001b[37m\u001b[0m \u001b[1m0s\u001b[0m 72ms/step - accuracy: 0.3733 - loss: 2.4271\n",
            "Epoch 6: val_accuracy did not improve from 0.22460\n",
            "\u001b[1m1407/1407\u001b[0m \u001b[32m━━━━━━━━━━━━━━━━━━━━\u001b[0m\u001b[37m\u001b[0m \u001b[1m107s\u001b[0m 76ms/step - accuracy: 0.3733 - loss: 2.4272 - val_accuracy: 0.2138 - val_loss: 3.3788 - learning_rate: 0.0010\n",
            "Epoch 7/30\n",
            "\u001b[1m1407/1407\u001b[0m \u001b[32m━━━━━━━━━━━━━━━━━━━━\u001b[0m\u001b[37m\u001b[0m \u001b[1m0s\u001b[0m 68ms/step - accuracy: 0.4238 - loss: 2.2117\n",
            "Epoch 7: val_accuracy did not improve from 0.22460\n",
            "\u001b[1m1407/1407\u001b[0m \u001b[32m━━━━━━━━━━━━━━━━━━━━\u001b[0m\u001b[37m\u001b[0m \u001b[1m133s\u001b[0m 70ms/step - accuracy: 0.4238 - loss: 2.2117 - val_accuracy: 0.2066 - val_loss: 3.4640 - learning_rate: 0.0010\n",
            "Epoch 8/30\n",
            "\u001b[1m1406/1407\u001b[0m \u001b[32m━━━━━━━━━━━━━━━━━━━\u001b[0m\u001b[37m━\u001b[0m \u001b[1m0s\u001b[0m 71ms/step - accuracy: 0.4681 - loss: 2.0172\n",
            "Epoch 8: val_accuracy did not improve from 0.22460\n",
            "\u001b[1m1407/1407\u001b[0m \u001b[32m━━━━━━━━━━━━━━━━━━━━\u001b[0m\u001b[37m\u001b[0m \u001b[1m146s\u001b[0m 73ms/step - accuracy: 0.4681 - loss: 2.0172 - val_accuracy: 0.2078 - val_loss: 3.6045 - learning_rate: 0.0010\n",
            "Epoch 9/30\n",
            "\u001b[1m1406/1407\u001b[0m \u001b[32m━━━━━━━━━━━━━━━━━━━\u001b[0m\u001b[37m━\u001b[0m \u001b[1m0s\u001b[0m 70ms/step - accuracy: 0.5192 - loss: 1.7945\n",
            "Epoch 9: val_accuracy improved from 0.22460 to 0.23380, saving model to best_weights.weights.h5\n",
            "\u001b[1m1407/1407\u001b[0m \u001b[32m━━━━━━━━━━━━━━━━━━━━\u001b[0m\u001b[37m\u001b[0m \u001b[1m140s\u001b[0m 72ms/step - accuracy: 0.5191 - loss: 1.7946 - val_accuracy: 0.2338 - val_loss: 3.4929 - learning_rate: 0.0010\n",
            "Epoch 10/30\n",
            "\u001b[1m1407/1407\u001b[0m \u001b[32m━━━━━━━━━━━━━━━━━━━━\u001b[0m\u001b[37m\u001b[0m \u001b[1m0s\u001b[0m 67ms/step - accuracy: 0.5728 - loss: 1.6003\n",
            "Epoch 10: val_accuracy did not improve from 0.23380\n",
            "\u001b[1m1407/1407\u001b[0m \u001b[32m━━━━━━━━━━━━━━━━━━━━\u001b[0m\u001b[37m\u001b[0m \u001b[1m138s\u001b[0m 69ms/step - accuracy: 0.5728 - loss: 1.6003 - val_accuracy: 0.2008 - val_loss: 4.0880 - learning_rate: 0.0010\n",
            "Epoch 11/30\n",
            "\u001b[1m1406/1407\u001b[0m \u001b[32m━━━━━━━━━━━━━━━━━━━\u001b[0m\u001b[37m━\u001b[0m \u001b[1m0s\u001b[0m 70ms/step - accuracy: 0.6206 - loss: 1.3979\n",
            "Epoch 11: val_accuracy did not improve from 0.23380\n",
            "\u001b[1m1407/1407\u001b[0m \u001b[32m━━━━━━━━━━━━━━━━━━━━\u001b[0m\u001b[37m\u001b[0m \u001b[1m145s\u001b[0m 71ms/step - accuracy: 0.6205 - loss: 1.3980 - val_accuracy: 0.2268 - val_loss: 3.8651 - learning_rate: 0.0010\n",
            "Epoch 12/30\n",
            "\u001b[1m1407/1407\u001b[0m \u001b[32m━━━━━━━━━━━━━━━━━━━━\u001b[0m\u001b[37m\u001b[0m \u001b[1m0s\u001b[0m 68ms/step - accuracy: 0.6619 - loss: 1.2340\n",
            "Epoch 12: val_accuracy did not improve from 0.23380\n",
            "\u001b[1m1407/1407\u001b[0m \u001b[32m━━━━━━━━━━━━━━━━━━━━\u001b[0m\u001b[37m\u001b[0m \u001b[1m97s\u001b[0m 69ms/step - accuracy: 0.6619 - loss: 1.2340 - val_accuracy: 0.2086 - val_loss: 4.2101 - learning_rate: 0.0010\n",
            "Epoch 13/30\n",
            "\u001b[1m1406/1407\u001b[0m \u001b[32m━━━━━━━━━━━━━━━━━━━\u001b[0m\u001b[37m━\u001b[0m \u001b[1m0s\u001b[0m 67ms/step - accuracy: 0.6984 - loss: 1.0866\n",
            "Epoch 13: val_accuracy did not improve from 0.23380\n",
            "\u001b[1m1407/1407\u001b[0m \u001b[32m━━━━━━━━━━━━━━━━━━━━\u001b[0m\u001b[37m\u001b[0m \u001b[1m141s\u001b[0m 68ms/step - accuracy: 0.6984 - loss: 1.0867 - val_accuracy: 0.2026 - val_loss: 4.3132 - learning_rate: 0.0010\n",
            "Epoch 14/30\n",
            "\u001b[1m1407/1407\u001b[0m \u001b[32m━━━━━━━━━━━━━━━━━━━━\u001b[0m\u001b[37m\u001b[0m \u001b[1m0s\u001b[0m 69ms/step - accuracy: 0.7321 - loss: 0.9512\n",
            "Epoch 14: val_accuracy did not improve from 0.23380\n",
            "\u001b[1m1407/1407\u001b[0m \u001b[32m━━━━━━━━━━━━━━━━━━━━\u001b[0m\u001b[37m\u001b[0m \u001b[1m145s\u001b[0m 70ms/step - accuracy: 0.7320 - loss: 0.9512 - val_accuracy: 0.2216 - val_loss: 4.4337 - learning_rate: 0.0010\n",
            "Epoch 15/30\n",
            "\u001b[1m1407/1407\u001b[0m \u001b[32m━━━━━━━━━━━━━━━━━━━━\u001b[0m\u001b[37m\u001b[0m \u001b[1m0s\u001b[0m 69ms/step - accuracy: 0.7552 - loss: 0.8511\n",
            "Epoch 15: val_accuracy did not improve from 0.23380\n",
            "\u001b[1m1407/1407\u001b[0m \u001b[32m━━━━━━━━━━━━━━━━━━━━\u001b[0m\u001b[37m\u001b[0m \u001b[1m143s\u001b[0m 71ms/step - accuracy: 0.7552 - loss: 0.8512 - val_accuracy: 0.1934 - val_loss: 4.7986 - learning_rate: 0.0010\n",
            "Epoch 16/30\n",
            "\u001b[1m1407/1407\u001b[0m \u001b[32m━━━━━━━━━━━━━━━━━━━━\u001b[0m\u001b[37m\u001b[0m \u001b[1m0s\u001b[0m 70ms/step - accuracy: 0.7844 - loss: 0.7616\n",
            "Epoch 16: val_accuracy did not improve from 0.23380\n",
            "\u001b[1m1407/1407\u001b[0m \u001b[32m━━━━━━━━━━━━━━━━━━━━\u001b[0m\u001b[37m\u001b[0m \u001b[1m142s\u001b[0m 71ms/step - accuracy: 0.7844 - loss: 0.7617 - val_accuracy: 0.2192 - val_loss: 4.7856 - learning_rate: 0.0010\n",
            "Epoch 16: early stopping\n",
            "Restoring model weights from the end of the best epoch: 9.\n"
          ]
        }
      ],
      "id": "3yIk427SlIZ_"
    },
    {
      "cell_type": "code",
      "source": [
        "plt.plot(history.history[\"loss\"], color = 'blue')\n",
        "plt.plot(history.history[\"val_loss\"], color = 'orange')"
      ],
      "metadata": {
        "colab": {
          "base_uri": "https://localhost:8080/",
          "height": 447
        },
        "outputId": "52f34334-1077-4d93-901c-0b7f669d7366",
        "id": "gCUDxKFLlIZ_"
      },
      "execution_count": null,
      "outputs": [
        {
          "output_type": "execute_result",
          "data": {
            "text/plain": [
              "[<matplotlib.lines.Line2D at 0x7d651fafeb90>]"
            ]
          },
          "metadata": {},
          "execution_count": 22
        },
        {
          "output_type": "display_data",
          "data": {
            "text/plain": [
              "<Figure size 640x480 with 1 Axes>"
            ],
            "image/png": "[encoded data removed]"
          },
          "metadata": {}
        }
      ],
      "id": "gCUDxKFLlIZ_"
    },
    {
      "cell_type": "code",
      "source": [
        "plt.plot(history.history[\"accuracy\"], color = 'blue')\n",
        "plt.plot(history.history[\"val_accuracy\"], color = 'orange')"
      ],
      "metadata": {
        "colab": {
          "base_uri": "https://localhost:8080/",
          "height": 447
        },
        "outputId": "0790a26b-2bfe-4c38-8052-d0abbd9bef59",
        "id": "YZwW7W8XlIaA"
      },
      "execution_count": null,
      "outputs": [
        {
          "output_type": "execute_result",
          "data": {
            "text/plain": [
              "[<matplotlib.lines.Line2D at 0x7d651df1bc40>]"
            ]
          },
          "metadata": {},
          "execution_count": 23
        },
        {
          "output_type": "display_data",
          "data": {
            "text/plain": [
              "<Figure size 640x480 with 1 Axes>"
            ],
            "image/png": "[encoded data removed]"
          },
          "metadata": {}
        }
      ],
      "id": "YZwW7W8XlIaA"
    },
    {
      "cell_type": "markdown",
      "source": [
        "# Prueba 4"
      ],
      "metadata": {
        "id": "bCWqsAbBzRQG"
      },
      "id": "bCWqsAbBzRQG"
    },
    {
      "cell_type": "code",
      "source": [
        "model = Sequential()\n",
        "model.add(Flatten(input_shape=(32,32,3)))\n",
        "model.add(Dense(1000), max_norm(10))\n",
        "model.add(BatchNormalization())\n",
        "model.add(Activation(\"relu\"))\n",
        "model.add(Dense(1000), max_norm(10))\n",
        "model.add(BatchNormalization())\n",
        "model.add(Activation(\"relu\"))\n",
        "model.add(Dense(1000), max_norm(10))\n",
        "model.add(BatchNormalization())\n",
        "model.add(Activation(\"relu\"))\n",
        "model.add(Dense(1000), max_norm(10))\n",
        "model.add(BatchNormalization())\n",
        "model.add(Activation(\"relu\"))\n",
        "model.add(Dense(100, activation=\"softmax\"))\n",
        "model.compile(loss=\"sparse_categorical_crossentropy\", metrics = [\"accuracy\"], optimizer = Adam(learning_rate=0.001))"
      ],
      "metadata": {
        "id": "kf5-zWmzzRQH"
      },
      "execution_count": null,
      "outputs": [],
      "id": "kf5-zWmzzRQH"
    },
    {
      "cell_type": "code",
      "source": [
        "model.summary()"
      ],
      "metadata": {
        "colab": {
          "base_uri": "https://localhost:8080/",
          "height": 641
        },
        "outputId": "9a36b650-0d50-4c0c-a58d-ecb701afa99b",
        "id": "gvO57n3fzRQH"
      },
      "execution_count": null,
      "outputs": [
        {
          "output_type": "display_data",
          "data": {
            "text/plain": [
              "\u001b[1mModel: \"sequential_7\"\u001b[0m\n"
            ],
            "text/html": [
              "<pre style=\"white-space:pre;overflow-x:auto;line-height:normal;font-family:Menlo,'DejaVu Sans Mono',consolas,'Courier New',monospace\"><span style=\"font-weight: bold\">Model: \"sequential_7\"</span>\n",
              "</pre>\n"
            ]
          },
          "metadata": {}
        },
        {
          "output_type": "display_data",
          "data": {
            "text/plain": [
              "┏━━━━━━━━━━━━━━━━━━━━━━━━━━━━━━━━━━━━━━┳━━━━━━━━━━━━━━━━━━━━━━━━━━━━━┳━━━━━━━━━━━━━━━━━┓\n",
              "┃\u001b[1m \u001b[0m\u001b[1mLayer (type)                        \u001b[0m\u001b[1m \u001b[0m┃\u001b[1m \u001b[0m\u001b[1mOutput Shape               \u001b[0m\u001b[1m \u001b[0m┃\u001b[1m \u001b[0m\u001b[1m        Param #\u001b[0m\u001b[1m \u001b[0m┃\n",
              "┡━━━━━━━━━━━━━━━━━━━━━━━━━━━━━━━━━━━━━━╇━━━━━━━━━━━━━━━━━━━━━━━━━━━━━╇━━━━━━━━━━━━━━━━━┩\n",
              "│ flatten_7 (\u001b[38;5;33mFlatten\u001b[0m)                  │ (\u001b[38;5;45mNone\u001b[0m, \u001b[38;5;34m3072\u001b[0m)                │               \u001b[38;5;34m0\u001b[0m │\n",
              "├──────────────────────────────────────┼─────────────────────────────┼─────────────────┤\n",
              "│ dense_32 (\u001b[38;5;33mDense\u001b[0m)                     │ (\u001b[38;5;45mNone\u001b[0m, \u001b[38;5;34m1000\u001b[0m)                │       \u001b[38;5;34m3,073,000\u001b[0m │\n",
              "├──────────────────────────────────────┼─────────────────────────────┼─────────────────┤\n",
              "│ batch_normalization_25               │ (\u001b[38;5;45mNone\u001b[0m, \u001b[38;5;34m1000\u001b[0m)                │           \u001b[38;5;34m4,000\u001b[0m │\n",
              "│ (\u001b[38;5;33mBatchNormalization\u001b[0m)                 │                             │                 │\n",
              "├──────────────────────────────────────┼─────────────────────────────┼─────────────────┤\n",
              "│ activation_25 (\u001b[38;5;33mActivation\u001b[0m)           │ (\u001b[38;5;45mNone\u001b[0m, \u001b[38;5;34m1000\u001b[0m)                │               \u001b[38;5;34m0\u001b[0m │\n",
              "├──────────────────────────────────────┼─────────────────────────────┼─────────────────┤\n",
              "│ dense_33 (\u001b[38;5;33mDense\u001b[0m)                     │ (\u001b[38;5;45mNone\u001b[0m, \u001b[38;5;34m1000\u001b[0m)                │       \u001b[38;5;34m1,001,000\u001b[0m │\n",
              "├──────────────────────────────────────┼─────────────────────────────┼─────────────────┤\n",
              "│ batch_normalization_26               │ (\u001b[38;5;45mNone\u001b[0m, \u001b[38;5;34m1000\u001b[0m)                │           \u001b[38;5;34m4,000\u001b[0m │\n",
              "│ (\u001b[38;5;33mBatchNormalization\u001b[0m)                 │                             │                 │\n",
              "├──────────────────────────────────────┼─────────────────────────────┼─────────────────┤\n",
              "│ activation_26 (\u001b[38;5;33mActivation\u001b[0m)           │ (\u001b[38;5;45mNone\u001b[0m, \u001b[38;5;34m1000\u001b[0m)                │               \u001b[38;5;34m0\u001b[0m │\n",
              "├──────────────────────────────────────┼─────────────────────────────┼─────────────────┤\n",
              "│ dense_34 (\u001b[38;5;33mDense\u001b[0m)                     │ (\u001b[38;5;45mNone\u001b[0m, \u001b[38;5;34m1000\u001b[0m)                │       \u001b[38;5;34m1,001,000\u001b[0m │\n",
              "├──────────────────────────────────────┼─────────────────────────────┼─────────────────┤\n",
              "│ batch_normalization_27               │ (\u001b[38;5;45mNone\u001b[0m, \u001b[38;5;34m1000\u001b[0m)                │           \u001b[38;5;34m4,000\u001b[0m │\n",
              "│ (\u001b[38;5;33mBatchNormalization\u001b[0m)                 │                             │                 │\n",
              "├──────────────────────────────────────┼─────────────────────────────┼─────────────────┤\n",
              "│ activation_27 (\u001b[38;5;33mActivation\u001b[0m)           │ (\u001b[38;5;45mNone\u001b[0m, \u001b[38;5;34m1000\u001b[0m)                │               \u001b[38;5;34m0\u001b[0m │\n",
              "├──────────────────────────────────────┼─────────────────────────────┼─────────────────┤\n",
              "│ dense_35 (\u001b[38;5;33mDense\u001b[0m)                     │ (\u001b[38;5;45mNone\u001b[0m, \u001b[38;5;34m1000\u001b[0m)                │       \u001b[38;5;34m1,001,000\u001b[0m │\n",
              "├──────────────────────────────────────┼─────────────────────────────┼─────────────────┤\n",
              "│ batch_normalization_28               │ (\u001b[38;5;45mNone\u001b[0m, \u001b[38;5;34m1000\u001b[0m)                │           \u001b[38;5;34m4,000\u001b[0m │\n",
              "│ (\u001b[38;5;33mBatchNormalization\u001b[0m)                 │                             │                 │\n",
              "├──────────────────────────────────────┼─────────────────────────────┼─────────────────┤\n",
              "│ activation_28 (\u001b[38;5;33mActivation\u001b[0m)           │ (\u001b[38;5;45mNone\u001b[0m, \u001b[38;5;34m1000\u001b[0m)                │               \u001b[38;5;34m0\u001b[0m │\n",
              "├──────────────────────────────────────┼─────────────────────────────┼─────────────────┤\n",
              "│ dense_36 (\u001b[38;5;33mDense\u001b[0m)                     │ (\u001b[38;5;45mNone\u001b[0m, \u001b[38;5;34m100\u001b[0m)                 │         \u001b[38;5;34m100,100\u001b[0m │\n",
              "└──────────────────────────────────────┴─────────────────────────────┴─────────────────┘\n"
            ],
            "text/html": [
              "<pre style=\"white-space:pre;overflow-x:auto;line-height:normal;font-family:Menlo,'DejaVu Sans Mono',consolas,'Courier New',monospace\">┏━━━━━━━━━━━━━━━━━━━━━━━━━━━━━━━━━━━━━━┳━━━━━━━━━━━━━━━━━━━━━━━━━━━━━┳━━━━━━━━━━━━━━━━━┓\n",
              "┃<span style=\"font-weight: bold\"> Layer (type)                         </span>┃<span style=\"font-weight: bold\"> Output Shape                </span>┃<span style=\"font-weight: bold\">         Param # </span>┃\n",
              "┡━━━━━━━━━━━━━━━━━━━━━━━━━━━━━━━━━━━━━━╇━━━━━━━━━━━━━━━━━━━━━━━━━━━━━╇━━━━━━━━━━━━━━━━━┩\n",
              "│ flatten_7 (<span style=\"color: #0087ff; text-decoration-color: #0087ff\">Flatten</span>)                  │ (<span style=\"color: #00d7ff; text-decoration-color: #00d7ff\">None</span>, <span style=\"color: #00af00; text-decoration-color: #00af00\">3072</span>)                │               <span style=\"color: #00af00; text-decoration-color: #00af00\">0</span> │\n",
              "├──────────────────────────────────────┼─────────────────────────────┼─────────────────┤\n",
              "│ dense_32 (<span style=\"color: #0087ff; text-decoration-color: #0087ff\">Dense</span>)                     │ (<span style=\"color: #00d7ff; text-decoration-color: #00d7ff\">None</span>, <span style=\"color: #00af00; text-decoration-color: #00af00\">1000</span>)                │       <span style=\"color: #00af00; text-decoration-color: #00af00\">3,073,000</span> │\n",
              "├──────────────────────────────────────┼─────────────────────────────┼─────────────────┤\n",
              "│ batch_normalization_25               │ (<span style=\"color: #00d7ff; text-decoration-color: #00d7ff\">None</span>, <span style=\"color: #00af00; text-decoration-color: #00af00\">1000</span>)                │           <span style=\"color: #00af00; text-decoration-color: #00af00\">4,000</span> │\n",
              "│ (<span style=\"color: #0087ff; text-decoration-color: #0087ff\">BatchNormalization</span>)                 │                             │                 │\n",
              "├──────────────────────────────────────┼─────────────────────────────┼─────────────────┤\n",
              "│ activation_25 (<span style=\"color: #0087ff; text-decoration-color: #0087ff\">Activation</span>)           │ (<span style=\"color: #00d7ff; text-decoration-color: #00d7ff\">None</span>, <span style=\"color: #00af00; text-decoration-color: #00af00\">1000</span>)                │               <span style=\"color: #00af00; text-decoration-color: #00af00\">0</span> │\n",
              "├──────────────────────────────────────┼─────────────────────────────┼─────────────────┤\n",
              "│ dense_33 (<span style=\"color: #0087ff; text-decoration-color: #0087ff\">Dense</span>)                     │ (<span style=\"color: #00d7ff; text-decoration-color: #00d7ff\">None</span>, <span style=\"color: #00af00; text-decoration-color: #00af00\">1000</span>)                │       <span style=\"color: #00af00; text-decoration-color: #00af00\">1,001,000</span> │\n",
              "├──────────────────────────────────────┼─────────────────────────────┼─────────────────┤\n",
              "│ batch_normalization_26               │ (<span style=\"color: #00d7ff; text-decoration-color: #00d7ff\">None</span>, <span style=\"color: #00af00; text-decoration-color: #00af00\">1000</span>)                │           <span style=\"color: #00af00; text-decoration-color: #00af00\">4,000</span> │\n",
              "│ (<span style=\"color: #0087ff; text-decoration-color: #0087ff\">BatchNormalization</span>)                 │                             │                 │\n",
              "├──────────────────────────────────────┼─────────────────────────────┼─────────────────┤\n",
              "│ activation_26 (<span style=\"color: #0087ff; text-decoration-color: #0087ff\">Activation</span>)           │ (<span style=\"color: #00d7ff; text-decoration-color: #00d7ff\">None</span>, <span style=\"color: #00af00; text-decoration-color: #00af00\">1000</span>)                │               <span style=\"color: #00af00; text-decoration-color: #00af00\">0</span> │\n",
              "├──────────────────────────────────────┼─────────────────────────────┼─────────────────┤\n",
              "│ dense_34 (<span style=\"color: #0087ff; text-decoration-color: #0087ff\">Dense</span>)                     │ (<span style=\"color: #00d7ff; text-decoration-color: #00d7ff\">None</span>, <span style=\"color: #00af00; text-decoration-color: #00af00\">1000</span>)                │       <span style=\"color: #00af00; text-decoration-color: #00af00\">1,001,000</span> │\n",
              "├──────────────────────────────────────┼─────────────────────────────┼─────────────────┤\n",
              "│ batch_normalization_27               │ (<span style=\"color: #00d7ff; text-decoration-color: #00d7ff\">None</span>, <span style=\"color: #00af00; text-decoration-color: #00af00\">1000</span>)                │           <span style=\"color: #00af00; text-decoration-color: #00af00\">4,000</span> │\n",
              "│ (<span style=\"color: #0087ff; text-decoration-color: #0087ff\">BatchNormalization</span>)                 │                             │                 │\n",
              "├──────────────────────────────────────┼─────────────────────────────┼─────────────────┤\n",
              "│ activation_27 (<span style=\"color: #0087ff; text-decoration-color: #0087ff\">Activation</span>)           │ (<span style=\"color: #00d7ff; text-decoration-color: #00d7ff\">None</span>, <span style=\"color: #00af00; text-decoration-color: #00af00\">1000</span>)                │               <span style=\"color: #00af00; text-decoration-color: #00af00\">0</span> │\n",
              "├──────────────────────────────────────┼─────────────────────────────┼─────────────────┤\n",
              "│ dense_35 (<span style=\"color: #0087ff; text-decoration-color: #0087ff\">Dense</span>)                     │ (<span style=\"color: #00d7ff; text-decoration-color: #00d7ff\">None</span>, <span style=\"color: #00af00; text-decoration-color: #00af00\">1000</span>)                │       <span style=\"color: #00af00; text-decoration-color: #00af00\">1,001,000</span> │\n",
              "├──────────────────────────────────────┼─────────────────────────────┼─────────────────┤\n",
              "│ batch_normalization_28               │ (<span style=\"color: #00d7ff; text-decoration-color: #00d7ff\">None</span>, <span style=\"color: #00af00; text-decoration-color: #00af00\">1000</span>)                │           <span style=\"color: #00af00; text-decoration-color: #00af00\">4,000</span> │\n",
              "│ (<span style=\"color: #0087ff; text-decoration-color: #0087ff\">BatchNormalization</span>)                 │                             │                 │\n",
              "├──────────────────────────────────────┼─────────────────────────────┼─────────────────┤\n",
              "│ activation_28 (<span style=\"color: #0087ff; text-decoration-color: #0087ff\">Activation</span>)           │ (<span style=\"color: #00d7ff; text-decoration-color: #00d7ff\">None</span>, <span style=\"color: #00af00; text-decoration-color: #00af00\">1000</span>)                │               <span style=\"color: #00af00; text-decoration-color: #00af00\">0</span> │\n",
              "├──────────────────────────────────────┼─────────────────────────────┼─────────────────┤\n",
              "│ dense_36 (<span style=\"color: #0087ff; text-decoration-color: #0087ff\">Dense</span>)                     │ (<span style=\"color: #00d7ff; text-decoration-color: #00d7ff\">None</span>, <span style=\"color: #00af00; text-decoration-color: #00af00\">100</span>)                 │         <span style=\"color: #00af00; text-decoration-color: #00af00\">100,100</span> │\n",
              "└──────────────────────────────────────┴─────────────────────────────┴─────────────────┘\n",
              "</pre>\n"
            ]
          },
          "metadata": {}
        },
        {
          "output_type": "display_data",
          "data": {
            "text/plain": [
              "\u001b[1m Total params: \u001b[0m\u001b[38;5;34m6,192,100\u001b[0m (23.62 MB)\n"
            ],
            "text/html": [
              "<pre style=\"white-space:pre;overflow-x:auto;line-height:normal;font-family:Menlo,'DejaVu Sans Mono',consolas,'Courier New',monospace\"><span style=\"font-weight: bold\"> Total params: </span><span style=\"color: #00af00; text-decoration-color: #00af00\">6,192,100</span> (23.62 MB)\n",
              "</pre>\n"
            ]
          },
          "metadata": {}
        },
        {
          "output_type": "display_data",
          "data": {
            "text/plain": [
              "\u001b[1m Trainable params: \u001b[0m\u001b[38;5;34m6,184,100\u001b[0m (23.59 MB)\n"
            ],
            "text/html": [
              "<pre style=\"white-space:pre;overflow-x:auto;line-height:normal;font-family:Menlo,'DejaVu Sans Mono',consolas,'Courier New',monospace\"><span style=\"font-weight: bold\"> Trainable params: </span><span style=\"color: #00af00; text-decoration-color: #00af00\">6,184,100</span> (23.59 MB)\n",
              "</pre>\n"
            ]
          },
          "metadata": {}
        },
        {
          "output_type": "display_data",
          "data": {
            "text/plain": [
              "\u001b[1m Non-trainable params: \u001b[0m\u001b[38;5;34m8,000\u001b[0m (31.25 KB)\n"
            ],
            "text/html": [
              "<pre style=\"white-space:pre;overflow-x:auto;line-height:normal;font-family:Menlo,'DejaVu Sans Mono',consolas,'Courier New',monospace\"><span style=\"font-weight: bold\"> Non-trainable params: </span><span style=\"color: #00af00; text-decoration-color: #00af00\">8,000</span> (31.25 KB)\n",
              "</pre>\n"
            ]
          },
          "metadata": {}
        }
      ],
      "id": "gvO57n3fzRQH"
    },
    {
      "cell_type": "code",
      "source": [
        "rlrop = ReduceLROnPlateau(\n",
        "    monitor = \"val_accuracy\",\n",
        "    factor = 0.5,\n",
        "    patience = 10,\n",
        "    verbose = 1,\n",
        "    min_lr = 1e-5\n",
        ")"
      ],
      "metadata": {
        "id": "Z5y4YkcQzRQI"
      },
      "execution_count": null,
      "outputs": [],
      "id": "Z5y4YkcQzRQI"
    },
    {
      "cell_type": "code",
      "source": [
        "mc = ModelCheckpoint(\n",
        "    \"best_weights.weights.h5\",\n",
        "    monitor = \"val_accuracy\",\n",
        "    verbose = 1,\n",
        "    save_best_only = True,\n",
        "    save_weights_only = True,\n",
        ")"
      ],
      "metadata": {
        "id": "8_oLNa3jzRQI"
      },
      "execution_count": null,
      "outputs": [],
      "id": "8_oLNa3jzRQI"
    },
    {
      "cell_type": "code",
      "source": [
        "es = EarlyStopping(\n",
        "    monitor = \"val_accuracy\",\n",
        "    patience = 8,\n",
        "    verbose = 1,\n",
        "    restore_best_weights = True,\n",
        ")"
      ],
      "metadata": {
        "id": "LJcm0ZdIzRQI"
      },
      "execution_count": null,
      "outputs": [],
      "id": "LJcm0ZdIzRQI"
    },
    {
      "cell_type": "code",
      "source": [
        "tb = TensorBoard(\n",
        "    log_dir=\"logs\",\n",
        ")"
      ],
      "metadata": {
        "id": "M6H35n-xzRQI"
      },
      "execution_count": null,
      "outputs": [],
      "id": "M6H35n-xzRQI"
    },
    {
      "cell_type": "code",
      "source": [
        "history = model.fit(\n",
        "    x = x_train,\n",
        "    y= y_train,\n",
        "    batch_size=16,\n",
        "    epochs=30,\n",
        "    validation_data = (x_val, y_val),\n",
        "    callbacks= [\n",
        "        rlrop,\n",
        "        es,\n",
        "        mc\n",
        "    ]\n",
        ")"
      ],
      "metadata": {
        "colab": {
          "base_uri": "https://localhost:8080/"
        },
        "outputId": "30ff0257-9196-4e88-de79-183fbbb6af04",
        "id": "QPb5qKauzRQI"
      },
      "execution_count": null,
      "outputs": [
        {
          "output_type": "stream",
          "name": "stdout",
          "text": [
            "Epoch 1/30\n",
            "\u001b[1m2813/2813\u001b[0m \u001b[32m━━━━━━━━━━━━━━━━━━━━\u001b[0m\u001b[37m\u001b[0m \u001b[1m0s\u001b[0m 4ms/step - accuracy: 0.0678 - loss: 4.3531\n",
            "Epoch 1: val_accuracy improved from -inf to 0.13720, saving model to best_weights.weights.h5\n",
            "\u001b[1m2813/2813\u001b[0m \u001b[32m━━━━━━━━━━━━━━━━━━━━\u001b[0m\u001b[37m\u001b[0m \u001b[1m17s\u001b[0m 4ms/step - accuracy: 0.0679 - loss: 4.3530 - val_accuracy: 0.1372 - val_loss: 3.6812 - learning_rate: 0.0010\n",
            "Epoch 2/30\n",
            "\u001b[1m2807/2813\u001b[0m \u001b[32m━━━━━━━━━━━━━━━━━━━\u001b[0m\u001b[37m━\u001b[0m \u001b[1m0s\u001b[0m 3ms/step - accuracy: 0.1387 - loss: 3.6701\n",
            "Epoch 2: val_accuracy improved from 0.13720 to 0.16080, saving model to best_weights.weights.h5\n",
            "\u001b[1m2813/2813\u001b[0m \u001b[32m━━━━━━━━━━━━━━━━━━━━\u001b[0m\u001b[37m\u001b[0m \u001b[1m11s\u001b[0m 4ms/step - accuracy: 0.1387 - loss: 3.6700 - val_accuracy: 0.1608 - val_loss: 3.5994 - learning_rate: 0.0010\n",
            "Epoch 3/30\n",
            "\u001b[1m2811/2813\u001b[0m \u001b[32m━━━━━━━━━━━━━━━━━━━\u001b[0m\u001b[37m━\u001b[0m \u001b[1m0s\u001b[0m 3ms/step - accuracy: 0.1727 - loss: 3.4690\n",
            "Epoch 3: val_accuracy improved from 0.16080 to 0.18840, saving model to best_weights.weights.h5\n",
            "\u001b[1m2813/2813\u001b[0m \u001b[32m━━━━━━━━━━━━━━━━━━━━\u001b[0m\u001b[37m\u001b[0m \u001b[1m19s\u001b[0m 4ms/step - accuracy: 0.1727 - loss: 3.4690 - val_accuracy: 0.1884 - val_loss: 3.3943 - learning_rate: 0.0010\n",
            "Epoch 4/30\n",
            "\u001b[1m2807/2813\u001b[0m \u001b[32m━━━━━━━━━━━━━━━━━━━\u001b[0m\u001b[37m━\u001b[0m \u001b[1m0s\u001b[0m 3ms/step - accuracy: 0.1941 - loss: 3.3349\n",
            "Epoch 4: val_accuracy improved from 0.18840 to 0.18920, saving model to best_weights.weights.h5\n",
            "\u001b[1m2813/2813\u001b[0m \u001b[32m━━━━━━━━━━━━━━━━━━━━\u001b[0m\u001b[37m\u001b[0m \u001b[1m21s\u001b[0m 4ms/step - accuracy: 0.1941 - loss: 3.3348 - val_accuracy: 0.1892 - val_loss: 3.4039 - learning_rate: 0.0010\n",
            "Epoch 5/30\n",
            "\u001b[1m2797/2813\u001b[0m \u001b[32m━━━━━━━━━━━━━━━━━━━\u001b[0m\u001b[37m━\u001b[0m \u001b[1m0s\u001b[0m 3ms/step - accuracy: 0.2169 - loss: 3.2006\n",
            "Epoch 5: val_accuracy improved from 0.18920 to 0.22360, saving model to best_weights.weights.h5\n",
            "\u001b[1m2813/2813\u001b[0m \u001b[32m━━━━━━━━━━━━━━━━━━━━\u001b[0m\u001b[37m\u001b[0m \u001b[1m10s\u001b[0m 3ms/step - accuracy: 0.2169 - loss: 3.2007 - val_accuracy: 0.2236 - val_loss: 3.2747 - learning_rate: 0.0010\n",
            "Epoch 6/30\n",
            "\u001b[1m2812/2813\u001b[0m \u001b[32m━━━━━━━━━━━━━━━━━━━\u001b[0m\u001b[37m━\u001b[0m \u001b[1m0s\u001b[0m 3ms/step - accuracy: 0.2349 - loss: 3.0981\n",
            "Epoch 6: val_accuracy did not improve from 0.22360\n",
            "\u001b[1m2813/2813\u001b[0m \u001b[32m━━━━━━━━━━━━━━━━━━━━\u001b[0m\u001b[37m\u001b[0m \u001b[1m11s\u001b[0m 4ms/step - accuracy: 0.2349 - loss: 3.0981 - val_accuracy: 0.2232 - val_loss: 3.2753 - learning_rate: 0.0010\n",
            "Epoch 7/30\n",
            "\u001b[1m2802/2813\u001b[0m \u001b[32m━━━━━━━━━━━━━━━━━━━\u001b[0m\u001b[37m━\u001b[0m \u001b[1m0s\u001b[0m 3ms/step - accuracy: 0.2523 - loss: 3.0027\n",
            "Epoch 7: val_accuracy improved from 0.22360 to 0.23100, saving model to best_weights.weights.h5\n",
            "\u001b[1m2813/2813\u001b[0m \u001b[32m━━━━━━━━━━━━━━━━━━━━\u001b[0m\u001b[37m\u001b[0m \u001b[1m10s\u001b[0m 4ms/step - accuracy: 0.2523 - loss: 3.0027 - val_accuracy: 0.2310 - val_loss: 3.1990 - learning_rate: 0.0010\n",
            "Epoch 8/30\n",
            "\u001b[1m2802/2813\u001b[0m \u001b[32m━━━━━━━━━━━━━━━━━━━\u001b[0m\u001b[37m━\u001b[0m \u001b[1m0s\u001b[0m 3ms/step - accuracy: 0.2758 - loss: 2.8896\n",
            "Epoch 8: val_accuracy improved from 0.23100 to 0.24660, saving model to best_weights.weights.h5\n",
            "\u001b[1m2813/2813\u001b[0m \u001b[32m━━━━━━━━━━━━━━━━━━━━\u001b[0m\u001b[37m\u001b[0m \u001b[1m10s\u001b[0m 4ms/step - accuracy: 0.2757 - loss: 2.8897 - val_accuracy: 0.2466 - val_loss: 3.1881 - learning_rate: 0.0010\n",
            "Epoch 9/30\n",
            "\u001b[1m2798/2813\u001b[0m \u001b[32m━━━━━━━━━━━━━━━━━━━\u001b[0m\u001b[37m━\u001b[0m \u001b[1m0s\u001b[0m 3ms/step - accuracy: 0.2917 - loss: 2.8070\n",
            "Epoch 9: val_accuracy improved from 0.24660 to 0.25660, saving model to best_weights.weights.h5\n",
            "\u001b[1m2813/2813\u001b[0m \u001b[32m━━━━━━━━━━━━━━━━━━━━\u001b[0m\u001b[37m\u001b[0m \u001b[1m20s\u001b[0m 4ms/step - accuracy: 0.2916 - loss: 2.8071 - val_accuracy: 0.2566 - val_loss: 3.1475 - learning_rate: 0.0010\n",
            "Epoch 10/30\n",
            "\u001b[1m2806/2813\u001b[0m \u001b[32m━━━━━━━━━━━━━━━━━━━\u001b[0m\u001b[37m━\u001b[0m \u001b[1m0s\u001b[0m 3ms/step - accuracy: 0.3074 - loss: 2.7154\n",
            "Epoch 10: val_accuracy did not improve from 0.25660\n",
            "\u001b[1m2813/2813\u001b[0m \u001b[32m━━━━━━━━━━━━━━━━━━━━\u001b[0m\u001b[37m\u001b[0m \u001b[1m10s\u001b[0m 4ms/step - accuracy: 0.3074 - loss: 2.7155 - val_accuracy: 0.2554 - val_loss: 3.2218 - learning_rate: 0.0010\n",
            "Epoch 11/30\n",
            "\u001b[1m2811/2813\u001b[0m \u001b[32m━━━━━━━━━━━━━━━━━━━\u001b[0m\u001b[37m━\u001b[0m \u001b[1m0s\u001b[0m 3ms/step - accuracy: 0.3220 - loss: 2.6364\n",
            "Epoch 11: val_accuracy did not improve from 0.25660\n",
            "\u001b[1m2813/2813\u001b[0m \u001b[32m━━━━━━━━━━━━━━━━━━━━\u001b[0m\u001b[37m\u001b[0m \u001b[1m10s\u001b[0m 3ms/step - accuracy: 0.3220 - loss: 2.6364 - val_accuracy: 0.2536 - val_loss: 3.1720 - learning_rate: 0.0010\n",
            "Epoch 12/30\n",
            "\u001b[1m2804/2813\u001b[0m \u001b[32m━━━━━━━━━━━━━━━━━━━\u001b[0m\u001b[37m━\u001b[0m \u001b[1m0s\u001b[0m 3ms/step - accuracy: 0.3363 - loss: 2.5690\n",
            "Epoch 12: val_accuracy improved from 0.25660 to 0.26060, saving model to best_weights.weights.h5\n",
            "\u001b[1m2813/2813\u001b[0m \u001b[32m━━━━━━━━━━━━━━━━━━━━\u001b[0m\u001b[37m\u001b[0m \u001b[1m10s\u001b[0m 3ms/step - accuracy: 0.3363 - loss: 2.5691 - val_accuracy: 0.2606 - val_loss: 3.1428 - learning_rate: 0.0010\n",
            "Epoch 13/30\n",
            "\u001b[1m2809/2813\u001b[0m \u001b[32m━━━━━━━━━━━━━━━━━━━\u001b[0m\u001b[37m━\u001b[0m \u001b[1m0s\u001b[0m 3ms/step - accuracy: 0.3540 - loss: 2.4678\n",
            "Epoch 13: val_accuracy improved from 0.26060 to 0.26160, saving model to best_weights.weights.h5\n",
            "\u001b[1m2813/2813\u001b[0m \u001b[32m━━━━━━━━━━━━━━━━━━━━\u001b[0m\u001b[37m\u001b[0m \u001b[1m10s\u001b[0m 4ms/step - accuracy: 0.3539 - loss: 2.4679 - val_accuracy: 0.2616 - val_loss: 3.2989 - learning_rate: 0.0010\n",
            "Epoch 14/30\n",
            "\u001b[1m2802/2813\u001b[0m \u001b[32m━━━━━━━━━━━━━━━━━━━\u001b[0m\u001b[37m━\u001b[0m \u001b[1m0s\u001b[0m 3ms/step - accuracy: 0.3749 - loss: 2.3811\n",
            "Epoch 14: val_accuracy did not improve from 0.26160\n",
            "\u001b[1m2813/2813\u001b[0m \u001b[32m━━━━━━━━━━━━━━━━━━━━\u001b[0m\u001b[37m\u001b[0m \u001b[1m10s\u001b[0m 4ms/step - accuracy: 0.3748 - loss: 2.3813 - val_accuracy: 0.2598 - val_loss: 3.2947 - learning_rate: 0.0010\n",
            "Epoch 15/30\n",
            "\u001b[1m2805/2813\u001b[0m \u001b[32m━━━━━━━━━━━━━━━━━━━\u001b[0m\u001b[37m━\u001b[0m \u001b[1m0s\u001b[0m 3ms/step - accuracy: 0.3959 - loss: 2.2842\n",
            "Epoch 15: val_accuracy did not improve from 0.26160\n",
            "\u001b[1m2813/2813\u001b[0m \u001b[32m━━━━━━━━━━━━━━━━━━━━\u001b[0m\u001b[37m\u001b[0m \u001b[1m10s\u001b[0m 4ms/step - accuracy: 0.3958 - loss: 2.2844 - val_accuracy: 0.2510 - val_loss: 3.3674 - learning_rate: 0.0010\n",
            "Epoch 16/30\n",
            "\u001b[1m2797/2813\u001b[0m \u001b[32m━━━━━━━━━━━━━━━━━━━\u001b[0m\u001b[37m━\u001b[0m \u001b[1m0s\u001b[0m 3ms/step - accuracy: 0.4076 - loss: 2.2168\n",
            "Epoch 16: val_accuracy improved from 0.26160 to 0.27800, saving model to best_weights.weights.h5\n",
            "\u001b[1m2813/2813\u001b[0m \u001b[32m━━━━━━━━━━━━━━━━━━━━\u001b[0m\u001b[37m\u001b[0m \u001b[1m10s\u001b[0m 4ms/step - accuracy: 0.4076 - loss: 2.2171 - val_accuracy: 0.2780 - val_loss: 3.2471 - learning_rate: 0.0010\n",
            "Epoch 17/30\n",
            "\u001b[1m2802/2813\u001b[0m \u001b[32m━━━━━━━━━━━━━━━━━━━\u001b[0m\u001b[37m━\u001b[0m \u001b[1m0s\u001b[0m 3ms/step - accuracy: 0.4318 - loss: 2.1151\n",
            "Epoch 17: val_accuracy did not improve from 0.27800\n",
            "\u001b[1m2813/2813\u001b[0m \u001b[32m━━━━━━━━━━━━━━━━━━━━\u001b[0m\u001b[37m\u001b[0m \u001b[1m10s\u001b[0m 4ms/step - accuracy: 0.4318 - loss: 2.1153 - val_accuracy: 0.2768 - val_loss: 3.3166 - learning_rate: 0.0010\n",
            "Epoch 18/30\n",
            "\u001b[1m2813/2813\u001b[0m \u001b[32m━━━━━━━━━━━━━━━━━━━━\u001b[0m\u001b[37m\u001b[0m \u001b[1m0s\u001b[0m 3ms/step - accuracy: 0.4479 - loss: 2.0532\n",
            "Epoch 18: val_accuracy did not improve from 0.27800\n",
            "\u001b[1m2813/2813\u001b[0m \u001b[32m━━━━━━━━━━━━━━━━━━━━\u001b[0m\u001b[37m\u001b[0m \u001b[1m10s\u001b[0m 4ms/step - accuracy: 0.4479 - loss: 2.0533 - val_accuracy: 0.2708 - val_loss: 3.3781 - learning_rate: 0.0010\n",
            "Epoch 19/30\n",
            "\u001b[1m2801/2813\u001b[0m \u001b[32m━━━━━━━━━━━━━━━━━━━\u001b[0m\u001b[37m━\u001b[0m \u001b[1m0s\u001b[0m 3ms/step - accuracy: 0.4624 - loss: 1.9673\n",
            "Epoch 19: val_accuracy did not improve from 0.27800\n",
            "\u001b[1m2813/2813\u001b[0m \u001b[32m━━━━━━━━━━━━━━━━━━━━\u001b[0m\u001b[37m\u001b[0m \u001b[1m11s\u001b[0m 4ms/step - accuracy: 0.4624 - loss: 1.9675 - val_accuracy: 0.2414 - val_loss: 3.8665 - learning_rate: 0.0010\n",
            "Epoch 20/30\n",
            "\u001b[1m2803/2813\u001b[0m \u001b[32m━━━━━━━━━━━━━━━━━━━\u001b[0m\u001b[37m━\u001b[0m \u001b[1m0s\u001b[0m 3ms/step - accuracy: 0.4791 - loss: 1.8925\n",
            "Epoch 20: val_accuracy did not improve from 0.27800\n",
            "\u001b[1m2813/2813\u001b[0m \u001b[32m━━━━━━━━━━━━━━━━━━━━\u001b[0m\u001b[37m\u001b[0m \u001b[1m20s\u001b[0m 4ms/step - accuracy: 0.4791 - loss: 1.8927 - val_accuracy: 0.2686 - val_loss: 3.6895 - learning_rate: 0.0010\n",
            "Epoch 21/30\n",
            "\u001b[1m2810/2813\u001b[0m \u001b[32m━━━━━━━━━━━━━━━━━━━\u001b[0m\u001b[37m━\u001b[0m \u001b[1m0s\u001b[0m 3ms/step - accuracy: 0.4975 - loss: 1.8190\n",
            "Epoch 21: val_accuracy did not improve from 0.27800\n",
            "\u001b[1m2813/2813\u001b[0m \u001b[32m━━━━━━━━━━━━━━━━━━━━\u001b[0m\u001b[37m\u001b[0m \u001b[1m20s\u001b[0m 4ms/step - accuracy: 0.4975 - loss: 1.8190 - val_accuracy: 0.2582 - val_loss: 3.8103 - learning_rate: 0.0010\n",
            "Epoch 22/30\n",
            "\u001b[1m2812/2813\u001b[0m \u001b[32m━━━━━━━━━━━━━━━━━━━\u001b[0m\u001b[37m━\u001b[0m \u001b[1m0s\u001b[0m 3ms/step - accuracy: 0.5197 - loss: 1.7306\n",
            "Epoch 22: val_accuracy did not improve from 0.27800\n",
            "\u001b[1m2813/2813\u001b[0m \u001b[32m━━━━━━━━━━━━━━━━━━━━\u001b[0m\u001b[37m\u001b[0m \u001b[1m9s\u001b[0m 3ms/step - accuracy: 0.5197 - loss: 1.7306 - val_accuracy: 0.2596 - val_loss: 3.7597 - learning_rate: 0.0010\n",
            "Epoch 23/30\n",
            "\u001b[1m2809/2813\u001b[0m \u001b[32m━━━━━━━━━━━━━━━━━━━\u001b[0m\u001b[37m━\u001b[0m \u001b[1m0s\u001b[0m 3ms/step - accuracy: 0.5333 - loss: 1.6711\n",
            "Epoch 23: val_accuracy did not improve from 0.27800\n",
            "\u001b[1m2813/2813\u001b[0m \u001b[32m━━━━━━━━━━━━━━━━━━━━\u001b[0m\u001b[37m\u001b[0m \u001b[1m11s\u001b[0m 4ms/step - accuracy: 0.5333 - loss: 1.6712 - val_accuracy: 0.2624 - val_loss: 3.8182 - learning_rate: 0.0010\n",
            "Epoch 24/30\n",
            "\u001b[1m2803/2813\u001b[0m \u001b[32m━━━━━━━━━━━━━━━━━━━\u001b[0m\u001b[37m━\u001b[0m \u001b[1m0s\u001b[0m 3ms/step - accuracy: 0.5524 - loss: 1.5982\n",
            "Epoch 24: val_accuracy did not improve from 0.27800\n",
            "\u001b[1m2813/2813\u001b[0m \u001b[32m━━━━━━━━━━━━━━━━━━━━\u001b[0m\u001b[37m\u001b[0m \u001b[1m10s\u001b[0m 4ms/step - accuracy: 0.5524 - loss: 1.5984 - val_accuracy: 0.2544 - val_loss: 4.1608 - learning_rate: 0.0010\n",
            "Epoch 24: early stopping\n",
            "Restoring model weights from the end of the best epoch: 16.\n"
          ]
        }
      ],
      "id": "QPb5qKauzRQI"
    },
    {
      "cell_type": "code",
      "source": [
        "plt.plot(history.history[\"loss\"], color = 'blue')\n",
        "plt.plot(history.history[\"val_loss\"], color = 'orange')"
      ],
      "metadata": {
        "colab": {
          "base_uri": "https://localhost:8080/",
          "height": 447
        },
        "outputId": "4351807a-227d-4d15-cca1-e4c67e863aaf",
        "id": "IanEi95szRQJ"
      },
      "execution_count": null,
      "outputs": [
        {
          "output_type": "execute_result",
          "data": {
            "text/plain": [
              "[<matplotlib.lines.Line2D at 0x7ddd87dc7160>]"
            ]
          },
          "metadata": {},
          "execution_count": 76
        },
        {
          "output_type": "display_data",
          "data": {
            "text/plain": [
              "<Figure size 640x480 with 1 Axes>"
            ],
            "image/png": "[encoded data removed]"
          },
          "metadata": {}
        }
      ],
      "id": "IanEi95szRQJ"
    },
    {
      "cell_type": "code",
      "source": [
        "plt.plot(history.history[\"accuracy\"], color = 'blue')\n",
        "plt.plot(history.history[\"val_accuracy\"], color = 'orange')"
      ],
      "metadata": {
        "colab": {
          "base_uri": "https://localhost:8080/",
          "height": 447
        },
        "outputId": "e627bbcf-d59a-45e7-8ddc-3ea3316c36b0",
        "id": "vOCze0smzRQJ"
      },
      "execution_count": null,
      "outputs": [
        {
          "output_type": "execute_result",
          "data": {
            "text/plain": [
              "[<matplotlib.lines.Line2D at 0x7ddd89799630>]"
            ]
          },
          "metadata": {},
          "execution_count": 77
        },
        {
          "output_type": "display_data",
          "data": {
            "text/plain": [
              "<Figure size 640x480 with 1 Axes>"
            ],
            "image/png": "[encoded data removed]"
          },
          "metadata": {}
        }
      ],
      "id": "vOCze0smzRQJ"
    },
    {
      "cell_type": "markdown",
      "source": [
        "# Prueba 5"
      ],
      "metadata": {
        "id": "7ooePYxzMS6l"
      },
      "id": "7ooePYxzMS6l"
    },
    {
      "cell_type": "code",
      "source": [
        "model = Sequential()\n",
        "model.add(Flatten(input_shape=(32,32,3)))\n",
        "model.add(Dense(1000), max_norm(10))\n",
        "model.add(BatchNormalization())\n",
        "model.add(Activation(\"relu\"))\n",
        "model.add(Dense(1000), max_norm(10))\n",
        "model.add(BatchNormalization())\n",
        "model.add(Activation(\"relu\"))\n",
        "model.add(Dense(1000), max_norm(10))\n",
        "model.add(BatchNormalization())\n",
        "model.add(Activation(\"relu\"))\n",
        "model.add(Dense(1000), max_norm(10))\n",
        "model.add(BatchNormalization())\n",
        "model.add(Activation(\"relu\"))\n",
        "model.add(Dense(100, activation=\"softmax\"))\n",
        "model.compile(loss=\"sparse_categorical_crossentropy\", metrics = [\"accuracy\"], optimizer = Adam(learning_rate=0.001))"
      ],
      "metadata": {
        "id": "Kl7nFWMoMS6m"
      },
      "execution_count": null,
      "outputs": [],
      "id": "Kl7nFWMoMS6m"
    },
    {
      "cell_type": "code",
      "source": [
        "model.summary()"
      ],
      "metadata": {
        "colab": {
          "base_uri": "https://localhost:8080/",
          "height": 641
        },
        "outputId": "2c0589f6-6b04-4e4d-c0ba-ce8f677a5aa9",
        "id": "RT0dpFAIMS6m"
      },
      "execution_count": null,
      "outputs": [
        {
          "output_type": "display_data",
          "data": {
            "text/plain": [
              "\u001b[1mModel: \"sequential_1\"\u001b[0m\n"
            ],
            "text/html": [
              "<pre style=\"white-space:pre;overflow-x:auto;line-height:normal;font-family:Menlo,'DejaVu Sans Mono',consolas,'Courier New',monospace\"><span style=\"font-weight: bold\">Model: \"sequential_1\"</span>\n",
              "</pre>\n"
            ]
          },
          "metadata": {}
        },
        {
          "output_type": "display_data",
          "data": {
            "text/plain": [
              "┏━━━━━━━━━━━━━━━━━━━━━━━━━━━━━━━━━━━━━━┳━━━━━━━━━━━━━━━━━━━━━━━━━━━━━┳━━━━━━━━━━━━━━━━━┓\n",
              "┃\u001b[1m \u001b[0m\u001b[1mLayer (type)                        \u001b[0m\u001b[1m \u001b[0m┃\u001b[1m \u001b[0m\u001b[1mOutput Shape               \u001b[0m\u001b[1m \u001b[0m┃\u001b[1m \u001b[0m\u001b[1m        Param #\u001b[0m\u001b[1m \u001b[0m┃\n",
              "┡━━━━━━━━━━━━━━━━━━━━━━━━━━━━━━━━━━━━━━╇━━━━━━━━━━━━━━━━━━━━━━━━━━━━━╇━━━━━━━━━━━━━━━━━┩\n",
              "│ flatten_1 (\u001b[38;5;33mFlatten\u001b[0m)                  │ (\u001b[38;5;45mNone\u001b[0m, \u001b[38;5;34m3072\u001b[0m)                │               \u001b[38;5;34m0\u001b[0m │\n",
              "├──────────────────────────────────────┼─────────────────────────────┼─────────────────┤\n",
              "│ dense_5 (\u001b[38;5;33mDense\u001b[0m)                      │ (\u001b[38;5;45mNone\u001b[0m, \u001b[38;5;34m1000\u001b[0m)                │       \u001b[38;5;34m3,073,000\u001b[0m │\n",
              "├──────────────────────────────────────┼─────────────────────────────┼─────────────────┤\n",
              "│ batch_normalization_4                │ (\u001b[38;5;45mNone\u001b[0m, \u001b[38;5;34m1000\u001b[0m)                │           \u001b[38;5;34m4,000\u001b[0m │\n",
              "│ (\u001b[38;5;33mBatchNormalization\u001b[0m)                 │                             │                 │\n",
              "├──────────────────────────────────────┼─────────────────────────────┼─────────────────┤\n",
              "│ activation_4 (\u001b[38;5;33mActivation\u001b[0m)            │ (\u001b[38;5;45mNone\u001b[0m, \u001b[38;5;34m1000\u001b[0m)                │               \u001b[38;5;34m0\u001b[0m │\n",
              "├──────────────────────────────────────┼─────────────────────────────┼─────────────────┤\n",
              "│ dense_6 (\u001b[38;5;33mDense\u001b[0m)                      │ (\u001b[38;5;45mNone\u001b[0m, \u001b[38;5;34m1000\u001b[0m)                │       \u001b[38;5;34m1,001,000\u001b[0m │\n",
              "├──────────────────────────────────────┼─────────────────────────────┼─────────────────┤\n",
              "│ batch_normalization_5                │ (\u001b[38;5;45mNone\u001b[0m, \u001b[38;5;34m1000\u001b[0m)                │           \u001b[38;5;34m4,000\u001b[0m │\n",
              "│ (\u001b[38;5;33mBatchNormalization\u001b[0m)                 │                             │                 │\n",
              "├──────────────────────────────────────┼─────────────────────────────┼─────────────────┤\n",
              "│ activation_5 (\u001b[38;5;33mActivation\u001b[0m)            │ (\u001b[38;5;45mNone\u001b[0m, \u001b[38;5;34m1000\u001b[0m)                │               \u001b[38;5;34m0\u001b[0m │\n",
              "├──────────────────────────────────────┼─────────────────────────────┼─────────────────┤\n",
              "│ dense_7 (\u001b[38;5;33mDense\u001b[0m)                      │ (\u001b[38;5;45mNone\u001b[0m, \u001b[38;5;34m1000\u001b[0m)                │       \u001b[38;5;34m1,001,000\u001b[0m │\n",
              "├──────────────────────────────────────┼─────────────────────────────┼─────────────────┤\n",
              "│ batch_normalization_6                │ (\u001b[38;5;45mNone\u001b[0m, \u001b[38;5;34m1000\u001b[0m)                │           \u001b[38;5;34m4,000\u001b[0m │\n",
              "│ (\u001b[38;5;33mBatchNormalization\u001b[0m)                 │                             │                 │\n",
              "├──────────────────────────────────────┼─────────────────────────────┼─────────────────┤\n",
              "│ activation_6 (\u001b[38;5;33mActivation\u001b[0m)            │ (\u001b[38;5;45mNone\u001b[0m, \u001b[38;5;34m1000\u001b[0m)                │               \u001b[38;5;34m0\u001b[0m │\n",
              "├──────────────────────────────────────┼─────────────────────────────┼─────────────────┤\n",
              "│ dense_8 (\u001b[38;5;33mDense\u001b[0m)                      │ (\u001b[38;5;45mNone\u001b[0m, \u001b[38;5;34m1000\u001b[0m)                │       \u001b[38;5;34m1,001,000\u001b[0m │\n",
              "├──────────────────────────────────────┼─────────────────────────────┼─────────────────┤\n",
              "│ batch_normalization_7                │ (\u001b[38;5;45mNone\u001b[0m, \u001b[38;5;34m1000\u001b[0m)                │           \u001b[38;5;34m4,000\u001b[0m │\n",
              "│ (\u001b[38;5;33mBatchNormalization\u001b[0m)                 │                             │                 │\n",
              "├──────────────────────────────────────┼─────────────────────────────┼─────────────────┤\n",
              "│ activation_7 (\u001b[38;5;33mActivation\u001b[0m)            │ (\u001b[38;5;45mNone\u001b[0m, \u001b[38;5;34m1000\u001b[0m)                │               \u001b[38;5;34m0\u001b[0m │\n",
              "├──────────────────────────────────────┼─────────────────────────────┼─────────────────┤\n",
              "│ dense_9 (\u001b[38;5;33mDense\u001b[0m)                      │ (\u001b[38;5;45mNone\u001b[0m, \u001b[38;5;34m100\u001b[0m)                 │         \u001b[38;5;34m100,100\u001b[0m │\n",
              "└──────────────────────────────────────┴─────────────────────────────┴─────────────────┘\n"
            ],
            "text/html": [
              "<pre style=\"white-space:pre;overflow-x:auto;line-height:normal;font-family:Menlo,'DejaVu Sans Mono',consolas,'Courier New',monospace\">┏━━━━━━━━━━━━━━━━━━━━━━━━━━━━━━━━━━━━━━┳━━━━━━━━━━━━━━━━━━━━━━━━━━━━━┳━━━━━━━━━━━━━━━━━┓\n",
              "┃<span style=\"font-weight: bold\"> Layer (type)                         </span>┃<span style=\"font-weight: bold\"> Output Shape                </span>┃<span style=\"font-weight: bold\">         Param # </span>┃\n",
              "┡━━━━━━━━━━━━━━━━━━━━━━━━━━━━━━━━━━━━━━╇━━━━━━━━━━━━━━━━━━━━━━━━━━━━━╇━━━━━━━━━━━━━━━━━┩\n",
              "│ flatten_1 (<span style=\"color: #0087ff; text-decoration-color: #0087ff\">Flatten</span>)                  │ (<span style=\"color: #00d7ff; text-decoration-color: #00d7ff\">None</span>, <span style=\"color: #00af00; text-decoration-color: #00af00\">3072</span>)                │               <span style=\"color: #00af00; text-decoration-color: #00af00\">0</span> │\n",
              "├──────────────────────────────────────┼─────────────────────────────┼─────────────────┤\n",
              "│ dense_5 (<span style=\"color: #0087ff; text-decoration-color: #0087ff\">Dense</span>)                      │ (<span style=\"color: #00d7ff; text-decoration-color: #00d7ff\">None</span>, <span style=\"color: #00af00; text-decoration-color: #00af00\">1000</span>)                │       <span style=\"color: #00af00; text-decoration-color: #00af00\">3,073,000</span> │\n",
              "├──────────────────────────────────────┼─────────────────────────────┼─────────────────┤\n",
              "│ batch_normalization_4                │ (<span style=\"color: #00d7ff; text-decoration-color: #00d7ff\">None</span>, <span style=\"color: #00af00; text-decoration-color: #00af00\">1000</span>)                │           <span style=\"color: #00af00; text-decoration-color: #00af00\">4,000</span> │\n",
              "│ (<span style=\"color: #0087ff; text-decoration-color: #0087ff\">BatchNormalization</span>)                 │                             │                 │\n",
              "├──────────────────────────────────────┼─────────────────────────────┼─────────────────┤\n",
              "│ activation_4 (<span style=\"color: #0087ff; text-decoration-color: #0087ff\">Activation</span>)            │ (<span style=\"color: #00d7ff; text-decoration-color: #00d7ff\">None</span>, <span style=\"color: #00af00; text-decoration-color: #00af00\">1000</span>)                │               <span style=\"color: #00af00; text-decoration-color: #00af00\">0</span> │\n",
              "├──────────────────────────────────────┼─────────────────────────────┼─────────────────┤\n",
              "│ dense_6 (<span style=\"color: #0087ff; text-decoration-color: #0087ff\">Dense</span>)                      │ (<span style=\"color: #00d7ff; text-decoration-color: #00d7ff\">None</span>, <span style=\"color: #00af00; text-decoration-color: #00af00\">1000</span>)                │       <span style=\"color: #00af00; text-decoration-color: #00af00\">1,001,000</span> │\n",
              "├──────────────────────────────────────┼─────────────────────────────┼─────────────────┤\n",
              "│ batch_normalization_5                │ (<span style=\"color: #00d7ff; text-decoration-color: #00d7ff\">None</span>, <span style=\"color: #00af00; text-decoration-color: #00af00\">1000</span>)                │           <span style=\"color: #00af00; text-decoration-color: #00af00\">4,000</span> │\n",
              "│ (<span style=\"color: #0087ff; text-decoration-color: #0087ff\">BatchNormalization</span>)                 │                             │                 │\n",
              "├──────────────────────────────────────┼─────────────────────────────┼─────────────────┤\n",
              "│ activation_5 (<span style=\"color: #0087ff; text-decoration-color: #0087ff\">Activation</span>)            │ (<span style=\"color: #00d7ff; text-decoration-color: #00d7ff\">None</span>, <span style=\"color: #00af00; text-decoration-color: #00af00\">1000</span>)                │               <span style=\"color: #00af00; text-decoration-color: #00af00\">0</span> │\n",
              "├──────────────────────────────────────┼─────────────────────────────┼─────────────────┤\n",
              "│ dense_7 (<span style=\"color: #0087ff; text-decoration-color: #0087ff\">Dense</span>)                      │ (<span style=\"color: #00d7ff; text-decoration-color: #00d7ff\">None</span>, <span style=\"color: #00af00; text-decoration-color: #00af00\">1000</span>)                │       <span style=\"color: #00af00; text-decoration-color: #00af00\">1,001,000</span> │\n",
              "├──────────────────────────────────────┼─────────────────────────────┼─────────────────┤\n",
              "│ batch_normalization_6                │ (<span style=\"color: #00d7ff; text-decoration-color: #00d7ff\">None</span>, <span style=\"color: #00af00; text-decoration-color: #00af00\">1000</span>)                │           <span style=\"color: #00af00; text-decoration-color: #00af00\">4,000</span> │\n",
              "│ (<span style=\"color: #0087ff; text-decoration-color: #0087ff\">BatchNormalization</span>)                 │                             │                 │\n",
              "├──────────────────────────────────────┼─────────────────────────────┼─────────────────┤\n",
              "│ activation_6 (<span style=\"color: #0087ff; text-decoration-color: #0087ff\">Activation</span>)            │ (<span style=\"color: #00d7ff; text-decoration-color: #00d7ff\">None</span>, <span style=\"color: #00af00; text-decoration-color: #00af00\">1000</span>)                │               <span style=\"color: #00af00; text-decoration-color: #00af00\">0</span> │\n",
              "├──────────────────────────────────────┼─────────────────────────────┼─────────────────┤\n",
              "│ dense_8 (<span style=\"color: #0087ff; text-decoration-color: #0087ff\">Dense</span>)                      │ (<span style=\"color: #00d7ff; text-decoration-color: #00d7ff\">None</span>, <span style=\"color: #00af00; text-decoration-color: #00af00\">1000</span>)                │       <span style=\"color: #00af00; text-decoration-color: #00af00\">1,001,000</span> │\n",
              "├──────────────────────────────────────┼─────────────────────────────┼─────────────────┤\n",
              "│ batch_normalization_7                │ (<span style=\"color: #00d7ff; text-decoration-color: #00d7ff\">None</span>, <span style=\"color: #00af00; text-decoration-color: #00af00\">1000</span>)                │           <span style=\"color: #00af00; text-decoration-color: #00af00\">4,000</span> │\n",
              "│ (<span style=\"color: #0087ff; text-decoration-color: #0087ff\">BatchNormalization</span>)                 │                             │                 │\n",
              "├──────────────────────────────────────┼─────────────────────────────┼─────────────────┤\n",
              "│ activation_7 (<span style=\"color: #0087ff; text-decoration-color: #0087ff\">Activation</span>)            │ (<span style=\"color: #00d7ff; text-decoration-color: #00d7ff\">None</span>, <span style=\"color: #00af00; text-decoration-color: #00af00\">1000</span>)                │               <span style=\"color: #00af00; text-decoration-color: #00af00\">0</span> │\n",
              "├──────────────────────────────────────┼─────────────────────────────┼─────────────────┤\n",
              "│ dense_9 (<span style=\"color: #0087ff; text-decoration-color: #0087ff\">Dense</span>)                      │ (<span style=\"color: #00d7ff; text-decoration-color: #00d7ff\">None</span>, <span style=\"color: #00af00; text-decoration-color: #00af00\">100</span>)                 │         <span style=\"color: #00af00; text-decoration-color: #00af00\">100,100</span> │\n",
              "└──────────────────────────────────────┴─────────────────────────────┴─────────────────┘\n",
              "</pre>\n"
            ]
          },
          "metadata": {}
        },
        {
          "output_type": "display_data",
          "data": {
            "text/plain": [
              "\u001b[1m Total params: \u001b[0m\u001b[38;5;34m6,192,100\u001b[0m (23.62 MB)\n"
            ],
            "text/html": [
              "<pre style=\"white-space:pre;overflow-x:auto;line-height:normal;font-family:Menlo,'DejaVu Sans Mono',consolas,'Courier New',monospace\"><span style=\"font-weight: bold\"> Total params: </span><span style=\"color: #00af00; text-decoration-color: #00af00\">6,192,100</span> (23.62 MB)\n",
              "</pre>\n"
            ]
          },
          "metadata": {}
        },
        {
          "output_type": "display_data",
          "data": {
            "text/plain": [
              "\u001b[1m Trainable params: \u001b[0m\u001b[38;5;34m6,184,100\u001b[0m (23.59 MB)\n"
            ],
            "text/html": [
              "<pre style=\"white-space:pre;overflow-x:auto;line-height:normal;font-family:Menlo,'DejaVu Sans Mono',consolas,'Courier New',monospace\"><span style=\"font-weight: bold\"> Trainable params: </span><span style=\"color: #00af00; text-decoration-color: #00af00\">6,184,100</span> (23.59 MB)\n",
              "</pre>\n"
            ]
          },
          "metadata": {}
        },
        {
          "output_type": "display_data",
          "data": {
            "text/plain": [
              "\u001b[1m Non-trainable params: \u001b[0m\u001b[38;5;34m8,000\u001b[0m (31.25 KB)\n"
            ],
            "text/html": [
              "<pre style=\"white-space:pre;overflow-x:auto;line-height:normal;font-family:Menlo,'DejaVu Sans Mono',consolas,'Courier New',monospace\"><span style=\"font-weight: bold\"> Non-trainable params: </span><span style=\"color: #00af00; text-decoration-color: #00af00\">8,000</span> (31.25 KB)\n",
              "</pre>\n"
            ]
          },
          "metadata": {}
        }
      ],
      "id": "RT0dpFAIMS6m"
    },
    {
      "cell_type": "code",
      "source": [
        "rlrop = ReduceLROnPlateau(\n",
        "    monitor = \"val_accuracy\",\n",
        "    factor = 0.5,\n",
        "    patience = 10,\n",
        "    verbose = 1,\n",
        "    min_lr = 1e-5\n",
        ")"
      ],
      "metadata": {
        "id": "buTJS5zFMS6n"
      },
      "execution_count": null,
      "outputs": [],
      "id": "buTJS5zFMS6n"
    },
    {
      "cell_type": "code",
      "source": [
        "mc = ModelCheckpoint(\n",
        "    \"best_weights.weights.h5\",\n",
        "    monitor = \"val_accuracy\",\n",
        "    verbose = 1,\n",
        "    save_best_only = True,\n",
        "    save_weights_only = True,\n",
        ")"
      ],
      "metadata": {
        "id": "LLiApcPtMS6n"
      },
      "execution_count": null,
      "outputs": [],
      "id": "LLiApcPtMS6n"
    },
    {
      "cell_type": "code",
      "source": [
        "es = EarlyStopping(\n",
        "    monitor = \"val_accuracy\",\n",
        "    patience = 12,\n",
        "    verbose = 1,\n",
        "    restore_best_weights = True,\n",
        ")"
      ],
      "metadata": {
        "id": "km-7vsxRMS6n"
      },
      "execution_count": null,
      "outputs": [],
      "id": "km-7vsxRMS6n"
    },
    {
      "cell_type": "code",
      "source": [
        "tb = TensorBoard(\n",
        "    log_dir=\"logs\",\n",
        ")"
      ],
      "metadata": {
        "id": "EyfhaoZyMS6o"
      },
      "execution_count": null,
      "outputs": [],
      "id": "EyfhaoZyMS6o"
    },
    {
      "cell_type": "code",
      "source": [
        "history = model.fit(\n",
        "    x = x_train,\n",
        "    y= y_train,\n",
        "    batch_size=8,\n",
        "    epochs=100,\n",
        "    validation_data = (x_val, y_val),\n",
        "    callbacks= [\n",
        "        rlrop,\n",
        "        es,\n",
        "        mc\n",
        "    ]\n",
        ")"
      ],
      "metadata": {
        "colab": {
          "base_uri": "https://localhost:8080/"
        },
        "outputId": "4fc78950-56e1-453a-b0c1-87c902d8bc12",
        "id": "Q45DGTSdMS6o"
      },
      "execution_count": null,
      "outputs": [
        {
          "output_type": "stream",
          "name": "stdout",
          "text": [
            "Epoch 1/100\n",
            "\u001b[1m5621/5625\u001b[0m \u001b[32m━━━━━━━━━━━━━━━━━━━\u001b[0m\u001b[37m━\u001b[0m \u001b[1m0s\u001b[0m 3ms/step - accuracy: 0.0484 - loss: 4.5537\n",
            "Epoch 1: val_accuracy improved from -inf to 0.12480, saving model to best_weights.weights.h5\n",
            "\u001b[1m5625/5625\u001b[0m \u001b[32m━━━━━━━━━━━━━━━━━━━━\u001b[0m\u001b[37m\u001b[0m \u001b[1m25s\u001b[0m 4ms/step - accuracy: 0.0485 - loss: 4.5534 - val_accuracy: 0.1248 - val_loss: 3.8051 - learning_rate: 0.0010\n",
            "Epoch 2/100\n",
            "\u001b[1m5618/5625\u001b[0m \u001b[32m━━━━━━━━━━━━━━━━━━━\u001b[0m\u001b[37m━\u001b[0m \u001b[1m0s\u001b[0m 3ms/step - accuracy: 0.1066 - loss: 3.8780\n",
            "Epoch 2: val_accuracy improved from 0.12480 to 0.13680, saving model to best_weights.weights.h5\n",
            "\u001b[1m5625/5625\u001b[0m \u001b[32m━━━━━━━━━━━━━━━━━━━━\u001b[0m\u001b[37m\u001b[0m \u001b[1m40s\u001b[0m 4ms/step - accuracy: 0.1066 - loss: 3.8779 - val_accuracy: 0.1368 - val_loss: 3.7414 - learning_rate: 0.0010\n",
            "Epoch 3/100\n",
            "\u001b[1m5625/5625\u001b[0m \u001b[32m━━━━━━━━━━━━━━━━━━━━\u001b[0m\u001b[37m\u001b[0m \u001b[1m0s\u001b[0m 3ms/step - accuracy: 0.1320 - loss: 3.7096\n",
            "Epoch 3: val_accuracy improved from 0.13680 to 0.17200, saving model to best_weights.weights.h5\n",
            "\u001b[1m5625/5625\u001b[0m \u001b[32m━━━━━━━━━━━━━━━━━━━━\u001b[0m\u001b[37m\u001b[0m \u001b[1m40s\u001b[0m 4ms/step - accuracy: 0.1320 - loss: 3.7096 - val_accuracy: 0.1720 - val_loss: 3.5875 - learning_rate: 0.0010\n",
            "Epoch 4/100\n",
            "\u001b[1m5612/5625\u001b[0m \u001b[32m━━━━━━━━━━━━━━━━━━━\u001b[0m\u001b[37m━\u001b[0m \u001b[1m0s\u001b[0m 3ms/step - accuracy: 0.1531 - loss: 3.5879\n",
            "Epoch 4: val_accuracy improved from 0.17200 to 0.17860, saving model to best_weights.weights.h5\n",
            "\u001b[1m5625/5625\u001b[0m \u001b[32m━━━━━━━━━━━━━━━━━━━━\u001b[0m\u001b[37m\u001b[0m \u001b[1m20s\u001b[0m 3ms/step - accuracy: 0.1531 - loss: 3.5879 - val_accuracy: 0.1786 - val_loss: 3.7108 - learning_rate: 0.0010\n",
            "Epoch 5/100\n",
            "\u001b[1m5615/5625\u001b[0m \u001b[32m━━━━━━━━━━━━━━━━━━━\u001b[0m\u001b[37m━\u001b[0m \u001b[1m0s\u001b[0m 3ms/step - accuracy: 0.1618 - loss: 3.5242\n",
            "Epoch 5: val_accuracy did not improve from 0.17860\n",
            "\u001b[1m5625/5625\u001b[0m \u001b[32m━━━━━━━━━━━━━━━━━━━━\u001b[0m\u001b[37m\u001b[0m \u001b[1m19s\u001b[0m 3ms/step - accuracy: 0.1618 - loss: 3.5242 - val_accuracy: 0.1778 - val_loss: 3.6590 - learning_rate: 0.0010\n",
            "Epoch 6/100\n",
            "\u001b[1m5624/5625\u001b[0m \u001b[32m━━━━━━━━━━━━━━━━━━━\u001b[0m\u001b[37m━\u001b[0m \u001b[1m0s\u001b[0m 3ms/step - accuracy: 0.1737 - loss: 3.4667\n",
            "Epoch 6: val_accuracy improved from 0.17860 to 0.19600, saving model to best_weights.weights.h5\n",
            "\u001b[1m5625/5625\u001b[0m \u001b[32m━━━━━━━━━━━━━━━━━━━━\u001b[0m\u001b[37m\u001b[0m \u001b[1m21s\u001b[0m 4ms/step - accuracy: 0.1737 - loss: 3.4667 - val_accuracy: 0.1960 - val_loss: 3.4856 - learning_rate: 0.0010\n",
            "Epoch 7/100\n",
            "\u001b[1m5618/5625\u001b[0m \u001b[32m━━━━━━━━━━━━━━━━━━━\u001b[0m\u001b[37m━\u001b[0m \u001b[1m0s\u001b[0m 3ms/step - accuracy: 0.1843 - loss: 3.4036\n",
            "Epoch 7: val_accuracy did not improve from 0.19600\n",
            "\u001b[1m5625/5625\u001b[0m \u001b[32m━━━━━━━━━━━━━━━━━━━━\u001b[0m\u001b[37m\u001b[0m \u001b[1m19s\u001b[0m 3ms/step - accuracy: 0.1843 - loss: 3.4036 - val_accuracy: 0.1924 - val_loss: 3.6615 - learning_rate: 0.0010\n",
            "Epoch 8/100\n",
            "\u001b[1m5615/5625\u001b[0m \u001b[32m━━━━━━━━━━━━━━━━━━━\u001b[0m\u001b[37m━\u001b[0m \u001b[1m0s\u001b[0m 3ms/step - accuracy: 0.1929 - loss: 3.3619\n",
            "Epoch 8: val_accuracy improved from 0.19600 to 0.20860, saving model to best_weights.weights.h5\n",
            "\u001b[1m5625/5625\u001b[0m \u001b[32m━━━━━━━━━━━━━━━━━━━━\u001b[0m\u001b[37m\u001b[0m \u001b[1m21s\u001b[0m 4ms/step - accuracy: 0.1929 - loss: 3.3619 - val_accuracy: 0.2086 - val_loss: 3.4466 - learning_rate: 0.0010\n",
            "Epoch 9/100\n",
            "\u001b[1m5610/5625\u001b[0m \u001b[32m━━━━━━━━━━━━━━━━━━━\u001b[0m\u001b[37m━\u001b[0m \u001b[1m0s\u001b[0m 3ms/step - accuracy: 0.2002 - loss: 3.3168\n",
            "Epoch 9: val_accuracy improved from 0.20860 to 0.21480, saving model to best_weights.weights.h5\n",
            "\u001b[1m5625/5625\u001b[0m \u001b[32m━━━━━━━━━━━━━━━━━━━━\u001b[0m\u001b[37m\u001b[0m \u001b[1m19s\u001b[0m 3ms/step - accuracy: 0.2002 - loss: 3.3169 - val_accuracy: 0.2148 - val_loss: 3.5282 - learning_rate: 0.0010\n",
            "Epoch 10/100\n",
            "\u001b[1m5613/5625\u001b[0m \u001b[32m━━━━━━━━━━━━━━━━━━━\u001b[0m\u001b[37m━\u001b[0m \u001b[1m0s\u001b[0m 3ms/step - accuracy: 0.2111 - loss: 3.2672\n",
            "Epoch 10: val_accuracy improved from 0.21480 to 0.21780, saving model to best_weights.weights.h5\n",
            "\u001b[1m5625/5625\u001b[0m \u001b[32m━━━━━━━━━━━━━━━━━━━━\u001b[0m\u001b[37m\u001b[0m \u001b[1m22s\u001b[0m 4ms/step - accuracy: 0.2111 - loss: 3.2672 - val_accuracy: 0.2178 - val_loss: 3.4233 - learning_rate: 0.0010\n",
            "Epoch 11/100\n",
            "\u001b[1m5622/5625\u001b[0m \u001b[32m━━━━━━━━━━━━━━━━━━━\u001b[0m\u001b[37m━\u001b[0m \u001b[1m0s\u001b[0m 3ms/step - accuracy: 0.2160 - loss: 3.2162\n",
            "Epoch 11: val_accuracy improved from 0.21780 to 0.22760, saving model to best_weights.weights.h5\n",
            "\u001b[1m5625/5625\u001b[0m \u001b[32m━━━━━━━━━━━━━━━━━━━━\u001b[0m\u001b[37m\u001b[0m \u001b[1m19s\u001b[0m 3ms/step - accuracy: 0.2160 - loss: 3.2162 - val_accuracy: 0.2276 - val_loss: 3.3375 - learning_rate: 0.0010\n",
            "Epoch 12/100\n",
            "\u001b[1m5613/5625\u001b[0m \u001b[32m━━━━━━━━━━━━━━━━━━━\u001b[0m\u001b[37m━\u001b[0m \u001b[1m0s\u001b[0m 3ms/step - accuracy: 0.2276 - loss: 3.1872\n",
            "Epoch 12: val_accuracy improved from 0.22760 to 0.23520, saving model to best_weights.weights.h5\n",
            "\u001b[1m5625/5625\u001b[0m \u001b[32m━━━━━━━━━━━━━━━━━━━━\u001b[0m\u001b[37m\u001b[0m \u001b[1m21s\u001b[0m 4ms/step - accuracy: 0.2276 - loss: 3.1872 - val_accuracy: 0.2352 - val_loss: 3.3347 - learning_rate: 0.0010\n",
            "Epoch 13/100\n",
            "\u001b[1m5622/5625\u001b[0m \u001b[32m━━━━━━━━━━━━━━━━━━━\u001b[0m\u001b[37m━\u001b[0m \u001b[1m0s\u001b[0m 3ms/step - accuracy: 0.2321 - loss: 3.1424\n",
            "Epoch 13: val_accuracy did not improve from 0.23520\n",
            "\u001b[1m5625/5625\u001b[0m \u001b[32m━━━━━━━━━━━━━━━━━━━━\u001b[0m\u001b[37m\u001b[0m \u001b[1m41s\u001b[0m 4ms/step - accuracy: 0.2321 - loss: 3.1424 - val_accuracy: 0.2260 - val_loss: 3.4826 - learning_rate: 0.0010\n",
            "Epoch 14/100\n",
            "\u001b[1m5611/5625\u001b[0m \u001b[32m━━━━━━━━━━━━━━━━━━━\u001b[0m\u001b[37m━\u001b[0m \u001b[1m0s\u001b[0m 3ms/step - accuracy: 0.2426 - loss: 3.0990\n",
            "Epoch 14: val_accuracy did not improve from 0.23520\n",
            "\u001b[1m5625/5625\u001b[0m \u001b[32m━━━━━━━━━━━━━━━━━━━━\u001b[0m\u001b[37m\u001b[0m \u001b[1m19s\u001b[0m 3ms/step - accuracy: 0.2426 - loss: 3.0990 - val_accuracy: 0.2342 - val_loss: 3.4740 - learning_rate: 0.0010\n",
            "Epoch 15/100\n",
            "\u001b[1m5621/5625\u001b[0m \u001b[32m━━━━━━━━━━━━━━━━━━━\u001b[0m\u001b[37m━\u001b[0m \u001b[1m0s\u001b[0m 3ms/step - accuracy: 0.2459 - loss: 3.0697\n",
            "Epoch 15: val_accuracy did not improve from 0.23520\n",
            "\u001b[1m5625/5625\u001b[0m \u001b[32m━━━━━━━━━━━━━━━━━━━━\u001b[0m\u001b[37m\u001b[0m \u001b[1m19s\u001b[0m 3ms/step - accuracy: 0.2459 - loss: 3.0697 - val_accuracy: 0.2218 - val_loss: 3.6324 - learning_rate: 0.0010\n",
            "Epoch 16/100\n",
            "\u001b[1m5616/5625\u001b[0m \u001b[32m━━━━━━━━━━━━━━━━━━━\u001b[0m\u001b[37m━\u001b[0m \u001b[1m0s\u001b[0m 3ms/step - accuracy: 0.2478 - loss: 3.0374\n",
            "Epoch 16: val_accuracy improved from 0.23520 to 0.24620, saving model to best_weights.weights.h5\n",
            "\u001b[1m5625/5625\u001b[0m \u001b[32m━━━━━━━━━━━━━━━━━━━━\u001b[0m\u001b[37m\u001b[0m \u001b[1m20s\u001b[0m 4ms/step - accuracy: 0.2478 - loss: 3.0375 - val_accuracy: 0.2462 - val_loss: 3.3853 - learning_rate: 0.0010\n",
            "Epoch 17/100\n",
            "\u001b[1m5609/5625\u001b[0m \u001b[32m━━━━━━━━━━━━━━━━━━━\u001b[0m\u001b[37m━\u001b[0m \u001b[1m0s\u001b[0m 3ms/step - accuracy: 0.2561 - loss: 3.0051\n",
            "Epoch 17: val_accuracy did not improve from 0.24620\n",
            "\u001b[1m5625/5625\u001b[0m \u001b[32m━━━━━━━━━━━━━━━━━━━━\u001b[0m\u001b[37m\u001b[0m \u001b[1m20s\u001b[0m 3ms/step - accuracy: 0.2561 - loss: 3.0052 - val_accuracy: 0.2344 - val_loss: 3.5970 - learning_rate: 0.0010\n",
            "Epoch 18/100\n",
            "\u001b[1m5621/5625\u001b[0m \u001b[32m━━━━━━━━━━━━━━━━━━━\u001b[0m\u001b[37m━\u001b[0m \u001b[1m0s\u001b[0m 3ms/step - accuracy: 0.2626 - loss: 2.9642\n",
            "Epoch 18: val_accuracy did not improve from 0.24620\n",
            "\u001b[1m5625/5625\u001b[0m \u001b[32m━━━━━━━━━━━━━━━━━━━━\u001b[0m\u001b[37m\u001b[0m \u001b[1m21s\u001b[0m 4ms/step - accuracy: 0.2626 - loss: 2.9642 - val_accuracy: 0.2456 - val_loss: 3.5017 - learning_rate: 0.0010\n",
            "Epoch 19/100\n",
            "\u001b[1m5615/5625\u001b[0m \u001b[32m━━━━━━━━━━━━━━━━━━━\u001b[0m\u001b[37m━\u001b[0m \u001b[1m0s\u001b[0m 3ms/step - accuracy: 0.2717 - loss: 2.9121\n",
            "Epoch 19: val_accuracy did not improve from 0.24620\n",
            "\u001b[1m5625/5625\u001b[0m \u001b[32m━━━━━━━━━━━━━━━━━━━━\u001b[0m\u001b[37m\u001b[0m \u001b[1m20s\u001b[0m 3ms/step - accuracy: 0.2717 - loss: 2.9122 - val_accuracy: 0.2400 - val_loss: 3.5333 - learning_rate: 0.0010\n",
            "Epoch 20/100\n",
            "\u001b[1m5619/5625\u001b[0m \u001b[32m━━━━━━━━━━━━━━━━━━━\u001b[0m\u001b[37m━\u001b[0m \u001b[1m0s\u001b[0m 3ms/step - accuracy: 0.2760 - loss: 2.8792\n",
            "Epoch 20: val_accuracy did not improve from 0.24620\n",
            "\u001b[1m5625/5625\u001b[0m \u001b[32m━━━━━━━━━━━━━━━━━━━━\u001b[0m\u001b[37m\u001b[0m \u001b[1m19s\u001b[0m 3ms/step - accuracy: 0.2760 - loss: 2.8793 - val_accuracy: 0.2398 - val_loss: 3.5931 - learning_rate: 0.0010\n",
            "Epoch 21/100\n",
            "\u001b[1m5613/5625\u001b[0m \u001b[32m━━━━━━━━━━━━━━━━━━━\u001b[0m\u001b[37m━\u001b[0m \u001b[1m0s\u001b[0m 3ms/step - accuracy: 0.2890 - loss: 2.8639\n",
            "Epoch 21: val_accuracy did not improve from 0.24620\n",
            "\u001b[1m5625/5625\u001b[0m \u001b[32m━━━━━━━━━━━━━━━━━━━━\u001b[0m\u001b[37m\u001b[0m \u001b[1m20s\u001b[0m 3ms/step - accuracy: 0.2889 - loss: 2.8639 - val_accuracy: 0.2332 - val_loss: 3.6083 - learning_rate: 0.0010\n",
            "Epoch 22/100\n",
            "\u001b[1m5623/5625\u001b[0m \u001b[32m━━━━━━━━━━━━━━━━━━━\u001b[0m\u001b[37m━\u001b[0m \u001b[1m0s\u001b[0m 3ms/step - accuracy: 0.2887 - loss: 2.8403\n",
            "Epoch 22: val_accuracy improved from 0.24620 to 0.25060, saving model to best_weights.weights.h5\n",
            "\u001b[1m5625/5625\u001b[0m \u001b[32m━━━━━━━━━━━━━━━━━━━━\u001b[0m\u001b[37m\u001b[0m \u001b[1m21s\u001b[0m 4ms/step - accuracy: 0.2887 - loss: 2.8403 - val_accuracy: 0.2506 - val_loss: 3.6071 - learning_rate: 0.0010\n",
            "Epoch 23/100\n",
            "\u001b[1m5625/5625\u001b[0m \u001b[32m━━━━━━━━━━━━━━━━━━━━\u001b[0m\u001b[37m\u001b[0m \u001b[1m0s\u001b[0m 3ms/step - accuracy: 0.3004 - loss: 2.7818\n",
            "Epoch 23: val_accuracy did not improve from 0.25060\n",
            "\u001b[1m5625/5625\u001b[0m \u001b[32m━━━━━━━━━━━━━━━━━━━━\u001b[0m\u001b[37m\u001b[0m \u001b[1m21s\u001b[0m 4ms/step - accuracy: 0.3004 - loss: 2.7818 - val_accuracy: 0.2448 - val_loss: 3.6724 - learning_rate: 0.0010\n",
            "Epoch 24/100\n",
            "\u001b[1m5624/5625\u001b[0m \u001b[32m━━━━━━━━━━━━━━━━━━━\u001b[0m\u001b[37m━\u001b[0m \u001b[1m0s\u001b[0m 3ms/step - accuracy: 0.3054 - loss: 2.7719\n",
            "Epoch 24: val_accuracy did not improve from 0.25060\n",
            "\u001b[1m5625/5625\u001b[0m \u001b[32m━━━━━━━━━━━━━━━━━━━━\u001b[0m\u001b[37m\u001b[0m \u001b[1m40s\u001b[0m 4ms/step - accuracy: 0.3054 - loss: 2.7719 - val_accuracy: 0.2432 - val_loss: 3.6575 - learning_rate: 0.0010\n",
            "Epoch 25/100\n",
            "\u001b[1m5622/5625\u001b[0m \u001b[32m━━━━━━━━━━━━━━━━━━━\u001b[0m\u001b[37m━\u001b[0m \u001b[1m0s\u001b[0m 3ms/step - accuracy: 0.3111 - loss: 2.7308\n",
            "Epoch 25: val_accuracy did not improve from 0.25060\n",
            "\u001b[1m5625/5625\u001b[0m \u001b[32m━━━━━━━━━━━━━━━━━━━━\u001b[0m\u001b[37m\u001b[0m \u001b[1m20s\u001b[0m 3ms/step - accuracy: 0.3111 - loss: 2.7308 - val_accuracy: 0.2494 - val_loss: 3.6687 - learning_rate: 0.0010\n",
            "Epoch 26/100\n",
            "\u001b[1m5623/5625\u001b[0m \u001b[32m━━━━━━━━━━━━━━━━━━━\u001b[0m\u001b[37m━\u001b[0m \u001b[1m0s\u001b[0m 3ms/step - accuracy: 0.3158 - loss: 2.7031\n",
            "Epoch 26: val_accuracy improved from 0.25060 to 0.26120, saving model to best_weights.weights.h5\n",
            "\u001b[1m5625/5625\u001b[0m \u001b[32m━━━━━━━━━━━━━━━━━━━━\u001b[0m\u001b[37m\u001b[0m \u001b[1m22s\u001b[0m 4ms/step - accuracy: 0.3158 - loss: 2.7031 - val_accuracy: 0.2612 - val_loss: 3.4516 - learning_rate: 0.0010\n",
            "Epoch 27/100\n",
            "\u001b[1m5616/5625\u001b[0m \u001b[32m━━━━━━━━━━━━━━━━━━━\u001b[0m\u001b[37m━\u001b[0m \u001b[1m0s\u001b[0m 3ms/step - accuracy: 0.3207 - loss: 2.6774\n",
            "Epoch 27: val_accuracy did not improve from 0.26120\n",
            "\u001b[1m5625/5625\u001b[0m \u001b[32m━━━━━━━━━━━━━━━━━━━━\u001b[0m\u001b[37m\u001b[0m \u001b[1m40s\u001b[0m 4ms/step - accuracy: 0.3207 - loss: 2.6774 - val_accuracy: 0.2460 - val_loss: 3.6585 - learning_rate: 0.0010\n",
            "Epoch 28/100\n",
            "\u001b[1m5623/5625\u001b[0m \u001b[32m━━━━━━━━━━━━━━━━━━━\u001b[0m\u001b[37m━\u001b[0m \u001b[1m0s\u001b[0m 3ms/step - accuracy: 0.3239 - loss: 2.6388\n",
            "Epoch 28: val_accuracy did not improve from 0.26120\n",
            "\u001b[1m5625/5625\u001b[0m \u001b[32m━━━━━━━━━━━━━━━━━━━━\u001b[0m\u001b[37m\u001b[0m \u001b[1m19s\u001b[0m 3ms/step - accuracy: 0.3239 - loss: 2.6388 - val_accuracy: 0.2590 - val_loss: 3.4038 - learning_rate: 0.0010\n",
            "Epoch 29/100\n",
            "\u001b[1m5618/5625\u001b[0m \u001b[32m━━━━━━━━━━━━━━━━━━━\u001b[0m\u001b[37m━\u001b[0m \u001b[1m0s\u001b[0m 3ms/step - accuracy: 0.3349 - loss: 2.6216\n",
            "Epoch 29: val_accuracy did not improve from 0.26120\n",
            "\u001b[1m5625/5625\u001b[0m \u001b[32m━━━━━━━━━━━━━━━━━━━━\u001b[0m\u001b[37m\u001b[0m \u001b[1m21s\u001b[0m 4ms/step - accuracy: 0.3349 - loss: 2.6217 - val_accuracy: 0.2324 - val_loss: 3.7784 - learning_rate: 0.0010\n",
            "Epoch 30/100\n",
            "\u001b[1m5624/5625\u001b[0m \u001b[32m━━━━━━━━━━━━━━━━━━━\u001b[0m\u001b[37m━\u001b[0m \u001b[1m0s\u001b[0m 3ms/step - accuracy: 0.3382 - loss: 2.5854\n",
            "Epoch 30: val_accuracy did not improve from 0.26120\n",
            "\u001b[1m5625/5625\u001b[0m \u001b[32m━━━━━━━━━━━━━━━━━━━━\u001b[0m\u001b[37m\u001b[0m \u001b[1m40s\u001b[0m 4ms/step - accuracy: 0.3382 - loss: 2.5854 - val_accuracy: 0.2602 - val_loss: 3.5281 - learning_rate: 0.0010\n",
            "Epoch 31/100\n",
            "\u001b[1m5618/5625\u001b[0m \u001b[32m━━━━━━━━━━━━━━━━━━━\u001b[0m\u001b[37m━\u001b[0m \u001b[1m0s\u001b[0m 3ms/step - accuracy: 0.3433 - loss: 2.5518\n",
            "Epoch 31: val_accuracy did not improve from 0.26120\n",
            "\u001b[1m5625/5625\u001b[0m \u001b[32m━━━━━━━━━━━━━━━━━━━━\u001b[0m\u001b[37m\u001b[0m \u001b[1m20s\u001b[0m 3ms/step - accuracy: 0.3433 - loss: 2.5519 - val_accuracy: 0.2480 - val_loss: 3.5990 - learning_rate: 0.0010\n",
            "Epoch 32/100\n",
            "\u001b[1m5613/5625\u001b[0m \u001b[32m━━━━━━━━━━━━━━━━━━━\u001b[0m\u001b[37m━\u001b[0m \u001b[1m0s\u001b[0m 3ms/step - accuracy: 0.3476 - loss: 2.5343\n",
            "Epoch 32: val_accuracy improved from 0.26120 to 0.26420, saving model to best_weights.weights.h5\n",
            "\u001b[1m5625/5625\u001b[0m \u001b[32m━━━━━━━━━━━━━━━━━━━━\u001b[0m\u001b[37m\u001b[0m \u001b[1m22s\u001b[0m 4ms/step - accuracy: 0.3476 - loss: 2.5344 - val_accuracy: 0.2642 - val_loss: 3.6204 - learning_rate: 0.0010\n",
            "Epoch 33/100\n",
            "\u001b[1m5610/5625\u001b[0m \u001b[32m━━━━━━━━━━━━━━━━━━━\u001b[0m\u001b[37m━\u001b[0m \u001b[1m0s\u001b[0m 3ms/step - accuracy: 0.3567 - loss: 2.5030\n",
            "Epoch 33: val_accuracy did not improve from 0.26420\n",
            "\u001b[1m5625/5625\u001b[0m \u001b[32m━━━━━━━━━━━━━━━━━━━━\u001b[0m\u001b[37m\u001b[0m \u001b[1m20s\u001b[0m 3ms/step - accuracy: 0.3567 - loss: 2.5031 - val_accuracy: 0.2540 - val_loss: 3.6608 - learning_rate: 0.0010\n",
            "Epoch 34/100\n",
            "\u001b[1m5614/5625\u001b[0m \u001b[32m━━━━━━━━━━━━━━━━━━━\u001b[0m\u001b[37m━\u001b[0m \u001b[1m0s\u001b[0m 3ms/step - accuracy: 0.3591 - loss: 2.4887\n",
            "Epoch 34: val_accuracy did not improve from 0.26420\n",
            "\u001b[1m5625/5625\u001b[0m \u001b[32m━━━━━━━━━━━━━━━━━━━━\u001b[0m\u001b[37m\u001b[0m \u001b[1m19s\u001b[0m 3ms/step - accuracy: 0.3591 - loss: 2.4888 - val_accuracy: 0.2422 - val_loss: 3.7415 - learning_rate: 0.0010\n",
            "Epoch 35/100\n",
            "\u001b[1m5622/5625\u001b[0m \u001b[32m━━━━━━━━━━━━━━━━━━━\u001b[0m\u001b[37m━\u001b[0m \u001b[1m0s\u001b[0m 3ms/step - accuracy: 0.3701 - loss: 2.4355\n",
            "Epoch 35: val_accuracy did not improve from 0.26420\n",
            "\u001b[1m5625/5625\u001b[0m \u001b[32m━━━━━━━━━━━━━━━━━━━━\u001b[0m\u001b[37m\u001b[0m \u001b[1m20s\u001b[0m 4ms/step - accuracy: 0.3701 - loss: 2.4355 - val_accuracy: 0.2560 - val_loss: 3.8015 - learning_rate: 0.0010\n",
            "Epoch 36/100\n",
            "\u001b[1m5610/5625\u001b[0m \u001b[32m━━━━━━━━━━━━━━━━━━━\u001b[0m\u001b[37m━\u001b[0m \u001b[1m0s\u001b[0m 3ms/step - accuracy: 0.3741 - loss: 2.4181\n",
            "Epoch 36: val_accuracy did not improve from 0.26420\n",
            "\u001b[1m5625/5625\u001b[0m \u001b[32m━━━━━━━━━━━━━━━━━━━━\u001b[0m\u001b[37m\u001b[0m \u001b[1m19s\u001b[0m 3ms/step - accuracy: 0.3741 - loss: 2.4182 - val_accuracy: 0.2462 - val_loss: 3.8766 - learning_rate: 0.0010\n",
            "Epoch 37/100\n",
            "\u001b[1m5624/5625\u001b[0m \u001b[32m━━━━━━━━━━━━━━━━━━━\u001b[0m\u001b[37m━\u001b[0m \u001b[1m0s\u001b[0m 3ms/step - accuracy: 0.3786 - loss: 2.3939\n",
            "Epoch 37: val_accuracy did not improve from 0.26420\n",
            "\u001b[1m5625/5625\u001b[0m \u001b[32m━━━━━━━━━━━━━━━━━━━━\u001b[0m\u001b[37m\u001b[0m \u001b[1m21s\u001b[0m 4ms/step - accuracy: 0.3786 - loss: 2.3940 - val_accuracy: 0.2560 - val_loss: 3.7019 - learning_rate: 0.0010\n",
            "Epoch 38/100\n",
            "\u001b[1m5625/5625\u001b[0m \u001b[32m━━━━━━━━━━━━━━━━━━━━\u001b[0m\u001b[37m\u001b[0m \u001b[1m0s\u001b[0m 3ms/step - accuracy: 0.3854 - loss: 2.3529\n",
            "Epoch 38: val_accuracy did not improve from 0.26420\n",
            "\u001b[1m5625/5625\u001b[0m \u001b[32m━━━━━━━━━━━━━━━━━━━━\u001b[0m\u001b[37m\u001b[0m \u001b[1m40s\u001b[0m 4ms/step - accuracy: 0.3854 - loss: 2.3529 - val_accuracy: 0.2538 - val_loss: 3.7459 - learning_rate: 0.0010\n",
            "Epoch 39/100\n",
            "\u001b[1m5619/5625\u001b[0m \u001b[32m━━━━━━━━━━━━━━━━━━━\u001b[0m\u001b[37m━\u001b[0m \u001b[1m0s\u001b[0m 3ms/step - accuracy: 0.3892 - loss: 2.3466\n",
            "Epoch 39: val_accuracy did not improve from 0.26420\n",
            "\u001b[1m5625/5625\u001b[0m \u001b[32m━━━━━━━━━━━━━━━━━━━━\u001b[0m\u001b[37m\u001b[0m \u001b[1m21s\u001b[0m 4ms/step - accuracy: 0.3891 - loss: 2.3467 - val_accuracy: 0.2470 - val_loss: 3.8552 - learning_rate: 0.0010\n",
            "Epoch 40/100\n",
            "\u001b[1m5621/5625\u001b[0m \u001b[32m━━━━━━━━━━━━━━━━━━━\u001b[0m\u001b[37m━\u001b[0m \u001b[1m0s\u001b[0m 3ms/step - accuracy: 0.3955 - loss: 2.3116\n",
            "Epoch 40: val_accuracy improved from 0.26420 to 0.26660, saving model to best_weights.weights.h5\n",
            "\u001b[1m5625/5625\u001b[0m \u001b[32m━━━━━━━━━━━━━━━━━━━━\u001b[0m\u001b[37m\u001b[0m \u001b[1m19s\u001b[0m 3ms/step - accuracy: 0.3954 - loss: 2.3116 - val_accuracy: 0.2666 - val_loss: 3.6565 - learning_rate: 0.0010\n",
            "Epoch 41/100\n",
            "\u001b[1m5616/5625\u001b[0m \u001b[32m━━━━━━━━━━━━━━━━━━━\u001b[0m\u001b[37m━\u001b[0m \u001b[1m0s\u001b[0m 3ms/step - accuracy: 0.4035 - loss: 2.2820\n",
            "Epoch 41: val_accuracy did not improve from 0.26660\n",
            "\u001b[1m5625/5625\u001b[0m \u001b[32m━━━━━━━━━━━━━━━━━━━━\u001b[0m\u001b[37m\u001b[0m \u001b[1m21s\u001b[0m 4ms/step - accuracy: 0.4035 - loss: 2.2821 - val_accuracy: 0.2574 - val_loss: 3.9403 - learning_rate: 0.0010\n",
            "Epoch 42/100\n",
            "\u001b[1m5614/5625\u001b[0m \u001b[32m━━━━━━━━━━━━━━━━━━━\u001b[0m\u001b[37m━\u001b[0m \u001b[1m0s\u001b[0m 3ms/step - accuracy: 0.4080 - loss: 2.2523\n",
            "Epoch 42: val_accuracy did not improve from 0.26660\n",
            "\u001b[1m5625/5625\u001b[0m \u001b[32m━━━━━━━━━━━━━━━━━━━━\u001b[0m\u001b[37m\u001b[0m \u001b[1m20s\u001b[0m 3ms/step - accuracy: 0.4080 - loss: 2.2524 - val_accuracy: 0.2568 - val_loss: 4.1292 - learning_rate: 0.0010\n",
            "Epoch 43/100\n",
            "\u001b[1m5620/5625\u001b[0m \u001b[32m━━━━━━━━━━━━━━━━━━━\u001b[0m\u001b[37m━\u001b[0m \u001b[1m0s\u001b[0m 3ms/step - accuracy: 0.4080 - loss: 2.2409\n",
            "Epoch 43: val_accuracy did not improve from 0.26660\n",
            "\u001b[1m5625/5625\u001b[0m \u001b[32m━━━━━━━━━━━━━━━━━━━━\u001b[0m\u001b[37m\u001b[0m \u001b[1m20s\u001b[0m 4ms/step - accuracy: 0.4080 - loss: 2.2410 - val_accuracy: 0.2496 - val_loss: 4.1618 - learning_rate: 0.0010\n",
            "Epoch 44/100\n",
            "\u001b[1m5625/5625\u001b[0m \u001b[32m━━━━━━━━━━━━━━━━━━━━\u001b[0m\u001b[37m\u001b[0m \u001b[1m0s\u001b[0m 3ms/step - accuracy: 0.4184 - loss: 2.2171\n",
            "Epoch 44: val_accuracy did not improve from 0.26660\n",
            "\u001b[1m5625/5625\u001b[0m \u001b[32m━━━━━━━━━━━━━━━━━━━━\u001b[0m\u001b[37m\u001b[0m \u001b[1m19s\u001b[0m 3ms/step - accuracy: 0.4184 - loss: 2.2171 - val_accuracy: 0.2666 - val_loss: 3.7956 - learning_rate: 0.0010\n",
            "Epoch 45/100\n",
            "\u001b[1m5615/5625\u001b[0m \u001b[32m━━━━━━━━━━━━━━━━━━━\u001b[0m\u001b[37m━\u001b[0m \u001b[1m0s\u001b[0m 3ms/step - accuracy: 0.4192 - loss: 2.1881\n",
            "Epoch 45: val_accuracy did not improve from 0.26660\n",
            "\u001b[1m5625/5625\u001b[0m \u001b[32m━━━━━━━━━━━━━━━━━━━━\u001b[0m\u001b[37m\u001b[0m \u001b[1m22s\u001b[0m 4ms/step - accuracy: 0.4192 - loss: 2.1881 - val_accuracy: 0.2614 - val_loss: 3.9041 - learning_rate: 0.0010\n",
            "Epoch 46/100\n",
            "\u001b[1m5621/5625\u001b[0m \u001b[32m━━━━━━━━━━━━━━━━━━━\u001b[0m\u001b[37m━\u001b[0m \u001b[1m0s\u001b[0m 3ms/step - accuracy: 0.4286 - loss: 2.1488\n",
            "Epoch 46: val_accuracy did not improve from 0.26660\n",
            "\u001b[1m5625/5625\u001b[0m \u001b[32m━━━━━━━━━━━━━━━━━━━━\u001b[0m\u001b[37m\u001b[0m \u001b[1m20s\u001b[0m 4ms/step - accuracy: 0.4286 - loss: 2.1488 - val_accuracy: 0.2514 - val_loss: 4.2228 - learning_rate: 0.0010\n",
            "Epoch 47/100\n",
            "\u001b[1m5623/5625\u001b[0m \u001b[32m━━━━━━━━━━━━━━━━━━━\u001b[0m\u001b[37m━\u001b[0m \u001b[1m0s\u001b[0m 3ms/step - accuracy: 0.4339 - loss: 2.1341\n",
            "Epoch 47: val_accuracy did not improve from 0.26660\n",
            "\u001b[1m5625/5625\u001b[0m \u001b[32m━━━━━━━━━━━━━━━━━━━━\u001b[0m\u001b[37m\u001b[0m \u001b[1m20s\u001b[0m 3ms/step - accuracy: 0.4339 - loss: 2.1341 - val_accuracy: 0.2522 - val_loss: 4.1194 - learning_rate: 0.0010\n",
            "Epoch 48/100\n",
            "\u001b[1m5623/5625\u001b[0m \u001b[32m━━━━━━━━━━━━━━━━━━━\u001b[0m\u001b[37m━\u001b[0m \u001b[1m0s\u001b[0m 3ms/step - accuracy: 0.4383 - loss: 2.1088\n",
            "Epoch 48: val_accuracy did not improve from 0.26660\n",
            "\u001b[1m5625/5625\u001b[0m \u001b[32m━━━━━━━━━━━━━━━━━━━━\u001b[0m\u001b[37m\u001b[0m \u001b[1m21s\u001b[0m 4ms/step - accuracy: 0.4383 - loss: 2.1088 - val_accuracy: 0.2538 - val_loss: 4.0592 - learning_rate: 0.0010\n",
            "Epoch 49/100\n",
            "\u001b[1m5623/5625\u001b[0m \u001b[32m━━━━━━━━━━━━━━━━━━━\u001b[0m\u001b[37m━\u001b[0m \u001b[1m0s\u001b[0m 3ms/step - accuracy: 0.4462 - loss: 2.0777\n",
            "Epoch 49: val_accuracy did not improve from 0.26660\n",
            "\u001b[1m5625/5625\u001b[0m \u001b[32m━━━━━━━━━━━━━━━━━━━━\u001b[0m\u001b[37m\u001b[0m \u001b[1m21s\u001b[0m 4ms/step - accuracy: 0.4462 - loss: 2.0777 - val_accuracy: 0.2586 - val_loss: 4.0174 - learning_rate: 0.0010\n",
            "Epoch 50/100\n",
            "\u001b[1m5610/5625\u001b[0m \u001b[32m━━━━━━━━━━━━━━━━━━━\u001b[0m\u001b[37m━\u001b[0m \u001b[1m0s\u001b[0m 3ms/step - accuracy: 0.4563 - loss: 2.0396\n",
            "Epoch 50: ReduceLROnPlateau reducing learning rate to 0.0005000000237487257.\n",
            "\n",
            "Epoch 50: val_accuracy did not improve from 0.26660\n",
            "\u001b[1m5625/5625\u001b[0m \u001b[32m━━━━━━━━━━━━━━━━━━━━\u001b[0m\u001b[37m\u001b[0m \u001b[1m21s\u001b[0m 4ms/step - accuracy: 0.4562 - loss: 2.0397 - val_accuracy: 0.2624 - val_loss: 4.1560 - learning_rate: 0.0010\n",
            "Epoch 51/100\n",
            "\u001b[1m5619/5625\u001b[0m \u001b[32m━━━━━━━━━━━━━━━━━━━\u001b[0m\u001b[37m━\u001b[0m \u001b[1m0s\u001b[0m 3ms/step - accuracy: 0.4795 - loss: 1.9371\n",
            "Epoch 51: val_accuracy improved from 0.26660 to 0.27100, saving model to best_weights.weights.h5\n",
            "\u001b[1m5625/5625\u001b[0m \u001b[32m━━━━━━━━━━━━━━━━━━━━\u001b[0m\u001b[37m\u001b[0m \u001b[1m19s\u001b[0m 3ms/step - accuracy: 0.4795 - loss: 1.9371 - val_accuracy: 0.2710 - val_loss: 4.1285 - learning_rate: 5.0000e-04\n",
            "Epoch 52/100\n",
            "\u001b[1m5616/5625\u001b[0m \u001b[32m━━━━━━━━━━━━━━━━━━━\u001b[0m\u001b[37m━\u001b[0m \u001b[1m0s\u001b[0m 3ms/step - accuracy: 0.5038 - loss: 1.8351\n",
            "Epoch 52: val_accuracy did not improve from 0.27100\n",
            "\u001b[1m5625/5625\u001b[0m \u001b[32m━━━━━━━━━━━━━━━━━━━━\u001b[0m\u001b[37m\u001b[0m \u001b[1m21s\u001b[0m 4ms/step - accuracy: 0.5038 - loss: 1.8351 - val_accuracy: 0.2678 - val_loss: 4.1545 - learning_rate: 5.0000e-04\n",
            "Epoch 53/100\n",
            "\u001b[1m5622/5625\u001b[0m \u001b[32m━━━━━━━━━━━━━━━━━━━\u001b[0m\u001b[37m━\u001b[0m \u001b[1m0s\u001b[0m 3ms/step - accuracy: 0.5123 - loss: 1.8041\n",
            "Epoch 53: val_accuracy did not improve from 0.27100\n",
            "\u001b[1m5625/5625\u001b[0m \u001b[32m━━━━━━━━━━━━━━━━━━━━\u001b[0m\u001b[37m\u001b[0m \u001b[1m19s\u001b[0m 3ms/step - accuracy: 0.5123 - loss: 1.8041 - val_accuracy: 0.2646 - val_loss: 4.1573 - learning_rate: 5.0000e-04\n",
            "Epoch 54/100\n",
            "\u001b[1m5617/5625\u001b[0m \u001b[32m━━━━━━━━━━━━━━━━━━━\u001b[0m\u001b[37m━\u001b[0m \u001b[1m0s\u001b[0m 3ms/step - accuracy: 0.5145 - loss: 1.7982\n",
            "Epoch 54: val_accuracy improved from 0.27100 to 0.27720, saving model to best_weights.weights.h5\n",
            "\u001b[1m5625/5625\u001b[0m \u001b[32m━━━━━━━━━━━━━━━━━━━━\u001b[0m\u001b[37m\u001b[0m \u001b[1m22s\u001b[0m 4ms/step - accuracy: 0.5145 - loss: 1.7982 - val_accuracy: 0.2772 - val_loss: 4.0265 - learning_rate: 5.0000e-04\n",
            "Epoch 55/100\n",
            "\u001b[1m5622/5625\u001b[0m \u001b[32m━━━━━━━━━━━━━━━━━━━\u001b[0m\u001b[37m━\u001b[0m \u001b[1m0s\u001b[0m 3ms/step - accuracy: 0.5245 - loss: 1.7576\n",
            "Epoch 55: val_accuracy did not improve from 0.27720\n",
            "\u001b[1m5625/5625\u001b[0m \u001b[32m━━━━━━━━━━━━━━━━━━━━\u001b[0m\u001b[37m\u001b[0m \u001b[1m20s\u001b[0m 3ms/step - accuracy: 0.5245 - loss: 1.7576 - val_accuracy: 0.2666 - val_loss: 4.0307 - learning_rate: 5.0000e-04\n",
            "Epoch 56/100\n",
            "\u001b[1m5618/5625\u001b[0m \u001b[32m━━━━━━━━━━━━━━━━━━━\u001b[0m\u001b[37m━\u001b[0m \u001b[1m0s\u001b[0m 3ms/step - accuracy: 0.5279 - loss: 1.7289\n",
            "Epoch 56: val_accuracy did not improve from 0.27720\n",
            "\u001b[1m5625/5625\u001b[0m \u001b[32m━━━━━━━━━━━━━━━━━━━━\u001b[0m\u001b[37m\u001b[0m \u001b[1m20s\u001b[0m 3ms/step - accuracy: 0.5279 - loss: 1.7289 - val_accuracy: 0.2660 - val_loss: 4.2619 - learning_rate: 5.0000e-04\n",
            "Epoch 57/100\n",
            "\u001b[1m5616/5625\u001b[0m \u001b[32m━━━━━━━━━━━━━━━━━━━\u001b[0m\u001b[37m━\u001b[0m \u001b[1m0s\u001b[0m 3ms/step - accuracy: 0.5293 - loss: 1.7218\n",
            "Epoch 57: val_accuracy did not improve from 0.27720\n",
            "\u001b[1m5625/5625\u001b[0m \u001b[32m━━━━━━━━━━━━━━━━━━━━\u001b[0m\u001b[37m\u001b[0m \u001b[1m21s\u001b[0m 4ms/step - accuracy: 0.5293 - loss: 1.7219 - val_accuracy: 0.2712 - val_loss: 4.2599 - learning_rate: 5.0000e-04\n",
            "Epoch 58/100\n",
            "\u001b[1m5620/5625\u001b[0m \u001b[32m━━━━━━━━━━━━━━━━━━━\u001b[0m\u001b[37m━\u001b[0m \u001b[1m0s\u001b[0m 3ms/step - accuracy: 0.5398 - loss: 1.6877\n",
            "Epoch 58: val_accuracy did not improve from 0.27720\n",
            "\u001b[1m5625/5625\u001b[0m \u001b[32m━━━━━━━━━━━━━━━━━━━━\u001b[0m\u001b[37m\u001b[0m \u001b[1m19s\u001b[0m 3ms/step - accuracy: 0.5398 - loss: 1.6878 - val_accuracy: 0.2658 - val_loss: 4.4213 - learning_rate: 5.0000e-04\n",
            "Epoch 59/100\n",
            "\u001b[1m5622/5625\u001b[0m \u001b[32m━━━━━━━━━━━━━━━━━━━\u001b[0m\u001b[37m━\u001b[0m \u001b[1m0s\u001b[0m 4ms/step - accuracy: 0.5390 - loss: 1.6952\n",
            "Epoch 59: val_accuracy did not improve from 0.27720\n",
            "\u001b[1m5625/5625\u001b[0m \u001b[32m━━━━━━━━━━━━━━━━━━━━\u001b[0m\u001b[37m\u001b[0m \u001b[1m22s\u001b[0m 4ms/step - accuracy: 0.5390 - loss: 1.6952 - val_accuracy: 0.2670 - val_loss: 4.3405 - learning_rate: 5.0000e-04\n",
            "Epoch 60/100\n",
            "\u001b[1m5624/5625\u001b[0m \u001b[32m━━━━━━━━━━━━━━━━━━━\u001b[0m\u001b[37m━\u001b[0m \u001b[1m0s\u001b[0m 4ms/step - accuracy: 0.5472 - loss: 1.6616\n",
            "Epoch 60: val_accuracy did not improve from 0.27720\n",
            "\u001b[1m5625/5625\u001b[0m \u001b[32m━━━━━━━━━━━━━━━━━━━━\u001b[0m\u001b[37m\u001b[0m \u001b[1m41s\u001b[0m 4ms/step - accuracy: 0.5472 - loss: 1.6616 - val_accuracy: 0.2674 - val_loss: 4.2729 - learning_rate: 5.0000e-04\n",
            "Epoch 61/100\n",
            "\u001b[1m5619/5625\u001b[0m \u001b[32m━━━━━━━━━━━━━━━━━━━\u001b[0m\u001b[37m━\u001b[0m \u001b[1m0s\u001b[0m 3ms/step - accuracy: 0.5483 - loss: 1.6359\n",
            "Epoch 61: val_accuracy did not improve from 0.27720\n",
            "\u001b[1m5625/5625\u001b[0m \u001b[32m━━━━━━━━━━━━━━━━━━━━\u001b[0m\u001b[37m\u001b[0m \u001b[1m40s\u001b[0m 4ms/step - accuracy: 0.5483 - loss: 1.6359 - val_accuracy: 0.2684 - val_loss: 4.3790 - learning_rate: 5.0000e-04\n",
            "Epoch 62/100\n",
            "\u001b[1m5616/5625\u001b[0m \u001b[32m━━━━━━━━━━━━━━━━━━━\u001b[0m\u001b[37m━\u001b[0m \u001b[1m0s\u001b[0m 3ms/step - accuracy: 0.5512 - loss: 1.6267\n",
            "Epoch 62: val_accuracy did not improve from 0.27720\n",
            "\u001b[1m5625/5625\u001b[0m \u001b[32m━━━━━━━━━━━━━━━━━━━━\u001b[0m\u001b[37m\u001b[0m \u001b[1m20s\u001b[0m 3ms/step - accuracy: 0.5512 - loss: 1.6267 - val_accuracy: 0.2708 - val_loss: 4.3401 - learning_rate: 5.0000e-04\n",
            "Epoch 63/100\n",
            "\u001b[1m5617/5625\u001b[0m \u001b[32m━━━━━━━━━━━━━━━━━━━\u001b[0m\u001b[37m━\u001b[0m \u001b[1m0s\u001b[0m 3ms/step - accuracy: 0.5598 - loss: 1.6126\n",
            "Epoch 63: val_accuracy did not improve from 0.27720\n",
            "\u001b[1m5625/5625\u001b[0m \u001b[32m━━━━━━━━━━━━━━━━━━━━\u001b[0m\u001b[37m\u001b[0m \u001b[1m20s\u001b[0m 4ms/step - accuracy: 0.5598 - loss: 1.6127 - val_accuracy: 0.2648 - val_loss: 4.4530 - learning_rate: 5.0000e-04\n",
            "Epoch 64/100\n",
            "\u001b[1m5621/5625\u001b[0m \u001b[32m━━━━━━━━━━━━━━━━━━━\u001b[0m\u001b[37m━\u001b[0m \u001b[1m0s\u001b[0m 3ms/step - accuracy: 0.5619 - loss: 1.5949\n",
            "Epoch 64: ReduceLROnPlateau reducing learning rate to 0.0002500000118743628.\n",
            "\n",
            "Epoch 64: val_accuracy did not improve from 0.27720\n",
            "\u001b[1m5625/5625\u001b[0m \u001b[32m━━━━━━━━━━━━━━━━━━━━\u001b[0m\u001b[37m\u001b[0m \u001b[1m20s\u001b[0m 4ms/step - accuracy: 0.5618 - loss: 1.5950 - val_accuracy: 0.2694 - val_loss: 4.4703 - learning_rate: 5.0000e-04\n",
            "Epoch 65/100\n",
            "\u001b[1m5620/5625\u001b[0m \u001b[32m━━━━━━━━━━━━━━━━━━━\u001b[0m\u001b[37m━\u001b[0m \u001b[1m0s\u001b[0m 3ms/step - accuracy: 0.5748 - loss: 1.5473\n",
            "Epoch 65: val_accuracy did not improve from 0.27720\n",
            "\u001b[1m5625/5625\u001b[0m \u001b[32m━━━━━━━━━━━━━━━━━━━━\u001b[0m\u001b[37m\u001b[0m \u001b[1m20s\u001b[0m 3ms/step - accuracy: 0.5748 - loss: 1.5473 - val_accuracy: 0.2702 - val_loss: 4.3700 - learning_rate: 2.5000e-04\n",
            "Epoch 66/100\n",
            "\u001b[1m5619/5625\u001b[0m \u001b[32m━━━━━━━━━━━━━━━━━━━\u001b[0m\u001b[37m━\u001b[0m \u001b[1m0s\u001b[0m 3ms/step - accuracy: 0.5894 - loss: 1.4860\n",
            "Epoch 66: val_accuracy did not improve from 0.27720\n",
            "\u001b[1m5625/5625\u001b[0m \u001b[32m━━━━━━━━━━━━━━━━━━━━\u001b[0m\u001b[37m\u001b[0m \u001b[1m21s\u001b[0m 4ms/step - accuracy: 0.5894 - loss: 1.4861 - val_accuracy: 0.2734 - val_loss: 4.3762 - learning_rate: 2.5000e-04\n",
            "Epoch 66: early stopping\n",
            "Restoring model weights from the end of the best epoch: 54.\n"
          ]
        }
      ],
      "id": "Q45DGTSdMS6o"
    },
    {
      "cell_type": "code",
      "source": [
        "plt.plot(history.history[\"loss\"], color = 'blue')\n",
        "plt.plot(history.history[\"val_loss\"], color = 'orange')"
      ],
      "metadata": {
        "colab": {
          "base_uri": "https://localhost:8080/",
          "height": 447
        },
        "outputId": "5c56b8eb-6a87-434b-aa00-829e64838901",
        "id": "BVS1pq4pMS6o"
      },
      "execution_count": null,
      "outputs": [
        {
          "output_type": "execute_result",
          "data": {
            "text/plain": [
              "[<matplotlib.lines.Line2D at 0x7fe538ac9c90>]"
            ]
          },
          "metadata": {},
          "execution_count": 22
        },
        {
          "output_type": "display_data",
          "data": {
            "text/plain": [
              "<Figure size 640x480 with 1 Axes>"
            ],
            "image/png": "[encoded data removed]"
          },
          "metadata": {}
        }
      ],
      "id": "BVS1pq4pMS6o"
    },
    {
      "cell_type": "code",
      "source": [
        "plt.plot(history.history[\"accuracy\"], color = 'blue')\n",
        "plt.plot(history.history[\"val_accuracy\"], color = 'orange')"
      ],
      "metadata": {
        "colab": {
          "base_uri": "https://localhost:8080/",
          "height": 447
        },
        "outputId": "39b2a150-2b72-442c-8a03-189f793be409",
        "id": "y-n-HdGCMS6p"
      },
      "execution_count": null,
      "outputs": [
        {
          "output_type": "execute_result",
          "data": {
            "text/plain": [
              "[<matplotlib.lines.Line2D at 0x7fe464071b10>]"
            ]
          },
          "metadata": {},
          "execution_count": 23
        },
        {
          "output_type": "display_data",
          "data": {
            "text/plain": [
              "<Figure size 640x480 with 1 Axes>"
            ],
            "image/png": "[encoded data removed]"
          },
          "metadata": {}
        }
      ],
      "id": "y-n-HdGCMS6p"
    },
    {
      "cell_type": "markdown",
      "source": [
        "# Prueba 6 (mejor modelo encontrado)"
      ],
      "metadata": {
        "id": "6Mmy6A_XZ9dq"
      },
      "id": "6Mmy6A_XZ9dq"
    },
    {
      "cell_type": "code",
      "source": [
        "model = Sequential()\n",
        "model.add(Flatten(input_shape=(32,32,3)))\n",
        "model.add(Dense(1000))\n",
        "model.add(BatchNormalization())\n",
        "model.add(Activation(\"relu\"))\n",
        "model.add(Dense(1000))\n",
        "model.add(BatchNormalization())\n",
        "model.add(Activation(\"relu\"))\n",
        "model.add(Dense(1000))\n",
        "model.add(BatchNormalization())\n",
        "model.add(Activation(\"relu\"))\n",
        "model.add(Dense(1000))\n",
        "model.add(BatchNormalization())\n",
        "model.add(Activation(\"relu\"))\n",
        "model.add(Dense(100, activation=\"softmax\"))\n",
        "model.compile(loss=\"sparse_categorical_crossentropy\", metrics = [\"accuracy\"], optimizer = Adam(learning_rate=0.001))"
      ],
      "metadata": {
        "id": "hVLr1xT8Z9dr",
        "colab": {
          "base_uri": "https://localhost:8080/"
        },
        "outputId": "bfe76b2a-633d-44b8-ed51-1675afb9059f"
      },
      "execution_count": null,
      "outputs": [
        {
          "output_type": "stream",
          "name": "stderr",
          "text": [
            "/usr/local/lib/python3.10/dist-packages/keras/src/layers/reshaping/flatten.py:37: UserWarning: Do not pass an `input_shape`/`input_dim` argument to a layer. When using Sequential models, prefer using an `Input(shape)` object as the first layer in the model instead.\n",
            "  super().__init__(**kwargs)\n"
          ]
        }
      ],
      "id": "hVLr1xT8Z9dr"
    },
    {
      "cell_type": "code",
      "source": [
        "model.summary()"
      ],
      "metadata": {
        "colab": {
          "base_uri": "https://localhost:8080/",
          "height": 641
        },
        "outputId": "91558dbf-ea83-44bd-d86c-69e7ed8e1f00",
        "id": "PxoJOp0kZ9ds"
      },
      "execution_count": null,
      "outputs": [
        {
          "output_type": "display_data",
          "data": {
            "text/plain": [
              "\u001b[1mModel: \"sequential_1\"\u001b[0m\n"
            ],
            "text/html": [
              "<pre style=\"white-space:pre;overflow-x:auto;line-height:normal;font-family:Menlo,'DejaVu Sans Mono',consolas,'Courier New',monospace\"><span style=\"font-weight: bold\">Model: \"sequential_1\"</span>\n",
              "</pre>\n"
            ]
          },
          "metadata": {}
        },
        {
          "output_type": "display_data",
          "data": {
            "text/plain": [
              "┏━━━━━━━━━━━━━━━━━━━━━━━━━━━━━━━━━━━━━━┳━━━━━━━━━━━━━━━━━━━━━━━━━━━━━┳━━━━━━━━━━━━━━━━━┓\n",
              "┃\u001b[1m \u001b[0m\u001b[1mLayer (type)                        \u001b[0m\u001b[1m \u001b[0m┃\u001b[1m \u001b[0m\u001b[1mOutput Shape               \u001b[0m\u001b[1m \u001b[0m┃\u001b[1m \u001b[0m\u001b[1m        Param #\u001b[0m\u001b[1m \u001b[0m┃\n",
              "┡━━━━━━━━━━━━━━━━━━━━━━━━━━━━━━━━━━━━━━╇━━━━━━━━━━━━━━━━━━━━━━━━━━━━━╇━━━━━━━━━━━━━━━━━┩\n",
              "│ flatten_1 (\u001b[38;5;33mFlatten\u001b[0m)                  │ (\u001b[38;5;45mNone\u001b[0m, \u001b[38;5;34m3072\u001b[0m)                │               \u001b[38;5;34m0\u001b[0m │\n",
              "├──────────────────────────────────────┼─────────────────────────────┼─────────────────┤\n",
              "│ dense_5 (\u001b[38;5;33mDense\u001b[0m)                      │ (\u001b[38;5;45mNone\u001b[0m, \u001b[38;5;34m1000\u001b[0m)                │       \u001b[38;5;34m3,073,000\u001b[0m │\n",
              "├──────────────────────────────────────┼─────────────────────────────┼─────────────────┤\n",
              "│ batch_normalization_4                │ (\u001b[38;5;45mNone\u001b[0m, \u001b[38;5;34m1000\u001b[0m)                │           \u001b[38;5;34m4,000\u001b[0m │\n",
              "│ (\u001b[38;5;33mBatchNormalization\u001b[0m)                 │                             │                 │\n",
              "├──────────────────────────────────────┼─────────────────────────────┼─────────────────┤\n",
              "│ activation_4 (\u001b[38;5;33mActivation\u001b[0m)            │ (\u001b[38;5;45mNone\u001b[0m, \u001b[38;5;34m1000\u001b[0m)                │               \u001b[38;5;34m0\u001b[0m │\n",
              "├──────────────────────────────────────┼─────────────────────────────┼─────────────────┤\n",
              "│ dense_6 (\u001b[38;5;33mDense\u001b[0m)                      │ (\u001b[38;5;45mNone\u001b[0m, \u001b[38;5;34m1000\u001b[0m)                │       \u001b[38;5;34m1,001,000\u001b[0m │\n",
              "├──────────────────────────────────────┼─────────────────────────────┼─────────────────┤\n",
              "│ batch_normalization_5                │ (\u001b[38;5;45mNone\u001b[0m, \u001b[38;5;34m1000\u001b[0m)                │           \u001b[38;5;34m4,000\u001b[0m │\n",
              "│ (\u001b[38;5;33mBatchNormalization\u001b[0m)                 │                             │                 │\n",
              "├──────────────────────────────────────┼─────────────────────────────┼─────────────────┤\n",
              "│ activation_5 (\u001b[38;5;33mActivation\u001b[0m)            │ (\u001b[38;5;45mNone\u001b[0m, \u001b[38;5;34m1000\u001b[0m)                │               \u001b[38;5;34m0\u001b[0m │\n",
              "├──────────────────────────────────────┼─────────────────────────────┼─────────────────┤\n",
              "│ dense_7 (\u001b[38;5;33mDense\u001b[0m)                      │ (\u001b[38;5;45mNone\u001b[0m, \u001b[38;5;34m1000\u001b[0m)                │       \u001b[38;5;34m1,001,000\u001b[0m │\n",
              "├──────────────────────────────────────┼─────────────────────────────┼─────────────────┤\n",
              "│ batch_normalization_6                │ (\u001b[38;5;45mNone\u001b[0m, \u001b[38;5;34m1000\u001b[0m)                │           \u001b[38;5;34m4,000\u001b[0m │\n",
              "│ (\u001b[38;5;33mBatchNormalization\u001b[0m)                 │                             │                 │\n",
              "├──────────────────────────────────────┼─────────────────────────────┼─────────────────┤\n",
              "│ activation_6 (\u001b[38;5;33mActivation\u001b[0m)            │ (\u001b[38;5;45mNone\u001b[0m, \u001b[38;5;34m1000\u001b[0m)                │               \u001b[38;5;34m0\u001b[0m │\n",
              "├──────────────────────────────────────┼─────────────────────────────┼─────────────────┤\n",
              "│ dense_8 (\u001b[38;5;33mDense\u001b[0m)                      │ (\u001b[38;5;45mNone\u001b[0m, \u001b[38;5;34m1000\u001b[0m)                │       \u001b[38;5;34m1,001,000\u001b[0m │\n",
              "├──────────────────────────────────────┼─────────────────────────────┼─────────────────┤\n",
              "│ batch_normalization_7                │ (\u001b[38;5;45mNone\u001b[0m, \u001b[38;5;34m1000\u001b[0m)                │           \u001b[38;5;34m4,000\u001b[0m │\n",
              "│ (\u001b[38;5;33mBatchNormalization\u001b[0m)                 │                             │                 │\n",
              "├──────────────────────────────────────┼─────────────────────────────┼─────────────────┤\n",
              "│ activation_7 (\u001b[38;5;33mActivation\u001b[0m)            │ (\u001b[38;5;45mNone\u001b[0m, \u001b[38;5;34m1000\u001b[0m)                │               \u001b[38;5;34m0\u001b[0m │\n",
              "├──────────────────────────────────────┼─────────────────────────────┼─────────────────┤\n",
              "│ dense_9 (\u001b[38;5;33mDense\u001b[0m)                      │ (\u001b[38;5;45mNone\u001b[0m, \u001b[38;5;34m100\u001b[0m)                 │         \u001b[38;5;34m100,100\u001b[0m │\n",
              "└──────────────────────────────────────┴─────────────────────────────┴─────────────────┘\n"
            ],
            "text/html": [
              "<pre style=\"white-space:pre;overflow-x:auto;line-height:normal;font-family:Menlo,'DejaVu Sans Mono',consolas,'Courier New',monospace\">┏━━━━━━━━━━━━━━━━━━━━━━━━━━━━━━━━━━━━━━┳━━━━━━━━━━━━━━━━━━━━━━━━━━━━━┳━━━━━━━━━━━━━━━━━┓\n",
              "┃<span style=\"font-weight: bold\"> Layer (type)                         </span>┃<span style=\"font-weight: bold\"> Output Shape                </span>┃<span style=\"font-weight: bold\">         Param # </span>┃\n",
              "┡━━━━━━━━━━━━━━━━━━━━━━━━━━━━━━━━━━━━━━╇━━━━━━━━━━━━━━━━━━━━━━━━━━━━━╇━━━━━━━━━━━━━━━━━┩\n",
              "│ flatten_1 (<span style=\"color: #0087ff; text-decoration-color: #0087ff\">Flatten</span>)                  │ (<span style=\"color: #00d7ff; text-decoration-color: #00d7ff\">None</span>, <span style=\"color: #00af00; text-decoration-color: #00af00\">3072</span>)                │               <span style=\"color: #00af00; text-decoration-color: #00af00\">0</span> │\n",
              "├──────────────────────────────────────┼─────────────────────────────┼─────────────────┤\n",
              "│ dense_5 (<span style=\"color: #0087ff; text-decoration-color: #0087ff\">Dense</span>)                      │ (<span style=\"color: #00d7ff; text-decoration-color: #00d7ff\">None</span>, <span style=\"color: #00af00; text-decoration-color: #00af00\">1000</span>)                │       <span style=\"color: #00af00; text-decoration-color: #00af00\">3,073,000</span> │\n",
              "├──────────────────────────────────────┼─────────────────────────────┼─────────────────┤\n",
              "│ batch_normalization_4                │ (<span style=\"color: #00d7ff; text-decoration-color: #00d7ff\">None</span>, <span style=\"color: #00af00; text-decoration-color: #00af00\">1000</span>)                │           <span style=\"color: #00af00; text-decoration-color: #00af00\">4,000</span> │\n",
              "│ (<span style=\"color: #0087ff; text-decoration-color: #0087ff\">BatchNormalization</span>)                 │                             │                 │\n",
              "├──────────────────────────────────────┼─────────────────────────────┼─────────────────┤\n",
              "│ activation_4 (<span style=\"color: #0087ff; text-decoration-color: #0087ff\">Activation</span>)            │ (<span style=\"color: #00d7ff; text-decoration-color: #00d7ff\">None</span>, <span style=\"color: #00af00; text-decoration-color: #00af00\">1000</span>)                │               <span style=\"color: #00af00; text-decoration-color: #00af00\">0</span> │\n",
              "├──────────────────────────────────────┼─────────────────────────────┼─────────────────┤\n",
              "│ dense_6 (<span style=\"color: #0087ff; text-decoration-color: #0087ff\">Dense</span>)                      │ (<span style=\"color: #00d7ff; text-decoration-color: #00d7ff\">None</span>, <span style=\"color: #00af00; text-decoration-color: #00af00\">1000</span>)                │       <span style=\"color: #00af00; text-decoration-color: #00af00\">1,001,000</span> │\n",
              "├──────────────────────────────────────┼─────────────────────────────┼─────────────────┤\n",
              "│ batch_normalization_5                │ (<span style=\"color: #00d7ff; text-decoration-color: #00d7ff\">None</span>, <span style=\"color: #00af00; text-decoration-color: #00af00\">1000</span>)                │           <span style=\"color: #00af00; text-decoration-color: #00af00\">4,000</span> │\n",
              "│ (<span style=\"color: #0087ff; text-decoration-color: #0087ff\">BatchNormalization</span>)                 │                             │                 │\n",
              "├──────────────────────────────────────┼─────────────────────────────┼─────────────────┤\n",
              "│ activation_5 (<span style=\"color: #0087ff; text-decoration-color: #0087ff\">Activation</span>)            │ (<span style=\"color: #00d7ff; text-decoration-color: #00d7ff\">None</span>, <span style=\"color: #00af00; text-decoration-color: #00af00\">1000</span>)                │               <span style=\"color: #00af00; text-decoration-color: #00af00\">0</span> │\n",
              "├──────────────────────────────────────┼─────────────────────────────┼─────────────────┤\n",
              "│ dense_7 (<span style=\"color: #0087ff; text-decoration-color: #0087ff\">Dense</span>)                      │ (<span style=\"color: #00d7ff; text-decoration-color: #00d7ff\">None</span>, <span style=\"color: #00af00; text-decoration-color: #00af00\">1000</span>)                │       <span style=\"color: #00af00; text-decoration-color: #00af00\">1,001,000</span> │\n",
              "├──────────────────────────────────────┼─────────────────────────────┼─────────────────┤\n",
              "│ batch_normalization_6                │ (<span style=\"color: #00d7ff; text-decoration-color: #00d7ff\">None</span>, <span style=\"color: #00af00; text-decoration-color: #00af00\">1000</span>)                │           <span style=\"color: #00af00; text-decoration-color: #00af00\">4,000</span> │\n",
              "│ (<span style=\"color: #0087ff; text-decoration-color: #0087ff\">BatchNormalization</span>)                 │                             │                 │\n",
              "├──────────────────────────────────────┼─────────────────────────────┼─────────────────┤\n",
              "│ activation_6 (<span style=\"color: #0087ff; text-decoration-color: #0087ff\">Activation</span>)            │ (<span style=\"color: #00d7ff; text-decoration-color: #00d7ff\">None</span>, <span style=\"color: #00af00; text-decoration-color: #00af00\">1000</span>)                │               <span style=\"color: #00af00; text-decoration-color: #00af00\">0</span> │\n",
              "├──────────────────────────────────────┼─────────────────────────────┼─────────────────┤\n",
              "│ dense_8 (<span style=\"color: #0087ff; text-decoration-color: #0087ff\">Dense</span>)                      │ (<span style=\"color: #00d7ff; text-decoration-color: #00d7ff\">None</span>, <span style=\"color: #00af00; text-decoration-color: #00af00\">1000</span>)                │       <span style=\"color: #00af00; text-decoration-color: #00af00\">1,001,000</span> │\n",
              "├──────────────────────────────────────┼─────────────────────────────┼─────────────────┤\n",
              "│ batch_normalization_7                │ (<span style=\"color: #00d7ff; text-decoration-color: #00d7ff\">None</span>, <span style=\"color: #00af00; text-decoration-color: #00af00\">1000</span>)                │           <span style=\"color: #00af00; text-decoration-color: #00af00\">4,000</span> │\n",
              "│ (<span style=\"color: #0087ff; text-decoration-color: #0087ff\">BatchNormalization</span>)                 │                             │                 │\n",
              "├──────────────────────────────────────┼─────────────────────────────┼─────────────────┤\n",
              "│ activation_7 (<span style=\"color: #0087ff; text-decoration-color: #0087ff\">Activation</span>)            │ (<span style=\"color: #00d7ff; text-decoration-color: #00d7ff\">None</span>, <span style=\"color: #00af00; text-decoration-color: #00af00\">1000</span>)                │               <span style=\"color: #00af00; text-decoration-color: #00af00\">0</span> │\n",
              "├──────────────────────────────────────┼─────────────────────────────┼─────────────────┤\n",
              "│ dense_9 (<span style=\"color: #0087ff; text-decoration-color: #0087ff\">Dense</span>)                      │ (<span style=\"color: #00d7ff; text-decoration-color: #00d7ff\">None</span>, <span style=\"color: #00af00; text-decoration-color: #00af00\">100</span>)                 │         <span style=\"color: #00af00; text-decoration-color: #00af00\">100,100</span> │\n",
              "└──────────────────────────────────────┴─────────────────────────────┴─────────────────┘\n",
              "</pre>\n"
            ]
          },
          "metadata": {}
        },
        {
          "output_type": "display_data",
          "data": {
            "text/plain": [
              "\u001b[1m Total params: \u001b[0m\u001b[38;5;34m6,192,100\u001b[0m (23.62 MB)\n"
            ],
            "text/html": [
              "<pre style=\"white-space:pre;overflow-x:auto;line-height:normal;font-family:Menlo,'DejaVu Sans Mono',consolas,'Courier New',monospace\"><span style=\"font-weight: bold\"> Total params: </span><span style=\"color: #00af00; text-decoration-color: #00af00\">6,192,100</span> (23.62 MB)\n",
              "</pre>\n"
            ]
          },
          "metadata": {}
        },
        {
          "output_type": "display_data",
          "data": {
            "text/plain": [
              "\u001b[1m Trainable params: \u001b[0m\u001b[38;5;34m6,184,100\u001b[0m (23.59 MB)\n"
            ],
            "text/html": [
              "<pre style=\"white-space:pre;overflow-x:auto;line-height:normal;font-family:Menlo,'DejaVu Sans Mono',consolas,'Courier New',monospace\"><span style=\"font-weight: bold\"> Trainable params: </span><span style=\"color: #00af00; text-decoration-color: #00af00\">6,184,100</span> (23.59 MB)\n",
              "</pre>\n"
            ]
          },
          "metadata": {}
        },
        {
          "output_type": "display_data",
          "data": {
            "text/plain": [
              "\u001b[1m Non-trainable params: \u001b[0m\u001b[38;5;34m8,000\u001b[0m (31.25 KB)\n"
            ],
            "text/html": [
              "<pre style=\"white-space:pre;overflow-x:auto;line-height:normal;font-family:Menlo,'DejaVu Sans Mono',consolas,'Courier New',monospace\"><span style=\"font-weight: bold\"> Non-trainable params: </span><span style=\"color: #00af00; text-decoration-color: #00af00\">8,000</span> (31.25 KB)\n",
              "</pre>\n"
            ]
          },
          "metadata": {}
        }
      ],
      "id": "PxoJOp0kZ9ds"
    },
    {
      "cell_type": "code",
      "source": [
        "rlrop = ReduceLROnPlateau(\n",
        "    monitor = \"val_accuracy\",\n",
        "    factor = 0.5,\n",
        "    patience = 8,\n",
        "    verbose = 1,\n",
        "    min_lr = 1e-5\n",
        ")"
      ],
      "metadata": {
        "id": "LoPeZvNIZ9ds"
      },
      "execution_count": null,
      "outputs": [],
      "id": "LoPeZvNIZ9ds"
    },
    {
      "cell_type": "code",
      "source": [
        "mc = ModelCheckpoint(\n",
        "    \"best_weights.weights.h5\",\n",
        "    monitor = \"val_accuracy\",\n",
        "    verbose = 1,\n",
        "    save_best_only = True,\n",
        "    save_weights_only = True,\n",
        ")"
      ],
      "metadata": {
        "id": "STQpQ8S8Z9dt"
      },
      "execution_count": null,
      "outputs": [],
      "id": "STQpQ8S8Z9dt"
    },
    {
      "cell_type": "code",
      "source": [
        "es = EarlyStopping(\n",
        "    monitor = \"val_accuracy\",\n",
        "    patience = 12,\n",
        "    verbose = 1,\n",
        "    restore_best_weights = True,\n",
        ")"
      ],
      "metadata": {
        "id": "NEYQtF0rZ9dt"
      },
      "execution_count": null,
      "outputs": [],
      "id": "NEYQtF0rZ9dt"
    },
    {
      "cell_type": "code",
      "source": [
        "tb = TensorBoard(\n",
        "    log_dir=\"logs\",\n",
        ")"
      ],
      "metadata": {
        "id": "xZ0UbPErZ9dt"
      },
      "execution_count": null,
      "outputs": [],
      "id": "xZ0UbPErZ9dt"
    },
    {
      "cell_type": "code",
      "source": [
        "history = model.fit(\n",
        "    x = x_train,\n",
        "    y= y_train,\n",
        "    batch_size=16,\n",
        "    epochs=100,\n",
        "    validation_data = (x_val, y_val),\n",
        "    callbacks= [\n",
        "        rlrop,\n",
        "        es,\n",
        "        mc\n",
        "    ]\n",
        ")"
      ],
      "metadata": {
        "colab": {
          "base_uri": "https://localhost:8080/"
        },
        "outputId": "7e805cf5-ecc0-4f87-8dd2-78efe9ae7295",
        "id": "vi8HwlFeZ9du"
      },
      "execution_count": null,
      "outputs": [
        {
          "output_type": "stream",
          "name": "stdout",
          "text": [
            "Epoch 1/100\n",
            "\u001b[1m2813/2813\u001b[0m \u001b[32m━━━━━━━━━━━━━━━━━━━━\u001b[0m\u001b[37m\u001b[0m \u001b[1m0s\u001b[0m 4ms/step - accuracy: 0.0706 - loss: 4.3349\n",
            "Epoch 1: val_accuracy improved from -inf to 0.13020, saving model to best_weights.weights.h5\n",
            "\u001b[1m2813/2813\u001b[0m \u001b[32m━━━━━━━━━━━━━━━━━━━━\u001b[0m\u001b[37m\u001b[0m \u001b[1m18s\u001b[0m 5ms/step - accuracy: 0.0707 - loss: 4.3348 - val_accuracy: 0.1302 - val_loss: 3.8265 - learning_rate: 0.0010\n",
            "Epoch 2/100\n",
            "\u001b[1m2805/2813\u001b[0m \u001b[32m━━━━━━━━━━━━━━━━━━━\u001b[0m\u001b[37m━\u001b[0m \u001b[1m0s\u001b[0m 3ms/step - accuracy: 0.1385 - loss: 3.6730\n",
            "Epoch 2: val_accuracy improved from 0.13020 to 0.14860, saving model to best_weights.weights.h5\n",
            "\u001b[1m2813/2813\u001b[0m \u001b[32m━━━━━━━━━━━━━━━━━━━━\u001b[0m\u001b[37m\u001b[0m \u001b[1m10s\u001b[0m 4ms/step - accuracy: 0.1385 - loss: 3.6728 - val_accuracy: 0.1486 - val_loss: 3.6232 - learning_rate: 0.0010\n",
            "Epoch 3/100\n",
            "\u001b[1m2810/2813\u001b[0m \u001b[32m━━━━━━━━━━━━━━━━━━━\u001b[0m\u001b[37m━\u001b[0m \u001b[1m0s\u001b[0m 3ms/step - accuracy: 0.1737 - loss: 3.4511\n",
            "Epoch 3: val_accuracy improved from 0.14860 to 0.16440, saving model to best_weights.weights.h5\n",
            "\u001b[1m2813/2813\u001b[0m \u001b[32m━━━━━━━━━━━━━━━━━━━━\u001b[0m\u001b[37m\u001b[0m \u001b[1m11s\u001b[0m 4ms/step - accuracy: 0.1737 - loss: 3.4511 - val_accuracy: 0.1644 - val_loss: 3.5417 - learning_rate: 0.0010\n",
            "Epoch 4/100\n",
            "\u001b[1m2800/2813\u001b[0m \u001b[32m━━━━━━━━━━━━━━━━━━━\u001b[0m\u001b[37m━\u001b[0m \u001b[1m0s\u001b[0m 4ms/step - accuracy: 0.2003 - loss: 3.3147\n",
            "Epoch 4: val_accuracy improved from 0.16440 to 0.20540, saving model to best_weights.weights.h5\n",
            "\u001b[1m2813/2813\u001b[0m \u001b[32m━━━━━━━━━━━━━━━━━━━━\u001b[0m\u001b[37m\u001b[0m \u001b[1m22s\u001b[0m 4ms/step - accuracy: 0.2003 - loss: 3.3147 - val_accuracy: 0.2054 - val_loss: 3.3469 - learning_rate: 0.0010\n",
            "Epoch 5/100\n",
            "\u001b[1m2805/2813\u001b[0m \u001b[32m━━━━━━━━━━━━━━━━━━━\u001b[0m\u001b[37m━\u001b[0m \u001b[1m0s\u001b[0m 4ms/step - accuracy: 0.2240 - loss: 3.1769\n",
            "Epoch 5: val_accuracy did not improve from 0.20540\n",
            "\u001b[1m2813/2813\u001b[0m \u001b[32m━━━━━━━━━━━━━━━━━━━━\u001b[0m\u001b[37m\u001b[0m \u001b[1m19s\u001b[0m 4ms/step - accuracy: 0.2240 - loss: 3.1769 - val_accuracy: 0.2046 - val_loss: 3.3776 - learning_rate: 0.0010\n",
            "Epoch 6/100\n",
            "\u001b[1m2802/2813\u001b[0m \u001b[32m━━━━━━━━━━━━━━━━━━━\u001b[0m\u001b[37m━\u001b[0m \u001b[1m0s\u001b[0m 3ms/step - accuracy: 0.2412 - loss: 3.0687\n",
            "Epoch 6: val_accuracy improved from 0.20540 to 0.22600, saving model to best_weights.weights.h5\n",
            "\u001b[1m2813/2813\u001b[0m \u001b[32m━━━━━━━━━━━━━━━━━━━━\u001b[0m\u001b[37m\u001b[0m \u001b[1m10s\u001b[0m 4ms/step - accuracy: 0.2412 - loss: 3.0687 - val_accuracy: 0.2260 - val_loss: 3.2339 - learning_rate: 0.0010\n",
            "Epoch 7/100\n",
            "\u001b[1m2798/2813\u001b[0m \u001b[32m━━━━━━━━━━━━━━━━━━━\u001b[0m\u001b[37m━\u001b[0m \u001b[1m0s\u001b[0m 3ms/step - accuracy: 0.2613 - loss: 2.9745\n",
            "Epoch 7: val_accuracy did not improve from 0.22600\n",
            "\u001b[1m2813/2813\u001b[0m \u001b[32m━━━━━━━━━━━━━━━━━━━━\u001b[0m\u001b[37m\u001b[0m \u001b[1m20s\u001b[0m 3ms/step - accuracy: 0.2613 - loss: 2.9746 - val_accuracy: 0.2166 - val_loss: 3.2621 - learning_rate: 0.0010\n",
            "Epoch 8/100\n",
            "\u001b[1m2802/2813\u001b[0m \u001b[32m━━━━━━━━━━━━━━━━━━━\u001b[0m\u001b[37m━\u001b[0m \u001b[1m0s\u001b[0m 3ms/step - accuracy: 0.2782 - loss: 2.8767\n",
            "Epoch 8: val_accuracy did not improve from 0.22600\n",
            "\u001b[1m2813/2813\u001b[0m \u001b[32m━━━━━━━━━━━━━━━━━━━━\u001b[0m\u001b[37m\u001b[0m \u001b[1m10s\u001b[0m 4ms/step - accuracy: 0.2782 - loss: 2.8767 - val_accuracy: 0.2204 - val_loss: 3.3307 - learning_rate: 0.0010\n",
            "Epoch 9/100\n",
            "\u001b[1m2813/2813\u001b[0m \u001b[32m━━━━━━━━━━━━━━━━━━━━\u001b[0m\u001b[37m\u001b[0m \u001b[1m0s\u001b[0m 3ms/step - accuracy: 0.2939 - loss: 2.7856\n",
            "Epoch 9: val_accuracy improved from 0.22600 to 0.25160, saving model to best_weights.weights.h5\n",
            "\u001b[1m2813/2813\u001b[0m \u001b[32m━━━━━━━━━━━━━━━━━━━━\u001b[0m\u001b[37m\u001b[0m \u001b[1m10s\u001b[0m 4ms/step - accuracy: 0.2939 - loss: 2.7857 - val_accuracy: 0.2516 - val_loss: 3.1522 - learning_rate: 0.0010\n",
            "Epoch 10/100\n",
            "\u001b[1m2809/2813\u001b[0m \u001b[32m━━━━━━━━━━━━━━━━━━━\u001b[0m\u001b[37m━\u001b[0m \u001b[1m0s\u001b[0m 3ms/step - accuracy: 0.3117 - loss: 2.7057\n",
            "Epoch 10: val_accuracy did not improve from 0.25160\n",
            "\u001b[1m2813/2813\u001b[0m \u001b[32m━━━━━━━━━━━━━━━━━━━━\u001b[0m\u001b[37m\u001b[0m \u001b[1m10s\u001b[0m 3ms/step - accuracy: 0.3117 - loss: 2.7057 - val_accuracy: 0.2348 - val_loss: 3.3042 - learning_rate: 0.0010\n",
            "Epoch 11/100\n",
            "\u001b[1m2807/2813\u001b[0m \u001b[32m━━━━━━━━━━━━━━━━━━━\u001b[0m\u001b[37m━\u001b[0m \u001b[1m0s\u001b[0m 3ms/step - accuracy: 0.3261 - loss: 2.6170\n",
            "Epoch 11: val_accuracy did not improve from 0.25160\n",
            "\u001b[1m2813/2813\u001b[0m \u001b[32m━━━━━━━━━━━━━━━━━━━━\u001b[0m\u001b[37m\u001b[0m \u001b[1m10s\u001b[0m 4ms/step - accuracy: 0.3261 - loss: 2.6170 - val_accuracy: 0.2498 - val_loss: 3.2770 - learning_rate: 0.0010\n",
            "Epoch 12/100\n",
            "\u001b[1m2813/2813\u001b[0m \u001b[32m━━━━━━━━━━━━━━━━━━━━\u001b[0m\u001b[37m\u001b[0m \u001b[1m0s\u001b[0m 3ms/step - accuracy: 0.3401 - loss: 2.5399\n",
            "Epoch 12: val_accuracy improved from 0.25160 to 0.25520, saving model to best_weights.weights.h5\n",
            "\u001b[1m2813/2813\u001b[0m \u001b[32m━━━━━━━━━━━━━━━━━━━━\u001b[0m\u001b[37m\u001b[0m \u001b[1m11s\u001b[0m 4ms/step - accuracy: 0.3401 - loss: 2.5399 - val_accuracy: 0.2552 - val_loss: 3.2181 - learning_rate: 0.0010\n",
            "Epoch 13/100\n",
            "\u001b[1m2809/2813\u001b[0m \u001b[32m━━━━━━━━━━━━━━━━━━━\u001b[0m\u001b[37m━\u001b[0m \u001b[1m0s\u001b[0m 3ms/step - accuracy: 0.3614 - loss: 2.4325\n",
            "Epoch 13: val_accuracy improved from 0.25520 to 0.25600, saving model to best_weights.weights.h5\n",
            "\u001b[1m2813/2813\u001b[0m \u001b[32m━━━━━━━━━━━━━━━━━━━━\u001b[0m\u001b[37m\u001b[0m \u001b[1m10s\u001b[0m 4ms/step - accuracy: 0.3614 - loss: 2.4326 - val_accuracy: 0.2560 - val_loss: 3.3368 - learning_rate: 0.0010\n",
            "Epoch 14/100\n",
            "\u001b[1m2805/2813\u001b[0m \u001b[32m━━━━━━━━━━━━━━━━━━━\u001b[0m\u001b[37m━\u001b[0m \u001b[1m0s\u001b[0m 4ms/step - accuracy: 0.3746 - loss: 2.3693\n",
            "Epoch 14: val_accuracy improved from 0.25600 to 0.25980, saving model to best_weights.weights.h5\n",
            "\u001b[1m2813/2813\u001b[0m \u001b[32m━━━━━━━━━━━━━━━━━━━━\u001b[0m\u001b[37m\u001b[0m \u001b[1m22s\u001b[0m 4ms/step - accuracy: 0.3746 - loss: 2.3694 - val_accuracy: 0.2598 - val_loss: 3.2611 - learning_rate: 0.0010\n",
            "Epoch 15/100\n",
            "\u001b[1m2812/2813\u001b[0m \u001b[32m━━━━━━━━━━━━━━━━━━━\u001b[0m\u001b[37m━\u001b[0m \u001b[1m0s\u001b[0m 4ms/step - accuracy: 0.3966 - loss: 2.2733\n",
            "Epoch 15: val_accuracy did not improve from 0.25980\n",
            "\u001b[1m2813/2813\u001b[0m \u001b[32m━━━━━━━━━━━━━━━━━━━━\u001b[0m\u001b[37m\u001b[0m \u001b[1m10s\u001b[0m 4ms/step - accuracy: 0.3966 - loss: 2.2733 - val_accuracy: 0.2508 - val_loss: 3.4739 - learning_rate: 0.0010\n",
            "Epoch 16/100\n",
            "\u001b[1m2810/2813\u001b[0m \u001b[32m━━━━━━━━━━━━━━━━━━━\u001b[0m\u001b[37m━\u001b[0m \u001b[1m0s\u001b[0m 3ms/step - accuracy: 0.4161 - loss: 2.1929\n",
            "Epoch 16: val_accuracy improved from 0.25980 to 0.26440, saving model to best_weights.weights.h5\n",
            "\u001b[1m2813/2813\u001b[0m \u001b[32m━━━━━━━━━━━━━━━━━━━━\u001b[0m\u001b[37m\u001b[0m \u001b[1m21s\u001b[0m 4ms/step - accuracy: 0.4161 - loss: 2.1929 - val_accuracy: 0.2644 - val_loss: 3.2655 - learning_rate: 0.0010\n",
            "Epoch 17/100\n",
            "\u001b[1m2810/2813\u001b[0m \u001b[32m━━━━━━━━━━━━━━━━━━━\u001b[0m\u001b[37m━\u001b[0m \u001b[1m0s\u001b[0m 3ms/step - accuracy: 0.4328 - loss: 2.1122\n",
            "Epoch 17: val_accuracy did not improve from 0.26440\n",
            "\u001b[1m2813/2813\u001b[0m \u001b[32m━━━━━━━━━━━━━━━━━━━━\u001b[0m\u001b[37m\u001b[0m \u001b[1m9s\u001b[0m 3ms/step - accuracy: 0.4328 - loss: 2.1123 - val_accuracy: 0.2590 - val_loss: 3.4683 - learning_rate: 0.0010\n",
            "Epoch 18/100\n",
            "\u001b[1m2805/2813\u001b[0m \u001b[32m━━━━━━━━━━━━━━━━━━━\u001b[0m\u001b[37m━\u001b[0m \u001b[1m0s\u001b[0m 3ms/step - accuracy: 0.4534 - loss: 2.0351\n",
            "Epoch 18: val_accuracy did not improve from 0.26440\n",
            "\u001b[1m2813/2813\u001b[0m \u001b[32m━━━━━━━━━━━━━━━━━━━━\u001b[0m\u001b[37m\u001b[0m \u001b[1m11s\u001b[0m 3ms/step - accuracy: 0.4534 - loss: 2.0352 - val_accuracy: 0.2570 - val_loss: 3.4900 - learning_rate: 0.0010\n",
            "Epoch 19/100\n",
            "\u001b[1m2808/2813\u001b[0m \u001b[32m━━━━━━━━━━━━━━━━━━━\u001b[0m\u001b[37m━\u001b[0m \u001b[1m0s\u001b[0m 3ms/step - accuracy: 0.4693 - loss: 1.9534\n",
            "Epoch 19: val_accuracy did not improve from 0.26440\n",
            "\u001b[1m2813/2813\u001b[0m \u001b[32m━━━━━━━━━━━━━━━━━━━━\u001b[0m\u001b[37m\u001b[0m \u001b[1m10s\u001b[0m 4ms/step - accuracy: 0.4692 - loss: 1.9535 - val_accuracy: 0.2590 - val_loss: 3.6537 - learning_rate: 0.0010\n",
            "Epoch 20/100\n",
            "\u001b[1m2804/2813\u001b[0m \u001b[32m━━━━━━━━━━━━━━━━━━━\u001b[0m\u001b[37m━\u001b[0m \u001b[1m0s\u001b[0m 3ms/step - accuracy: 0.4883 - loss: 1.8605\n",
            "Epoch 20: val_accuracy did not improve from 0.26440\n",
            "\u001b[1m2813/2813\u001b[0m \u001b[32m━━━━━━━━━━━━━━━━━━━━\u001b[0m\u001b[37m\u001b[0m \u001b[1m10s\u001b[0m 4ms/step - accuracy: 0.4883 - loss: 1.8608 - val_accuracy: 0.2516 - val_loss: 3.6930 - learning_rate: 0.0010\n",
            "Epoch 21/100\n",
            "\u001b[1m2810/2813\u001b[0m \u001b[32m━━━━━━━━━━━━━━━━━━━\u001b[0m\u001b[37m━\u001b[0m \u001b[1m0s\u001b[0m 3ms/step - accuracy: 0.5049 - loss: 1.7877\n",
            "Epoch 21: val_accuracy did not improve from 0.26440\n",
            "\u001b[1m2813/2813\u001b[0m \u001b[32m━━━━━━━━━━━━━━━━━━━━\u001b[0m\u001b[37m\u001b[0m \u001b[1m9s\u001b[0m 3ms/step - accuracy: 0.5049 - loss: 1.7878 - val_accuracy: 0.2608 - val_loss: 3.7069 - learning_rate: 0.0010\n",
            "Epoch 22/100\n",
            "\u001b[1m2813/2813\u001b[0m \u001b[32m━━━━━━━━━━━━━━━━━━━━\u001b[0m\u001b[37m\u001b[0m \u001b[1m0s\u001b[0m 3ms/step - accuracy: 0.5262 - loss: 1.7048\n",
            "Epoch 22: val_accuracy improved from 0.26440 to 0.26620, saving model to best_weights.weights.h5\n",
            "\u001b[1m2813/2813\u001b[0m \u001b[32m━━━━━━━━━━━━━━━━━━━━\u001b[0m\u001b[37m\u001b[0m \u001b[1m11s\u001b[0m 4ms/step - accuracy: 0.5262 - loss: 1.7048 - val_accuracy: 0.2662 - val_loss: 3.7193 - learning_rate: 0.0010\n",
            "Epoch 23/100\n",
            "\u001b[1m2801/2813\u001b[0m \u001b[32m━━━━━━━━━━━━━━━━━━━\u001b[0m\u001b[37m━\u001b[0m \u001b[1m0s\u001b[0m 3ms/step - accuracy: 0.5404 - loss: 1.6374\n",
            "Epoch 23: val_accuracy did not improve from 0.26620\n",
            "\u001b[1m2813/2813\u001b[0m \u001b[32m━━━━━━━━━━━━━━━━━━━━\u001b[0m\u001b[37m\u001b[0m \u001b[1m10s\u001b[0m 4ms/step - accuracy: 0.5403 - loss: 1.6376 - val_accuracy: 0.2484 - val_loss: 4.1027 - learning_rate: 0.0010\n",
            "Epoch 24/100\n",
            "\u001b[1m2803/2813\u001b[0m \u001b[32m━━━━━━━━━━━━━━━━━━━\u001b[0m\u001b[37m━\u001b[0m \u001b[1m0s\u001b[0m 3ms/step - accuracy: 0.5617 - loss: 1.5574\n",
            "Epoch 24: val_accuracy did not improve from 0.26620\n",
            "\u001b[1m2813/2813\u001b[0m \u001b[32m━━━━━━━━━━━━━━━━━━━━\u001b[0m\u001b[37m\u001b[0m \u001b[1m20s\u001b[0m 3ms/step - accuracy: 0.5617 - loss: 1.5577 - val_accuracy: 0.2548 - val_loss: 4.0175 - learning_rate: 0.0010\n",
            "Epoch 25/100\n",
            "\u001b[1m2813/2813\u001b[0m \u001b[32m━━━━━━━━━━━━━━━━━━━━\u001b[0m\u001b[37m\u001b[0m \u001b[1m0s\u001b[0m 4ms/step - accuracy: 0.5770 - loss: 1.5022\n",
            "Epoch 25: val_accuracy improved from 0.26620 to 0.26940, saving model to best_weights.weights.h5\n",
            "\u001b[1m2813/2813\u001b[0m \u001b[32m━━━━━━━━━━━━━━━━━━━━\u001b[0m\u001b[37m\u001b[0m \u001b[1m12s\u001b[0m 4ms/step - accuracy: 0.5770 - loss: 1.5022 - val_accuracy: 0.2694 - val_loss: 3.9628 - learning_rate: 0.0010\n",
            "Epoch 26/100\n",
            "\u001b[1m2808/2813\u001b[0m \u001b[32m━━━━━━━━━━━━━━━━━━━\u001b[0m\u001b[37m━\u001b[0m \u001b[1m0s\u001b[0m 4ms/step - accuracy: 0.5973 - loss: 1.4176\n",
            "Epoch 26: val_accuracy did not improve from 0.26940\n",
            "\u001b[1m2813/2813\u001b[0m \u001b[32m━━━━━━━━━━━━━━━━━━━━\u001b[0m\u001b[37m\u001b[0m \u001b[1m11s\u001b[0m 4ms/step - accuracy: 0.5973 - loss: 1.4177 - val_accuracy: 0.2592 - val_loss: 4.1422 - learning_rate: 0.0010\n",
            "Epoch 27/100\n",
            "\u001b[1m2809/2813\u001b[0m \u001b[32m━━━━━━━━━━━━━━━━━━━\u001b[0m\u001b[37m━\u001b[0m \u001b[1m0s\u001b[0m 3ms/step - accuracy: 0.6062 - loss: 1.3780\n",
            "Epoch 27: val_accuracy did not improve from 0.26940\n",
            "\u001b[1m2813/2813\u001b[0m \u001b[32m━━━━━━━━━━━━━━━━━━━━\u001b[0m\u001b[37m\u001b[0m \u001b[1m20s\u001b[0m 4ms/step - accuracy: 0.6062 - loss: 1.3781 - val_accuracy: 0.2652 - val_loss: 4.1533 - learning_rate: 0.0010\n",
            "Epoch 28/100\n",
            "\u001b[1m2809/2813\u001b[0m \u001b[32m━━━━━━━━━━━━━━━━━━━\u001b[0m\u001b[37m━\u001b[0m \u001b[1m0s\u001b[0m 3ms/step - accuracy: 0.6258 - loss: 1.3142\n",
            "Epoch 28: val_accuracy did not improve from 0.26940\n",
            "\u001b[1m2813/2813\u001b[0m \u001b[32m━━━━━━━━━━━━━━━━━━━━\u001b[0m\u001b[37m\u001b[0m \u001b[1m10s\u001b[0m 3ms/step - accuracy: 0.6258 - loss: 1.3143 - val_accuracy: 0.2524 - val_loss: 4.3806 - learning_rate: 0.0010\n",
            "Epoch 29/100\n",
            "\u001b[1m2809/2813\u001b[0m \u001b[32m━━━━━━━━━━━━━━━━━━━\u001b[0m\u001b[37m━\u001b[0m \u001b[1m0s\u001b[0m 3ms/step - accuracy: 0.6400 - loss: 1.2509\n",
            "Epoch 29: val_accuracy did not improve from 0.26940\n",
            "\u001b[1m2813/2813\u001b[0m \u001b[32m━━━━━━━━━━━━━━━━━━━━\u001b[0m\u001b[37m\u001b[0m \u001b[1m11s\u001b[0m 4ms/step - accuracy: 0.6400 - loss: 1.2510 - val_accuracy: 0.2476 - val_loss: 4.4486 - learning_rate: 0.0010\n",
            "Epoch 30/100\n",
            "\u001b[1m2811/2813\u001b[0m \u001b[32m━━━━━━━━━━━━━━━━━━━\u001b[0m\u001b[37m━\u001b[0m \u001b[1m0s\u001b[0m 3ms/step - accuracy: 0.6536 - loss: 1.1872\n",
            "Epoch 30: val_accuracy did not improve from 0.26940\n",
            "\u001b[1m2813/2813\u001b[0m \u001b[32m━━━━━━━━━━━━━━━━━━━━\u001b[0m\u001b[37m\u001b[0m \u001b[1m10s\u001b[0m 4ms/step - accuracy: 0.6536 - loss: 1.1872 - val_accuracy: 0.2616 - val_loss: 4.4824 - learning_rate: 0.0010\n",
            "Epoch 31/100\n",
            "\u001b[1m2811/2813\u001b[0m \u001b[32m━━━━━━━━━━━━━━━━━━━\u001b[0m\u001b[37m━\u001b[0m \u001b[1m0s\u001b[0m 3ms/step - accuracy: 0.6653 - loss: 1.1517\n",
            "Epoch 31: val_accuracy did not improve from 0.26940\n",
            "\u001b[1m2813/2813\u001b[0m \u001b[32m━━━━━━━━━━━━━━━━━━━━\u001b[0m\u001b[37m\u001b[0m \u001b[1m10s\u001b[0m 3ms/step - accuracy: 0.6653 - loss: 1.1517 - val_accuracy: 0.2540 - val_loss: 4.6353 - learning_rate: 0.0010\n",
            "Epoch 32/100\n",
            "\u001b[1m2804/2813\u001b[0m \u001b[32m━━━━━━━━━━━━━━━━━━━\u001b[0m\u001b[37m━\u001b[0m \u001b[1m0s\u001b[0m 3ms/step - accuracy: 0.6726 - loss: 1.1185\n",
            "Epoch 32: val_accuracy did not improve from 0.26940\n",
            "\u001b[1m2813/2813\u001b[0m \u001b[32m━━━━━━━━━━━━━━━━━━━━\u001b[0m\u001b[37m\u001b[0m \u001b[1m10s\u001b[0m 4ms/step - accuracy: 0.6726 - loss: 1.1187 - val_accuracy: 0.2598 - val_loss: 4.5914 - learning_rate: 0.0010\n",
            "Epoch 33/100\n",
            "\u001b[1m2811/2813\u001b[0m \u001b[32m━━━━━━━━━━━━━━━━━━━\u001b[0m\u001b[37m━\u001b[0m \u001b[1m0s\u001b[0m 3ms/step - accuracy: 0.6888 - loss: 1.0688\n",
            "Epoch 33: ReduceLROnPlateau reducing learning rate to 0.0005000000237487257.\n",
            "\n",
            "Epoch 33: val_accuracy did not improve from 0.26940\n",
            "\u001b[1m2813/2813\u001b[0m \u001b[32m━━━━━━━━━━━━━━━━━━━━\u001b[0m\u001b[37m\u001b[0m \u001b[1m10s\u001b[0m 4ms/step - accuracy: 0.6888 - loss: 1.0689 - val_accuracy: 0.2648 - val_loss: 4.7861 - learning_rate: 0.0010\n",
            "Epoch 34/100\n",
            "\u001b[1m2801/2813\u001b[0m \u001b[32m━━━━━━━━━━━━━━━━━━━\u001b[0m\u001b[37m━\u001b[0m \u001b[1m0s\u001b[0m 3ms/step - accuracy: 0.7386 - loss: 0.8915\n",
            "Epoch 34: val_accuracy improved from 0.26940 to 0.28440, saving model to best_weights.weights.h5\n",
            "\u001b[1m2813/2813\u001b[0m \u001b[32m━━━━━━━━━━━━━━━━━━━━\u001b[0m\u001b[37m\u001b[0m \u001b[1m10s\u001b[0m 4ms/step - accuracy: 0.7387 - loss: 0.8914 - val_accuracy: 0.2844 - val_loss: 4.5898 - learning_rate: 5.0000e-04\n",
            "Epoch 35/100\n",
            "\u001b[1m2799/2813\u001b[0m \u001b[32m━━━━━━━━━━━━━━━━━━━\u001b[0m\u001b[37m━\u001b[0m \u001b[1m0s\u001b[0m 3ms/step - accuracy: 0.7779 - loss: 0.7513\n",
            "Epoch 35: val_accuracy improved from 0.28440 to 0.29420, saving model to best_weights.weights.h5\n",
            "\u001b[1m2813/2813\u001b[0m \u001b[32m━━━━━━━━━━━━━━━━━━━━\u001b[0m\u001b[37m\u001b[0m \u001b[1m9s\u001b[0m 3ms/step - accuracy: 0.7778 - loss: 0.7515 - val_accuracy: 0.2942 - val_loss: 4.7378 - learning_rate: 5.0000e-04\n",
            "Epoch 36/100\n",
            "\u001b[1m2806/2813\u001b[0m \u001b[32m━━━━━━━━━━━━━━━━━━━\u001b[0m\u001b[37m━\u001b[0m \u001b[1m0s\u001b[0m 3ms/step - accuracy: 0.7816 - loss: 0.7237\n",
            "Epoch 36: val_accuracy improved from 0.29420 to 0.29520, saving model to best_weights.weights.h5\n",
            "\u001b[1m2813/2813\u001b[0m \u001b[32m━━━━━━━━━━━━━━━━━━━━\u001b[0m\u001b[37m\u001b[0m \u001b[1m11s\u001b[0m 4ms/step - accuracy: 0.7816 - loss: 0.7237 - val_accuracy: 0.2952 - val_loss: 4.7553 - learning_rate: 5.0000e-04\n",
            "Epoch 37/100\n",
            "\u001b[1m2806/2813\u001b[0m \u001b[32m━━━━━━━━━━━━━━━━━━━\u001b[0m\u001b[37m━\u001b[0m \u001b[1m0s\u001b[0m 4ms/step - accuracy: 0.7964 - loss: 0.6873\n",
            "Epoch 37: val_accuracy did not improve from 0.29520\n",
            "\u001b[1m2813/2813\u001b[0m \u001b[32m━━━━━━━━━━━━━━━━━━━━\u001b[0m\u001b[37m\u001b[0m \u001b[1m21s\u001b[0m 4ms/step - accuracy: 0.7964 - loss: 0.6874 - val_accuracy: 0.2890 - val_loss: 4.9531 - learning_rate: 5.0000e-04\n",
            "Epoch 38/100\n",
            "\u001b[1m2809/2813\u001b[0m \u001b[32m━━━━━━━━━━━━━━━━━━━\u001b[0m\u001b[37m━\u001b[0m \u001b[1m0s\u001b[0m 4ms/step - accuracy: 0.8063 - loss: 0.6386\n",
            "Epoch 38: val_accuracy did not improve from 0.29520\n",
            "\u001b[1m2813/2813\u001b[0m \u001b[32m━━━━━━━━━━━━━━━━━━━━\u001b[0m\u001b[37m\u001b[0m \u001b[1m20s\u001b[0m 4ms/step - accuracy: 0.8063 - loss: 0.6386 - val_accuracy: 0.2894 - val_loss: 5.0943 - learning_rate: 5.0000e-04\n",
            "Epoch 39/100\n",
            "\u001b[1m2797/2813\u001b[0m \u001b[32m━━━━━━━━━━━━━━━━━━━\u001b[0m\u001b[37m━\u001b[0m \u001b[1m0s\u001b[0m 3ms/step - accuracy: 0.8093 - loss: 0.6297\n",
            "Epoch 39: val_accuracy did not improve from 0.29520\n",
            "\u001b[1m2813/2813\u001b[0m \u001b[32m━━━━━━━━━━━━━━━━━━━━\u001b[0m\u001b[37m\u001b[0m \u001b[1m20s\u001b[0m 4ms/step - accuracy: 0.8093 - loss: 0.6298 - val_accuracy: 0.2856 - val_loss: 5.1249 - learning_rate: 5.0000e-04\n",
            "Epoch 40/100\n",
            "\u001b[1m2804/2813\u001b[0m \u001b[32m━━━━━━━━━━━━━━━━━━━\u001b[0m\u001b[37m━\u001b[0m \u001b[1m0s\u001b[0m 3ms/step - accuracy: 0.8161 - loss: 0.6048\n",
            "Epoch 40: val_accuracy did not improve from 0.29520\n",
            "\u001b[1m2813/2813\u001b[0m \u001b[32m━━━━━━━━━━━━━━━━━━━━\u001b[0m\u001b[37m\u001b[0m \u001b[1m20s\u001b[0m 4ms/step - accuracy: 0.8161 - loss: 0.6049 - val_accuracy: 0.2800 - val_loss: 5.2156 - learning_rate: 5.0000e-04\n",
            "Epoch 41/100\n",
            "\u001b[1m2804/2813\u001b[0m \u001b[32m━━━━━━━━━━━━━━━━━━━\u001b[0m\u001b[37m━\u001b[0m \u001b[1m0s\u001b[0m 4ms/step - accuracy: 0.8200 - loss: 0.5931\n",
            "Epoch 41: val_accuracy did not improve from 0.29520\n",
            "\u001b[1m2813/2813\u001b[0m \u001b[32m━━━━━━━━━━━━━━━━━━━━\u001b[0m\u001b[37m\u001b[0m \u001b[1m11s\u001b[0m 4ms/step - accuracy: 0.8200 - loss: 0.5931 - val_accuracy: 0.2854 - val_loss: 5.2087 - learning_rate: 5.0000e-04\n",
            "Epoch 42/100\n",
            "\u001b[1m2813/2813\u001b[0m \u001b[32m━━━━━━━━━━━━━━━━━━━━\u001b[0m\u001b[37m\u001b[0m \u001b[1m0s\u001b[0m 3ms/step - accuracy: 0.8328 - loss: 0.5543\n",
            "Epoch 42: val_accuracy did not improve from 0.29520\n",
            "\u001b[1m2813/2813\u001b[0m \u001b[32m━━━━━━━━━━━━━━━━━━━━\u001b[0m\u001b[37m\u001b[0m \u001b[1m10s\u001b[0m 4ms/step - accuracy: 0.8328 - loss: 0.5543 - val_accuracy: 0.2788 - val_loss: 5.3005 - learning_rate: 5.0000e-04\n",
            "Epoch 43/100\n",
            "\u001b[1m2809/2813\u001b[0m \u001b[32m━━━━━━━━━━━━━━━━━━━\u001b[0m\u001b[37m━\u001b[0m \u001b[1m0s\u001b[0m 4ms/step - accuracy: 0.8325 - loss: 0.5506\n",
            "Epoch 43: val_accuracy did not improve from 0.29520\n",
            "\u001b[1m2813/2813\u001b[0m \u001b[32m━━━━━━━━━━━━━━━━━━━━\u001b[0m\u001b[37m\u001b[0m \u001b[1m21s\u001b[0m 4ms/step - accuracy: 0.8325 - loss: 0.5506 - val_accuracy: 0.2842 - val_loss: 5.4298 - learning_rate: 5.0000e-04\n",
            "Epoch 44/100\n",
            "\u001b[1m2806/2813\u001b[0m \u001b[32m━━━━━━━━━━━━━━━━━━━\u001b[0m\u001b[37m━\u001b[0m \u001b[1m0s\u001b[0m 3ms/step - accuracy: 0.8360 - loss: 0.5340\n",
            "Epoch 44: ReduceLROnPlateau reducing learning rate to 0.0002500000118743628.\n",
            "\n",
            "Epoch 44: val_accuracy did not improve from 0.29520\n",
            "\u001b[1m2813/2813\u001b[0m \u001b[32m━━━━━━━━━━━━━━━━━━━━\u001b[0m\u001b[37m\u001b[0m \u001b[1m20s\u001b[0m 4ms/step - accuracy: 0.8360 - loss: 0.5340 - val_accuracy: 0.2870 - val_loss: 5.4201 - learning_rate: 5.0000e-04\n",
            "Epoch 45/100\n",
            "\u001b[1m2805/2813\u001b[0m \u001b[32m━━━━━━━━━━━━━━━━━━━\u001b[0m\u001b[37m━\u001b[0m \u001b[1m0s\u001b[0m 4ms/step - accuracy: 0.8621 - loss: 0.4582\n",
            "Epoch 45: val_accuracy improved from 0.29520 to 0.29800, saving model to best_weights.weights.h5\n",
            "\u001b[1m2813/2813\u001b[0m \u001b[32m━━━━━━━━━━━━━━━━━━━━\u001b[0m\u001b[37m\u001b[0m \u001b[1m21s\u001b[0m 4ms/step - accuracy: 0.8621 - loss: 0.4582 - val_accuracy: 0.2980 - val_loss: 5.3106 - learning_rate: 2.5000e-04\n",
            "Epoch 46/100\n",
            "\u001b[1m2812/2813\u001b[0m \u001b[32m━━━━━━━━━━━━━━━━━━━\u001b[0m\u001b[37m━\u001b[0m \u001b[1m0s\u001b[0m 3ms/step - accuracy: 0.8769 - loss: 0.4103\n",
            "Epoch 46: val_accuracy improved from 0.29800 to 0.30080, saving model to best_weights.weights.h5\n",
            "\u001b[1m2813/2813\u001b[0m \u001b[32m━━━━━━━━━━━━━━━━━━━━\u001b[0m\u001b[37m\u001b[0m \u001b[1m20s\u001b[0m 4ms/step - accuracy: 0.8769 - loss: 0.4103 - val_accuracy: 0.3008 - val_loss: 5.4531 - learning_rate: 2.5000e-04\n",
            "Epoch 47/100\n",
            "\u001b[1m2810/2813\u001b[0m \u001b[32m━━━━━━━━━━━━━━━━━━━\u001b[0m\u001b[37m━\u001b[0m \u001b[1m0s\u001b[0m 3ms/step - accuracy: 0.8800 - loss: 0.3946\n",
            "Epoch 47: val_accuracy did not improve from 0.30080\n",
            "\u001b[1m2813/2813\u001b[0m \u001b[32m━━━━━━━━━━━━━━━━━━━━\u001b[0m\u001b[37m\u001b[0m \u001b[1m10s\u001b[0m 3ms/step - accuracy: 0.8800 - loss: 0.3946 - val_accuracy: 0.2930 - val_loss: 5.4722 - learning_rate: 2.5000e-04\n",
            "Epoch 48/100\n",
            "\u001b[1m2803/2813\u001b[0m \u001b[32m━━━━━━━━━━━━━━━━━━━\u001b[0m\u001b[37m━\u001b[0m \u001b[1m0s\u001b[0m 3ms/step - accuracy: 0.8836 - loss: 0.3769\n",
            "Epoch 48: val_accuracy did not improve from 0.30080\n",
            "\u001b[1m2813/2813\u001b[0m \u001b[32m━━━━━━━━━━━━━━━━━━━━\u001b[0m\u001b[37m\u001b[0m \u001b[1m10s\u001b[0m 4ms/step - accuracy: 0.8835 - loss: 0.3770 - val_accuracy: 0.2938 - val_loss: 5.5832 - learning_rate: 2.5000e-04\n",
            "Epoch 49/100\n",
            "\u001b[1m2800/2813\u001b[0m \u001b[32m━━━━━━━━━━━━━━━━━━━\u001b[0m\u001b[37m━\u001b[0m \u001b[1m0s\u001b[0m 3ms/step - accuracy: 0.8859 - loss: 0.3704\n",
            "Epoch 49: val_accuracy did not improve from 0.30080\n",
            "\u001b[1m2813/2813\u001b[0m \u001b[32m━━━━━━━━━━━━━━━━━━━━\u001b[0m\u001b[37m\u001b[0m \u001b[1m10s\u001b[0m 4ms/step - accuracy: 0.8859 - loss: 0.3704 - val_accuracy: 0.2960 - val_loss: 5.6189 - learning_rate: 2.5000e-04\n",
            "Epoch 50/100\n",
            "\u001b[1m2802/2813\u001b[0m \u001b[32m━━━━━━━━━━━━━━━━━━━\u001b[0m\u001b[37m━\u001b[0m \u001b[1m0s\u001b[0m 3ms/step - accuracy: 0.8914 - loss: 0.3582\n",
            "Epoch 50: val_accuracy did not improve from 0.30080\n",
            "\u001b[1m2813/2813\u001b[0m \u001b[32m━━━━━━━━━━━━━━━━━━━━\u001b[0m\u001b[37m\u001b[0m \u001b[1m11s\u001b[0m 4ms/step - accuracy: 0.8914 - loss: 0.3583 - val_accuracy: 0.2946 - val_loss: 5.6960 - learning_rate: 2.5000e-04\n",
            "Epoch 51/100\n",
            "\u001b[1m2798/2813\u001b[0m \u001b[32m━━━━━━━━━━━━━━━━━━━\u001b[0m\u001b[37m━\u001b[0m \u001b[1m0s\u001b[0m 3ms/step - accuracy: 0.8931 - loss: 0.3433\n",
            "Epoch 51: val_accuracy did not improve from 0.30080\n",
            "\u001b[1m2813/2813\u001b[0m \u001b[32m━━━━━━━━━━━━━━━━━━━━\u001b[0m\u001b[37m\u001b[0m \u001b[1m10s\u001b[0m 3ms/step - accuracy: 0.8930 - loss: 0.3434 - val_accuracy: 0.2936 - val_loss: 5.6558 - learning_rate: 2.5000e-04\n",
            "Epoch 52/100\n",
            "\u001b[1m2811/2813\u001b[0m \u001b[32m━━━━━━━━━━━━━━━━━━━\u001b[0m\u001b[37m━\u001b[0m \u001b[1m0s\u001b[0m 4ms/step - accuracy: 0.8946 - loss: 0.3405\n",
            "Epoch 52: val_accuracy did not improve from 0.30080\n",
            "\u001b[1m2813/2813\u001b[0m \u001b[32m━━━━━━━━━━━━━━━━━━━━\u001b[0m\u001b[37m\u001b[0m \u001b[1m11s\u001b[0m 4ms/step - accuracy: 0.8946 - loss: 0.3405 - val_accuracy: 0.2930 - val_loss: 5.7972 - learning_rate: 2.5000e-04\n",
            "Epoch 53/100\n",
            "\u001b[1m2805/2813\u001b[0m \u001b[32m━━━━━━━━━━━━━━━━━━━\u001b[0m\u001b[37m━\u001b[0m \u001b[1m0s\u001b[0m 3ms/step - accuracy: 0.9004 - loss: 0.3307\n",
            "Epoch 53: val_accuracy did not improve from 0.30080\n",
            "\u001b[1m2813/2813\u001b[0m \u001b[32m━━━━━━━━━━━━━━━━━━━━\u001b[0m\u001b[37m\u001b[0m \u001b[1m21s\u001b[0m 4ms/step - accuracy: 0.9003 - loss: 0.3308 - val_accuracy: 0.2946 - val_loss: 5.8049 - learning_rate: 2.5000e-04\n",
            "Epoch 54/100\n",
            "\u001b[1m2797/2813\u001b[0m \u001b[32m━━━━━━━━━━━━━━━━━━━\u001b[0m\u001b[37m━\u001b[0m \u001b[1m0s\u001b[0m 4ms/step - accuracy: 0.8999 - loss: 0.3244\n",
            "Epoch 54: ReduceLROnPlateau reducing learning rate to 0.0001250000059371814.\n",
            "\n",
            "Epoch 54: val_accuracy did not improve from 0.30080\n",
            "\u001b[1m2813/2813\u001b[0m \u001b[32m━━━━━━━━━━━━━━━━━━━━\u001b[0m\u001b[37m\u001b[0m \u001b[1m21s\u001b[0m 4ms/step - accuracy: 0.8999 - loss: 0.3244 - val_accuracy: 0.2854 - val_loss: 5.8730 - learning_rate: 2.5000e-04\n",
            "Epoch 55/100\n",
            "\u001b[1m2809/2813\u001b[0m \u001b[32m━━━━━━━━━━━━━━━━━━━\u001b[0m\u001b[37m━\u001b[0m \u001b[1m0s\u001b[0m 4ms/step - accuracy: 0.9078 - loss: 0.2990\n",
            "Epoch 55: val_accuracy did not improve from 0.30080\n",
            "\u001b[1m2813/2813\u001b[0m \u001b[32m━━━━━━━━━━━━━━━━━━━━\u001b[0m\u001b[37m\u001b[0m \u001b[1m19s\u001b[0m 4ms/step - accuracy: 0.9078 - loss: 0.2990 - val_accuracy: 0.2960 - val_loss: 5.7748 - learning_rate: 1.2500e-04\n",
            "Epoch 56/100\n",
            "\u001b[1m2805/2813\u001b[0m \u001b[32m━━━━━━━━━━━━━━━━━━━\u001b[0m\u001b[37m━\u001b[0m \u001b[1m0s\u001b[0m 4ms/step - accuracy: 0.9176 - loss: 0.2700\n",
            "Epoch 56: val_accuracy improved from 0.30080 to 0.30220, saving model to best_weights.weights.h5\n",
            "\u001b[1m2813/2813\u001b[0m \u001b[32m━━━━━━━━━━━━━━━━━━━━\u001b[0m\u001b[37m\u001b[0m \u001b[1m21s\u001b[0m 4ms/step - accuracy: 0.9176 - loss: 0.2701 - val_accuracy: 0.3022 - val_loss: 5.8372 - learning_rate: 1.2500e-04\n",
            "Epoch 57/100\n",
            "\u001b[1m2803/2813\u001b[0m \u001b[32m━━━━━━━━━━━━━━━━━━━\u001b[0m\u001b[37m━\u001b[0m \u001b[1m0s\u001b[0m 4ms/step - accuracy: 0.9203 - loss: 0.2575\n",
            "Epoch 57: val_accuracy did not improve from 0.30220\n",
            "\u001b[1m2813/2813\u001b[0m \u001b[32m━━━━━━━━━━━━━━━━━━━━\u001b[0m\u001b[37m\u001b[0m \u001b[1m21s\u001b[0m 4ms/step - accuracy: 0.9203 - loss: 0.2575 - val_accuracy: 0.2974 - val_loss: 5.8929 - learning_rate: 1.2500e-04\n",
            "Epoch 58/100\n",
            "\u001b[1m2800/2813\u001b[0m \u001b[32m━━━━━━━━━━━━━━━━━━━\u001b[0m\u001b[37m━\u001b[0m \u001b[1m0s\u001b[0m 3ms/step - accuracy: 0.9165 - loss: 0.2724\n",
            "Epoch 58: val_accuracy did not improve from 0.30220\n",
            "\u001b[1m2813/2813\u001b[0m \u001b[32m━━━━━━━━━━━━━━━━━━━━\u001b[0m\u001b[37m\u001b[0m \u001b[1m20s\u001b[0m 4ms/step - accuracy: 0.9165 - loss: 0.2724 - val_accuracy: 0.2982 - val_loss: 5.9032 - learning_rate: 1.2500e-04\n",
            "Epoch 59/100\n",
            "\u001b[1m2797/2813\u001b[0m \u001b[32m━━━━━━━━━━━━━━━━━━━\u001b[0m\u001b[37m━\u001b[0m \u001b[1m0s\u001b[0m 3ms/step - accuracy: 0.9227 - loss: 0.2475\n",
            "Epoch 59: val_accuracy did not improve from 0.30220\n",
            "\u001b[1m2813/2813\u001b[0m \u001b[32m━━━━━━━━━━━━━━━━━━━━\u001b[0m\u001b[37m\u001b[0m \u001b[1m10s\u001b[0m 4ms/step - accuracy: 0.9227 - loss: 0.2476 - val_accuracy: 0.2984 - val_loss: 5.8902 - learning_rate: 1.2500e-04\n",
            "Epoch 60/100\n",
            "\u001b[1m2812/2813\u001b[0m \u001b[32m━━━━━━━━━━━━━━━━━━━\u001b[0m\u001b[37m━\u001b[0m \u001b[1m0s\u001b[0m 3ms/step - accuracy: 0.9229 - loss: 0.2447\n",
            "Epoch 60: val_accuracy did not improve from 0.30220\n",
            "\u001b[1m2813/2813\u001b[0m \u001b[32m━━━━━━━━━━━━━━━━━━━━\u001b[0m\u001b[37m\u001b[0m \u001b[1m11s\u001b[0m 4ms/step - accuracy: 0.9229 - loss: 0.2447 - val_accuracy: 0.2954 - val_loss: 6.0218 - learning_rate: 1.2500e-04\n",
            "Epoch 61/100\n",
            "\u001b[1m2801/2813\u001b[0m \u001b[32m━━━━━━━━━━━━━━━━━━━\u001b[0m\u001b[37m━\u001b[0m \u001b[1m0s\u001b[0m 3ms/step - accuracy: 0.9233 - loss: 0.2425\n",
            "Epoch 61: val_accuracy did not improve from 0.30220\n",
            "\u001b[1m2813/2813\u001b[0m \u001b[32m━━━━━━━━━━━━━━━━━━━━\u001b[0m\u001b[37m\u001b[0m \u001b[1m10s\u001b[0m 3ms/step - accuracy: 0.9233 - loss: 0.2425 - val_accuracy: 0.2984 - val_loss: 5.9930 - learning_rate: 1.2500e-04\n",
            "Epoch 62/100\n",
            "\u001b[1m2810/2813\u001b[0m \u001b[32m━━━━━━━━━━━━━━━━━━━\u001b[0m\u001b[37m━\u001b[0m \u001b[1m0s\u001b[0m 3ms/step - accuracy: 0.9225 - loss: 0.2466\n",
            "Epoch 62: val_accuracy did not improve from 0.30220\n",
            "\u001b[1m2813/2813\u001b[0m \u001b[32m━━━━━━━━━━━━━━━━━━━━\u001b[0m\u001b[37m\u001b[0m \u001b[1m11s\u001b[0m 4ms/step - accuracy: 0.9225 - loss: 0.2466 - val_accuracy: 0.2990 - val_loss: 5.9996 - learning_rate: 1.2500e-04\n",
            "Epoch 63/100\n",
            "\u001b[1m2806/2813\u001b[0m \u001b[32m━━━━━━━━━━━━━━━━━━━\u001b[0m\u001b[37m━\u001b[0m \u001b[1m0s\u001b[0m 4ms/step - accuracy: 0.9243 - loss: 0.2362\n",
            "Epoch 63: val_accuracy did not improve from 0.30220\n",
            "\u001b[1m2813/2813\u001b[0m \u001b[32m━━━━━━━━━━━━━━━━━━━━\u001b[0m\u001b[37m\u001b[0m \u001b[1m21s\u001b[0m 4ms/step - accuracy: 0.9243 - loss: 0.2362 - val_accuracy: 0.3006 - val_loss: 6.0307 - learning_rate: 1.2500e-04\n",
            "Epoch 64/100\n",
            "\u001b[1m2811/2813\u001b[0m \u001b[32m━━━━━━━━━━━━━━━━━━━\u001b[0m\u001b[37m━\u001b[0m \u001b[1m0s\u001b[0m 3ms/step - accuracy: 0.9263 - loss: 0.2359\n",
            "Epoch 64: ReduceLROnPlateau reducing learning rate to 6.25000029685907e-05.\n",
            "\n",
            "Epoch 64: val_accuracy did not improve from 0.30220\n",
            "\u001b[1m2813/2813\u001b[0m \u001b[32m━━━━━━━━━━━━━━━━━━━━\u001b[0m\u001b[37m\u001b[0m \u001b[1m10s\u001b[0m 4ms/step - accuracy: 0.9263 - loss: 0.2359 - val_accuracy: 0.2986 - val_loss: 6.0463 - learning_rate: 1.2500e-04\n",
            "Epoch 65/100\n",
            "\u001b[1m2813/2813\u001b[0m \u001b[32m━━━━━━━━━━━━━━━━━━━━\u001b[0m\u001b[37m\u001b[0m \u001b[1m0s\u001b[0m 4ms/step - accuracy: 0.9318 - loss: 0.2224\n",
            "Epoch 65: val_accuracy did not improve from 0.30220\n",
            "\u001b[1m2813/2813\u001b[0m \u001b[32m━━━━━━━━━━━━━━━━━━━━\u001b[0m\u001b[37m\u001b[0m \u001b[1m21s\u001b[0m 4ms/step - accuracy: 0.9318 - loss: 0.2224 - val_accuracy: 0.3002 - val_loss: 6.0357 - learning_rate: 6.2500e-05\n",
            "Epoch 66/100\n",
            "\u001b[1m2809/2813\u001b[0m \u001b[32m━━━━━━━━━━━━━━━━━━━\u001b[0m\u001b[37m━\u001b[0m \u001b[1m0s\u001b[0m 4ms/step - accuracy: 0.9333 - loss: 0.2089\n",
            "Epoch 66: val_accuracy did not improve from 0.30220\n",
            "\u001b[1m2813/2813\u001b[0m \u001b[32m━━━━━━━━━━━━━━━━━━━━\u001b[0m\u001b[37m\u001b[0m \u001b[1m11s\u001b[0m 4ms/step - accuracy: 0.9333 - loss: 0.2089 - val_accuracy: 0.3012 - val_loss: 6.0037 - learning_rate: 6.2500e-05\n",
            "Epoch 67/100\n",
            "\u001b[1m2812/2813\u001b[0m \u001b[32m━━━━━━━━━━━━━━━━━━━\u001b[0m\u001b[37m━\u001b[0m \u001b[1m0s\u001b[0m 3ms/step - accuracy: 0.9335 - loss: 0.2111\n",
            "Epoch 67: val_accuracy did not improve from 0.30220\n",
            "\u001b[1m2813/2813\u001b[0m \u001b[32m━━━━━━━━━━━━━━━━━━━━\u001b[0m\u001b[37m\u001b[0m \u001b[1m10s\u001b[0m 4ms/step - accuracy: 0.9335 - loss: 0.2112 - val_accuracy: 0.2996 - val_loss: 6.0721 - learning_rate: 6.2500e-05\n",
            "Epoch 68/100\n",
            "\u001b[1m2798/2813\u001b[0m \u001b[32m━━━━━━━━━━━━━━━━━━━\u001b[0m\u001b[37m━\u001b[0m \u001b[1m0s\u001b[0m 3ms/step - accuracy: 0.9337 - loss: 0.2094\n",
            "Epoch 68: val_accuracy did not improve from 0.30220\n",
            "\u001b[1m2813/2813\u001b[0m \u001b[32m━━━━━━━━━━━━━━━━━━━━\u001b[0m\u001b[37m\u001b[0m \u001b[1m10s\u001b[0m 4ms/step - accuracy: 0.9337 - loss: 0.2094 - val_accuracy: 0.3010 - val_loss: 6.0832 - learning_rate: 6.2500e-05\n",
            "Epoch 68: early stopping\n",
            "Restoring model weights from the end of the best epoch: 56.\n"
          ]
        }
      ],
      "id": "vi8HwlFeZ9du"
    },
    {
      "cell_type": "code",
      "source": [
        "plt.plot(history.history[\"loss\"], color = 'blue')\n",
        "plt.plot(history.history[\"val_loss\"], color = 'orange')"
      ],
      "metadata": {
        "colab": {
          "base_uri": "https://localhost:8080/",
          "height": 447
        },
        "outputId": "f5dc4fa6-65ed-417d-91d9-fe92ed8ee10b",
        "id": "9tqW2K8CZ9du"
      },
      "execution_count": null,
      "outputs": [
        {
          "output_type": "execute_result",
          "data": {
            "text/plain": [
              "[<matplotlib.lines.Line2D at 0x7805b2fd2ef0>]"
            ]
          },
          "metadata": {},
          "execution_count": 24
        },
        {
          "output_type": "display_data",
          "data": {
            "text/plain": [
              "<Figure size 640x480 with 1 Axes>"
            ],
            "image/png": "[encoded data removed]"
          },
          "metadata": {}
        }
      ],
      "id": "9tqW2K8CZ9du"
    },
    {
      "cell_type": "code",
      "source": [
        "plt.plot(history.history[\"accuracy\"], color = 'blue')\n",
        "plt.plot(history.history[\"val_accuracy\"], color = 'orange')"
      ],
      "metadata": {
        "colab": {
          "base_uri": "https://localhost:8080/",
          "height": 447
        },
        "outputId": "d066f273-19a3-4c5f-e459-bff07c370b8b",
        "id": "8dkeTvcLZ9du"
      },
      "execution_count": null,
      "outputs": [
        {
          "output_type": "execute_result",
          "data": {
            "text/plain": [
              "[<matplotlib.lines.Line2D at 0x7805b5e4f760>]"
            ]
          },
          "metadata": {},
          "execution_count": 25
        },
        {
          "output_type": "display_data",
          "data": {
            "text/plain": [
              "<Figure size 640x480 with 1 Axes>"
            ],
            "image/png": "[encoded data removed]"
          },
          "metadata": {}
        }
      ],
      "id": "8dkeTvcLZ9du"
    },
    {
      "cell_type": "code",
      "source": [
        "predictions = model.predict(x_test).argmax(axis=1)\n",
        "df = pd.DataFrame(predictions, columns=[\"Label\"])\n",
        "df.index.name = \"Id\"\n",
        "\n",
        "df"
      ],
      "metadata": {
        "colab": {
          "base_uri": "https://localhost:8080/",
          "height": 472
        },
        "id": "67VbmW_tSkb6",
        "outputId": "169ee5c5-2c79-44c5-beca-3cba99985f95"
      },
      "id": "67VbmW_tSkb6",
      "execution_count": null,
      "outputs": [
        {
          "output_type": "stream",
          "name": "stdout",
          "text": [
            "\u001b[1m313/313\u001b[0m \u001b[32m━━━━━━━━━━━━━━━━━━━━\u001b[0m\u001b[37m\u001b[0m \u001b[1m1s\u001b[0m 3ms/step\n"
          ]
        },
        {
          "output_type": "execute_result",
          "data": {
            "text/plain": [
              "      Label\n",
              "Id         \n",
              "0         8\n",
              "1         8\n",
              "2        27\n",
              "3        10\n",
              "4        71\n",
              "...     ...\n",
              "9995     83\n",
              "9996      6\n",
              "9997     18\n",
              "9998      4\n",
              "9999      7\n",
              "\n",
              "[10000 rows x 1 columns]"
            ],
            "text/html": [
              "\n",
              "  <div id=\"df-7c50ecd8-edc7-499b-a5ee-dd5e8bdddcdf\" class=\"colab-df-container\">\n",
              "    <div>\n",
              "<style scoped>\n",
              "    .dataframe tbody tr th:only-of-type {\n",
              "        vertical-align: middle;\n",
              "    }\n",
              "\n",
              "    .dataframe tbody tr th {\n",
              "        vertical-align: top;\n",
              "    }\n",
              "\n",
              "    .dataframe thead th {\n",
              "        text-align: right;\n",
              "    }\n",
              "</style>\n",
              "<table border=\"1\" class=\"dataframe\">\n",
              "  <thead>\n",
              "    <tr style=\"text-align: right;\">\n",
              "      <th></th>\n",
              "      <th>Label</th>\n",
              "    </tr>\n",
              "    <tr>\n",
              "      <th>Id</th>\n",
              "      <th></th>\n",
              "    </tr>\n",
              "  </thead>\n",
              "  <tbody>\n",
              "    <tr>\n",
              "      <th>0</th>\n",
              "      <td>8</td>\n",
              "    </tr>\n",
              "    <tr>\n",
              "      <th>1</th>\n",
              "      <td>8</td>\n",
              "    </tr>\n",
              "    <tr>\n",
              "      <th>2</th>\n",
              "      <td>27</td>\n",
              "    </tr>\n",
              "    <tr>\n",
              "      <th>3</th>\n",
              "      <td>10</td>\n",
              "    </tr>\n",
              "    <tr>\n",
              "      <th>4</th>\n",
              "      <td>71</td>\n",
              "    </tr>\n",
              "    <tr>\n",
              "      <th>...</th>\n",
              "      <td>...</td>\n",
              "    </tr>\n",
              "    <tr>\n",
              "      <th>9995</th>\n",
              "      <td>83</td>\n",
              "    </tr>\n",
              "    <tr>\n",
              "      <th>9996</th>\n",
              "      <td>6</td>\n",
              "    </tr>\n",
              "    <tr>\n",
              "      <th>9997</th>\n",
              "      <td>18</td>\n",
              "    </tr>\n",
              "    <tr>\n",
              "      <th>9998</th>\n",
              "      <td>4</td>\n",
              "    </tr>\n",
              "    <tr>\n",
              "      <th>9999</th>\n",
              "      <td>7</td>\n",
              "    </tr>\n",
              "  </tbody>\n",
              "</table>\n",
              "<p>10000 rows × 1 columns</p>\n",
              "</div>\n",
              "    <div class=\"colab-df-buttons\">\n",
              "\n",
              "  <div class=\"colab-df-container\">\n",
              "    <button class=\"colab-df-convert\" onclick=\"convertToInteractive('df-7c50ecd8-edc7-499b-a5ee-dd5e8bdddcdf')\"\n",
              "            title=\"Convert this dataframe to an interactive table.\"\n",
              "            style=\"display:none;\">\n",
              "\n",
              "  <svg xmlns=\"http://www.w3.org/2000/svg\" height=\"24px\" viewBox=\"0 -960 960 960\">\n",
              "    <path d=\"M120-120v-720h720v720H120Zm60-500h600v-160H180v160Zm220 220h160v-160H400v160Zm0 220h160v-160H400v160ZM180-400h160v-160H180v160Zm440 0h160v-160H620v160ZM180-180h160v-160H180v160Zm440 0h160v-160H620v160Z\"/>\n",
              "  </svg>\n",
              "    </button>\n",
              "\n",
              "  <style>\n",
              "    .colab-df-container {\n",
              "      display:flex;\n",
              "      gap: 12px;\n",
              "    }\n",
              "\n",
              "    .colab-df-convert {\n",
              "      background-color: #E8F0FE;\n",
              "      border: none;\n",
              "      border-radius: 50%;\n",
              "      cursor: pointer;\n",
              "      display: none;\n",
              "      fill: #1967D2;\n",
              "      height: 32px;\n",
              "      padding: 0 0 0 0;\n",
              "      width: 32px;\n",
              "    }\n",
              "\n",
              "    .colab-df-convert:hover {\n",
              "      background-color: #E2EBFA;\n",
              "      box-shadow: 0px 1px 2px rgba(60, 64, 67, 0.3), 0px 1px 3px 1px rgba(60, 64, 67, 0.15);\n",
              "      fill: #174EA6;\n",
              "    }\n",
              "\n",
              "    .colab-df-buttons div {\n",
              "      margin-bottom: 4px;\n",
              "    }\n",
              "\n",
              "    [theme=dark] .colab-df-convert {\n",
              "      background-color: #3B4455;\n",
              "      fill: #D2E3FC;\n",
              "    }\n",
              "\n",
              "    [theme=dark] .colab-df-convert:hover {\n",
              "      background-color: #434B5C;\n",
              "      box-shadow: 0px 1px 3px 1px rgba(0, 0, 0, 0.15);\n",
              "      filter: drop-shadow(0px 1px 2px rgba(0, 0, 0, 0.3));\n",
              "      fill: #FFFFFF;\n",
              "    }\n",
              "  </style>\n",
              "\n",
              "    <script>\n",
              "      const buttonEl =\n",
              "        document.querySelector('#df-7c50ecd8-edc7-499b-a5ee-dd5e8bdddcdf button.colab-df-convert');\n",
              "      buttonEl.style.display =\n",
              "        google.colab.kernel.accessAllowed ? 'block' : 'none';\n",
              "\n",
              "      async function convertToInteractive(key) {\n",
              "        const element = document.querySelector('#df-7c50ecd8-edc7-499b-a5ee-dd5e8bdddcdf');\n",
              "        const dataTable =\n",
              "          await google.colab.kernel.invokeFunction('convertToInteractive',\n",
              "                                                    [key], {});\n",
              "        if (!dataTable) return;\n",
              "\n",
              "        const docLinkHtml = 'Like what you see? Visit the ' +\n",
              "          '<a target=\"_blank\" href=https://colab.research.google.com/notebooks/data_table.ipynb>data table notebook</a>'\n",
              "          + ' to learn more about interactive tables.';\n",
              "        element.innerHTML = '';\n",
              "        dataTable['output_type'] = 'display_data';\n",
              "        await google.colab.output.renderOutput(dataTable, element);\n",
              "        const docLink = document.createElement('div');\n",
              "        docLink.innerHTML = docLinkHtml;\n",
              "        element.appendChild(docLink);\n",
              "      }\n",
              "    </script>\n",
              "  </div>\n",
              "\n",
              "\n",
              "<div id=\"df-798421fc-72a8-4e24-ba4b-43dd8d661305\">\n",
              "  <button class=\"colab-df-quickchart\" onclick=\"quickchart('df-798421fc-72a8-4e24-ba4b-43dd8d661305')\"\n",
              "            title=\"Suggest charts\"\n",
              "            style=\"display:none;\">\n",
              "\n",
              "<svg xmlns=\"http://www.w3.org/2000/svg\" height=\"24px\"viewBox=\"0 0 24 24\"\n",
              "     width=\"24px\">\n",
              "    <g>\n",
              "        <path d=\"M19 3H5c-1.1 0-2 .9-2 2v14c0 1.1.9 2 2 2h14c1.1 0 2-.9 2-2V5c0-1.1-.9-2-2-2zM9 17H7v-7h2v7zm4 0h-2V7h2v10zm4 0h-2v-4h2v4z\"/>\n",
              "    </g>\n",
              "</svg>\n",
              "  </button>\n",
              "\n",
              "<style>\n",
              "  .colab-df-quickchart {\n",
              "      --bg-color: #E8F0FE;\n",
              "      --fill-color: #1967D2;\n",
              "      --hover-bg-color: #E2EBFA;\n",
              "      --hover-fill-color: #174EA6;\n",
              "      --disabled-fill-color: #AAA;\n",
              "      --disabled-bg-color: #DDD;\n",
              "  }\n",
              "\n",
              "  [theme=dark] .colab-df-quickchart {\n",
              "      --bg-color: #3B4455;\n",
              "      --fill-color: #D2E3FC;\n",
              "      --hover-bg-color: #434B5C;\n",
              "      --hover-fill-color: #FFFFFF;\n",
              "      --disabled-bg-color: #3B4455;\n",
              "      --disabled-fill-color: #666;\n",
              "  }\n",
              "\n",
              "  .colab-df-quickchart {\n",
              "    background-color: var(--bg-color);\n",
              "    border: none;\n",
              "    border-radius: 50%;\n",
              "    cursor: pointer;\n",
              "    display: none;\n",
              "    fill: var(--fill-color);\n",
              "    height: 32px;\n",
              "    padding: 0;\n",
              "    width: 32px;\n",
              "  }\n",
              "\n",
              "  .colab-df-quickchart:hover {\n",
              "    background-color: var(--hover-bg-color);\n",
              "    box-shadow: 0 1px 2px rgba(60, 64, 67, 0.3), 0 1px 3px 1px rgba(60, 64, 67, 0.15);\n",
              "    fill: var(--button-hover-fill-color);\n",
              "  }\n",
              "\n",
              "  .colab-df-quickchart-complete:disabled,\n",
              "  .colab-df-quickchart-complete:disabled:hover {\n",
              "    background-color: var(--disabled-bg-color);\n",
              "    fill: var(--disabled-fill-color);\n",
              "    box-shadow: none;\n",
              "  }\n",
              "\n",
              "  .colab-df-spinner {\n",
              "    border: 2px solid var(--fill-color);\n",
              "    border-color: transparent;\n",
              "    border-bottom-color: var(--fill-color);\n",
              "    animation:\n",
              "      spin 1s steps(1) infinite;\n",
              "  }\n",
              "\n",
              "  @keyframes spin {\n",
              "    0% {\n",
              "      border-color: transparent;\n",
              "      border-bottom-color: var(--fill-color);\n",
              "      border-left-color: var(--fill-color);\n",
              "    }\n",
              "    20% {\n",
              "      border-color: transparent;\n",
              "      border-left-color: var(--fill-color);\n",
              "      border-top-color: var(--fill-color);\n",
              "    }\n",
              "    30% {\n",
              "      border-color: transparent;\n",
              "      border-left-color: var(--fill-color);\n",
              "      border-top-color: var(--fill-color);\n",
              "      border-right-color: var(--fill-color);\n",
              "    }\n",
              "    40% {\n",
              "      border-color: transparent;\n",
              "      border-right-color: var(--fill-color);\n",
              "      border-top-color: var(--fill-color);\n",
              "    }\n",
              "    60% {\n",
              "      border-color: transparent;\n",
              "      border-right-color: var(--fill-color);\n",
              "    }\n",
              "    80% {\n",
              "      border-color: transparent;\n",
              "      border-right-color: var(--fill-color);\n",
              "      border-bottom-color: var(--fill-color);\n",
              "    }\n",
              "    90% {\n",
              "      border-color: transparent;\n",
              "      border-bottom-color: var(--fill-color);\n",
              "    }\n",
              "  }\n",
              "</style>\n",
              "\n",
              "  <script>\n",
              "    async function quickchart(key) {\n",
              "      const quickchartButtonEl =\n",
              "        document.querySelector('#' + key + ' button');\n",
              "      quickchartButtonEl.disabled = true;  // To prevent multiple clicks.\n",
              "      quickchartButtonEl.classList.add('colab-df-spinner');\n",
              "      try {\n",
              "        const charts = await google.colab.kernel.invokeFunction(\n",
              "            'suggestCharts', [key], {});\n",
              "      } catch (error) {\n",
              "        console.error('Error during call to suggestCharts:', error);\n",
              "      }\n",
              "      quickchartButtonEl.classList.remove('colab-df-spinner');\n",
              "      quickchartButtonEl.classList.add('colab-df-quickchart-complete');\n",
              "    }\n",
              "    (() => {\n",
              "      let quickchartButtonEl =\n",
              "        document.querySelector('#df-798421fc-72a8-4e24-ba4b-43dd8d661305 button');\n",
              "      quickchartButtonEl.style.display =\n",
              "        google.colab.kernel.accessAllowed ? 'block' : 'none';\n",
              "    })();\n",
              "  </script>\n",
              "</div>\n",
              "\n",
              "  <div id=\"id_610cb399-5a89-46d9-b6df-9d9076528bfb\">\n",
              "    <style>\n",
              "      .colab-df-generate {\n",
              "        background-color: #E8F0FE;\n",
              "        border: none;\n",
              "        border-radius: 50%;\n",
              "        cursor: pointer;\n",
              "        display: none;\n",
              "        fill: #1967D2;\n",
              "        height: 32px;\n",
              "        padding: 0 0 0 0;\n",
              "        width: 32px;\n",
              "      }\n",
              "\n",
              "      .colab-df-generate:hover {\n",
              "        background-color: #E2EBFA;\n",
              "        box-shadow: 0px 1px 2px rgba(60, 64, 67, 0.3), 0px 1px 3px 1px rgba(60, 64, 67, 0.15);\n",
              "        fill: #174EA6;\n",
              "      }\n",
              "\n",
              "      [theme=dark] .colab-df-generate {\n",
              "        background-color: #3B4455;\n",
              "        fill: #D2E3FC;\n",
              "      }\n",
              "\n",
              "      [theme=dark] .colab-df-generate:hover {\n",
              "        background-color: #434B5C;\n",
              "        box-shadow: 0px 1px 3px 1px rgba(0, 0, 0, 0.15);\n",
              "        filter: drop-shadow(0px 1px 2px rgba(0, 0, 0, 0.3));\n",
              "        fill: #FFFFFF;\n",
              "      }\n",
              "    </style>\n",
              "    <button class=\"colab-df-generate\" onclick=\"generateWithVariable('df')\"\n",
              "            title=\"Generate code using this dataframe.\"\n",
              "            style=\"display:none;\">\n",
              "\n",
              "  <svg xmlns=\"http://www.w3.org/2000/svg\" height=\"24px\"viewBox=\"0 0 24 24\"\n",
              "       width=\"24px\">\n",
              "    <path d=\"M7,19H8.4L18.45,9,17,7.55,7,17.6ZM5,21V16.75L18.45,3.32a2,2,0,0,1,2.83,0l1.4,1.43a1.91,1.91,0,0,1,.58,1.4,1.91,1.91,0,0,1-.58,1.4L9.25,21ZM18.45,9,17,7.55Zm-12,3A5.31,5.31,0,0,0,4.9,8.1,5.31,5.31,0,0,0,1,6.5,5.31,5.31,0,0,0,4.9,4.9,5.31,5.31,0,0,0,6.5,1,5.31,5.31,0,0,0,8.1,4.9,5.31,5.31,0,0,0,12,6.5,5.46,5.46,0,0,0,6.5,12Z\"/>\n",
              "  </svg>\n",
              "    </button>\n",
              "    <script>\n",
              "      (() => {\n",
              "      const buttonEl =\n",
              "        document.querySelector('#id_610cb399-5a89-46d9-b6df-9d9076528bfb button.colab-df-generate');\n",
              "      buttonEl.style.display =\n",
              "        google.colab.kernel.accessAllowed ? 'block' : 'none';\n",
              "\n",
              "      buttonEl.onclick = () => {\n",
              "        google.colab.notebook.generateWithVariable('df');\n",
              "      }\n",
              "      })();\n",
              "    </script>\n",
              "  </div>\n",
              "\n",
              "    </div>\n",
              "  </div>\n"
            ],
            "application/vnd.google.colaboratory.intrinsic+json": {
              "type": "dataframe",
              "variable_name": "df",
              "summary": "{\n  \"name\": \"df\",\n  \"rows\": 10000,\n  \"fields\": [\n    {\n      \"column\": \"Id\",\n      \"properties\": {\n        \"dtype\": \"number\",\n        \"std\": 2886,\n        \"min\": 0,\n        \"max\": 9999,\n        \"num_unique_values\": 10000,\n        \"samples\": [\n          6252,\n          4684,\n          1731\n        ],\n        \"semantic_type\": \"\",\n        \"description\": \"\"\n      }\n    },\n    {\n      \"column\": \"Label\",\n      \"properties\": {\n        \"dtype\": \"number\",\n        \"std\": 28,\n        \"min\": 0,\n        \"max\": 99,\n        \"num_unique_values\": 100,\n        \"samples\": [\n          0,\n          61,\n          46\n        ],\n        \"semantic_type\": \"\",\n        \"description\": \"\"\n      }\n    }\n  ]\n}"
            }
          },
          "metadata": {},
          "execution_count": 26
        }
      ]
    },
    {
      "cell_type": "code",
      "source": [
        "df.to_csv(\"submission.csv\")"
      ],
      "metadata": {
        "id": "vwWAFHzPTK9o"
      },
      "id": "vwWAFHzPTK9o",
      "execution_count": null,
      "outputs": []
    },
    {
      "cell_type": "markdown",
      "source": [
        "# Prueba 7"
      ],
      "metadata": {
        "id": "rFD0MSbfdUuS"
      },
      "id": "rFD0MSbfdUuS"
    },
    {
      "cell_type": "code",
      "source": [
        "model = Sequential()\n",
        "model.add(Flatten(input_shape=(32,32,3)))\n",
        "model.add(Dense(1000))\n",
        "model.add(BatchNormalization())\n",
        "model.add(Activation(\"relu\"))\n",
        "model.add(Dense(1000))\n",
        "model.add(BatchNormalization())\n",
        "model.add(Activation(\"relu\"))\n",
        "model.add(Dense(1000))\n",
        "model.add(BatchNormalization())\n",
        "model.add(Activation(\"relu\"))\n",
        "model.add(Dense(1000))\n",
        "model.add(BatchNormalization())\n",
        "model.add(Activation(\"relu\"))\n",
        "model.add(Dense(100, activation=\"softmax\"))\n",
        "model.compile(loss=\"sparse_categorical_crossentropy\", metrics = [\"accuracy\"], optimizer = Adam(learning_rate=0.0005))"
      ],
      "metadata": {
        "id": "zUXGD8W5dUuU"
      },
      "execution_count": null,
      "outputs": [],
      "id": "zUXGD8W5dUuU"
    },
    {
      "cell_type": "code",
      "source": [
        "model.summary()"
      ],
      "metadata": {
        "colab": {
          "base_uri": "https://localhost:8080/",
          "height": 641
        },
        "outputId": "d88a50c9-9677-4e1b-8562-ad5ca4230cbf",
        "id": "q99aPHtzdUuV"
      },
      "execution_count": null,
      "outputs": [
        {
          "output_type": "display_data",
          "data": {
            "text/plain": [
              "\u001b[1mModel: \"sequential_4\"\u001b[0m\n"
            ],
            "text/html": [
              "<pre style=\"white-space:pre;overflow-x:auto;line-height:normal;font-family:Menlo,'DejaVu Sans Mono',consolas,'Courier New',monospace\"><span style=\"font-weight: bold\">Model: \"sequential_4\"</span>\n",
              "</pre>\n"
            ]
          },
          "metadata": {}
        },
        {
          "output_type": "display_data",
          "data": {
            "text/plain": [
              "┏━━━━━━━━━━━━━━━━━━━━━━━━━━━━━━━━━━━━━━┳━━━━━━━━━━━━━━━━━━━━━━━━━━━━━┳━━━━━━━━━━━━━━━━━┓\n",
              "┃\u001b[1m \u001b[0m\u001b[1mLayer (type)                        \u001b[0m\u001b[1m \u001b[0m┃\u001b[1m \u001b[0m\u001b[1mOutput Shape               \u001b[0m\u001b[1m \u001b[0m┃\u001b[1m \u001b[0m\u001b[1m        Param #\u001b[0m\u001b[1m \u001b[0m┃\n",
              "┡━━━━━━━━━━━━━━━━━━━━━━━━━━━━━━━━━━━━━━╇━━━━━━━━━━━━━━━━━━━━━━━━━━━━━╇━━━━━━━━━━━━━━━━━┩\n",
              "│ flatten_4 (\u001b[38;5;33mFlatten\u001b[0m)                  │ (\u001b[38;5;45mNone\u001b[0m, \u001b[38;5;34m3072\u001b[0m)                │               \u001b[38;5;34m0\u001b[0m │\n",
              "├──────────────────────────────────────┼─────────────────────────────┼─────────────────┤\n",
              "│ dense_20 (\u001b[38;5;33mDense\u001b[0m)                     │ (\u001b[38;5;45mNone\u001b[0m, \u001b[38;5;34m1000\u001b[0m)                │       \u001b[38;5;34m3,073,000\u001b[0m │\n",
              "├──────────────────────────────────────┼─────────────────────────────┼─────────────────┤\n",
              "│ batch_normalization_16               │ (\u001b[38;5;45mNone\u001b[0m, \u001b[38;5;34m1000\u001b[0m)                │           \u001b[38;5;34m4,000\u001b[0m │\n",
              "│ (\u001b[38;5;33mBatchNormalization\u001b[0m)                 │                             │                 │\n",
              "├──────────────────────────────────────┼─────────────────────────────┼─────────────────┤\n",
              "│ activation_16 (\u001b[38;5;33mActivation\u001b[0m)           │ (\u001b[38;5;45mNone\u001b[0m, \u001b[38;5;34m1000\u001b[0m)                │               \u001b[38;5;34m0\u001b[0m │\n",
              "├──────────────────────────────────────┼─────────────────────────────┼─────────────────┤\n",
              "│ dense_21 (\u001b[38;5;33mDense\u001b[0m)                     │ (\u001b[38;5;45mNone\u001b[0m, \u001b[38;5;34m1000\u001b[0m)                │       \u001b[38;5;34m1,001,000\u001b[0m │\n",
              "├──────────────────────────────────────┼─────────────────────────────┼─────────────────┤\n",
              "│ batch_normalization_17               │ (\u001b[38;5;45mNone\u001b[0m, \u001b[38;5;34m1000\u001b[0m)                │           \u001b[38;5;34m4,000\u001b[0m │\n",
              "│ (\u001b[38;5;33mBatchNormalization\u001b[0m)                 │                             │                 │\n",
              "├──────────────────────────────────────┼─────────────────────────────┼─────────────────┤\n",
              "│ activation_17 (\u001b[38;5;33mActivation\u001b[0m)           │ (\u001b[38;5;45mNone\u001b[0m, \u001b[38;5;34m1000\u001b[0m)                │               \u001b[38;5;34m0\u001b[0m │\n",
              "├──────────────────────────────────────┼─────────────────────────────┼─────────────────┤\n",
              "│ dense_22 (\u001b[38;5;33mDense\u001b[0m)                     │ (\u001b[38;5;45mNone\u001b[0m, \u001b[38;5;34m1000\u001b[0m)                │       \u001b[38;5;34m1,001,000\u001b[0m │\n",
              "├──────────────────────────────────────┼─────────────────────────────┼─────────────────┤\n",
              "│ batch_normalization_18               │ (\u001b[38;5;45mNone\u001b[0m, \u001b[38;5;34m1000\u001b[0m)                │           \u001b[38;5;34m4,000\u001b[0m │\n",
              "│ (\u001b[38;5;33mBatchNormalization\u001b[0m)                 │                             │                 │\n",
              "├──────────────────────────────────────┼─────────────────────────────┼─────────────────┤\n",
              "│ activation_18 (\u001b[38;5;33mActivation\u001b[0m)           │ (\u001b[38;5;45mNone\u001b[0m, \u001b[38;5;34m1000\u001b[0m)                │               \u001b[38;5;34m0\u001b[0m │\n",
              "├──────────────────────────────────────┼─────────────────────────────┼─────────────────┤\n",
              "│ dense_23 (\u001b[38;5;33mDense\u001b[0m)                     │ (\u001b[38;5;45mNone\u001b[0m, \u001b[38;5;34m1000\u001b[0m)                │       \u001b[38;5;34m1,001,000\u001b[0m │\n",
              "├──────────────────────────────────────┼─────────────────────────────┼─────────────────┤\n",
              "│ batch_normalization_19               │ (\u001b[38;5;45mNone\u001b[0m, \u001b[38;5;34m1000\u001b[0m)                │           \u001b[38;5;34m4,000\u001b[0m │\n",
              "│ (\u001b[38;5;33mBatchNormalization\u001b[0m)                 │                             │                 │\n",
              "├──────────────────────────────────────┼─────────────────────────────┼─────────────────┤\n",
              "│ activation_19 (\u001b[38;5;33mActivation\u001b[0m)           │ (\u001b[38;5;45mNone\u001b[0m, \u001b[38;5;34m1000\u001b[0m)                │               \u001b[38;5;34m0\u001b[0m │\n",
              "├──────────────────────────────────────┼─────────────────────────────┼─────────────────┤\n",
              "│ dense_24 (\u001b[38;5;33mDense\u001b[0m)                     │ (\u001b[38;5;45mNone\u001b[0m, \u001b[38;5;34m100\u001b[0m)                 │         \u001b[38;5;34m100,100\u001b[0m │\n",
              "└──────────────────────────────────────┴─────────────────────────────┴─────────────────┘\n"
            ],
            "text/html": [
              "<pre style=\"white-space:pre;overflow-x:auto;line-height:normal;font-family:Menlo,'DejaVu Sans Mono',consolas,'Courier New',monospace\">┏━━━━━━━━━━━━━━━━━━━━━━━━━━━━━━━━━━━━━━┳━━━━━━━━━━━━━━━━━━━━━━━━━━━━━┳━━━━━━━━━━━━━━━━━┓\n",
              "┃<span style=\"font-weight: bold\"> Layer (type)                         </span>┃<span style=\"font-weight: bold\"> Output Shape                </span>┃<span style=\"font-weight: bold\">         Param # </span>┃\n",
              "┡━━━━━━━━━━━━━━━━━━━━━━━━━━━━━━━━━━━━━━╇━━━━━━━━━━━━━━━━━━━━━━━━━━━━━╇━━━━━━━━━━━━━━━━━┩\n",
              "│ flatten_4 (<span style=\"color: #0087ff; text-decoration-color: #0087ff\">Flatten</span>)                  │ (<span style=\"color: #00d7ff; text-decoration-color: #00d7ff\">None</span>, <span style=\"color: #00af00; text-decoration-color: #00af00\">3072</span>)                │               <span style=\"color: #00af00; text-decoration-color: #00af00\">0</span> │\n",
              "├──────────────────────────────────────┼─────────────────────────────┼─────────────────┤\n",
              "│ dense_20 (<span style=\"color: #0087ff; text-decoration-color: #0087ff\">Dense</span>)                     │ (<span style=\"color: #00d7ff; text-decoration-color: #00d7ff\">None</span>, <span style=\"color: #00af00; text-decoration-color: #00af00\">1000</span>)                │       <span style=\"color: #00af00; text-decoration-color: #00af00\">3,073,000</span> │\n",
              "├──────────────────────────────────────┼─────────────────────────────┼─────────────────┤\n",
              "│ batch_normalization_16               │ (<span style=\"color: #00d7ff; text-decoration-color: #00d7ff\">None</span>, <span style=\"color: #00af00; text-decoration-color: #00af00\">1000</span>)                │           <span style=\"color: #00af00; text-decoration-color: #00af00\">4,000</span> │\n",
              "│ (<span style=\"color: #0087ff; text-decoration-color: #0087ff\">BatchNormalization</span>)                 │                             │                 │\n",
              "├──────────────────────────────────────┼─────────────────────────────┼─────────────────┤\n",
              "│ activation_16 (<span style=\"color: #0087ff; text-decoration-color: #0087ff\">Activation</span>)           │ (<span style=\"color: #00d7ff; text-decoration-color: #00d7ff\">None</span>, <span style=\"color: #00af00; text-decoration-color: #00af00\">1000</span>)                │               <span style=\"color: #00af00; text-decoration-color: #00af00\">0</span> │\n",
              "├──────────────────────────────────────┼─────────────────────────────┼─────────────────┤\n",
              "│ dense_21 (<span style=\"color: #0087ff; text-decoration-color: #0087ff\">Dense</span>)                     │ (<span style=\"color: #00d7ff; text-decoration-color: #00d7ff\">None</span>, <span style=\"color: #00af00; text-decoration-color: #00af00\">1000</span>)                │       <span style=\"color: #00af00; text-decoration-color: #00af00\">1,001,000</span> │\n",
              "├──────────────────────────────────────┼─────────────────────────────┼─────────────────┤\n",
              "│ batch_normalization_17               │ (<span style=\"color: #00d7ff; text-decoration-color: #00d7ff\">None</span>, <span style=\"color: #00af00; text-decoration-color: #00af00\">1000</span>)                │           <span style=\"color: #00af00; text-decoration-color: #00af00\">4,000</span> │\n",
              "│ (<span style=\"color: #0087ff; text-decoration-color: #0087ff\">BatchNormalization</span>)                 │                             │                 │\n",
              "├──────────────────────────────────────┼─────────────────────────────┼─────────────────┤\n",
              "│ activation_17 (<span style=\"color: #0087ff; text-decoration-color: #0087ff\">Activation</span>)           │ (<span style=\"color: #00d7ff; text-decoration-color: #00d7ff\">None</span>, <span style=\"color: #00af00; text-decoration-color: #00af00\">1000</span>)                │               <span style=\"color: #00af00; text-decoration-color: #00af00\">0</span> │\n",
              "├──────────────────────────────────────┼─────────────────────────────┼─────────────────┤\n",
              "│ dense_22 (<span style=\"color: #0087ff; text-decoration-color: #0087ff\">Dense</span>)                     │ (<span style=\"color: #00d7ff; text-decoration-color: #00d7ff\">None</span>, <span style=\"color: #00af00; text-decoration-color: #00af00\">1000</span>)                │       <span style=\"color: #00af00; text-decoration-color: #00af00\">1,001,000</span> │\n",
              "├──────────────────────────────────────┼─────────────────────────────┼─────────────────┤\n",
              "│ batch_normalization_18               │ (<span style=\"color: #00d7ff; text-decoration-color: #00d7ff\">None</span>, <span style=\"color: #00af00; text-decoration-color: #00af00\">1000</span>)                │           <span style=\"color: #00af00; text-decoration-color: #00af00\">4,000</span> │\n",
              "│ (<span style=\"color: #0087ff; text-decoration-color: #0087ff\">BatchNormalization</span>)                 │                             │                 │\n",
              "├──────────────────────────────────────┼─────────────────────────────┼─────────────────┤\n",
              "│ activation_18 (<span style=\"color: #0087ff; text-decoration-color: #0087ff\">Activation</span>)           │ (<span style=\"color: #00d7ff; text-decoration-color: #00d7ff\">None</span>, <span style=\"color: #00af00; text-decoration-color: #00af00\">1000</span>)                │               <span style=\"color: #00af00; text-decoration-color: #00af00\">0</span> │\n",
              "├──────────────────────────────────────┼─────────────────────────────┼─────────────────┤\n",
              "│ dense_23 (<span style=\"color: #0087ff; text-decoration-color: #0087ff\">Dense</span>)                     │ (<span style=\"color: #00d7ff; text-decoration-color: #00d7ff\">None</span>, <span style=\"color: #00af00; text-decoration-color: #00af00\">1000</span>)                │       <span style=\"color: #00af00; text-decoration-color: #00af00\">1,001,000</span> │\n",
              "├──────────────────────────────────────┼─────────────────────────────┼─────────────────┤\n",
              "│ batch_normalization_19               │ (<span style=\"color: #00d7ff; text-decoration-color: #00d7ff\">None</span>, <span style=\"color: #00af00; text-decoration-color: #00af00\">1000</span>)                │           <span style=\"color: #00af00; text-decoration-color: #00af00\">4,000</span> │\n",
              "│ (<span style=\"color: #0087ff; text-decoration-color: #0087ff\">BatchNormalization</span>)                 │                             │                 │\n",
              "├──────────────────────────────────────┼─────────────────────────────┼─────────────────┤\n",
              "│ activation_19 (<span style=\"color: #0087ff; text-decoration-color: #0087ff\">Activation</span>)           │ (<span style=\"color: #00d7ff; text-decoration-color: #00d7ff\">None</span>, <span style=\"color: #00af00; text-decoration-color: #00af00\">1000</span>)                │               <span style=\"color: #00af00; text-decoration-color: #00af00\">0</span> │\n",
              "├──────────────────────────────────────┼─────────────────────────────┼─────────────────┤\n",
              "│ dense_24 (<span style=\"color: #0087ff; text-decoration-color: #0087ff\">Dense</span>)                     │ (<span style=\"color: #00d7ff; text-decoration-color: #00d7ff\">None</span>, <span style=\"color: #00af00; text-decoration-color: #00af00\">100</span>)                 │         <span style=\"color: #00af00; text-decoration-color: #00af00\">100,100</span> │\n",
              "└──────────────────────────────────────┴─────────────────────────────┴─────────────────┘\n",
              "</pre>\n"
            ]
          },
          "metadata": {}
        },
        {
          "output_type": "display_data",
          "data": {
            "text/plain": [
              "\u001b[1m Total params: \u001b[0m\u001b[38;5;34m6,192,100\u001b[0m (23.62 MB)\n"
            ],
            "text/html": [
              "<pre style=\"white-space:pre;overflow-x:auto;line-height:normal;font-family:Menlo,'DejaVu Sans Mono',consolas,'Courier New',monospace\"><span style=\"font-weight: bold\"> Total params: </span><span style=\"color: #00af00; text-decoration-color: #00af00\">6,192,100</span> (23.62 MB)\n",
              "</pre>\n"
            ]
          },
          "metadata": {}
        },
        {
          "output_type": "display_data",
          "data": {
            "text/plain": [
              "\u001b[1m Trainable params: \u001b[0m\u001b[38;5;34m6,184,100\u001b[0m (23.59 MB)\n"
            ],
            "text/html": [
              "<pre style=\"white-space:pre;overflow-x:auto;line-height:normal;font-family:Menlo,'DejaVu Sans Mono',consolas,'Courier New',monospace\"><span style=\"font-weight: bold\"> Trainable params: </span><span style=\"color: #00af00; text-decoration-color: #00af00\">6,184,100</span> (23.59 MB)\n",
              "</pre>\n"
            ]
          },
          "metadata": {}
        },
        {
          "output_type": "display_data",
          "data": {
            "text/plain": [
              "\u001b[1m Non-trainable params: \u001b[0m\u001b[38;5;34m8,000\u001b[0m (31.25 KB)\n"
            ],
            "text/html": [
              "<pre style=\"white-space:pre;overflow-x:auto;line-height:normal;font-family:Menlo,'DejaVu Sans Mono',consolas,'Courier New',monospace\"><span style=\"font-weight: bold\"> Non-trainable params: </span><span style=\"color: #00af00; text-decoration-color: #00af00\">8,000</span> (31.25 KB)\n",
              "</pre>\n"
            ]
          },
          "metadata": {}
        }
      ],
      "id": "q99aPHtzdUuV"
    },
    {
      "cell_type": "code",
      "source": [
        "rlrop = ReduceLROnPlateau(\n",
        "    monitor = \"val_accuracy\",\n",
        "    factor = 0.5,\n",
        "    patience = 10,\n",
        "    verbose = 1,\n",
        "    min_lr = 1e-5\n",
        ")"
      ],
      "metadata": {
        "id": "jimkGVnudUuV"
      },
      "execution_count": null,
      "outputs": [],
      "id": "jimkGVnudUuV"
    },
    {
      "cell_type": "code",
      "source": [
        "mc = ModelCheckpoint(\n",
        "    \"best_weights.weights.h5\",\n",
        "    monitor = \"val_accuracy\",\n",
        "    verbose = 1,\n",
        "    save_best_only = True,\n",
        "    save_weights_only = True,\n",
        ")"
      ],
      "metadata": {
        "id": "q3tI2x7wdUuW"
      },
      "execution_count": null,
      "outputs": [],
      "id": "q3tI2x7wdUuW"
    },
    {
      "cell_type": "code",
      "source": [
        "es = EarlyStopping(\n",
        "    monitor = \"val_accuracy\",\n",
        "    patience = 12,\n",
        "    verbose = 1,\n",
        "    restore_best_weights = True,\n",
        ")"
      ],
      "metadata": {
        "id": "8NudscV1dUuW"
      },
      "execution_count": null,
      "outputs": [],
      "id": "8NudscV1dUuW"
    },
    {
      "cell_type": "code",
      "source": [
        "tb = TensorBoard(\n",
        "    log_dir=\"logs\",\n",
        ")"
      ],
      "metadata": {
        "id": "jbWJsUFRdUuX"
      },
      "execution_count": null,
      "outputs": [],
      "id": "jbWJsUFRdUuX"
    },
    {
      "cell_type": "code",
      "source": [
        "history = model.fit(\n",
        "    x = x_train,\n",
        "    y= y_train,\n",
        "    batch_size=16,\n",
        "    epochs=100,\n",
        "    validation_data = (x_val, y_val),\n",
        "    callbacks= [\n",
        "        rlrop,\n",
        "        es,\n",
        "        mc\n",
        "    ]\n",
        ")"
      ],
      "metadata": {
        "colab": {
          "base_uri": "https://localhost:8080/"
        },
        "outputId": "f74dad68-3ba7-493c-f411-91f90afc4541",
        "id": "eRYT0EkCdUuX"
      },
      "execution_count": null,
      "outputs": [
        {
          "output_type": "stream",
          "name": "stdout",
          "text": [
            "Epoch 1/100\n",
            "\u001b[1m2813/2813\u001b[0m \u001b[32m━━━━━━━━━━━━━━━━━━━━\u001b[0m\u001b[37m\u001b[0m \u001b[1m0s\u001b[0m 4ms/step - accuracy: 0.0810 - loss: 4.2000\n",
            "Epoch 1: val_accuracy improved from -inf to 0.13500, saving model to best_weights.weights.h5\n",
            "\u001b[1m2813/2813\u001b[0m \u001b[32m━━━━━━━━━━━━━━━━━━━━\u001b[0m\u001b[37m\u001b[0m \u001b[1m16s\u001b[0m 5ms/step - accuracy: 0.0810 - loss: 4.2000 - val_accuracy: 0.1350 - val_loss: 3.8131 - learning_rate: 5.0000e-04\n",
            "Epoch 2/100\n",
            "\u001b[1m2799/2813\u001b[0m \u001b[32m━━━━━━━━━━━━━━━━━━━\u001b[0m\u001b[37m━\u001b[0m \u001b[1m0s\u001b[0m 3ms/step - accuracy: 0.1516 - loss: 3.6206\n",
            "Epoch 2: val_accuracy improved from 0.13500 to 0.14100, saving model to best_weights.weights.h5\n",
            "\u001b[1m2813/2813\u001b[0m \u001b[32m━━━━━━━━━━━━━━━━━━━━\u001b[0m\u001b[37m\u001b[0m \u001b[1m11s\u001b[0m 4ms/step - accuracy: 0.1516 - loss: 3.6204 - val_accuracy: 0.1410 - val_loss: 3.7935 - learning_rate: 5.0000e-04\n",
            "Epoch 3/100\n",
            "\u001b[1m2806/2813\u001b[0m \u001b[32m━━━━━━━━━━━━━━━━━━━\u001b[0m\u001b[37m━\u001b[0m \u001b[1m0s\u001b[0m 3ms/step - accuracy: 0.1874 - loss: 3.3985\n",
            "Epoch 3: val_accuracy improved from 0.14100 to 0.20280, saving model to best_weights.weights.h5\n",
            "\u001b[1m2813/2813\u001b[0m \u001b[32m━━━━━━━━━━━━━━━━━━━━\u001b[0m\u001b[37m\u001b[0m \u001b[1m10s\u001b[0m 3ms/step - accuracy: 0.1874 - loss: 3.3984 - val_accuracy: 0.2028 - val_loss: 3.4126 - learning_rate: 5.0000e-04\n",
            "Epoch 4/100\n",
            "\u001b[1m2800/2813\u001b[0m \u001b[32m━━━━━━━━━━━━━━━━━━━\u001b[0m\u001b[37m━\u001b[0m \u001b[1m0s\u001b[0m 3ms/step - accuracy: 0.2103 - loss: 3.2433\n",
            "Epoch 4: val_accuracy improved from 0.20280 to 0.21680, saving model to best_weights.weights.h5\n",
            "\u001b[1m2813/2813\u001b[0m \u001b[32m━━━━━━━━━━━━━━━━━━━━\u001b[0m\u001b[37m\u001b[0m \u001b[1m10s\u001b[0m 4ms/step - accuracy: 0.2103 - loss: 3.2433 - val_accuracy: 0.2168 - val_loss: 3.3171 - learning_rate: 5.0000e-04\n",
            "Epoch 5/100\n",
            "\u001b[1m2806/2813\u001b[0m \u001b[32m━━━━━━━━━━━━━━━━━━━\u001b[0m\u001b[37m━\u001b[0m \u001b[1m0s\u001b[0m 3ms/step - accuracy: 0.2378 - loss: 3.1059\n",
            "Epoch 5: val_accuracy did not improve from 0.21680\n",
            "\u001b[1m2813/2813\u001b[0m \u001b[32m━━━━━━━━━━━━━━━━━━━━\u001b[0m\u001b[37m\u001b[0m \u001b[1m10s\u001b[0m 4ms/step - accuracy: 0.2378 - loss: 3.1059 - val_accuracy: 0.1916 - val_loss: 3.4864 - learning_rate: 5.0000e-04\n",
            "Epoch 6/100\n",
            "\u001b[1m2810/2813\u001b[0m \u001b[32m━━━━━━━━━━━━━━━━━━━\u001b[0m\u001b[37m━\u001b[0m \u001b[1m0s\u001b[0m 3ms/step - accuracy: 0.2579 - loss: 2.9783\n",
            "Epoch 6: val_accuracy improved from 0.21680 to 0.23320, saving model to best_weights.weights.h5\n",
            "\u001b[1m2813/2813\u001b[0m \u001b[32m━━━━━━━━━━━━━━━━━━━━\u001b[0m\u001b[37m\u001b[0m \u001b[1m10s\u001b[0m 4ms/step - accuracy: 0.2579 - loss: 2.9783 - val_accuracy: 0.2332 - val_loss: 3.2669 - learning_rate: 5.0000e-04\n",
            "Epoch 7/100\n",
            "\u001b[1m2809/2813\u001b[0m \u001b[32m━━━━━━━━━━━━━━━━━━━\u001b[0m\u001b[37m━\u001b[0m \u001b[1m0s\u001b[0m 3ms/step - accuracy: 0.2829 - loss: 2.8568\n",
            "Epoch 7: val_accuracy did not improve from 0.23320\n",
            "\u001b[1m2813/2813\u001b[0m \u001b[32m━━━━━━━━━━━━━━━━━━━━\u001b[0m\u001b[37m\u001b[0m \u001b[1m10s\u001b[0m 3ms/step - accuracy: 0.2829 - loss: 2.8568 - val_accuracy: 0.2320 - val_loss: 3.2306 - learning_rate: 5.0000e-04\n",
            "Epoch 8/100\n",
            "\u001b[1m2806/2813\u001b[0m \u001b[32m━━━━━━━━━━━━━━━━━━━\u001b[0m\u001b[37m━\u001b[0m \u001b[1m0s\u001b[0m 3ms/step - accuracy: 0.3068 - loss: 2.7402\n",
            "Epoch 8: val_accuracy improved from 0.23320 to 0.25760, saving model to best_weights.weights.h5\n",
            "\u001b[1m2813/2813\u001b[0m \u001b[32m━━━━━━━━━━━━━━━━━━━━\u001b[0m\u001b[37m\u001b[0m \u001b[1m11s\u001b[0m 4ms/step - accuracy: 0.3068 - loss: 2.7403 - val_accuracy: 0.2576 - val_loss: 3.1645 - learning_rate: 5.0000e-04\n",
            "Epoch 9/100\n",
            "\u001b[1m2809/2813\u001b[0m \u001b[32m━━━━━━━━━━━━━━━━━━━\u001b[0m\u001b[37m━\u001b[0m \u001b[1m0s\u001b[0m 3ms/step - accuracy: 0.3273 - loss: 2.6401\n",
            "Epoch 9: val_accuracy improved from 0.25760 to 0.25840, saving model to best_weights.weights.h5\n",
            "\u001b[1m2813/2813\u001b[0m \u001b[32m━━━━━━━━━━━━━━━━━━━━\u001b[0m\u001b[37m\u001b[0m \u001b[1m21s\u001b[0m 4ms/step - accuracy: 0.3273 - loss: 2.6401 - val_accuracy: 0.2584 - val_loss: 3.1501 - learning_rate: 5.0000e-04\n",
            "Epoch 10/100\n",
            "\u001b[1m2805/2813\u001b[0m \u001b[32m━━━━━━━━━━━━━━━━━━━\u001b[0m\u001b[37m━\u001b[0m \u001b[1m0s\u001b[0m 3ms/step - accuracy: 0.3540 - loss: 2.5180\n",
            "Epoch 10: val_accuracy improved from 0.25840 to 0.26120, saving model to best_weights.weights.h5\n",
            "\u001b[1m2813/2813\u001b[0m \u001b[32m━━━━━━━━━━━━━━━━━━━━\u001b[0m\u001b[37m\u001b[0m \u001b[1m9s\u001b[0m 3ms/step - accuracy: 0.3540 - loss: 2.5182 - val_accuracy: 0.2612 - val_loss: 3.1623 - learning_rate: 5.0000e-04\n",
            "Epoch 11/100\n",
            "\u001b[1m2803/2813\u001b[0m \u001b[32m━━━━━━━━━━━━━━━━━━━\u001b[0m\u001b[37m━\u001b[0m \u001b[1m0s\u001b[0m 3ms/step - accuracy: 0.3718 - loss: 2.4144\n",
            "Epoch 11: val_accuracy did not improve from 0.26120\n",
            "\u001b[1m2813/2813\u001b[0m \u001b[32m━━━━━━━━━━━━━━━━━━━━\u001b[0m\u001b[37m\u001b[0m \u001b[1m10s\u001b[0m 4ms/step - accuracy: 0.3718 - loss: 2.4145 - val_accuracy: 0.2600 - val_loss: 3.2227 - learning_rate: 5.0000e-04\n",
            "Epoch 12/100\n",
            "\u001b[1m2809/2813\u001b[0m \u001b[32m━━━━━━━━━━━━━━━━━━━\u001b[0m\u001b[37m━\u001b[0m \u001b[1m0s\u001b[0m 3ms/step - accuracy: 0.3946 - loss: 2.2958\n",
            "Epoch 12: val_accuracy did not improve from 0.26120\n",
            "\u001b[1m2813/2813\u001b[0m \u001b[32m━━━━━━━━━━━━━━━━━━━━\u001b[0m\u001b[37m\u001b[0m \u001b[1m21s\u001b[0m 4ms/step - accuracy: 0.3946 - loss: 2.2959 - val_accuracy: 0.2598 - val_loss: 3.3099 - learning_rate: 5.0000e-04\n",
            "Epoch 13/100\n",
            "\u001b[1m2810/2813\u001b[0m \u001b[32m━━━━━━━━━━━━━━━━━━━\u001b[0m\u001b[37m━\u001b[0m \u001b[1m0s\u001b[0m 3ms/step - accuracy: 0.4124 - loss: 2.1987\n",
            "Epoch 13: val_accuracy did not improve from 0.26120\n",
            "\u001b[1m2813/2813\u001b[0m \u001b[32m━━━━━━━━━━━━━━━━━━━━\u001b[0m\u001b[37m\u001b[0m \u001b[1m9s\u001b[0m 3ms/step - accuracy: 0.4124 - loss: 2.1987 - val_accuracy: 0.2606 - val_loss: 3.3797 - learning_rate: 5.0000e-04\n",
            "Epoch 14/100\n",
            "\u001b[1m2807/2813\u001b[0m \u001b[32m━━━━━━━━━━━━━━━━━━━\u001b[0m\u001b[37m━\u001b[0m \u001b[1m0s\u001b[0m 3ms/step - accuracy: 0.4396 - loss: 2.0920\n",
            "Epoch 14: val_accuracy improved from 0.26120 to 0.27320, saving model to best_weights.weights.h5\n",
            "\u001b[1m2813/2813\u001b[0m \u001b[32m━━━━━━━━━━━━━━━━━━━━\u001b[0m\u001b[37m\u001b[0m \u001b[1m10s\u001b[0m 4ms/step - accuracy: 0.4395 - loss: 2.0921 - val_accuracy: 0.2732 - val_loss: 3.2925 - learning_rate: 5.0000e-04\n",
            "Epoch 15/100\n",
            "\u001b[1m2809/2813\u001b[0m \u001b[32m━━━━━━━━━━━━━━━━━━━\u001b[0m\u001b[37m━\u001b[0m \u001b[1m0s\u001b[0m 3ms/step - accuracy: 0.4575 - loss: 1.9955\n",
            "Epoch 15: val_accuracy improved from 0.27320 to 0.27460, saving model to best_weights.weights.h5\n",
            "\u001b[1m2813/2813\u001b[0m \u001b[32m━━━━━━━━━━━━━━━━━━━━\u001b[0m\u001b[37m\u001b[0m \u001b[1m21s\u001b[0m 4ms/step - accuracy: 0.4574 - loss: 1.9955 - val_accuracy: 0.2746 - val_loss: 3.3360 - learning_rate: 5.0000e-04\n",
            "Epoch 16/100\n",
            "\u001b[1m2805/2813\u001b[0m \u001b[32m━━━━━━━━━━━━━━━━━━━\u001b[0m\u001b[37m━\u001b[0m \u001b[1m0s\u001b[0m 3ms/step - accuracy: 0.4891 - loss: 1.8722\n",
            "Epoch 16: val_accuracy did not improve from 0.27460\n",
            "\u001b[1m2813/2813\u001b[0m \u001b[32m━━━━━━━━━━━━━━━━━━━━\u001b[0m\u001b[37m\u001b[0m \u001b[1m20s\u001b[0m 4ms/step - accuracy: 0.4890 - loss: 1.8724 - val_accuracy: 0.2636 - val_loss: 3.4459 - learning_rate: 5.0000e-04\n",
            "Epoch 17/100\n",
            "\u001b[1m2798/2813\u001b[0m \u001b[32m━━━━━━━━━━━━━━━━━━━\u001b[0m\u001b[37m━\u001b[0m \u001b[1m0s\u001b[0m 3ms/step - accuracy: 0.5188 - loss: 1.7516\n",
            "Epoch 17: val_accuracy did not improve from 0.27460\n",
            "\u001b[1m2813/2813\u001b[0m \u001b[32m━━━━━━━━━━━━━━━━━━━━\u001b[0m\u001b[37m\u001b[0m \u001b[1m10s\u001b[0m 4ms/step - accuracy: 0.5187 - loss: 1.7520 - val_accuracy: 0.2602 - val_loss: 3.6849 - learning_rate: 5.0000e-04\n",
            "Epoch 18/100\n",
            "\u001b[1m2807/2813\u001b[0m \u001b[32m━━━━━━━━━━━━━━━━━━━\u001b[0m\u001b[37m━\u001b[0m \u001b[1m0s\u001b[0m 3ms/step - accuracy: 0.5401 - loss: 1.6538\n",
            "Epoch 18: val_accuracy did not improve from 0.27460\n",
            "\u001b[1m2813/2813\u001b[0m \u001b[32m━━━━━━━━━━━━━━━━━━━━\u001b[0m\u001b[37m\u001b[0m \u001b[1m10s\u001b[0m 4ms/step - accuracy: 0.5400 - loss: 1.6540 - val_accuracy: 0.2668 - val_loss: 3.7013 - learning_rate: 5.0000e-04\n",
            "Epoch 19/100\n",
            "\u001b[1m2803/2813\u001b[0m \u001b[32m━━━━━━━━━━━━━━━━━━━\u001b[0m\u001b[37m━\u001b[0m \u001b[1m0s\u001b[0m 3ms/step - accuracy: 0.5642 - loss: 1.5655\n",
            "Epoch 19: val_accuracy did not improve from 0.27460\n",
            "\u001b[1m2813/2813\u001b[0m \u001b[32m━━━━━━━━━━━━━━━━━━━━\u001b[0m\u001b[37m\u001b[0m \u001b[1m9s\u001b[0m 3ms/step - accuracy: 0.5642 - loss: 1.5657 - val_accuracy: 0.2652 - val_loss: 3.7834 - learning_rate: 5.0000e-04\n",
            "Epoch 20/100\n",
            "\u001b[1m2809/2813\u001b[0m \u001b[32m━━━━━━━━━━━━━━━━━━━\u001b[0m\u001b[37m━\u001b[0m \u001b[1m0s\u001b[0m 3ms/step - accuracy: 0.5880 - loss: 1.4667\n",
            "Epoch 20: val_accuracy did not improve from 0.27460\n",
            "\u001b[1m2813/2813\u001b[0m \u001b[32m━━━━━━━━━━━━━━━━━━━━\u001b[0m\u001b[37m\u001b[0m \u001b[1m10s\u001b[0m 4ms/step - accuracy: 0.5879 - loss: 1.4668 - val_accuracy: 0.2688 - val_loss: 3.9538 - learning_rate: 5.0000e-04\n",
            "Epoch 21/100\n",
            "\u001b[1m2801/2813\u001b[0m \u001b[32m━━━━━━━━━━━━━━━━━━━\u001b[0m\u001b[37m━\u001b[0m \u001b[1m0s\u001b[0m 3ms/step - accuracy: 0.6122 - loss: 1.3698\n",
            "Epoch 21: val_accuracy did not improve from 0.27460\n",
            "\u001b[1m2813/2813\u001b[0m \u001b[32m━━━━━━━━━━━━━━━━━━━━\u001b[0m\u001b[37m\u001b[0m \u001b[1m10s\u001b[0m 4ms/step - accuracy: 0.6121 - loss: 1.3702 - val_accuracy: 0.2636 - val_loss: 3.9882 - learning_rate: 5.0000e-04\n",
            "Epoch 22/100\n",
            "\u001b[1m2805/2813\u001b[0m \u001b[32m━━━━━━━━━━━━━━━━━━━\u001b[0m\u001b[37m━\u001b[0m \u001b[1m0s\u001b[0m 3ms/step - accuracy: 0.6250 - loss: 1.3124\n",
            "Epoch 22: val_accuracy did not improve from 0.27460\n",
            "\u001b[1m2813/2813\u001b[0m \u001b[32m━━━━━━━━━━━━━━━━━━━━\u001b[0m\u001b[37m\u001b[0m \u001b[1m10s\u001b[0m 3ms/step - accuracy: 0.6249 - loss: 1.3125 - val_accuracy: 0.2720 - val_loss: 4.0077 - learning_rate: 5.0000e-04\n",
            "Epoch 23/100\n",
            "\u001b[1m2808/2813\u001b[0m \u001b[32m━━━━━━━━━━━━━━━━━━━\u001b[0m\u001b[37m━\u001b[0m \u001b[1m0s\u001b[0m 3ms/step - accuracy: 0.6436 - loss: 1.2344\n",
            "Epoch 23: val_accuracy did not improve from 0.27460\n",
            "\u001b[1m2813/2813\u001b[0m \u001b[32m━━━━━━━━━━━━━━━━━━━━\u001b[0m\u001b[37m\u001b[0m \u001b[1m10s\u001b[0m 3ms/step - accuracy: 0.6436 - loss: 1.2345 - val_accuracy: 0.2572 - val_loss: 4.2040 - learning_rate: 5.0000e-04\n",
            "Epoch 24/100\n",
            "\u001b[1m2804/2813\u001b[0m \u001b[32m━━━━━━━━━━━━━━━━━━━\u001b[0m\u001b[37m━\u001b[0m \u001b[1m0s\u001b[0m 3ms/step - accuracy: 0.6646 - loss: 1.1551\n",
            "Epoch 24: val_accuracy did not improve from 0.27460\n",
            "\u001b[1m2813/2813\u001b[0m \u001b[32m━━━━━━━━━━━━━━━━━━━━\u001b[0m\u001b[37m\u001b[0m \u001b[1m11s\u001b[0m 4ms/step - accuracy: 0.6645 - loss: 1.1553 - val_accuracy: 0.2466 - val_loss: 4.3577 - learning_rate: 5.0000e-04\n",
            "Epoch 25/100\n",
            "\u001b[1m2805/2813\u001b[0m \u001b[32m━━━━━━━━━━━━━━━━━━━\u001b[0m\u001b[37m━\u001b[0m \u001b[1m0s\u001b[0m 4ms/step - accuracy: 0.6793 - loss: 1.0931\n",
            "Epoch 25: ReduceLROnPlateau reducing learning rate to 0.0002500000118743628.\n",
            "\n",
            "Epoch 25: val_accuracy did not improve from 0.27460\n",
            "\u001b[1m2813/2813\u001b[0m \u001b[32m━━━━━━━━━━━━━━━━━━━━\u001b[0m\u001b[37m\u001b[0m \u001b[1m11s\u001b[0m 4ms/step - accuracy: 0.6792 - loss: 1.0933 - val_accuracy: 0.2728 - val_loss: 4.1807 - learning_rate: 5.0000e-04\n",
            "Epoch 26/100\n",
            "\u001b[1m2811/2813\u001b[0m \u001b[32m━━━━━━━━━━━━━━━━━━━\u001b[0m\u001b[37m━\u001b[0m \u001b[1m0s\u001b[0m 3ms/step - accuracy: 0.7504 - loss: 0.8619\n",
            "Epoch 26: val_accuracy improved from 0.27460 to 0.29280, saving model to best_weights.weights.h5\n",
            "\u001b[1m2813/2813\u001b[0m \u001b[32m━━━━━━━━━━━━━━━━━━━━\u001b[0m\u001b[37m\u001b[0m \u001b[1m21s\u001b[0m 4ms/step - accuracy: 0.7504 - loss: 0.8619 - val_accuracy: 0.2928 - val_loss: 4.1239 - learning_rate: 2.5000e-04\n",
            "Epoch 27/100\n",
            "\u001b[1m2809/2813\u001b[0m \u001b[32m━━━━━━━━━━━━━━━━━━━\u001b[0m\u001b[37m━\u001b[0m \u001b[1m0s\u001b[0m 4ms/step - accuracy: 0.7828 - loss: 0.7515\n",
            "Epoch 27: val_accuracy did not improve from 0.29280\n",
            "\u001b[1m2813/2813\u001b[0m \u001b[32m━━━━━━━━━━━━━━━━━━━━\u001b[0m\u001b[37m\u001b[0m \u001b[1m11s\u001b[0m 4ms/step - accuracy: 0.7828 - loss: 0.7515 - val_accuracy: 0.2812 - val_loss: 4.2389 - learning_rate: 2.5000e-04\n",
            "Epoch 28/100\n",
            "\u001b[1m2804/2813\u001b[0m \u001b[32m━━━━━━━━━━━━━━━━━━━\u001b[0m\u001b[37m━\u001b[0m \u001b[1m0s\u001b[0m 3ms/step - accuracy: 0.8041 - loss: 0.6703\n",
            "Epoch 28: val_accuracy did not improve from 0.29280\n",
            "\u001b[1m2813/2813\u001b[0m \u001b[32m━━━━━━━━━━━━━━━━━━━━\u001b[0m\u001b[37m\u001b[0m \u001b[1m19s\u001b[0m 3ms/step - accuracy: 0.8041 - loss: 0.6704 - val_accuracy: 0.2868 - val_loss: 4.4526 - learning_rate: 2.5000e-04\n",
            "Epoch 29/100\n",
            "\u001b[1m2813/2813\u001b[0m \u001b[32m━━━━━━━━━━━━━━━━━━━━\u001b[0m\u001b[37m\u001b[0m \u001b[1m0s\u001b[0m 3ms/step - accuracy: 0.8073 - loss: 0.6531\n",
            "Epoch 29: val_accuracy did not improve from 0.29280\n",
            "\u001b[1m2813/2813\u001b[0m \u001b[32m━━━━━━━━━━━━━━━━━━━━\u001b[0m\u001b[37m\u001b[0m \u001b[1m10s\u001b[0m 3ms/step - accuracy: 0.8073 - loss: 0.6531 - val_accuracy: 0.2840 - val_loss: 4.6485 - learning_rate: 2.5000e-04\n",
            "Epoch 30/100\n",
            "\u001b[1m2813/2813\u001b[0m \u001b[32m━━━━━━━━━━━━━━━━━━━━\u001b[0m\u001b[37m\u001b[0m \u001b[1m0s\u001b[0m 3ms/step - accuracy: 0.8136 - loss: 0.6224\n",
            "Epoch 30: val_accuracy did not improve from 0.29280\n",
            "\u001b[1m2813/2813\u001b[0m \u001b[32m━━━━━━━━━━━━━━━━━━━━\u001b[0m\u001b[37m\u001b[0m \u001b[1m10s\u001b[0m 4ms/step - accuracy: 0.8136 - loss: 0.6224 - val_accuracy: 0.2878 - val_loss: 4.6680 - learning_rate: 2.5000e-04\n",
            "Epoch 31/100\n",
            "\u001b[1m2809/2813\u001b[0m \u001b[32m━━━━━━━━━━━━━━━━━━━\u001b[0m\u001b[37m━\u001b[0m \u001b[1m0s\u001b[0m 3ms/step - accuracy: 0.8276 - loss: 0.5799\n",
            "Epoch 31: val_accuracy did not improve from 0.29280\n",
            "\u001b[1m2813/2813\u001b[0m \u001b[32m━━━━━━━━━━━━━━━━━━━━\u001b[0m\u001b[37m\u001b[0m \u001b[1m10s\u001b[0m 4ms/step - accuracy: 0.8276 - loss: 0.5800 - val_accuracy: 0.2766 - val_loss: 4.8658 - learning_rate: 2.5000e-04\n",
            "Epoch 32/100\n",
            "\u001b[1m2804/2813\u001b[0m \u001b[32m━━━━━━━━━━━━━━━━━━━\u001b[0m\u001b[37m━\u001b[0m \u001b[1m0s\u001b[0m 3ms/step - accuracy: 0.8367 - loss: 0.5438\n",
            "Epoch 32: val_accuracy did not improve from 0.29280\n",
            "\u001b[1m2813/2813\u001b[0m \u001b[32m━━━━━━━━━━━━━━━━━━━━\u001b[0m\u001b[37m\u001b[0m \u001b[1m9s\u001b[0m 3ms/step - accuracy: 0.8367 - loss: 0.5440 - val_accuracy: 0.2818 - val_loss: 4.8773 - learning_rate: 2.5000e-04\n",
            "Epoch 33/100\n",
            "\u001b[1m2806/2813\u001b[0m \u001b[32m━━━━━━━━━━━━━━━━━━━\u001b[0m\u001b[37m━\u001b[0m \u001b[1m0s\u001b[0m 3ms/step - accuracy: 0.8439 - loss: 0.5251\n",
            "Epoch 33: val_accuracy did not improve from 0.29280\n",
            "\u001b[1m2813/2813\u001b[0m \u001b[32m━━━━━━━━━━━━━━━━━━━━\u001b[0m\u001b[37m\u001b[0m \u001b[1m10s\u001b[0m 4ms/step - accuracy: 0.8439 - loss: 0.5252 - val_accuracy: 0.2764 - val_loss: 4.9777 - learning_rate: 2.5000e-04\n",
            "Epoch 34/100\n",
            "\u001b[1m2800/2813\u001b[0m \u001b[32m━━━━━━━━━━━━━━━━━━━\u001b[0m\u001b[37m━\u001b[0m \u001b[1m0s\u001b[0m 3ms/step - accuracy: 0.8467 - loss: 0.5081\n",
            "Epoch 34: val_accuracy did not improve from 0.29280\n",
            "\u001b[1m2813/2813\u001b[0m \u001b[32m━━━━━━━━━━━━━━━━━━━━\u001b[0m\u001b[37m\u001b[0m \u001b[1m10s\u001b[0m 4ms/step - accuracy: 0.8467 - loss: 0.5082 - val_accuracy: 0.2766 - val_loss: 5.0112 - learning_rate: 2.5000e-04\n",
            "Epoch 35/100\n",
            "\u001b[1m2801/2813\u001b[0m \u001b[32m━━━━━━━━━━━━━━━━━━━\u001b[0m\u001b[37m━\u001b[0m \u001b[1m0s\u001b[0m 3ms/step - accuracy: 0.8571 - loss: 0.4817\n",
            "Epoch 35: val_accuracy did not improve from 0.29280\n",
            "\u001b[1m2813/2813\u001b[0m \u001b[32m━━━━━━━━━━━━━━━━━━━━\u001b[0m\u001b[37m\u001b[0m \u001b[1m10s\u001b[0m 4ms/step - accuracy: 0.8571 - loss: 0.4818 - val_accuracy: 0.2718 - val_loss: 5.0950 - learning_rate: 2.5000e-04\n",
            "Epoch 36/100\n",
            "\u001b[1m2812/2813\u001b[0m \u001b[32m━━━━━━━━━━━━━━━━━━━\u001b[0m\u001b[37m━\u001b[0m \u001b[1m0s\u001b[0m 3ms/step - accuracy: 0.8579 - loss: 0.4684\n",
            "Epoch 36: ReduceLROnPlateau reducing learning rate to 0.0001250000059371814.\n",
            "\n",
            "Epoch 36: val_accuracy did not improve from 0.29280\n",
            "\u001b[1m2813/2813\u001b[0m \u001b[32m━━━━━━━━━━━━━━━━━━━━\u001b[0m\u001b[37m\u001b[0m \u001b[1m10s\u001b[0m 3ms/step - accuracy: 0.8579 - loss: 0.4684 - val_accuracy: 0.2702 - val_loss: 5.4186 - learning_rate: 2.5000e-04\n",
            "Epoch 37/100\n",
            "\u001b[1m2809/2813\u001b[0m \u001b[32m━━━━━━━━━━━━━━━━━━━\u001b[0m\u001b[37m━\u001b[0m \u001b[1m0s\u001b[0m 3ms/step - accuracy: 0.8813 - loss: 0.3926\n",
            "Epoch 37: val_accuracy improved from 0.29280 to 0.29380, saving model to best_weights.weights.h5\n",
            "\u001b[1m2813/2813\u001b[0m \u001b[32m━━━━━━━━━━━━━━━━━━━━\u001b[0m\u001b[37m\u001b[0m \u001b[1m11s\u001b[0m 4ms/step - accuracy: 0.8813 - loss: 0.3926 - val_accuracy: 0.2938 - val_loss: 5.0581 - learning_rate: 1.2500e-04\n",
            "Epoch 38/100\n",
            "\u001b[1m2797/2813\u001b[0m \u001b[32m━━━━━━━━━━━━━━━━━━━\u001b[0m\u001b[37m━\u001b[0m \u001b[1m0s\u001b[0m 3ms/step - accuracy: 0.8951 - loss: 0.3509\n",
            "Epoch 38: val_accuracy did not improve from 0.29380\n",
            "\u001b[1m2813/2813\u001b[0m \u001b[32m━━━━━━━━━━━━━━━━━━━━\u001b[0m\u001b[37m\u001b[0m \u001b[1m10s\u001b[0m 4ms/step - accuracy: 0.8951 - loss: 0.3509 - val_accuracy: 0.2864 - val_loss: 5.1155 - learning_rate: 1.2500e-04\n",
            "Epoch 39/100\n",
            "\u001b[1m2811/2813\u001b[0m \u001b[32m━━━━━━━━━━━━━━━━━━━\u001b[0m\u001b[37m━\u001b[0m \u001b[1m0s\u001b[0m 3ms/step - accuracy: 0.9057 - loss: 0.3243\n",
            "Epoch 39: val_accuracy did not improve from 0.29380\n",
            "\u001b[1m2813/2813\u001b[0m \u001b[32m━━━━━━━━━━━━━━━━━━━━\u001b[0m\u001b[37m\u001b[0m \u001b[1m9s\u001b[0m 3ms/step - accuracy: 0.9057 - loss: 0.3244 - val_accuracy: 0.2890 - val_loss: 5.1832 - learning_rate: 1.2500e-04\n",
            "Epoch 40/100\n",
            "\u001b[1m2796/2813\u001b[0m \u001b[32m━━━━━━━━━━━━━━━━━━━\u001b[0m\u001b[37m━\u001b[0m \u001b[1m0s\u001b[0m 3ms/step - accuracy: 0.9042 - loss: 0.3118\n",
            "Epoch 40: val_accuracy did not improve from 0.29380\n",
            "\u001b[1m2813/2813\u001b[0m \u001b[32m━━━━━━━━━━━━━━━━━━━━\u001b[0m\u001b[37m\u001b[0m \u001b[1m10s\u001b[0m 4ms/step - accuracy: 0.9042 - loss: 0.3118 - val_accuracy: 0.2910 - val_loss: 5.2332 - learning_rate: 1.2500e-04\n",
            "Epoch 41/100\n",
            "\u001b[1m2803/2813\u001b[0m \u001b[32m━━━━━━━━━━━━━━━━━━━\u001b[0m\u001b[37m━\u001b[0m \u001b[1m0s\u001b[0m 3ms/step - accuracy: 0.9089 - loss: 0.3022\n",
            "Epoch 41: val_accuracy did not improve from 0.29380\n",
            "\u001b[1m2813/2813\u001b[0m \u001b[32m━━━━━━━━━━━━━━━━━━━━\u001b[0m\u001b[37m\u001b[0m \u001b[1m10s\u001b[0m 4ms/step - accuracy: 0.9089 - loss: 0.3022 - val_accuracy: 0.2848 - val_loss: 5.3450 - learning_rate: 1.2500e-04\n",
            "Epoch 42/100\n",
            "\u001b[1m2809/2813\u001b[0m \u001b[32m━━━━━━━━━━━━━━━━━━━\u001b[0m\u001b[37m━\u001b[0m \u001b[1m0s\u001b[0m 3ms/step - accuracy: 0.9118 - loss: 0.2933\n",
            "Epoch 42: val_accuracy did not improve from 0.29380\n",
            "\u001b[1m2813/2813\u001b[0m \u001b[32m━━━━━━━━━━━━━━━━━━━━\u001b[0m\u001b[37m\u001b[0m \u001b[1m10s\u001b[0m 4ms/step - accuracy: 0.9118 - loss: 0.2934 - val_accuracy: 0.2844 - val_loss: 5.3781 - learning_rate: 1.2500e-04\n",
            "Epoch 43/100\n",
            "\u001b[1m2811/2813\u001b[0m \u001b[32m━━━━━━━━━━━━━━━━━━━\u001b[0m\u001b[37m━\u001b[0m \u001b[1m0s\u001b[0m 4ms/step - accuracy: 0.9138 - loss: 0.2874\n",
            "Epoch 43: val_accuracy did not improve from 0.29380\n",
            "\u001b[1m2813/2813\u001b[0m \u001b[32m━━━━━━━━━━━━━━━━━━━━\u001b[0m\u001b[37m\u001b[0m \u001b[1m22s\u001b[0m 4ms/step - accuracy: 0.9138 - loss: 0.2874 - val_accuracy: 0.2846 - val_loss: 5.4525 - learning_rate: 1.2500e-04\n",
            "Epoch 44/100\n",
            "\u001b[1m2811/2813\u001b[0m \u001b[32m━━━━━━━━━━━━━━━━━━━\u001b[0m\u001b[37m━\u001b[0m \u001b[1m0s\u001b[0m 3ms/step - accuracy: 0.9179 - loss: 0.2722\n",
            "Epoch 44: val_accuracy did not improve from 0.29380\n",
            "\u001b[1m2813/2813\u001b[0m \u001b[32m━━━━━━━━━━━━━━━━━━━━\u001b[0m\u001b[37m\u001b[0m \u001b[1m19s\u001b[0m 4ms/step - accuracy: 0.9179 - loss: 0.2722 - val_accuracy: 0.2860 - val_loss: 5.4328 - learning_rate: 1.2500e-04\n",
            "Epoch 45/100\n",
            "\u001b[1m2802/2813\u001b[0m \u001b[32m━━━━━━━━━━━━━━━━━━━\u001b[0m\u001b[37m━\u001b[0m \u001b[1m0s\u001b[0m 4ms/step - accuracy: 0.9145 - loss: 0.2731\n",
            "Epoch 45: val_accuracy did not improve from 0.29380\n",
            "\u001b[1m2813/2813\u001b[0m \u001b[32m━━━━━━━━━━━━━━━━━━━━\u001b[0m\u001b[37m\u001b[0m \u001b[1m21s\u001b[0m 4ms/step - accuracy: 0.9145 - loss: 0.2731 - val_accuracy: 0.2902 - val_loss: 5.4537 - learning_rate: 1.2500e-04\n",
            "Epoch 46/100\n",
            "\u001b[1m2800/2813\u001b[0m \u001b[32m━━━━━━━━━━━━━━━━━━━\u001b[0m\u001b[37m━\u001b[0m \u001b[1m0s\u001b[0m 3ms/step - accuracy: 0.9216 - loss: 0.2578\n",
            "Epoch 46: val_accuracy did not improve from 0.29380\n",
            "\u001b[1m2813/2813\u001b[0m \u001b[32m━━━━━━━━━━━━━━━━━━━━\u001b[0m\u001b[37m\u001b[0m \u001b[1m21s\u001b[0m 4ms/step - accuracy: 0.9216 - loss: 0.2578 - val_accuracy: 0.2836 - val_loss: 5.5021 - learning_rate: 1.2500e-04\n",
            "Epoch 47/100\n",
            "\u001b[1m2808/2813\u001b[0m \u001b[32m━━━━━━━━━━━━━━━━━━━\u001b[0m\u001b[37m━\u001b[0m \u001b[1m0s\u001b[0m 3ms/step - accuracy: 0.9235 - loss: 0.2497\n",
            "Epoch 47: ReduceLROnPlateau reducing learning rate to 6.25000029685907e-05.\n",
            "\n",
            "Epoch 47: val_accuracy did not improve from 0.29380\n",
            "\u001b[1m2813/2813\u001b[0m \u001b[32m━━━━━━━━━━━━━━━━━━━━\u001b[0m\u001b[37m\u001b[0m \u001b[1m9s\u001b[0m 3ms/step - accuracy: 0.9235 - loss: 0.2498 - val_accuracy: 0.2884 - val_loss: 5.5649 - learning_rate: 1.2500e-04\n",
            "Epoch 48/100\n",
            "\u001b[1m2809/2813\u001b[0m \u001b[32m━━━━━━━━━━━━━━━━━━━\u001b[0m\u001b[37m━\u001b[0m \u001b[1m0s\u001b[0m 3ms/step - accuracy: 0.9305 - loss: 0.2334\n",
            "Epoch 48: val_accuracy improved from 0.29380 to 0.29600, saving model to best_weights.weights.h5\n",
            "\u001b[1m2813/2813\u001b[0m \u001b[32m━━━━━━━━━━━━━━━━━━━━\u001b[0m\u001b[37m\u001b[0m \u001b[1m10s\u001b[0m 4ms/step - accuracy: 0.9305 - loss: 0.2334 - val_accuracy: 0.2960 - val_loss: 5.4589 - learning_rate: 6.2500e-05\n",
            "Epoch 49/100\n",
            "\u001b[1m2803/2813\u001b[0m \u001b[32m━━━━━━━━━━━━━━━━━━━\u001b[0m\u001b[37m━\u001b[0m \u001b[1m0s\u001b[0m 3ms/step - accuracy: 0.9382 - loss: 0.2028\n",
            "Epoch 49: val_accuracy did not improve from 0.29600\n",
            "\u001b[1m2813/2813\u001b[0m \u001b[32m━━━━━━━━━━━━━━━━━━━━\u001b[0m\u001b[37m\u001b[0m \u001b[1m21s\u001b[0m 4ms/step - accuracy: 0.9382 - loss: 0.2028 - val_accuracy: 0.2922 - val_loss: 5.4971 - learning_rate: 6.2500e-05\n",
            "Epoch 50/100\n",
            "\u001b[1m2809/2813\u001b[0m \u001b[32m━━━━━━━━━━━━━━━━━━━\u001b[0m\u001b[37m━\u001b[0m \u001b[1m0s\u001b[0m 3ms/step - accuracy: 0.9396 - loss: 0.2028\n",
            "Epoch 50: val_accuracy did not improve from 0.29600\n",
            "\u001b[1m2813/2813\u001b[0m \u001b[32m━━━━━━━━━━━━━━━━━━━━\u001b[0m\u001b[37m\u001b[0m \u001b[1m9s\u001b[0m 3ms/step - accuracy: 0.9396 - loss: 0.2028 - val_accuracy: 0.2922 - val_loss: 5.5331 - learning_rate: 6.2500e-05\n",
            "Epoch 51/100\n",
            "\u001b[1m2799/2813\u001b[0m \u001b[32m━━━━━━━━━━━━━━━━━━━\u001b[0m\u001b[37m━\u001b[0m \u001b[1m0s\u001b[0m 3ms/step - accuracy: 0.9443 - loss: 0.1890\n",
            "Epoch 51: val_accuracy did not improve from 0.29600\n",
            "\u001b[1m2813/2813\u001b[0m \u001b[32m━━━━━━━━━━━━━━━━━━━━\u001b[0m\u001b[37m\u001b[0m \u001b[1m10s\u001b[0m 4ms/step - accuracy: 0.9443 - loss: 0.1890 - val_accuracy: 0.2888 - val_loss: 5.5427 - learning_rate: 6.2500e-05\n",
            "Epoch 52/100\n",
            "\u001b[1m2801/2813\u001b[0m \u001b[32m━━━━━━━━━━━━━━━━━━━\u001b[0m\u001b[37m━\u001b[0m \u001b[1m0s\u001b[0m 3ms/step - accuracy: 0.9432 - loss: 0.1945\n",
            "Epoch 52: val_accuracy improved from 0.29600 to 0.29860, saving model to best_weights.weights.h5\n",
            "\u001b[1m2813/2813\u001b[0m \u001b[32m━━━━━━━━━━━━━━━━━━━━\u001b[0m\u001b[37m\u001b[0m \u001b[1m10s\u001b[0m 4ms/step - accuracy: 0.9432 - loss: 0.1945 - val_accuracy: 0.2986 - val_loss: 5.5988 - learning_rate: 6.2500e-05\n",
            "Epoch 53/100\n",
            "\u001b[1m2812/2813\u001b[0m \u001b[32m━━━━━━━━━━━━━━━━━━━\u001b[0m\u001b[37m━\u001b[0m \u001b[1m0s\u001b[0m 3ms/step - accuracy: 0.9449 - loss: 0.1830\n",
            "Epoch 53: val_accuracy did not improve from 0.29860\n",
            "\u001b[1m2813/2813\u001b[0m \u001b[32m━━━━━━━━━━━━━━━━━━━━\u001b[0m\u001b[37m\u001b[0m \u001b[1m20s\u001b[0m 3ms/step - accuracy: 0.9449 - loss: 0.1830 - val_accuracy: 0.2894 - val_loss: 5.6062 - learning_rate: 6.2500e-05\n",
            "Epoch 54/100\n",
            "\u001b[1m2812/2813\u001b[0m \u001b[32m━━━━━━━━━━━━━━━━━━━\u001b[0m\u001b[37m━\u001b[0m \u001b[1m0s\u001b[0m 3ms/step - accuracy: 0.9462 - loss: 0.1783\n",
            "Epoch 54: val_accuracy did not improve from 0.29860\n",
            "\u001b[1m2813/2813\u001b[0m \u001b[32m━━━━━━━━━━━━━━━━━━━━\u001b[0m\u001b[37m\u001b[0m \u001b[1m11s\u001b[0m 4ms/step - accuracy: 0.9462 - loss: 0.1784 - val_accuracy: 0.2950 - val_loss: 5.6449 - learning_rate: 6.2500e-05\n",
            "Epoch 55/100\n",
            "\u001b[1m2810/2813\u001b[0m \u001b[32m━━━━━━━━━━━━━━━━━━━\u001b[0m\u001b[37m━\u001b[0m \u001b[1m0s\u001b[0m 4ms/step - accuracy: 0.9464 - loss: 0.1789\n",
            "Epoch 55: val_accuracy did not improve from 0.29860\n",
            "\u001b[1m2813/2813\u001b[0m \u001b[32m━━━━━━━━━━━━━━━━━━━━\u001b[0m\u001b[37m\u001b[0m \u001b[1m11s\u001b[0m 4ms/step - accuracy: 0.9464 - loss: 0.1789 - val_accuracy: 0.2928 - val_loss: 5.6536 - learning_rate: 6.2500e-05\n",
            "Epoch 56/100\n",
            "\u001b[1m2797/2813\u001b[0m \u001b[32m━━━━━━━━━━━━━━━━━━━\u001b[0m\u001b[37m━\u001b[0m \u001b[1m0s\u001b[0m 3ms/step - accuracy: 0.9492 - loss: 0.1705\n",
            "Epoch 56: val_accuracy did not improve from 0.29860\n",
            "\u001b[1m2813/2813\u001b[0m \u001b[32m━━━━━━━━━━━━━━━━━━━━\u001b[0m\u001b[37m\u001b[0m \u001b[1m10s\u001b[0m 3ms/step - accuracy: 0.9492 - loss: 0.1706 - val_accuracy: 0.2934 - val_loss: 5.6870 - learning_rate: 6.2500e-05\n",
            "Epoch 57/100\n",
            "\u001b[1m2809/2813\u001b[0m \u001b[32m━━━━━━━━━━━━━━━━━━━\u001b[0m\u001b[37m━\u001b[0m \u001b[1m0s\u001b[0m 3ms/step - accuracy: 0.9489 - loss: 0.1721\n",
            "Epoch 57: val_accuracy did not improve from 0.29860\n",
            "\u001b[1m2813/2813\u001b[0m \u001b[32m━━━━━━━━━━━━━━━━━━━━\u001b[0m\u001b[37m\u001b[0m \u001b[1m10s\u001b[0m 4ms/step - accuracy: 0.9489 - loss: 0.1721 - val_accuracy: 0.2924 - val_loss: 5.7343 - learning_rate: 6.2500e-05\n",
            "Epoch 58/100\n",
            "\u001b[1m2799/2813\u001b[0m \u001b[32m━━━━━━━━━━━━━━━━━━━\u001b[0m\u001b[37m━\u001b[0m \u001b[1m0s\u001b[0m 3ms/step - accuracy: 0.9454 - loss: 0.1744\n",
            "Epoch 58: val_accuracy did not improve from 0.29860\n",
            "\u001b[1m2813/2813\u001b[0m \u001b[32m━━━━━━━━━━━━━━━━━━━━\u001b[0m\u001b[37m\u001b[0m \u001b[1m10s\u001b[0m 4ms/step - accuracy: 0.9454 - loss: 0.1744 - val_accuracy: 0.2928 - val_loss: 5.7835 - learning_rate: 6.2500e-05\n",
            "Epoch 59/100\n",
            "\u001b[1m2813/2813\u001b[0m \u001b[32m━━━━━━━━━━━━━━━━━━━━\u001b[0m\u001b[37m\u001b[0m \u001b[1m0s\u001b[0m 3ms/step - accuracy: 0.9481 - loss: 0.1653\n",
            "Epoch 59: val_accuracy did not improve from 0.29860\n",
            "\u001b[1m2813/2813\u001b[0m \u001b[32m━━━━━━━━━━━━━━━━━━━━\u001b[0m\u001b[37m\u001b[0m \u001b[1m19s\u001b[0m 3ms/step - accuracy: 0.9481 - loss: 0.1653 - val_accuracy: 0.2930 - val_loss: 5.8014 - learning_rate: 6.2500e-05\n",
            "Epoch 60/100\n",
            "\u001b[1m2804/2813\u001b[0m \u001b[32m━━━━━━━━━━━━━━━━━━━\u001b[0m\u001b[37m━\u001b[0m \u001b[1m0s\u001b[0m 3ms/step - accuracy: 0.9489 - loss: 0.1652\n",
            "Epoch 60: val_accuracy did not improve from 0.29860\n",
            "\u001b[1m2813/2813\u001b[0m \u001b[32m━━━━━━━━━━━━━━━━━━━━\u001b[0m\u001b[37m\u001b[0m \u001b[1m10s\u001b[0m 4ms/step - accuracy: 0.9489 - loss: 0.1652 - val_accuracy: 0.2880 - val_loss: 5.8607 - learning_rate: 6.2500e-05\n",
            "Epoch 61/100\n",
            "\u001b[1m2809/2813\u001b[0m \u001b[32m━━━━━━━━━━━━━━━━━━━\u001b[0m\u001b[37m━\u001b[0m \u001b[1m0s\u001b[0m 3ms/step - accuracy: 0.9500 - loss: 0.1602\n",
            "Epoch 61: val_accuracy did not improve from 0.29860\n",
            "\u001b[1m2813/2813\u001b[0m \u001b[32m━━━━━━━━━━━━━━━━━━━━\u001b[0m\u001b[37m\u001b[0m \u001b[1m10s\u001b[0m 4ms/step - accuracy: 0.9500 - loss: 0.1603 - val_accuracy: 0.2868 - val_loss: 5.8975 - learning_rate: 6.2500e-05\n",
            "Epoch 62/100\n",
            "\u001b[1m2813/2813\u001b[0m \u001b[32m━━━━━━━━━━━━━━━━━━━━\u001b[0m\u001b[37m\u001b[0m \u001b[1m0s\u001b[0m 3ms/step - accuracy: 0.9504 - loss: 0.1638\n",
            "Epoch 62: ReduceLROnPlateau reducing learning rate to 3.125000148429535e-05.\n",
            "\n",
            "Epoch 62: val_accuracy did not improve from 0.29860\n",
            "\u001b[1m2813/2813\u001b[0m \u001b[32m━━━━━━━━━━━━━━━━━━━━\u001b[0m\u001b[37m\u001b[0m \u001b[1m9s\u001b[0m 3ms/step - accuracy: 0.9504 - loss: 0.1638 - val_accuracy: 0.2868 - val_loss: 5.8239 - learning_rate: 6.2500e-05\n",
            "Epoch 63/100\n",
            "\u001b[1m2807/2813\u001b[0m \u001b[32m━━━━━━━━━━━━━━━━━━━\u001b[0m\u001b[37m━\u001b[0m \u001b[1m0s\u001b[0m 3ms/step - accuracy: 0.9564 - loss: 0.1490\n",
            "Epoch 63: val_accuracy did not improve from 0.29860\n",
            "\u001b[1m2813/2813\u001b[0m \u001b[32m━━━━━━━━━━━━━━━━━━━━\u001b[0m\u001b[37m\u001b[0m \u001b[1m10s\u001b[0m 4ms/step - accuracy: 0.9564 - loss: 0.1490 - val_accuracy: 0.2916 - val_loss: 5.7866 - learning_rate: 3.1250e-05\n",
            "Epoch 64/100\n",
            "\u001b[1m2800/2813\u001b[0m \u001b[32m━━━━━━━━━━━━━━━━━━━\u001b[0m\u001b[37m━\u001b[0m \u001b[1m0s\u001b[0m 3ms/step - accuracy: 0.9581 - loss: 0.1405\n",
            "Epoch 64: val_accuracy did not improve from 0.29860\n",
            "\u001b[1m2813/2813\u001b[0m \u001b[32m━━━━━━━━━━━━━━━━━━━━\u001b[0m\u001b[37m\u001b[0m \u001b[1m10s\u001b[0m 4ms/step - accuracy: 0.9581 - loss: 0.1405 - val_accuracy: 0.2930 - val_loss: 5.8185 - learning_rate: 3.1250e-05\n",
            "Epoch 64: early stopping\n",
            "Restoring model weights from the end of the best epoch: 52.\n"
          ]
        }
      ],
      "id": "eRYT0EkCdUuX"
    },
    {
      "cell_type": "code",
      "source": [
        "plt.plot(history.history[\"loss\"], color = 'blue')\n",
        "plt.plot(history.history[\"val_loss\"], color = 'orange')"
      ],
      "metadata": {
        "colab": {
          "base_uri": "https://localhost:8080/",
          "height": 447
        },
        "outputId": "bf99a1e5-bc7d-4e17-c395-b29bb994db26",
        "id": "Ax_lVhDVdUuY"
      },
      "execution_count": null,
      "outputs": [
        {
          "output_type": "execute_result",
          "data": {
            "text/plain": [
              "[<matplotlib.lines.Line2D at 0x7fe4199cd5d0>]"
            ]
          },
          "metadata": {},
          "execution_count": 49
        },
        {
          "output_type": "display_data",
          "data": {
            "text/plain": [
              "<Figure size 640x480 with 1 Axes>"
            ],
            "image/png": "[encoded data removed]"
          },
          "metadata": {}
        }
      ],
      "id": "Ax_lVhDVdUuY"
    },
    {
      "cell_type": "code",
      "source": [
        "plt.plot(history.history[\"accuracy\"], color = 'blue')\n",
        "plt.plot(history.history[\"val_accuracy\"], color = 'orange')"
      ],
      "metadata": {
        "colab": {
          "base_uri": "https://localhost:8080/",
          "height": 452
        },
        "outputId": "e4285b7e-b5b5-48ec-c5b2-cba15ebd5698",
        "id": "iid9wv2bdUuY"
      },
      "execution_count": null,
      "outputs": [
        {
          "output_type": "execute_result",
          "data": {
            "text/plain": [
              "[<matplotlib.lines.Line2D at 0x7fe419fb1a80>]"
            ]
          },
          "metadata": {},
          "execution_count": 50
        },
        {
          "output_type": "display_data",
          "data": {
            "text/plain": [
              "<Figure size 640x480 with 1 Axes>"
            ],
            "image/png": "[encoded data removed]"
          },
          "metadata": {}
        }
      ],
      "id": "iid9wv2bdUuY"
    },
    {
      "cell_type": "markdown",
      "source": [
        "# Prueba 8"
      ],
      "metadata": {
        "id": "xXYFyMpxeH_j"
      },
      "id": "xXYFyMpxeH_j"
    },
    {
      "cell_type": "code",
      "source": [
        "model = Sequential()\n",
        "model.add(Flatten(input_shape=(32,32,3)))\n",
        "model.add(Dense(1000, activation=\"relu\", kernel_constraint = max_norm(10)))\n",
        "model.add(Dropout(0.2))\n",
        "model.add(Dense(1000, activation=\"relu\", kernel_constraint = max_norm(10)))\n",
        "model.add(Dropout(0.2))\n",
        "model.add(Dense(1000, activation=\"relu\", kernel_constraint = max_norm(10)))\n",
        "model.add(Dropout(0.2))\n",
        "model.add(Dense(1000, activation=\"relu\", kernel_constraint = max_norm(10)))\n",
        "model.add(Dropout(0.2))\n",
        "model.add(Dense(100, activation=\"softmax\"))\n",
        "model.compile(loss=\"sparse_categorical_crossentropy\", metrics = [\"accuracy\"], optimizer = Adam(learning_rate=0.001))"
      ],
      "metadata": {
        "colab": {
          "base_uri": "https://localhost:8080/"
        },
        "outputId": "d8b8e8df-325c-414b-f3e9-bef620233364",
        "id": "O0JESyp-eH_k"
      },
      "execution_count": null,
      "outputs": [
        {
          "output_type": "stream",
          "name": "stderr",
          "text": [
            "/usr/local/lib/python3.10/dist-packages/keras/src/layers/reshaping/flatten.py:37: UserWarning: Do not pass an `input_shape`/`input_dim` argument to a layer. When using Sequential models, prefer using an `Input(shape)` object as the first layer in the model instead.\n",
            "  super().__init__(**kwargs)\n"
          ]
        }
      ],
      "id": "O0JESyp-eH_k"
    },
    {
      "cell_type": "code",
      "source": [
        "model.summary()"
      ],
      "metadata": {
        "colab": {
          "base_uri": "https://localhost:8080/",
          "height": 449
        },
        "outputId": "863a7a89-19af-469f-8ed3-ee74742257f9",
        "id": "1x75dmpOeH_k"
      },
      "execution_count": null,
      "outputs": [
        {
          "output_type": "display_data",
          "data": {
            "text/plain": [
              "\u001b[1mModel: \"sequential\"\u001b[0m\n"
            ],
            "text/html": [
              "<pre style=\"white-space:pre;overflow-x:auto;line-height:normal;font-family:Menlo,'DejaVu Sans Mono',consolas,'Courier New',monospace\"><span style=\"font-weight: bold\">Model: \"sequential\"</span>\n",
              "</pre>\n"
            ]
          },
          "metadata": {}
        },
        {
          "output_type": "display_data",
          "data": {
            "text/plain": [
              "┏━━━━━━━━━━━━━━━━━━━━━━━━━━━━━━━━━━━━━━┳━━━━━━━━━━━━━━━━━━━━━━━━━━━━━┳━━━━━━━━━━━━━━━━━┓\n",
              "┃\u001b[1m \u001b[0m\u001b[1mLayer (type)                        \u001b[0m\u001b[1m \u001b[0m┃\u001b[1m \u001b[0m\u001b[1mOutput Shape               \u001b[0m\u001b[1m \u001b[0m┃\u001b[1m \u001b[0m\u001b[1m        Param #\u001b[0m\u001b[1m \u001b[0m┃\n",
              "┡━━━━━━━━━━━━━━━━━━━━━━━━━━━━━━━━━━━━━━╇━━━━━━━━━━━━━━━━━━━━━━━━━━━━━╇━━━━━━━━━━━━━━━━━┩\n",
              "│ flatten (\u001b[38;5;33mFlatten\u001b[0m)                    │ (\u001b[38;5;45mNone\u001b[0m, \u001b[38;5;34m3072\u001b[0m)                │               \u001b[38;5;34m0\u001b[0m │\n",
              "├──────────────────────────────────────┼─────────────────────────────┼─────────────────┤\n",
              "│ dense (\u001b[38;5;33mDense\u001b[0m)                        │ (\u001b[38;5;45mNone\u001b[0m, \u001b[38;5;34m1000\u001b[0m)                │       \u001b[38;5;34m3,073,000\u001b[0m │\n",
              "├──────────────────────────────────────┼─────────────────────────────┼─────────────────┤\n",
              "│ dropout (\u001b[38;5;33mDropout\u001b[0m)                    │ (\u001b[38;5;45mNone\u001b[0m, \u001b[38;5;34m1000\u001b[0m)                │               \u001b[38;5;34m0\u001b[0m │\n",
              "├──────────────────────────────────────┼─────────────────────────────┼─────────────────┤\n",
              "│ dense_1 (\u001b[38;5;33mDense\u001b[0m)                      │ (\u001b[38;5;45mNone\u001b[0m, \u001b[38;5;34m1000\u001b[0m)                │       \u001b[38;5;34m1,001,000\u001b[0m │\n",
              "├──────────────────────────────────────┼─────────────────────────────┼─────────────────┤\n",
              "│ dropout_1 (\u001b[38;5;33mDropout\u001b[0m)                  │ (\u001b[38;5;45mNone\u001b[0m, \u001b[38;5;34m1000\u001b[0m)                │               \u001b[38;5;34m0\u001b[0m │\n",
              "├──────────────────────────────────────┼─────────────────────────────┼─────────────────┤\n",
              "│ dense_2 (\u001b[38;5;33mDense\u001b[0m)                      │ (\u001b[38;5;45mNone\u001b[0m, \u001b[38;5;34m1000\u001b[0m)                │       \u001b[38;5;34m1,001,000\u001b[0m │\n",
              "├──────────────────────────────────────┼─────────────────────────────┼─────────────────┤\n",
              "│ dropout_2 (\u001b[38;5;33mDropout\u001b[0m)                  │ (\u001b[38;5;45mNone\u001b[0m, \u001b[38;5;34m1000\u001b[0m)                │               \u001b[38;5;34m0\u001b[0m │\n",
              "├──────────────────────────────────────┼─────────────────────────────┼─────────────────┤\n",
              "│ dense_3 (\u001b[38;5;33mDense\u001b[0m)                      │ (\u001b[38;5;45mNone\u001b[0m, \u001b[38;5;34m1000\u001b[0m)                │       \u001b[38;5;34m1,001,000\u001b[0m │\n",
              "├──────────────────────────────────────┼─────────────────────────────┼─────────────────┤\n",
              "│ dropout_3 (\u001b[38;5;33mDropout\u001b[0m)                  │ (\u001b[38;5;45mNone\u001b[0m, \u001b[38;5;34m1000\u001b[0m)                │               \u001b[38;5;34m0\u001b[0m │\n",
              "├──────────────────────────────────────┼─────────────────────────────┼─────────────────┤\n",
              "│ dense_4 (\u001b[38;5;33mDense\u001b[0m)                      │ (\u001b[38;5;45mNone\u001b[0m, \u001b[38;5;34m100\u001b[0m)                 │         \u001b[38;5;34m100,100\u001b[0m │\n",
              "└──────────────────────────────────────┴─────────────────────────────┴─────────────────┘\n"
            ],
            "text/html": [
              "<pre style=\"white-space:pre;overflow-x:auto;line-height:normal;font-family:Menlo,'DejaVu Sans Mono',consolas,'Courier New',monospace\">┏━━━━━━━━━━━━━━━━━━━━━━━━━━━━━━━━━━━━━━┳━━━━━━━━━━━━━━━━━━━━━━━━━━━━━┳━━━━━━━━━━━━━━━━━┓\n",
              "┃<span style=\"font-weight: bold\"> Layer (type)                         </span>┃<span style=\"font-weight: bold\"> Output Shape                </span>┃<span style=\"font-weight: bold\">         Param # </span>┃\n",
              "┡━━━━━━━━━━━━━━━━━━━━━━━━━━━━━━━━━━━━━━╇━━━━━━━━━━━━━━━━━━━━━━━━━━━━━╇━━━━━━━━━━━━━━━━━┩\n",
              "│ flatten (<span style=\"color: #0087ff; text-decoration-color: #0087ff\">Flatten</span>)                    │ (<span style=\"color: #00d7ff; text-decoration-color: #00d7ff\">None</span>, <span style=\"color: #00af00; text-decoration-color: #00af00\">3072</span>)                │               <span style=\"color: #00af00; text-decoration-color: #00af00\">0</span> │\n",
              "├──────────────────────────────────────┼─────────────────────────────┼─────────────────┤\n",
              "│ dense (<span style=\"color: #0087ff; text-decoration-color: #0087ff\">Dense</span>)                        │ (<span style=\"color: #00d7ff; text-decoration-color: #00d7ff\">None</span>, <span style=\"color: #00af00; text-decoration-color: #00af00\">1000</span>)                │       <span style=\"color: #00af00; text-decoration-color: #00af00\">3,073,000</span> │\n",
              "├──────────────────────────────────────┼─────────────────────────────┼─────────────────┤\n",
              "│ dropout (<span style=\"color: #0087ff; text-decoration-color: #0087ff\">Dropout</span>)                    │ (<span style=\"color: #00d7ff; text-decoration-color: #00d7ff\">None</span>, <span style=\"color: #00af00; text-decoration-color: #00af00\">1000</span>)                │               <span style=\"color: #00af00; text-decoration-color: #00af00\">0</span> │\n",
              "├──────────────────────────────────────┼─────────────────────────────┼─────────────────┤\n",
              "│ dense_1 (<span style=\"color: #0087ff; text-decoration-color: #0087ff\">Dense</span>)                      │ (<span style=\"color: #00d7ff; text-decoration-color: #00d7ff\">None</span>, <span style=\"color: #00af00; text-decoration-color: #00af00\">1000</span>)                │       <span style=\"color: #00af00; text-decoration-color: #00af00\">1,001,000</span> │\n",
              "├──────────────────────────────────────┼─────────────────────────────┼─────────────────┤\n",
              "│ dropout_1 (<span style=\"color: #0087ff; text-decoration-color: #0087ff\">Dropout</span>)                  │ (<span style=\"color: #00d7ff; text-decoration-color: #00d7ff\">None</span>, <span style=\"color: #00af00; text-decoration-color: #00af00\">1000</span>)                │               <span style=\"color: #00af00; text-decoration-color: #00af00\">0</span> │\n",
              "├──────────────────────────────────────┼─────────────────────────────┼─────────────────┤\n",
              "│ dense_2 (<span style=\"color: #0087ff; text-decoration-color: #0087ff\">Dense</span>)                      │ (<span style=\"color: #00d7ff; text-decoration-color: #00d7ff\">None</span>, <span style=\"color: #00af00; text-decoration-color: #00af00\">1000</span>)                │       <span style=\"color: #00af00; text-decoration-color: #00af00\">1,001,000</span> │\n",
              "├──────────────────────────────────────┼─────────────────────────────┼─────────────────┤\n",
              "│ dropout_2 (<span style=\"color: #0087ff; text-decoration-color: #0087ff\">Dropout</span>)                  │ (<span style=\"color: #00d7ff; text-decoration-color: #00d7ff\">None</span>, <span style=\"color: #00af00; text-decoration-color: #00af00\">1000</span>)                │               <span style=\"color: #00af00; text-decoration-color: #00af00\">0</span> │\n",
              "├──────────────────────────────────────┼─────────────────────────────┼─────────────────┤\n",
              "│ dense_3 (<span style=\"color: #0087ff; text-decoration-color: #0087ff\">Dense</span>)                      │ (<span style=\"color: #00d7ff; text-decoration-color: #00d7ff\">None</span>, <span style=\"color: #00af00; text-decoration-color: #00af00\">1000</span>)                │       <span style=\"color: #00af00; text-decoration-color: #00af00\">1,001,000</span> │\n",
              "├──────────────────────────────────────┼─────────────────────────────┼─────────────────┤\n",
              "│ dropout_3 (<span style=\"color: #0087ff; text-decoration-color: #0087ff\">Dropout</span>)                  │ (<span style=\"color: #00d7ff; text-decoration-color: #00d7ff\">None</span>, <span style=\"color: #00af00; text-decoration-color: #00af00\">1000</span>)                │               <span style=\"color: #00af00; text-decoration-color: #00af00\">0</span> │\n",
              "├──────────────────────────────────────┼─────────────────────────────┼─────────────────┤\n",
              "│ dense_4 (<span style=\"color: #0087ff; text-decoration-color: #0087ff\">Dense</span>)                      │ (<span style=\"color: #00d7ff; text-decoration-color: #00d7ff\">None</span>, <span style=\"color: #00af00; text-decoration-color: #00af00\">100</span>)                 │         <span style=\"color: #00af00; text-decoration-color: #00af00\">100,100</span> │\n",
              "└──────────────────────────────────────┴─────────────────────────────┴─────────────────┘\n",
              "</pre>\n"
            ]
          },
          "metadata": {}
        },
        {
          "output_type": "display_data",
          "data": {
            "text/plain": [
              "\u001b[1m Total params: \u001b[0m\u001b[38;5;34m6,176,100\u001b[0m (23.56 MB)\n"
            ],
            "text/html": [
              "<pre style=\"white-space:pre;overflow-x:auto;line-height:normal;font-family:Menlo,'DejaVu Sans Mono',consolas,'Courier New',monospace\"><span style=\"font-weight: bold\"> Total params: </span><span style=\"color: #00af00; text-decoration-color: #00af00\">6,176,100</span> (23.56 MB)\n",
              "</pre>\n"
            ]
          },
          "metadata": {}
        },
        {
          "output_type": "display_data",
          "data": {
            "text/plain": [
              "\u001b[1m Trainable params: \u001b[0m\u001b[38;5;34m6,176,100\u001b[0m (23.56 MB)\n"
            ],
            "text/html": [
              "<pre style=\"white-space:pre;overflow-x:auto;line-height:normal;font-family:Menlo,'DejaVu Sans Mono',consolas,'Courier New',monospace\"><span style=\"font-weight: bold\"> Trainable params: </span><span style=\"color: #00af00; text-decoration-color: #00af00\">6,176,100</span> (23.56 MB)\n",
              "</pre>\n"
            ]
          },
          "metadata": {}
        },
        {
          "output_type": "display_data",
          "data": {
            "text/plain": [
              "\u001b[1m Non-trainable params: \u001b[0m\u001b[38;5;34m0\u001b[0m (0.00 B)\n"
            ],
            "text/html": [
              "<pre style=\"white-space:pre;overflow-x:auto;line-height:normal;font-family:Menlo,'DejaVu Sans Mono',consolas,'Courier New',monospace\"><span style=\"font-weight: bold\"> Non-trainable params: </span><span style=\"color: #00af00; text-decoration-color: #00af00\">0</span> (0.00 B)\n",
              "</pre>\n"
            ]
          },
          "metadata": {}
        }
      ],
      "id": "1x75dmpOeH_k"
    },
    {
      "cell_type": "code",
      "source": [
        "rlrop = ReduceLROnPlateau(\n",
        "    monitor = \"val_accuracy\",\n",
        "    factor = 0.5,\n",
        "    patience = 8,\n",
        "    verbose = 1,\n",
        "    min_lr = 1e-5\n",
        ")"
      ],
      "metadata": {
        "id": "L8oj0fLkeH_l"
      },
      "execution_count": null,
      "outputs": [],
      "id": "L8oj0fLkeH_l"
    },
    {
      "cell_type": "code",
      "source": [
        "mc = ModelCheckpoint(\n",
        "    \"best_weights.weights.h5\",\n",
        "    monitor = \"val_accuracy\",\n",
        "    verbose = 1,\n",
        "    save_best_only = True,\n",
        "    save_weights_only = True,\n",
        ")"
      ],
      "metadata": {
        "id": "r4m-sUTkeH_l"
      },
      "execution_count": null,
      "outputs": [],
      "id": "r4m-sUTkeH_l"
    },
    {
      "cell_type": "code",
      "source": [
        "es = EarlyStopping(\n",
        "    monitor = \"val_accuracy\",\n",
        "    patience = 12,\n",
        "    verbose = 1,\n",
        "    restore_best_weights = True,\n",
        ")"
      ],
      "metadata": {
        "id": "kPovsV61eH_l"
      },
      "execution_count": null,
      "outputs": [],
      "id": "kPovsV61eH_l"
    },
    {
      "cell_type": "code",
      "source": [
        "tb = TensorBoard(\n",
        "    log_dir=\"logs\",\n",
        ")"
      ],
      "metadata": {
        "id": "wD0M2DGXeH_l"
      },
      "execution_count": null,
      "outputs": [],
      "id": "wD0M2DGXeH_l"
    },
    {
      "cell_type": "code",
      "source": [
        "history = model.fit(\n",
        "    x = x_train,\n",
        "    y= y_train,\n",
        "    batch_size=16,\n",
        "    epochs=100,\n",
        "    validation_data = (x_val, y_val),\n",
        "    callbacks= [\n",
        "        rlrop,\n",
        "        es,\n",
        "        mc\n",
        "    ]\n",
        ")"
      ],
      "metadata": {
        "colab": {
          "base_uri": "https://localhost:8080/"
        },
        "outputId": "1f30b365-74b9-4008-9714-e8194a311684",
        "id": "ILvTkX-HeH_m"
      },
      "execution_count": null,
      "outputs": [
        {
          "output_type": "stream",
          "name": "stdout",
          "text": [
            "Epoch 1/100\n",
            "\u001b[1m2813/2813\u001b[0m \u001b[32m━━━━━━━━━━━━━━━━━━━━\u001b[0m\u001b[37m\u001b[0m \u001b[1m0s\u001b[0m 5ms/step - accuracy: 0.0110 - loss: 4.6349\n",
            "Epoch 1: val_accuracy improved from -inf to 0.01000, saving model to best_weights.weights.h5\n",
            "\u001b[1m2813/2813\u001b[0m \u001b[32m━━━━━━━━━━━━━━━━━━━━\u001b[0m\u001b[37m\u001b[0m \u001b[1m20s\u001b[0m 5ms/step - accuracy: 0.0110 - loss: 4.6349 - val_accuracy: 0.0100 - val_loss: 4.6058 - learning_rate: 0.0010\n",
            "Epoch 2/100\n",
            "\u001b[1m2810/2813\u001b[0m \u001b[32m━━━━━━━━━━━━━━━━━━━\u001b[0m\u001b[37m━\u001b[0m \u001b[1m0s\u001b[0m 4ms/step - accuracy: 0.0097 - loss: 4.6068\n",
            "Epoch 2: val_accuracy did not improve from 0.01000\n",
            "\u001b[1m2813/2813\u001b[0m \u001b[32m━━━━━━━━━━━━━━━━━━━━\u001b[0m\u001b[37m\u001b[0m \u001b[1m11s\u001b[0m 4ms/step - accuracy: 0.0097 - loss: 4.6068 - val_accuracy: 0.0100 - val_loss: 4.6053 - learning_rate: 0.0010\n",
            "Epoch 3/100\n",
            "\u001b[1m2808/2813\u001b[0m \u001b[32m━━━━━━━━━━━━━━━━━━━\u001b[0m\u001b[37m━\u001b[0m \u001b[1m0s\u001b[0m 4ms/step - accuracy: 0.0101 - loss: 4.6061\n",
            "Epoch 3: val_accuracy did not improve from 0.01000\n",
            "\u001b[1m2813/2813\u001b[0m \u001b[32m━━━━━━━━━━━━━━━━━━━━\u001b[0m\u001b[37m\u001b[0m \u001b[1m21s\u001b[0m 4ms/step - accuracy: 0.0101 - loss: 4.6061 - val_accuracy: 0.0100 - val_loss: 4.6055 - learning_rate: 0.0010\n",
            "Epoch 4/100\n",
            "\u001b[1m2800/2813\u001b[0m \u001b[32m━━━━━━━━━━━━━━━━━━━\u001b[0m\u001b[37m━\u001b[0m \u001b[1m0s\u001b[0m 4ms/step - accuracy: 0.0098 - loss: 4.6063\n",
            "Epoch 4: val_accuracy did not improve from 0.01000\n",
            "\u001b[1m2813/2813\u001b[0m \u001b[32m━━━━━━━━━━━━━━━━━━━━\u001b[0m\u001b[37m\u001b[0m \u001b[1m19s\u001b[0m 4ms/step - accuracy: 0.0098 - loss: 4.6063 - val_accuracy: 0.0100 - val_loss: 4.6053 - learning_rate: 0.0010\n",
            "Epoch 5/100\n",
            "\u001b[1m2813/2813\u001b[0m \u001b[32m━━━━━━━━━━━━━━━━━━━━\u001b[0m\u001b[37m\u001b[0m \u001b[1m0s\u001b[0m 4ms/step - accuracy: 0.0088 - loss: 4.6059\n",
            "Epoch 5: val_accuracy did not improve from 0.01000\n",
            "\u001b[1m2813/2813\u001b[0m \u001b[32m━━━━━━━━━━━━━━━━━━━━\u001b[0m\u001b[37m\u001b[0m \u001b[1m11s\u001b[0m 4ms/step - accuracy: 0.0088 - loss: 4.6059 - val_accuracy: 0.0100 - val_loss: 4.6052 - learning_rate: 0.0010\n",
            "Epoch 6/100\n",
            "\u001b[1m2810/2813\u001b[0m \u001b[32m━━━━━━━━━━━━━━━━━━━\u001b[0m\u001b[37m━\u001b[0m \u001b[1m0s\u001b[0m 3ms/step - accuracy: 0.0095 - loss: 4.6054\n",
            "Epoch 6: val_accuracy did not improve from 0.01000\n",
            "\u001b[1m2813/2813\u001b[0m \u001b[32m━━━━━━━━━━━━━━━━━━━━\u001b[0m\u001b[37m\u001b[0m \u001b[1m11s\u001b[0m 4ms/step - accuracy: 0.0095 - loss: 4.6054 - val_accuracy: 0.0100 - val_loss: 4.6052 - learning_rate: 0.0010\n",
            "Epoch 7/100\n",
            "\u001b[1m2811/2813\u001b[0m \u001b[32m━━━━━━━━━━━━━━━━━━━\u001b[0m\u001b[37m━\u001b[0m \u001b[1m0s\u001b[0m 4ms/step - accuracy: 0.0082 - loss: 4.6053\n",
            "Epoch 7: val_accuracy did not improve from 0.01000\n",
            "\u001b[1m2813/2813\u001b[0m \u001b[32m━━━━━━━━━━━━━━━━━━━━\u001b[0m\u001b[37m\u001b[0m \u001b[1m13s\u001b[0m 5ms/step - accuracy: 0.0082 - loss: 4.6053 - val_accuracy: 0.0100 - val_loss: 4.6052 - learning_rate: 0.0010\n",
            "Epoch 8/100\n",
            "\u001b[1m2801/2813\u001b[0m \u001b[32m━━━━━━━━━━━━━━━━━━━\u001b[0m\u001b[37m━\u001b[0m \u001b[1m0s\u001b[0m 4ms/step - accuracy: 0.0101 - loss: 4.6057\n",
            "Epoch 8: val_accuracy did not improve from 0.01000\n",
            "\u001b[1m2813/2813\u001b[0m \u001b[32m━━━━━━━━━━━━━━━━━━━━\u001b[0m\u001b[37m\u001b[0m \u001b[1m11s\u001b[0m 4ms/step - accuracy: 0.0101 - loss: 4.6057 - val_accuracy: 0.0100 - val_loss: 4.6052 - learning_rate: 0.0010\n",
            "Epoch 9/100\n",
            "\u001b[1m2800/2813\u001b[0m \u001b[32m━━━━━━━━━━━━━━━━━━━\u001b[0m\u001b[37m━\u001b[0m \u001b[1m0s\u001b[0m 4ms/step - accuracy: 0.0100 - loss: 4.6057\n",
            "Epoch 9: ReduceLROnPlateau reducing learning rate to 0.0005000000237487257.\n",
            "\n",
            "Epoch 9: val_accuracy did not improve from 0.01000\n",
            "\u001b[1m2813/2813\u001b[0m \u001b[32m━━━━━━━━━━━━━━━━━━━━\u001b[0m\u001b[37m\u001b[0m \u001b[1m11s\u001b[0m 4ms/step - accuracy: 0.0100 - loss: 4.6057 - val_accuracy: 0.0100 - val_loss: 4.6052 - learning_rate: 0.0010\n",
            "Epoch 10/100\n"
          ]
        }
      ],
      "id": "ILvTkX-HeH_m"
    },
    {
      "cell_type": "code",
      "source": [
        "plt.plot(history.history[\"loss\"], color = 'blue')\n",
        "plt.plot(history.history[\"val_loss\"], color = 'orange')"
      ],
      "metadata": {
        "id": "bmoYnqFjeH_m"
      },
      "execution_count": null,
      "outputs": [],
      "id": "bmoYnqFjeH_m"
    },
    {
      "cell_type": "code",
      "source": [
        "plt.plot(history.history[\"accuracy\"], color = 'blue')\n",
        "plt.plot(history.history[\"val_accuracy\"], color = 'orange')"
      ],
      "metadata": {
        "id": "SX_TymiJeH_m"
      },
      "execution_count": null,
      "outputs": [],
      "id": "SX_TymiJeH_m"
    },
    {
      "cell_type": "code",
      "source": [
        "predictions = model.predict(x_test).argmax(axis=1)\n",
        "df = pd.DataFrame(predictions, columns=[\"Label\"])\n",
        "df.index.name = \"Id\"\n",
        "\n",
        "df"
      ],
      "metadata": {
        "id": "0gkB414qeH_n"
      },
      "execution_count": null,
      "outputs": [],
      "id": "0gkB414qeH_n"
    },
    {
      "cell_type": "code",
      "source": [
        "df.to_csv(\"submission.csv\")"
      ],
      "metadata": {
        "id": "uhNnnTM3eH_n"
      },
      "execution_count": null,
      "outputs": [],
      "id": "uhNnnTM3eH_n"
    },
    {
      "cell_type": "markdown",
      "source": [
        "# Prueba 9"
      ],
      "metadata": {
        "id": "KdUDcS-gvzv8"
      },
      "id": "KdUDcS-gvzv8"
    },
    {
      "cell_type": "code",
      "source": [
        "model = Sequential()\n",
        "model.add(Flatten(input_shape=(32,32,3)))\n",
        "model.add(Dense(800))\n",
        "model.add(BatchNormalization())\n",
        "model.add(Activation(\"relu\"))\n",
        "model.add(Dense(800))\n",
        "model.add(BatchNormalization())\n",
        "model.add(Activation(\"relu\"))\n",
        "model.add(Dense(800))\n",
        "model.add(BatchNormalization())\n",
        "model.add(Activation(\"relu\"))\n",
        "model.add(Dense(800))\n",
        "model.add(BatchNormalization())\n",
        "model.add(Activation(\"relu\"))\n",
        "model.add(Dense(100, activation=\"softmax\"))\n",
        "model.compile(loss=\"sparse_categorical_crossentropy\", metrics = [\"accuracy\"], optimizer = Adam(learning_rate=0.001))"
      ],
      "metadata": {
        "colab": {
          "base_uri": "https://localhost:8080/"
        },
        "outputId": "5473df98-9131-496c-e4ef-0c6eb7f493a4",
        "id": "8OumOXKtvzv9"
      },
      "execution_count": null,
      "outputs": [
        {
          "output_type": "stream",
          "name": "stderr",
          "text": [
            "/usr/local/lib/python3.10/dist-packages/keras/src/layers/reshaping/flatten.py:37: UserWarning: Do not pass an `input_shape`/`input_dim` argument to a layer. When using Sequential models, prefer using an `Input(shape)` object as the first layer in the model instead.\n",
            "  super().__init__(**kwargs)\n"
          ]
        }
      ],
      "id": "8OumOXKtvzv9"
    },
    {
      "cell_type": "code",
      "source": [
        "model.summary()"
      ],
      "metadata": {
        "colab": {
          "base_uri": "https://localhost:8080/",
          "height": 641
        },
        "outputId": "9b638da3-5200-42f9-940d-928fa2909adc",
        "id": "8VyinNiJvzv9"
      },
      "execution_count": null,
      "outputs": [
        {
          "output_type": "display_data",
          "data": {
            "text/plain": [
              "\u001b[1mModel: \"sequential\"\u001b[0m\n"
            ],
            "text/html": [
              "<pre style=\"white-space:pre;overflow-x:auto;line-height:normal;font-family:Menlo,'DejaVu Sans Mono',consolas,'Courier New',monospace\"><span style=\"font-weight: bold\">Model: \"sequential\"</span>\n",
              "</pre>\n"
            ]
          },
          "metadata": {}
        },
        {
          "output_type": "display_data",
          "data": {
            "text/plain": [
              "┏━━━━━━━━━━━━━━━━━━━━━━━━━━━━━━━━━━━━━━┳━━━━━━━━━━━━━━━━━━━━━━━━━━━━━┳━━━━━━━━━━━━━━━━━┓\n",
              "┃\u001b[1m \u001b[0m\u001b[1mLayer (type)                        \u001b[0m\u001b[1m \u001b[0m┃\u001b[1m \u001b[0m\u001b[1mOutput Shape               \u001b[0m\u001b[1m \u001b[0m┃\u001b[1m \u001b[0m\u001b[1m        Param #\u001b[0m\u001b[1m \u001b[0m┃\n",
              "┡━━━━━━━━━━━━━━━━━━━━━━━━━━━━━━━━━━━━━━╇━━━━━━━━━━━━━━━━━━━━━━━━━━━━━╇━━━━━━━━━━━━━━━━━┩\n",
              "│ flatten (\u001b[38;5;33mFlatten\u001b[0m)                    │ (\u001b[38;5;45mNone\u001b[0m, \u001b[38;5;34m3072\u001b[0m)                │               \u001b[38;5;34m0\u001b[0m │\n",
              "├──────────────────────────────────────┼─────────────────────────────┼─────────────────┤\n",
              "│ dense (\u001b[38;5;33mDense\u001b[0m)                        │ (\u001b[38;5;45mNone\u001b[0m, \u001b[38;5;34m800\u001b[0m)                 │       \u001b[38;5;34m2,458,400\u001b[0m │\n",
              "├──────────────────────────────────────┼─────────────────────────────┼─────────────────┤\n",
              "│ batch_normalization                  │ (\u001b[38;5;45mNone\u001b[0m, \u001b[38;5;34m800\u001b[0m)                 │           \u001b[38;5;34m3,200\u001b[0m │\n",
              "│ (\u001b[38;5;33mBatchNormalization\u001b[0m)                 │                             │                 │\n",
              "├──────────────────────────────────────┼─────────────────────────────┼─────────────────┤\n",
              "│ activation (\u001b[38;5;33mActivation\u001b[0m)              │ (\u001b[38;5;45mNone\u001b[0m, \u001b[38;5;34m800\u001b[0m)                 │               \u001b[38;5;34m0\u001b[0m │\n",
              "├──────────────────────────────────────┼─────────────────────────────┼─────────────────┤\n",
              "│ dense_1 (\u001b[38;5;33mDense\u001b[0m)                      │ (\u001b[38;5;45mNone\u001b[0m, \u001b[38;5;34m800\u001b[0m)                 │         \u001b[38;5;34m640,800\u001b[0m │\n",
              "├──────────────────────────────────────┼─────────────────────────────┼─────────────────┤\n",
              "│ batch_normalization_1                │ (\u001b[38;5;45mNone\u001b[0m, \u001b[38;5;34m800\u001b[0m)                 │           \u001b[38;5;34m3,200\u001b[0m │\n",
              "│ (\u001b[38;5;33mBatchNormalization\u001b[0m)                 │                             │                 │\n",
              "├──────────────────────────────────────┼─────────────────────────────┼─────────────────┤\n",
              "│ activation_1 (\u001b[38;5;33mActivation\u001b[0m)            │ (\u001b[38;5;45mNone\u001b[0m, \u001b[38;5;34m800\u001b[0m)                 │               \u001b[38;5;34m0\u001b[0m │\n",
              "├──────────────────────────────────────┼─────────────────────────────┼─────────────────┤\n",
              "│ dense_2 (\u001b[38;5;33mDense\u001b[0m)                      │ (\u001b[38;5;45mNone\u001b[0m, \u001b[38;5;34m800\u001b[0m)                 │         \u001b[38;5;34m640,800\u001b[0m │\n",
              "├──────────────────────────────────────┼─────────────────────────────┼─────────────────┤\n",
              "│ batch_normalization_2                │ (\u001b[38;5;45mNone\u001b[0m, \u001b[38;5;34m800\u001b[0m)                 │           \u001b[38;5;34m3,200\u001b[0m │\n",
              "│ (\u001b[38;5;33mBatchNormalization\u001b[0m)                 │                             │                 │\n",
              "├──────────────────────────────────────┼─────────────────────────────┼─────────────────┤\n",
              "│ activation_2 (\u001b[38;5;33mActivation\u001b[0m)            │ (\u001b[38;5;45mNone\u001b[0m, \u001b[38;5;34m800\u001b[0m)                 │               \u001b[38;5;34m0\u001b[0m │\n",
              "├──────────────────────────────────────┼─────────────────────────────┼─────────────────┤\n",
              "│ dense_3 (\u001b[38;5;33mDense\u001b[0m)                      │ (\u001b[38;5;45mNone\u001b[0m, \u001b[38;5;34m800\u001b[0m)                 │         \u001b[38;5;34m640,800\u001b[0m │\n",
              "├──────────────────────────────────────┼─────────────────────────────┼─────────────────┤\n",
              "│ batch_normalization_3                │ (\u001b[38;5;45mNone\u001b[0m, \u001b[38;5;34m800\u001b[0m)                 │           \u001b[38;5;34m3,200\u001b[0m │\n",
              "│ (\u001b[38;5;33mBatchNormalization\u001b[0m)                 │                             │                 │\n",
              "├──────────────────────────────────────┼─────────────────────────────┼─────────────────┤\n",
              "│ activation_3 (\u001b[38;5;33mActivation\u001b[0m)            │ (\u001b[38;5;45mNone\u001b[0m, \u001b[38;5;34m800\u001b[0m)                 │               \u001b[38;5;34m0\u001b[0m │\n",
              "├──────────────────────────────────────┼─────────────────────────────┼─────────────────┤\n",
              "│ dense_4 (\u001b[38;5;33mDense\u001b[0m)                      │ (\u001b[38;5;45mNone\u001b[0m, \u001b[38;5;34m100\u001b[0m)                 │          \u001b[38;5;34m80,100\u001b[0m │\n",
              "└──────────────────────────────────────┴─────────────────────────────┴─────────────────┘\n"
            ],
            "text/html": [
              "<pre style=\"white-space:pre;overflow-x:auto;line-height:normal;font-family:Menlo,'DejaVu Sans Mono',consolas,'Courier New',monospace\">┏━━━━━━━━━━━━━━━━━━━━━━━━━━━━━━━━━━━━━━┳━━━━━━━━━━━━━━━━━━━━━━━━━━━━━┳━━━━━━━━━━━━━━━━━┓\n",
              "┃<span style=\"font-weight: bold\"> Layer (type)                         </span>┃<span style=\"font-weight: bold\"> Output Shape                </span>┃<span style=\"font-weight: bold\">         Param # </span>┃\n",
              "┡━━━━━━━━━━━━━━━━━━━━━━━━━━━━━━━━━━━━━━╇━━━━━━━━━━━━━━━━━━━━━━━━━━━━━╇━━━━━━━━━━━━━━━━━┩\n",
              "│ flatten (<span style=\"color: #0087ff; text-decoration-color: #0087ff\">Flatten</span>)                    │ (<span style=\"color: #00d7ff; text-decoration-color: #00d7ff\">None</span>, <span style=\"color: #00af00; text-decoration-color: #00af00\">3072</span>)                │               <span style=\"color: #00af00; text-decoration-color: #00af00\">0</span> │\n",
              "├──────────────────────────────────────┼─────────────────────────────┼─────────────────┤\n",
              "│ dense (<span style=\"color: #0087ff; text-decoration-color: #0087ff\">Dense</span>)                        │ (<span style=\"color: #00d7ff; text-decoration-color: #00d7ff\">None</span>, <span style=\"color: #00af00; text-decoration-color: #00af00\">800</span>)                 │       <span style=\"color: #00af00; text-decoration-color: #00af00\">2,458,400</span> │\n",
              "├──────────────────────────────────────┼─────────────────────────────┼─────────────────┤\n",
              "│ batch_normalization                  │ (<span style=\"color: #00d7ff; text-decoration-color: #00d7ff\">None</span>, <span style=\"color: #00af00; text-decoration-color: #00af00\">800</span>)                 │           <span style=\"color: #00af00; text-decoration-color: #00af00\">3,200</span> │\n",
              "│ (<span style=\"color: #0087ff; text-decoration-color: #0087ff\">BatchNormalization</span>)                 │                             │                 │\n",
              "├──────────────────────────────────────┼─────────────────────────────┼─────────────────┤\n",
              "│ activation (<span style=\"color: #0087ff; text-decoration-color: #0087ff\">Activation</span>)              │ (<span style=\"color: #00d7ff; text-decoration-color: #00d7ff\">None</span>, <span style=\"color: #00af00; text-decoration-color: #00af00\">800</span>)                 │               <span style=\"color: #00af00; text-decoration-color: #00af00\">0</span> │\n",
              "├──────────────────────────────────────┼─────────────────────────────┼─────────────────┤\n",
              "│ dense_1 (<span style=\"color: #0087ff; text-decoration-color: #0087ff\">Dense</span>)                      │ (<span style=\"color: #00d7ff; text-decoration-color: #00d7ff\">None</span>, <span style=\"color: #00af00; text-decoration-color: #00af00\">800</span>)                 │         <span style=\"color: #00af00; text-decoration-color: #00af00\">640,800</span> │\n",
              "├──────────────────────────────────────┼─────────────────────────────┼─────────────────┤\n",
              "│ batch_normalization_1                │ (<span style=\"color: #00d7ff; text-decoration-color: #00d7ff\">None</span>, <span style=\"color: #00af00; text-decoration-color: #00af00\">800</span>)                 │           <span style=\"color: #00af00; text-decoration-color: #00af00\">3,200</span> │\n",
              "│ (<span style=\"color: #0087ff; text-decoration-color: #0087ff\">BatchNormalization</span>)                 │                             │                 │\n",
              "├──────────────────────────────────────┼─────────────────────────────┼─────────────────┤\n",
              "│ activation_1 (<span style=\"color: #0087ff; text-decoration-color: #0087ff\">Activation</span>)            │ (<span style=\"color: #00d7ff; text-decoration-color: #00d7ff\">None</span>, <span style=\"color: #00af00; text-decoration-color: #00af00\">800</span>)                 │               <span style=\"color: #00af00; text-decoration-color: #00af00\">0</span> │\n",
              "├──────────────────────────────────────┼─────────────────────────────┼─────────────────┤\n",
              "│ dense_2 (<span style=\"color: #0087ff; text-decoration-color: #0087ff\">Dense</span>)                      │ (<span style=\"color: #00d7ff; text-decoration-color: #00d7ff\">None</span>, <span style=\"color: #00af00; text-decoration-color: #00af00\">800</span>)                 │         <span style=\"color: #00af00; text-decoration-color: #00af00\">640,800</span> │\n",
              "├──────────────────────────────────────┼─────────────────────────────┼─────────────────┤\n",
              "│ batch_normalization_2                │ (<span style=\"color: #00d7ff; text-decoration-color: #00d7ff\">None</span>, <span style=\"color: #00af00; text-decoration-color: #00af00\">800</span>)                 │           <span style=\"color: #00af00; text-decoration-color: #00af00\">3,200</span> │\n",
              "│ (<span style=\"color: #0087ff; text-decoration-color: #0087ff\">BatchNormalization</span>)                 │                             │                 │\n",
              "├──────────────────────────────────────┼─────────────────────────────┼─────────────────┤\n",
              "│ activation_2 (<span style=\"color: #0087ff; text-decoration-color: #0087ff\">Activation</span>)            │ (<span style=\"color: #00d7ff; text-decoration-color: #00d7ff\">None</span>, <span style=\"color: #00af00; text-decoration-color: #00af00\">800</span>)                 │               <span style=\"color: #00af00; text-decoration-color: #00af00\">0</span> │\n",
              "├──────────────────────────────────────┼─────────────────────────────┼─────────────────┤\n",
              "│ dense_3 (<span style=\"color: #0087ff; text-decoration-color: #0087ff\">Dense</span>)                      │ (<span style=\"color: #00d7ff; text-decoration-color: #00d7ff\">None</span>, <span style=\"color: #00af00; text-decoration-color: #00af00\">800</span>)                 │         <span style=\"color: #00af00; text-decoration-color: #00af00\">640,800</span> │\n",
              "├──────────────────────────────────────┼─────────────────────────────┼─────────────────┤\n",
              "│ batch_normalization_3                │ (<span style=\"color: #00d7ff; text-decoration-color: #00d7ff\">None</span>, <span style=\"color: #00af00; text-decoration-color: #00af00\">800</span>)                 │           <span style=\"color: #00af00; text-decoration-color: #00af00\">3,200</span> │\n",
              "│ (<span style=\"color: #0087ff; text-decoration-color: #0087ff\">BatchNormalization</span>)                 │                             │                 │\n",
              "├──────────────────────────────────────┼─────────────────────────────┼─────────────────┤\n",
              "│ activation_3 (<span style=\"color: #0087ff; text-decoration-color: #0087ff\">Activation</span>)            │ (<span style=\"color: #00d7ff; text-decoration-color: #00d7ff\">None</span>, <span style=\"color: #00af00; text-decoration-color: #00af00\">800</span>)                 │               <span style=\"color: #00af00; text-decoration-color: #00af00\">0</span> │\n",
              "├──────────────────────────────────────┼─────────────────────────────┼─────────────────┤\n",
              "│ dense_4 (<span style=\"color: #0087ff; text-decoration-color: #0087ff\">Dense</span>)                      │ (<span style=\"color: #00d7ff; text-decoration-color: #00d7ff\">None</span>, <span style=\"color: #00af00; text-decoration-color: #00af00\">100</span>)                 │          <span style=\"color: #00af00; text-decoration-color: #00af00\">80,100</span> │\n",
              "└──────────────────────────────────────┴─────────────────────────────┴─────────────────┘\n",
              "</pre>\n"
            ]
          },
          "metadata": {}
        },
        {
          "output_type": "display_data",
          "data": {
            "text/plain": [
              "\u001b[1m Total params: \u001b[0m\u001b[38;5;34m4,473,700\u001b[0m (17.07 MB)\n"
            ],
            "text/html": [
              "<pre style=\"white-space:pre;overflow-x:auto;line-height:normal;font-family:Menlo,'DejaVu Sans Mono',consolas,'Courier New',monospace\"><span style=\"font-weight: bold\"> Total params: </span><span style=\"color: #00af00; text-decoration-color: #00af00\">4,473,700</span> (17.07 MB)\n",
              "</pre>\n"
            ]
          },
          "metadata": {}
        },
        {
          "output_type": "display_data",
          "data": {
            "text/plain": [
              "\u001b[1m Trainable params: \u001b[0m\u001b[38;5;34m4,467,300\u001b[0m (17.04 MB)\n"
            ],
            "text/html": [
              "<pre style=\"white-space:pre;overflow-x:auto;line-height:normal;font-family:Menlo,'DejaVu Sans Mono',consolas,'Courier New',monospace\"><span style=\"font-weight: bold\"> Trainable params: </span><span style=\"color: #00af00; text-decoration-color: #00af00\">4,467,300</span> (17.04 MB)\n",
              "</pre>\n"
            ]
          },
          "metadata": {}
        },
        {
          "output_type": "display_data",
          "data": {
            "text/plain": [
              "\u001b[1m Non-trainable params: \u001b[0m\u001b[38;5;34m6,400\u001b[0m (25.00 KB)\n"
            ],
            "text/html": [
              "<pre style=\"white-space:pre;overflow-x:auto;line-height:normal;font-family:Menlo,'DejaVu Sans Mono',consolas,'Courier New',monospace\"><span style=\"font-weight: bold\"> Non-trainable params: </span><span style=\"color: #00af00; text-decoration-color: #00af00\">6,400</span> (25.00 KB)\n",
              "</pre>\n"
            ]
          },
          "metadata": {}
        }
      ],
      "id": "8VyinNiJvzv9"
    },
    {
      "cell_type": "code",
      "source": [
        "rlrop = ReduceLROnPlateau(\n",
        "    monitor = \"val_accuracy\",\n",
        "    factor = 0.5,\n",
        "    patience = 8,\n",
        "    verbose = 1,\n",
        "    min_lr = 1e-5\n",
        ")"
      ],
      "metadata": {
        "id": "o_nZnYEdvzv9"
      },
      "execution_count": null,
      "outputs": [],
      "id": "o_nZnYEdvzv9"
    },
    {
      "cell_type": "code",
      "source": [
        "mc = ModelCheckpoint(\n",
        "    \"best_weights.weights.h5\",\n",
        "    monitor = \"val_accuracy\",\n",
        "    verbose = 1,\n",
        "    save_best_only = True,\n",
        "    save_weights_only = True,\n",
        ")"
      ],
      "metadata": {
        "id": "9qU7OFAKvzv9"
      },
      "execution_count": null,
      "outputs": [],
      "id": "9qU7OFAKvzv9"
    },
    {
      "cell_type": "code",
      "source": [
        "es = EarlyStopping(\n",
        "    monitor = \"val_accuracy\",\n",
        "    patience = 12,\n",
        "    verbose = 1,\n",
        "    restore_best_weights = True,\n",
        ")"
      ],
      "metadata": {
        "id": "rcfuFdkNvzv9"
      },
      "execution_count": null,
      "outputs": [],
      "id": "rcfuFdkNvzv9"
    },
    {
      "cell_type": "code",
      "source": [
        "tb = TensorBoard(\n",
        "    log_dir=\"logs\",\n",
        ")"
      ],
      "metadata": {
        "id": "OWADkWgOvzv9"
      },
      "execution_count": null,
      "outputs": [],
      "id": "OWADkWgOvzv9"
    },
    {
      "cell_type": "code",
      "source": [
        "history = model.fit(\n",
        "    x = x_train,\n",
        "    y= y_train,\n",
        "    batch_size=16,\n",
        "    epochs=100,\n",
        "    validation_data = (x_val, y_val),\n",
        "    callbacks= [\n",
        "        rlrop,\n",
        "        es,\n",
        "        mc\n",
        "    ]\n",
        ")"
      ],
      "metadata": {
        "colab": {
          "base_uri": "https://localhost:8080/"
        },
        "outputId": "580456a9-d210-4e6f-8635-3547f7176e93",
        "id": "tqZNOpkkvzv-"
      },
      "execution_count": null,
      "outputs": [
        {
          "output_type": "stream",
          "name": "stdout",
          "text": [
            "Epoch 1/100\n",
            "\u001b[1m2813/2813\u001b[0m \u001b[32m━━━━━━━━━━━━━━━━━━━━\u001b[0m\u001b[37m\u001b[0m \u001b[1m0s\u001b[0m 5ms/step - accuracy: 0.0723 - loss: 4.2650\n",
            "Epoch 1: val_accuracy improved from -inf to 0.12660, saving model to best_weights.weights.h5\n",
            "\u001b[1m2813/2813\u001b[0m \u001b[32m━━━━━━━━━━━━━━━━━━━━\u001b[0m\u001b[37m\u001b[0m \u001b[1m22s\u001b[0m 5ms/step - accuracy: 0.0723 - loss: 4.2649 - val_accuracy: 0.1266 - val_loss: 3.8308 - learning_rate: 0.0010\n",
            "Epoch 2/100\n",
            "\u001b[1m2802/2813\u001b[0m \u001b[32m━━━━━━━━━━━━━━━━━━━\u001b[0m\u001b[37m━\u001b[0m \u001b[1m0s\u001b[0m 3ms/step - accuracy: 0.1447 - loss: 3.6514\n",
            "Epoch 2: val_accuracy improved from 0.12660 to 0.13380, saving model to best_weights.weights.h5\n",
            "\u001b[1m2813/2813\u001b[0m \u001b[32m━━━━━━━━━━━━━━━━━━━━\u001b[0m\u001b[37m\u001b[0m \u001b[1m11s\u001b[0m 3ms/step - accuracy: 0.1447 - loss: 3.6512 - val_accuracy: 0.1338 - val_loss: 3.6924 - learning_rate: 0.0010\n",
            "Epoch 3/100\n",
            "\u001b[1m2804/2813\u001b[0m \u001b[32m━━━━━━━━━━━━━━━━━━━\u001b[0m\u001b[37m━\u001b[0m \u001b[1m0s\u001b[0m 3ms/step - accuracy: 0.1750 - loss: 3.4466\n",
            "Epoch 3: val_accuracy improved from 0.13380 to 0.18220, saving model to best_weights.weights.h5\n",
            "\u001b[1m2813/2813\u001b[0m \u001b[32m━━━━━━━━━━━━━━━━━━━━\u001b[0m\u001b[37m\u001b[0m \u001b[1m10s\u001b[0m 3ms/step - accuracy: 0.1750 - loss: 3.4466 - val_accuracy: 0.1822 - val_loss: 3.4096 - learning_rate: 0.0010\n",
            "Epoch 4/100\n",
            "\u001b[1m2799/2813\u001b[0m \u001b[32m━━━━━━━━━━━━━━━━━━━\u001b[0m\u001b[37m━\u001b[0m \u001b[1m0s\u001b[0m 4ms/step - accuracy: 0.1980 - loss: 3.3153\n",
            "Epoch 4: val_accuracy improved from 0.18220 to 0.18420, saving model to best_weights.weights.h5\n",
            "\u001b[1m2813/2813\u001b[0m \u001b[32m━━━━━━━━━━━━━━━━━━━━\u001b[0m\u001b[37m\u001b[0m \u001b[1m11s\u001b[0m 4ms/step - accuracy: 0.1981 - loss: 3.3152 - val_accuracy: 0.1842 - val_loss: 3.4206 - learning_rate: 0.0010\n",
            "Epoch 5/100\n",
            "\u001b[1m2796/2813\u001b[0m \u001b[32m━━━━━━━━━━━━━━━━━━━\u001b[0m\u001b[37m━\u001b[0m \u001b[1m0s\u001b[0m 3ms/step - accuracy: 0.2195 - loss: 3.1948\n",
            "Epoch 5: val_accuracy improved from 0.18420 to 0.21240, saving model to best_weights.weights.h5\n",
            "\u001b[1m2813/2813\u001b[0m \u001b[32m━━━━━━━━━━━━━━━━━━━━\u001b[0m\u001b[37m\u001b[0m \u001b[1m9s\u001b[0m 3ms/step - accuracy: 0.2196 - loss: 3.1948 - val_accuracy: 0.2124 - val_loss: 3.2620 - learning_rate: 0.0010\n",
            "Epoch 6/100\n",
            "\u001b[1m2808/2813\u001b[0m \u001b[32m━━━━━━━━━━━━━━━━━━━\u001b[0m\u001b[37m━\u001b[0m \u001b[1m0s\u001b[0m 3ms/step - accuracy: 0.2404 - loss: 3.0809\n",
            "Epoch 6: val_accuracy improved from 0.21240 to 0.21720, saving model to best_weights.weights.h5\n",
            "\u001b[1m2813/2813\u001b[0m \u001b[32m━━━━━━━━━━━━━━━━━━━━\u001b[0m\u001b[37m\u001b[0m \u001b[1m10s\u001b[0m 4ms/step - accuracy: 0.2404 - loss: 3.0809 - val_accuracy: 0.2172 - val_loss: 3.2648 - learning_rate: 0.0010\n",
            "Epoch 7/100\n",
            "\u001b[1m2812/2813\u001b[0m \u001b[32m━━━━━━━━━━━━━━━━━━━\u001b[0m\u001b[37m━\u001b[0m \u001b[1m0s\u001b[0m 3ms/step - accuracy: 0.2605 - loss: 2.9826\n",
            "Epoch 7: val_accuracy improved from 0.21720 to 0.22780, saving model to best_weights.weights.h5\n",
            "\u001b[1m2813/2813\u001b[0m \u001b[32m━━━━━━━━━━━━━━━━━━━━\u001b[0m\u001b[37m\u001b[0m \u001b[1m10s\u001b[0m 4ms/step - accuracy: 0.2605 - loss: 2.9826 - val_accuracy: 0.2278 - val_loss: 3.2086 - learning_rate: 0.0010\n",
            "Epoch 8/100\n",
            "\u001b[1m2801/2813\u001b[0m \u001b[32m━━━━━━━━━━━━━━━━━━━\u001b[0m\u001b[37m━\u001b[0m \u001b[1m0s\u001b[0m 3ms/step - accuracy: 0.2824 - loss: 2.8758\n",
            "Epoch 8: val_accuracy improved from 0.22780 to 0.23720, saving model to best_weights.weights.h5\n",
            "\u001b[1m2813/2813\u001b[0m \u001b[32m━━━━━━━━━━━━━━━━━━━━\u001b[0m\u001b[37m\u001b[0m \u001b[1m11s\u001b[0m 4ms/step - accuracy: 0.2824 - loss: 2.8759 - val_accuracy: 0.2372 - val_loss: 3.1774 - learning_rate: 0.0010\n",
            "Epoch 9/100\n",
            "\u001b[1m2806/2813\u001b[0m \u001b[32m━━━━━━━━━━━━━━━━━━━\u001b[0m\u001b[37m━\u001b[0m \u001b[1m0s\u001b[0m 3ms/step - accuracy: 0.2910 - loss: 2.8069\n",
            "Epoch 9: val_accuracy improved from 0.23720 to 0.24080, saving model to best_weights.weights.h5\n",
            "\u001b[1m2813/2813\u001b[0m \u001b[32m━━━━━━━━━━━━━━━━━━━━\u001b[0m\u001b[37m\u001b[0m \u001b[1m20s\u001b[0m 4ms/step - accuracy: 0.2910 - loss: 2.8070 - val_accuracy: 0.2408 - val_loss: 3.1766 - learning_rate: 0.0010\n",
            "Epoch 10/100\n",
            "\u001b[1m2803/2813\u001b[0m \u001b[32m━━━━━━━━━━━━━━━━━━━\u001b[0m\u001b[37m━\u001b[0m \u001b[1m0s\u001b[0m 3ms/step - accuracy: 0.3090 - loss: 2.7211\n",
            "Epoch 10: val_accuracy improved from 0.24080 to 0.25440, saving model to best_weights.weights.h5\n",
            "\u001b[1m2813/2813\u001b[0m \u001b[32m━━━━━━━━━━━━━━━━━━━━\u001b[0m\u001b[37m\u001b[0m \u001b[1m10s\u001b[0m 4ms/step - accuracy: 0.3089 - loss: 2.7212 - val_accuracy: 0.2544 - val_loss: 3.1016 - learning_rate: 0.0010\n",
            "Epoch 11/100\n",
            "\u001b[1m2802/2813\u001b[0m \u001b[32m━━━━━━━━━━━━━━━━━━━\u001b[0m\u001b[37m━\u001b[0m \u001b[1m0s\u001b[0m 4ms/step - accuracy: 0.3261 - loss: 2.6283\n",
            "Epoch 11: val_accuracy did not improve from 0.25440\n",
            "\u001b[1m2813/2813\u001b[0m \u001b[32m━━━━━━━━━━━━━━━━━━━━\u001b[0m\u001b[37m\u001b[0m \u001b[1m11s\u001b[0m 4ms/step - accuracy: 0.3261 - loss: 2.6284 - val_accuracy: 0.2320 - val_loss: 3.3157 - learning_rate: 0.0010\n",
            "Epoch 12/100\n",
            "\u001b[1m2805/2813\u001b[0m \u001b[32m━━━━━━━━━━━━━━━━━━━\u001b[0m\u001b[37m━\u001b[0m \u001b[1m0s\u001b[0m 3ms/step - accuracy: 0.3393 - loss: 2.5613\n",
            "Epoch 12: val_accuracy improved from 0.25440 to 0.26220, saving model to best_weights.weights.h5\n",
            "\u001b[1m2813/2813\u001b[0m \u001b[32m━━━━━━━━━━━━━━━━━━━━\u001b[0m\u001b[37m\u001b[0m \u001b[1m9s\u001b[0m 3ms/step - accuracy: 0.3393 - loss: 2.5614 - val_accuracy: 0.2622 - val_loss: 3.1181 - learning_rate: 0.0010\n",
            "Epoch 13/100\n",
            "\u001b[1m2801/2813\u001b[0m \u001b[32m━━━━━━━━━━━━━━━━━━━\u001b[0m\u001b[37m━\u001b[0m \u001b[1m0s\u001b[0m 3ms/step - accuracy: 0.3598 - loss: 2.4791\n",
            "Epoch 13: val_accuracy improved from 0.26220 to 0.26740, saving model to best_weights.weights.h5\n",
            "\u001b[1m2813/2813\u001b[0m \u001b[32m━━━━━━━━━━━━━━━━━━━━\u001b[0m\u001b[37m\u001b[0m \u001b[1m10s\u001b[0m 4ms/step - accuracy: 0.3598 - loss: 2.4792 - val_accuracy: 0.2674 - val_loss: 3.1210 - learning_rate: 0.0010\n",
            "Epoch 14/100\n",
            "\u001b[1m2803/2813\u001b[0m \u001b[32m━━━━━━━━━━━━━━━━━━━\u001b[0m\u001b[37m━\u001b[0m \u001b[1m0s\u001b[0m 3ms/step - accuracy: 0.3768 - loss: 2.3930\n",
            "Epoch 14: val_accuracy did not improve from 0.26740\n",
            "\u001b[1m2813/2813\u001b[0m \u001b[32m━━━━━━━━━━━━━━━━━━━━\u001b[0m\u001b[37m\u001b[0m \u001b[1m10s\u001b[0m 3ms/step - accuracy: 0.3768 - loss: 2.3931 - val_accuracy: 0.2518 - val_loss: 3.2329 - learning_rate: 0.0010\n",
            "Epoch 15/100\n",
            "\u001b[1m2798/2813\u001b[0m \u001b[32m━━━━━━━━━━━━━━━━━━━\u001b[0m\u001b[37m━\u001b[0m \u001b[1m0s\u001b[0m 3ms/step - accuracy: 0.3857 - loss: 2.3168\n",
            "Epoch 15: val_accuracy did not improve from 0.26740\n",
            "\u001b[1m2813/2813\u001b[0m \u001b[32m━━━━━━━━━━━━━━━━━━━━\u001b[0m\u001b[37m\u001b[0m \u001b[1m9s\u001b[0m 3ms/step - accuracy: 0.3856 - loss: 2.3170 - val_accuracy: 0.2502 - val_loss: 3.3194 - learning_rate: 0.0010\n",
            "Epoch 16/100\n",
            "\u001b[1m2800/2813\u001b[0m \u001b[32m━━━━━━━━━━━━━━━━━━━\u001b[0m\u001b[37m━\u001b[0m \u001b[1m0s\u001b[0m 3ms/step - accuracy: 0.4069 - loss: 2.2423\n",
            "Epoch 16: val_accuracy did not improve from 0.26740\n",
            "\u001b[1m2813/2813\u001b[0m \u001b[32m━━━━━━━━━━━━━━━━━━━━\u001b[0m\u001b[37m\u001b[0m \u001b[1m10s\u001b[0m 3ms/step - accuracy: 0.4068 - loss: 2.2425 - val_accuracy: 0.2424 - val_loss: 3.3931 - learning_rate: 0.0010\n",
            "Epoch 17/100\n",
            "\u001b[1m2799/2813\u001b[0m \u001b[32m━━━━━━━━━━━━━━━━━━━\u001b[0m\u001b[37m━\u001b[0m \u001b[1m0s\u001b[0m 3ms/step - accuracy: 0.4219 - loss: 2.1645\n",
            "Epoch 17: val_accuracy did not improve from 0.26740\n",
            "\u001b[1m2813/2813\u001b[0m \u001b[32m━━━━━━━━━━━━━━━━━━━━\u001b[0m\u001b[37m\u001b[0m \u001b[1m11s\u001b[0m 4ms/step - accuracy: 0.4218 - loss: 2.1648 - val_accuracy: 0.2648 - val_loss: 3.3091 - learning_rate: 0.0010\n",
            "Epoch 18/100\n",
            "\u001b[1m2802/2813\u001b[0m \u001b[32m━━━━━━━━━━━━━━━━━━━\u001b[0m\u001b[37m━\u001b[0m \u001b[1m0s\u001b[0m 3ms/step - accuracy: 0.4387 - loss: 2.0927\n",
            "Epoch 18: val_accuracy did not improve from 0.26740\n",
            "\u001b[1m2813/2813\u001b[0m \u001b[32m━━━━━━━━━━━━━━━━━━━━\u001b[0m\u001b[37m\u001b[0m \u001b[1m10s\u001b[0m 4ms/step - accuracy: 0.4387 - loss: 2.0929 - val_accuracy: 0.2584 - val_loss: 3.4376 - learning_rate: 0.0010\n",
            "Epoch 19/100\n",
            "\u001b[1m2796/2813\u001b[0m \u001b[32m━━━━━━━━━━━━━━━━━━━\u001b[0m\u001b[37m━\u001b[0m \u001b[1m0s\u001b[0m 3ms/step - accuracy: 0.4585 - loss: 2.0051\n",
            "Epoch 19: val_accuracy did not improve from 0.26740\n",
            "\u001b[1m2813/2813\u001b[0m \u001b[32m━━━━━━━━━━━━━━━━━━━━\u001b[0m\u001b[37m\u001b[0m \u001b[1m10s\u001b[0m 3ms/step - accuracy: 0.4584 - loss: 2.0054 - val_accuracy: 0.2576 - val_loss: 3.5058 - learning_rate: 0.0010\n",
            "Epoch 20/100\n",
            "\u001b[1m2803/2813\u001b[0m \u001b[32m━━━━━━━━━━━━━━━━━━━\u001b[0m\u001b[37m━\u001b[0m \u001b[1m0s\u001b[0m 3ms/step - accuracy: 0.4710 - loss: 1.9257\n",
            "Epoch 20: val_accuracy did not improve from 0.26740\n",
            "\u001b[1m2813/2813\u001b[0m \u001b[32m━━━━━━━━━━━━━━━━━━━━\u001b[0m\u001b[37m\u001b[0m \u001b[1m10s\u001b[0m 4ms/step - accuracy: 0.4710 - loss: 1.9259 - val_accuracy: 0.2364 - val_loss: 3.7901 - learning_rate: 0.0010\n",
            "Epoch 21/100\n",
            "\u001b[1m2800/2813\u001b[0m \u001b[32m━━━━━━━━━━━━━━━━━━━\u001b[0m\u001b[37m━\u001b[0m \u001b[1m0s\u001b[0m 3ms/step - accuracy: 0.4905 - loss: 1.8526\n",
            "Epoch 21: ReduceLROnPlateau reducing learning rate to 0.0005000000237487257.\n",
            "\n",
            "Epoch 21: val_accuracy did not improve from 0.26740\n",
            "\u001b[1m2813/2813\u001b[0m \u001b[32m━━━━━━━━━━━━━━━━━━━━\u001b[0m\u001b[37m\u001b[0m \u001b[1m11s\u001b[0m 4ms/step - accuracy: 0.4904 - loss: 1.8529 - val_accuracy: 0.2634 - val_loss: 3.5969 - learning_rate: 0.0010\n",
            "Epoch 22/100\n",
            "\u001b[1m2813/2813\u001b[0m \u001b[32m━━━━━━━━━━━━━━━━━━━━\u001b[0m\u001b[37m\u001b[0m \u001b[1m0s\u001b[0m 3ms/step - accuracy: 0.5452 - loss: 1.6395\n",
            "Epoch 22: val_accuracy improved from 0.26740 to 0.28380, saving model to best_weights.weights.h5\n",
            "\u001b[1m2813/2813\u001b[0m \u001b[32m━━━━━━━━━━━━━━━━━━━━\u001b[0m\u001b[37m\u001b[0m \u001b[1m20s\u001b[0m 3ms/step - accuracy: 0.5452 - loss: 1.6395 - val_accuracy: 0.2838 - val_loss: 3.5572 - learning_rate: 5.0000e-04\n",
            "Epoch 23/100\n",
            "\u001b[1m2804/2813\u001b[0m \u001b[32m━━━━━━━━━━━━━━━━━━━\u001b[0m\u001b[37m━\u001b[0m \u001b[1m0s\u001b[0m 3ms/step - accuracy: 0.5801 - loss: 1.4985\n",
            "Epoch 23: val_accuracy improved from 0.28380 to 0.28680, saving model to best_weights.weights.h5\n",
            "\u001b[1m2813/2813\u001b[0m \u001b[32m━━━━━━━━━━━━━━━━━━━━\u001b[0m\u001b[37m\u001b[0m \u001b[1m10s\u001b[0m 3ms/step - accuracy: 0.5801 - loss: 1.4986 - val_accuracy: 0.2868 - val_loss: 3.6142 - learning_rate: 5.0000e-04\n",
            "Epoch 24/100\n",
            "\u001b[1m2802/2813\u001b[0m \u001b[32m━━━━━━━━━━━━━━━━━━━\u001b[0m\u001b[37m━\u001b[0m \u001b[1m0s\u001b[0m 3ms/step - accuracy: 0.6004 - loss: 1.4144\n",
            "Epoch 24: val_accuracy improved from 0.28680 to 0.28820, saving model to best_weights.weights.h5\n",
            "\u001b[1m2813/2813\u001b[0m \u001b[32m━━━━━━━━━━━━━━━━━━━━\u001b[0m\u001b[37m\u001b[0m \u001b[1m9s\u001b[0m 3ms/step - accuracy: 0.6004 - loss: 1.4146 - val_accuracy: 0.2882 - val_loss: 3.7299 - learning_rate: 5.0000e-04\n",
            "Epoch 25/100\n",
            "\u001b[1m2805/2813\u001b[0m \u001b[32m━━━━━━━━━━━━━━━━━━━\u001b[0m\u001b[37m━\u001b[0m \u001b[1m0s\u001b[0m 3ms/step - accuracy: 0.6143 - loss: 1.3569\n",
            "Epoch 25: val_accuracy did not improve from 0.28820\n",
            "\u001b[1m2813/2813\u001b[0m \u001b[32m━━━━━━━━━━━━━━━━━━━━\u001b[0m\u001b[37m\u001b[0m \u001b[1m9s\u001b[0m 3ms/step - accuracy: 0.6143 - loss: 1.3570 - val_accuracy: 0.2822 - val_loss: 3.7993 - learning_rate: 5.0000e-04\n",
            "Epoch 26/100\n",
            "\u001b[1m2811/2813\u001b[0m \u001b[32m━━━━━━━━━━━━━━━━━━━\u001b[0m\u001b[37m━\u001b[0m \u001b[1m0s\u001b[0m 3ms/step - accuracy: 0.6280 - loss: 1.3111\n",
            "Epoch 26: val_accuracy did not improve from 0.28820\n",
            "\u001b[1m2813/2813\u001b[0m \u001b[32m━━━━━━━━━━━━━━━━━━━━\u001b[0m\u001b[37m\u001b[0m \u001b[1m11s\u001b[0m 3ms/step - accuracy: 0.6280 - loss: 1.3112 - val_accuracy: 0.2764 - val_loss: 3.9471 - learning_rate: 5.0000e-04\n",
            "Epoch 27/100\n",
            "\u001b[1m2807/2813\u001b[0m \u001b[32m━━━━━━━━━━━━━━━━━━━\u001b[0m\u001b[37m━\u001b[0m \u001b[1m0s\u001b[0m 3ms/step - accuracy: 0.6467 - loss: 1.2464\n",
            "Epoch 27: val_accuracy did not improve from 0.28820\n",
            "\u001b[1m2813/2813\u001b[0m \u001b[32m━━━━━━━━━━━━━━━━━━━━\u001b[0m\u001b[37m\u001b[0m \u001b[1m10s\u001b[0m 3ms/step - accuracy: 0.6467 - loss: 1.2465 - val_accuracy: 0.2656 - val_loss: 4.0424 - learning_rate: 5.0000e-04\n",
            "Epoch 28/100\n",
            "\u001b[1m2811/2813\u001b[0m \u001b[32m━━━━━━━━━━━━━━━━━━━\u001b[0m\u001b[37m━\u001b[0m \u001b[1m0s\u001b[0m 3ms/step - accuracy: 0.6462 - loss: 1.2182\n",
            "Epoch 28: val_accuracy did not improve from 0.28820\n",
            "\u001b[1m2813/2813\u001b[0m \u001b[32m━━━━━━━━━━━━━━━━━━━━\u001b[0m\u001b[37m\u001b[0m \u001b[1m9s\u001b[0m 3ms/step - accuracy: 0.6462 - loss: 1.2183 - val_accuracy: 0.2744 - val_loss: 4.1537 - learning_rate: 5.0000e-04\n",
            "Epoch 29/100\n",
            "\u001b[1m2795/2813\u001b[0m \u001b[32m━━━━━━━━━━━━━━━━━━━\u001b[0m\u001b[37m━\u001b[0m \u001b[1m0s\u001b[0m 3ms/step - accuracy: 0.6569 - loss: 1.1761\n",
            "Epoch 29: val_accuracy did not improve from 0.28820\n",
            "\u001b[1m2813/2813\u001b[0m \u001b[32m━━━━━━━━━━━━━━━━━━━━\u001b[0m\u001b[37m\u001b[0m \u001b[1m10s\u001b[0m 3ms/step - accuracy: 0.6569 - loss: 1.1763 - val_accuracy: 0.2858 - val_loss: 4.0678 - learning_rate: 5.0000e-04\n",
            "Epoch 30/100\n",
            "\u001b[1m2804/2813\u001b[0m \u001b[32m━━━━━━━━━━━━━━━━━━━\u001b[0m\u001b[37m━\u001b[0m \u001b[1m0s\u001b[0m 3ms/step - accuracy: 0.6734 - loss: 1.1281\n",
            "Epoch 30: val_accuracy did not improve from 0.28820\n",
            "\u001b[1m2813/2813\u001b[0m \u001b[32m━━━━━━━━━━━━━━━━━━━━\u001b[0m\u001b[37m\u001b[0m \u001b[1m9s\u001b[0m 3ms/step - accuracy: 0.6733 - loss: 1.1282 - val_accuracy: 0.2818 - val_loss: 4.2076 - learning_rate: 5.0000e-04\n",
            "Epoch 31/100\n",
            "\u001b[1m2802/2813\u001b[0m \u001b[32m━━━━━━━━━━━━━━━━━━━\u001b[0m\u001b[37m━\u001b[0m \u001b[1m0s\u001b[0m 3ms/step - accuracy: 0.6822 - loss: 1.0889\n",
            "Epoch 31: val_accuracy did not improve from 0.28820\n",
            "\u001b[1m2813/2813\u001b[0m \u001b[32m━━━━━━━━━━━━━━━━━━━━\u001b[0m\u001b[37m\u001b[0m \u001b[1m9s\u001b[0m 3ms/step - accuracy: 0.6821 - loss: 1.0890 - val_accuracy: 0.2862 - val_loss: 4.2616 - learning_rate: 5.0000e-04\n",
            "Epoch 32/100\n",
            "\u001b[1m2809/2813\u001b[0m \u001b[32m━━━━━━━━━━━━━━━━━━━\u001b[0m\u001b[37m━\u001b[0m \u001b[1m0s\u001b[0m 3ms/step - accuracy: 0.6964 - loss: 1.0461\n",
            "Epoch 32: ReduceLROnPlateau reducing learning rate to 0.0002500000118743628.\n",
            "\n",
            "Epoch 32: val_accuracy did not improve from 0.28820\n",
            "\u001b[1m2813/2813\u001b[0m \u001b[32m━━━━━━━━━━━━━━━━━━━━\u001b[0m\u001b[37m\u001b[0m \u001b[1m11s\u001b[0m 3ms/step - accuracy: 0.6964 - loss: 1.0461 - val_accuracy: 0.2728 - val_loss: 4.3312 - learning_rate: 5.0000e-04\n",
            "Epoch 33/100\n",
            "\u001b[1m2812/2813\u001b[0m \u001b[32m━━━━━━━━━━━━━━━━━━━\u001b[0m\u001b[37m━\u001b[0m \u001b[1m0s\u001b[0m 3ms/step - accuracy: 0.7285 - loss: 0.9282\n",
            "Epoch 33: val_accuracy improved from 0.28820 to 0.29120, saving model to best_weights.weights.h5\n",
            "\u001b[1m2813/2813\u001b[0m \u001b[32m━━━━━━━━━━━━━━━━━━━━\u001b[0m\u001b[37m\u001b[0m \u001b[1m10s\u001b[0m 3ms/step - accuracy: 0.7285 - loss: 0.9282 - val_accuracy: 0.2912 - val_loss: 4.2749 - learning_rate: 2.5000e-04\n",
            "Epoch 34/100\n",
            "\u001b[1m2802/2813\u001b[0m \u001b[32m━━━━━━━━━━━━━━━━━━━\u001b[0m\u001b[37m━\u001b[0m \u001b[1m0s\u001b[0m 3ms/step - accuracy: 0.7489 - loss: 0.8598\n",
            "Epoch 34: val_accuracy improved from 0.29120 to 0.29560, saving model to best_weights.weights.h5\n",
            "\u001b[1m2813/2813\u001b[0m \u001b[32m━━━━━━━━━━━━━━━━━━━━\u001b[0m\u001b[37m\u001b[0m \u001b[1m10s\u001b[0m 3ms/step - accuracy: 0.7489 - loss: 0.8599 - val_accuracy: 0.2956 - val_loss: 4.2330 - learning_rate: 2.5000e-04\n",
            "Epoch 35/100\n",
            "\u001b[1m2795/2813\u001b[0m \u001b[32m━━━━━━━━━━━━━━━━━━━\u001b[0m\u001b[37m━\u001b[0m \u001b[1m0s\u001b[0m 3ms/step - accuracy: 0.7640 - loss: 0.8184\n",
            "Epoch 35: val_accuracy did not improve from 0.29560\n",
            "\u001b[1m2813/2813\u001b[0m \u001b[32m━━━━━━━━━━━━━━━━━━━━\u001b[0m\u001b[37m\u001b[0m \u001b[1m9s\u001b[0m 3ms/step - accuracy: 0.7640 - loss: 0.8185 - val_accuracy: 0.2882 - val_loss: 4.3708 - learning_rate: 2.5000e-04\n",
            "Epoch 36/100\n",
            "\u001b[1m2804/2813\u001b[0m \u001b[32m━━━━━━━━━━━━━━━━━━━\u001b[0m\u001b[37m━\u001b[0m \u001b[1m0s\u001b[0m 3ms/step - accuracy: 0.7632 - loss: 0.7987\n",
            "Epoch 36: val_accuracy did not improve from 0.29560\n",
            "\u001b[1m2813/2813\u001b[0m \u001b[32m━━━━━━━━━━━━━━━━━━━━\u001b[0m\u001b[37m\u001b[0m \u001b[1m10s\u001b[0m 3ms/step - accuracy: 0.7631 - loss: 0.7987 - val_accuracy: 0.2866 - val_loss: 4.4606 - learning_rate: 2.5000e-04\n",
            "Epoch 37/100\n",
            "\u001b[1m2801/2813\u001b[0m \u001b[32m━━━━━━━━━━━━━━━━━━━\u001b[0m\u001b[37m━\u001b[0m \u001b[1m0s\u001b[0m 3ms/step - accuracy: 0.7712 - loss: 0.7777\n",
            "Epoch 37: val_accuracy did not improve from 0.29560\n",
            "\u001b[1m2813/2813\u001b[0m \u001b[32m━━━━━━━━━━━━━━━━━━━━\u001b[0m\u001b[37m\u001b[0m \u001b[1m9s\u001b[0m 3ms/step - accuracy: 0.7712 - loss: 0.7778 - val_accuracy: 0.2906 - val_loss: 4.5530 - learning_rate: 2.5000e-04\n",
            "Epoch 38/100\n",
            "\u001b[1m2813/2813\u001b[0m \u001b[32m━━━━━━━━━━━━━━━━━━━━\u001b[0m\u001b[37m\u001b[0m \u001b[1m0s\u001b[0m 3ms/step - accuracy: 0.7744 - loss: 0.7587\n",
            "Epoch 38: val_accuracy did not improve from 0.29560\n",
            "\u001b[1m2813/2813\u001b[0m \u001b[32m━━━━━━━━━━━━━━━━━━━━\u001b[0m\u001b[37m\u001b[0m \u001b[1m9s\u001b[0m 3ms/step - accuracy: 0.7744 - loss: 0.7587 - val_accuracy: 0.2886 - val_loss: 4.5091 - learning_rate: 2.5000e-04\n",
            "Epoch 39/100\n",
            "\u001b[1m2805/2813\u001b[0m \u001b[32m━━━━━━━━━━━━━━━━━━━\u001b[0m\u001b[37m━\u001b[0m \u001b[1m0s\u001b[0m 4ms/step - accuracy: 0.7824 - loss: 0.7232\n",
            "Epoch 39: val_accuracy did not improve from 0.29560\n",
            "\u001b[1m2813/2813\u001b[0m \u001b[32m━━━━━━━━━━━━━━━━━━━━\u001b[0m\u001b[37m\u001b[0m \u001b[1m12s\u001b[0m 4ms/step - accuracy: 0.7823 - loss: 0.7233 - val_accuracy: 0.2832 - val_loss: 4.6183 - learning_rate: 2.5000e-04\n",
            "Epoch 40/100\n",
            "\u001b[1m2805/2813\u001b[0m \u001b[32m━━━━━━━━━━━━━━━━━━━\u001b[0m\u001b[37m━\u001b[0m \u001b[1m0s\u001b[0m 4ms/step - accuracy: 0.7859 - loss: 0.7137\n",
            "Epoch 40: val_accuracy did not improve from 0.29560\n",
            "\u001b[1m2813/2813\u001b[0m \u001b[32m━━━━━━━━━━━━━━━━━━━━\u001b[0m\u001b[37m\u001b[0m \u001b[1m12s\u001b[0m 4ms/step - accuracy: 0.7859 - loss: 0.7138 - val_accuracy: 0.2770 - val_loss: 4.6498 - learning_rate: 2.5000e-04\n",
            "Epoch 41/100\n",
            "\u001b[1m2801/2813\u001b[0m \u001b[32m━━━━━━━━━━━━━━━━━━━\u001b[0m\u001b[37m━\u001b[0m \u001b[1m0s\u001b[0m 3ms/step - accuracy: 0.7899 - loss: 0.7017\n",
            "Epoch 41: val_accuracy did not improve from 0.29560\n",
            "\u001b[1m2813/2813\u001b[0m \u001b[32m━━━━━━━━━━━━━━━━━━━━\u001b[0m\u001b[37m\u001b[0m \u001b[1m18s\u001b[0m 3ms/step - accuracy: 0.7899 - loss: 0.7018 - val_accuracy: 0.2788 - val_loss: 4.7481 - learning_rate: 2.5000e-04\n",
            "Epoch 42/100\n",
            "\u001b[1m2798/2813\u001b[0m \u001b[32m━━━━━━━━━━━━━━━━━━━\u001b[0m\u001b[37m━\u001b[0m \u001b[1m0s\u001b[0m 3ms/step - accuracy: 0.7942 - loss: 0.6828\n",
            "Epoch 42: ReduceLROnPlateau reducing learning rate to 0.0001250000059371814.\n",
            "\n",
            "Epoch 42: val_accuracy did not improve from 0.29560\n",
            "\u001b[1m2813/2813\u001b[0m \u001b[32m━━━━━━━━━━━━━━━━━━━━\u001b[0m\u001b[37m\u001b[0m \u001b[1m10s\u001b[0m 3ms/step - accuracy: 0.7942 - loss: 0.6829 - val_accuracy: 0.2828 - val_loss: 4.7674 - learning_rate: 2.5000e-04\n",
            "Epoch 43/100\n",
            "\u001b[1m2807/2813\u001b[0m \u001b[32m━━━━━━━━━━━━━━━━━━━\u001b[0m\u001b[37m━\u001b[0m \u001b[1m0s\u001b[0m 3ms/step - accuracy: 0.8103 - loss: 0.6334\n",
            "Epoch 43: val_accuracy did not improve from 0.29560\n",
            "\u001b[1m2813/2813\u001b[0m \u001b[32m━━━━━━━━━━━━━━━━━━━━\u001b[0m\u001b[37m\u001b[0m \u001b[1m8s\u001b[0m 3ms/step - accuracy: 0.8103 - loss: 0.6333 - val_accuracy: 0.2902 - val_loss: 4.7109 - learning_rate: 1.2500e-04\n",
            "Epoch 44/100\n",
            "\u001b[1m2796/2813\u001b[0m \u001b[32m━━━━━━━━━━━━━━━━━━━\u001b[0m\u001b[37m━\u001b[0m \u001b[1m0s\u001b[0m 3ms/step - accuracy: 0.8262 - loss: 0.5811\n",
            "Epoch 44: val_accuracy did not improve from 0.29560\n",
            "\u001b[1m2813/2813\u001b[0m \u001b[32m━━━━━━━━━━━━━━━━━━━━\u001b[0m\u001b[37m\u001b[0m \u001b[1m9s\u001b[0m 3ms/step - accuracy: 0.8261 - loss: 0.5812 - val_accuracy: 0.2928 - val_loss: 4.7334 - learning_rate: 1.2500e-04\n",
            "Epoch 45/100\n",
            "\u001b[1m2801/2813\u001b[0m \u001b[32m━━━━━━━━━━━━━━━━━━━\u001b[0m\u001b[37m━\u001b[0m \u001b[1m0s\u001b[0m 3ms/step - accuracy: 0.8281 - loss: 0.5779\n",
            "Epoch 45: val_accuracy did not improve from 0.29560\n",
            "\u001b[1m2813/2813\u001b[0m \u001b[32m━━━━━━━━━━━━━━━━━━━━\u001b[0m\u001b[37m\u001b[0m \u001b[1m9s\u001b[0m 3ms/step - accuracy: 0.8281 - loss: 0.5779 - val_accuracy: 0.2914 - val_loss: 4.7288 - learning_rate: 1.2500e-04\n",
            "Epoch 46/100\n",
            "\u001b[1m2808/2813\u001b[0m \u001b[32m━━━━━━━━━━━━━━━━━━━\u001b[0m\u001b[37m━\u001b[0m \u001b[1m0s\u001b[0m 3ms/step - accuracy: 0.8337 - loss: 0.5595\n",
            "Epoch 46: val_accuracy did not improve from 0.29560\n",
            "\u001b[1m2813/2813\u001b[0m \u001b[32m━━━━━━━━━━━━━━━━━━━━\u001b[0m\u001b[37m\u001b[0m \u001b[1m9s\u001b[0m 3ms/step - accuracy: 0.8337 - loss: 0.5595 - val_accuracy: 0.2910 - val_loss: 4.8132 - learning_rate: 1.2500e-04\n",
            "Epoch 46: early stopping\n",
            "Restoring model weights from the end of the best epoch: 34.\n"
          ]
        }
      ],
      "id": "tqZNOpkkvzv-"
    },
    {
      "cell_type": "code",
      "source": [
        "plt.plot(history.history[\"loss\"], color = 'blue')\n",
        "plt.plot(history.history[\"val_loss\"], color = 'orange')"
      ],
      "metadata": {
        "colab": {
          "base_uri": "https://localhost:8080/"
        },
        "outputId": "778ff424-ba1c-4e45-8630-d549b3fec623",
        "id": "3SSpKPbevzv-"
      },
      "execution_count": null,
      "outputs": [
        {
          "output_type": "execute_result",
          "data": {
            "text/plain": [
              "[<matplotlib.lines.Line2D at 0x7959501a0190>]"
            ]
          },
          "metadata": {},
          "execution_count": 13
        },
        {
          "output_type": "display_data",
          "data": {
            "text/plain": [
              "<Figure size 640x480 with 1 Axes>"
            ],
            "image/png": "[encoded data removed]"
          },
          "metadata": {}
        }
      ],
      "id": "3SSpKPbevzv-"
    },
    {
      "cell_type": "code",
      "source": [
        "plt.plot(history.history[\"accuracy\"], color = 'blue')\n",
        "plt.plot(history.history[\"val_accuracy\"], color = 'orange')"
      ],
      "metadata": {
        "colab": {
          "base_uri": "https://localhost:8080/"
        },
        "outputId": "11503453-3b13-4ded-ce61-40946d31cacb",
        "id": "IozvQL9_vzv-"
      },
      "execution_count": null,
      "outputs": [
        {
          "output_type": "execute_result",
          "data": {
            "text/plain": [
              "[<matplotlib.lines.Line2D at 0x79593cf4e830>]"
            ]
          },
          "metadata": {},
          "execution_count": 14
        },
        {
          "output_type": "display_data",
          "data": {
            "text/plain": [
              "<Figure size 640x480 with 1 Axes>"
            ],
            "image/png": "[encoded data removed]"
          },
          "metadata": {}
        }
      ],
      "id": "IozvQL9_vzv-"
    },
    {
      "cell_type": "code",
      "source": [
        "predictions = model.predict(x_test).argmax(axis=1)\n",
        "df = pd.DataFrame(predictions, columns=[\"Label\"])\n",
        "df.index.name = \"Id\"\n",
        "\n",
        "df"
      ],
      "metadata": {
        "colab": {
          "base_uri": "https://localhost:8080/",
          "height": 472
        },
        "outputId": "169ee5c5-2c79-44c5-beca-3cba99985f95",
        "id": "V-yfmMzYvzv-"
      },
      "execution_count": null,
      "outputs": [
        {
          "output_type": "stream",
          "name": "stdout",
          "text": [
            "\u001b[1m313/313\u001b[0m \u001b[32m━━━━━━━━━━━━━━━━━━━━\u001b[0m\u001b[37m\u001b[0m \u001b[1m1s\u001b[0m 3ms/step\n"
          ]
        },
        {
          "output_type": "execute_result",
          "data": {
            "text/plain": [
              "      Label\n",
              "Id         \n",
              "0         8\n",
              "1         8\n",
              "2        27\n",
              "3        10\n",
              "4        71\n",
              "...     ...\n",
              "9995     83\n",
              "9996      6\n",
              "9997     18\n",
              "9998      4\n",
              "9999      7\n",
              "\n",
              "[10000 rows x 1 columns]"
            ],
            "text/html": [
              "\n",
              "  <div id=\"df-7c50ecd8-edc7-499b-a5ee-dd5e8bdddcdf\" class=\"colab-df-container\">\n",
              "    <div>\n",
              "<style scoped>\n",
              "    .dataframe tbody tr th:only-of-type {\n",
              "        vertical-align: middle;\n",
              "    }\n",
              "\n",
              "    .dataframe tbody tr th {\n",
              "        vertical-align: top;\n",
              "    }\n",
              "\n",
              "    .dataframe thead th {\n",
              "        text-align: right;\n",
              "    }\n",
              "</style>\n",
              "<table border=\"1\" class=\"dataframe\">\n",
              "  <thead>\n",
              "    <tr style=\"text-align: right;\">\n",
              "      <th></th>\n",
              "      <th>Label</th>\n",
              "    </tr>\n",
              "    <tr>\n",
              "      <th>Id</th>\n",
              "      <th></th>\n",
              "    </tr>\n",
              "  </thead>\n",
              "  <tbody>\n",
              "    <tr>\n",
              "      <th>0</th>\n",
              "      <td>8</td>\n",
              "    </tr>\n",
              "    <tr>\n",
              "      <th>1</th>\n",
              "      <td>8</td>\n",
              "    </tr>\n",
              "    <tr>\n",
              "      <th>2</th>\n",
              "      <td>27</td>\n",
              "    </tr>\n",
              "    <tr>\n",
              "      <th>3</th>\n",
              "      <td>10</td>\n",
              "    </tr>\n",
              "    <tr>\n",
              "      <th>4</th>\n",
              "      <td>71</td>\n",
              "    </tr>\n",
              "    <tr>\n",
              "      <th>...</th>\n",
              "      <td>...</td>\n",
              "    </tr>\n",
              "    <tr>\n",
              "      <th>9995</th>\n",
              "      <td>83</td>\n",
              "    </tr>\n",
              "    <tr>\n",
              "      <th>9996</th>\n",
              "      <td>6</td>\n",
              "    </tr>\n",
              "    <tr>\n",
              "      <th>9997</th>\n",
              "      <td>18</td>\n",
              "    </tr>\n",
              "    <tr>\n",
              "      <th>9998</th>\n",
              "      <td>4</td>\n",
              "    </tr>\n",
              "    <tr>\n",
              "      <th>9999</th>\n",
              "      <td>7</td>\n",
              "    </tr>\n",
              "  </tbody>\n",
              "</table>\n",
              "<p>10000 rows × 1 columns</p>\n",
              "</div>\n",
              "    <div class=\"colab-df-buttons\">\n",
              "\n",
              "  <div class=\"colab-df-container\">\n",
              "    <button class=\"colab-df-convert\" onclick=\"convertToInteractive('df-7c50ecd8-edc7-499b-a5ee-dd5e8bdddcdf')\"\n",
              "            title=\"Convert this dataframe to an interactive table.\"\n",
              "            style=\"display:none;\">\n",
              "\n",
              "  <svg xmlns=\"http://www.w3.org/2000/svg\" height=\"24px\" viewBox=\"0 -960 960 960\">\n",
              "    <path d=\"M120-120v-720h720v720H120Zm60-500h600v-160H180v160Zm220 220h160v-160H400v160Zm0 220h160v-160H400v160ZM180-400h160v-160H180v160Zm440 0h160v-160H620v160ZM180-180h160v-160H180v160Zm440 0h160v-160H620v160Z\"/>\n",
              "  </svg>\n",
              "    </button>\n",
              "\n",
              "  <style>\n",
              "    .colab-df-container {\n",
              "      display:flex;\n",
              "      gap: 12px;\n",
              "    }\n",
              "\n",
              "    .colab-df-convert {\n",
              "      background-color: #E8F0FE;\n",
              "      border: none;\n",
              "      border-radius: 50%;\n",
              "      cursor: pointer;\n",
              "      display: none;\n",
              "      fill: #1967D2;\n",
              "      height: 32px;\n",
              "      padding: 0 0 0 0;\n",
              "      width: 32px;\n",
              "    }\n",
              "\n",
              "    .colab-df-convert:hover {\n",
              "      background-color: #E2EBFA;\n",
              "      box-shadow: 0px 1px 2px rgba(60, 64, 67, 0.3), 0px 1px 3px 1px rgba(60, 64, 67, 0.15);\n",
              "      fill: #174EA6;\n",
              "    }\n",
              "\n",
              "    .colab-df-buttons div {\n",
              "      margin-bottom: 4px;\n",
              "    }\n",
              "\n",
              "    [theme=dark] .colab-df-convert {\n",
              "      background-color: #3B4455;\n",
              "      fill: #D2E3FC;\n",
              "    }\n",
              "\n",
              "    [theme=dark] .colab-df-convert:hover {\n",
              "      background-color: #434B5C;\n",
              "      box-shadow: 0px 1px 3px 1px rgba(0, 0, 0, 0.15);\n",
              "      filter: drop-shadow(0px 1px 2px rgba(0, 0, 0, 0.3));\n",
              "      fill: #FFFFFF;\n",
              "    }\n",
              "  </style>\n",
              "\n",
              "    <script>\n",
              "      const buttonEl =\n",
              "        document.querySelector('#df-7c50ecd8-edc7-499b-a5ee-dd5e8bdddcdf button.colab-df-convert');\n",
              "      buttonEl.style.display =\n",
              "        google.colab.kernel.accessAllowed ? 'block' : 'none';\n",
              "\n",
              "      async function convertToInteractive(key) {\n",
              "        const element = document.querySelector('#df-7c50ecd8-edc7-499b-a5ee-dd5e8bdddcdf');\n",
              "        const dataTable =\n",
              "          await google.colab.kernel.invokeFunction('convertToInteractive',\n",
              "                                                    [key], {});\n",
              "        if (!dataTable) return;\n",
              "\n",
              "        const docLinkHtml = 'Like what you see? Visit the ' +\n",
              "          '<a target=\"_blank\" href=https://colab.research.google.com/notebooks/data_table.ipynb>data table notebook</a>'\n",
              "          + ' to learn more about interactive tables.';\n",
              "        element.innerHTML = '';\n",
              "        dataTable['output_type'] = 'display_data';\n",
              "        await google.colab.output.renderOutput(dataTable, element);\n",
              "        const docLink = document.createElement('div');\n",
              "        docLink.innerHTML = docLinkHtml;\n",
              "        element.appendChild(docLink);\n",
              "      }\n",
              "    </script>\n",
              "  </div>\n",
              "\n",
              "\n",
              "<div id=\"df-798421fc-72a8-4e24-ba4b-43dd8d661305\">\n",
              "  <button class=\"colab-df-quickchart\" onclick=\"quickchart('df-798421fc-72a8-4e24-ba4b-43dd8d661305')\"\n",
              "            title=\"Suggest charts\"\n",
              "            style=\"display:none;\">\n",
              "\n",
              "<svg xmlns=\"http://www.w3.org/2000/svg\" height=\"24px\"viewBox=\"0 0 24 24\"\n",
              "     width=\"24px\">\n",
              "    <g>\n",
              "        <path d=\"M19 3H5c-1.1 0-2 .9-2 2v14c0 1.1.9 2 2 2h14c1.1 0 2-.9 2-2V5c0-1.1-.9-2-2-2zM9 17H7v-7h2v7zm4 0h-2V7h2v10zm4 0h-2v-4h2v4z\"/>\n",
              "    </g>\n",
              "</svg>\n",
              "  </button>\n",
              "\n",
              "<style>\n",
              "  .colab-df-quickchart {\n",
              "      --bg-color: #E8F0FE;\n",
              "      --fill-color: #1967D2;\n",
              "      --hover-bg-color: #E2EBFA;\n",
              "      --hover-fill-color: #174EA6;\n",
              "      --disabled-fill-color: #AAA;\n",
              "      --disabled-bg-color: #DDD;\n",
              "  }\n",
              "\n",
              "  [theme=dark] .colab-df-quickchart {\n",
              "      --bg-color: #3B4455;\n",
              "      --fill-color: #D2E3FC;\n",
              "      --hover-bg-color: #434B5C;\n",
              "      --hover-fill-color: #FFFFFF;\n",
              "      --disabled-bg-color: #3B4455;\n",
              "      --disabled-fill-color: #666;\n",
              "  }\n",
              "\n",
              "  .colab-df-quickchart {\n",
              "    background-color: var(--bg-color);\n",
              "    border: none;\n",
              "    border-radius: 50%;\n",
              "    cursor: pointer;\n",
              "    display: none;\n",
              "    fill: var(--fill-color);\n",
              "    height: 32px;\n",
              "    padding: 0;\n",
              "    width: 32px;\n",
              "  }\n",
              "\n",
              "  .colab-df-quickchart:hover {\n",
              "    background-color: var(--hover-bg-color);\n",
              "    box-shadow: 0 1px 2px rgba(60, 64, 67, 0.3), 0 1px 3px 1px rgba(60, 64, 67, 0.15);\n",
              "    fill: var(--button-hover-fill-color);\n",
              "  }\n",
              "\n",
              "  .colab-df-quickchart-complete:disabled,\n",
              "  .colab-df-quickchart-complete:disabled:hover {\n",
              "    background-color: var(--disabled-bg-color);\n",
              "    fill: var(--disabled-fill-color);\n",
              "    box-shadow: none;\n",
              "  }\n",
              "\n",
              "  .colab-df-spinner {\n",
              "    border: 2px solid var(--fill-color);\n",
              "    border-color: transparent;\n",
              "    border-bottom-color: var(--fill-color);\n",
              "    animation:\n",
              "      spin 1s steps(1) infinite;\n",
              "  }\n",
              "\n",
              "  @keyframes spin {\n",
              "    0% {\n",
              "      border-color: transparent;\n",
              "      border-bottom-color: var(--fill-color);\n",
              "      border-left-color: var(--fill-color);\n",
              "    }\n",
              "    20% {\n",
              "      border-color: transparent;\n",
              "      border-left-color: var(--fill-color);\n",
              "      border-top-color: var(--fill-color);\n",
              "    }\n",
              "    30% {\n",
              "      border-color: transparent;\n",
              "      border-left-color: var(--fill-color);\n",
              "      border-top-color: var(--fill-color);\n",
              "      border-right-color: var(--fill-color);\n",
              "    }\n",
              "    40% {\n",
              "      border-color: transparent;\n",
              "      border-right-color: var(--fill-color);\n",
              "      border-top-color: var(--fill-color);\n",
              "    }\n",
              "    60% {\n",
              "      border-color: transparent;\n",
              "      border-right-color: var(--fill-color);\n",
              "    }\n",
              "    80% {\n",
              "      border-color: transparent;\n",
              "      border-right-color: var(--fill-color);\n",
              "      border-bottom-color: var(--fill-color);\n",
              "    }\n",
              "    90% {\n",
              "      border-color: transparent;\n",
              "      border-bottom-color: var(--fill-color);\n",
              "    }\n",
              "  }\n",
              "</style>\n",
              "\n",
              "  <script>\n",
              "    async function quickchart(key) {\n",
              "      const quickchartButtonEl =\n",
              "        document.querySelector('#' + key + ' button');\n",
              "      quickchartButtonEl.disabled = true;  // To prevent multiple clicks.\n",
              "      quickchartButtonEl.classList.add('colab-df-spinner');\n",
              "      try {\n",
              "        const charts = await google.colab.kernel.invokeFunction(\n",
              "            'suggestCharts', [key], {});\n",
              "      } catch (error) {\n",
              "        console.error('Error during call to suggestCharts:', error);\n",
              "      }\n",
              "      quickchartButtonEl.classList.remove('colab-df-spinner');\n",
              "      quickchartButtonEl.classList.add('colab-df-quickchart-complete');\n",
              "    }\n",
              "    (() => {\n",
              "      let quickchartButtonEl =\n",
              "        document.querySelector('#df-798421fc-72a8-4e24-ba4b-43dd8d661305 button');\n",
              "      quickchartButtonEl.style.display =\n",
              "        google.colab.kernel.accessAllowed ? 'block' : 'none';\n",
              "    })();\n",
              "  </script>\n",
              "</div>\n",
              "\n",
              "  <div id=\"id_610cb399-5a89-46d9-b6df-9d9076528bfb\">\n",
              "    <style>\n",
              "      .colab-df-generate {\n",
              "        background-color: #E8F0FE;\n",
              "        border: none;\n",
              "        border-radius: 50%;\n",
              "        cursor: pointer;\n",
              "        display: none;\n",
              "        fill: #1967D2;\n",
              "        height: 32px;\n",
              "        padding: 0 0 0 0;\n",
              "        width: 32px;\n",
              "      }\n",
              "\n",
              "      .colab-df-generate:hover {\n",
              "        background-color: #E2EBFA;\n",
              "        box-shadow: 0px 1px 2px rgba(60, 64, 67, 0.3), 0px 1px 3px 1px rgba(60, 64, 67, 0.15);\n",
              "        fill: #174EA6;\n",
              "      }\n",
              "\n",
              "      [theme=dark] .colab-df-generate {\n",
              "        background-color: #3B4455;\n",
              "        fill: #D2E3FC;\n",
              "      }\n",
              "\n",
              "      [theme=dark] .colab-df-generate:hover {\n",
              "        background-color: #434B5C;\n",
              "        box-shadow: 0px 1px 3px 1px rgba(0, 0, 0, 0.15);\n",
              "        filter: drop-shadow(0px 1px 2px rgba(0, 0, 0, 0.3));\n",
              "        fill: #FFFFFF;\n",
              "      }\n",
              "    </style>\n",
              "    <button class=\"colab-df-generate\" onclick=\"generateWithVariable('df')\"\n",
              "            title=\"Generate code using this dataframe.\"\n",
              "            style=\"display:none;\">\n",
              "\n",
              "  <svg xmlns=\"http://www.w3.org/2000/svg\" height=\"24px\"viewBox=\"0 0 24 24\"\n",
              "       width=\"24px\">\n",
              "    <path d=\"M7,19H8.4L18.45,9,17,7.55,7,17.6ZM5,21V16.75L18.45,3.32a2,2,0,0,1,2.83,0l1.4,1.43a1.91,1.91,0,0,1,.58,1.4,1.91,1.91,0,0,1-.58,1.4L9.25,21ZM18.45,9,17,7.55Zm-12,3A5.31,5.31,0,0,0,4.9,8.1,5.31,5.31,0,0,0,1,6.5,5.31,5.31,0,0,0,4.9,4.9,5.31,5.31,0,0,0,6.5,1,5.31,5.31,0,0,0,8.1,4.9,5.31,5.31,0,0,0,12,6.5,5.46,5.46,0,0,0,6.5,12Z\"/>\n",
              "  </svg>\n",
              "    </button>\n",
              "    <script>\n",
              "      (() => {\n",
              "      const buttonEl =\n",
              "        document.querySelector('#id_610cb399-5a89-46d9-b6df-9d9076528bfb button.colab-df-generate');\n",
              "      buttonEl.style.display =\n",
              "        google.colab.kernel.accessAllowed ? 'block' : 'none';\n",
              "\n",
              "      buttonEl.onclick = () => {\n",
              "        google.colab.notebook.generateWithVariable('df');\n",
              "      }\n",
              "      })();\n",
              "    </script>\n",
              "  </div>\n",
              "\n",
              "    </div>\n",
              "  </div>\n"
            ],
            "application/vnd.google.colaboratory.intrinsic+json": {
              "type": "dataframe",
              "variable_name": "df",
              "summary": "{\n  \"name\": \"df\",\n  \"rows\": 10000,\n  \"fields\": [\n    {\n      \"column\": \"Id\",\n      \"properties\": {\n        \"dtype\": \"number\",\n        \"std\": 2886,\n        \"min\": 0,\n        \"max\": 9999,\n        \"num_unique_values\": 10000,\n        \"samples\": [\n          6252,\n          4684,\n          1731\n        ],\n        \"semantic_type\": \"\",\n        \"description\": \"\"\n      }\n    },\n    {\n      \"column\": \"Label\",\n      \"properties\": {\n        \"dtype\": \"number\",\n        \"std\": 28,\n        \"min\": 0,\n        \"max\": 99,\n        \"num_unique_values\": 100,\n        \"samples\": [\n          0,\n          61,\n          46\n        ],\n        \"semantic_type\": \"\",\n        \"description\": \"\"\n      }\n    }\n  ]\n}"
            }
          },
          "metadata": {},
          "execution_count": 26
        }
      ],
      "id": "V-yfmMzYvzv-"
    },
    {
      "cell_type": "code",
      "source": [
        "df.to_csv(\"submission.csv\")"
      ],
      "metadata": {
        "id": "-r5M1HILvzv_"
      },
      "execution_count": null,
      "outputs": [],
      "id": "-r5M1HILvzv_"
    }
  ],
  "metadata": {
    "kaggle": {
      "accelerator": "none",
      "dataSources": [
        {
          "databundleVersionId": 9468663,
          "sourceId": 84511,
          "sourceType": "competition"
        }
      ],
      "dockerImageVersionId": 30786,
      "isGpuEnabled": false,
      "isInternetEnabled": true,
      "language": "python",
      "sourceType": "notebook"
    },
    "kernelspec": {
      "display_name": "Python 3",
      "name": "python3"
    },
    "language_info": {
      "codemirror_mode": {
        "name": "ipython",
        "version": 3
      },
      "file_extension": ".py",
      "mimetype": "text/x-python",
      "name": "python",
      "nbconvert_exporter": "python",
      "pygments_lexer": "ipython3",
      "version": "3.10.14"
    },
    "papermill": {
      "default_parameters": {},
      "duration": 63.493886,
      "end_time": "2024-10-15T15:27:51.038846",
      "environment_variables": {},
      "exception": null,
      "input_path": "__notebook__.ipynb",
      "output_path": "__notebook__.ipynb",
      "parameters": {},
      "start_time": "2024-10-15T15:26:47.544960",
      "version": "2.6.0"
    },
    "colab": {
      "provenance": [],
      "collapsed_sections": [
        "oF9cmulvFghJ",
        "bCWqsAbBzRQG"
      ],
      "gpuType": "T4",
      "toc_visible": true
    },
    "accelerator": "GPU"
  },
  "nbformat": 4,
  "nbformat_minor": 5
}